{
 "cells": [
  {
   "attachments": {},
   "cell_type": "markdown",
   "metadata": {},
   "source": [
    "# Federated Learning + Linear Quantization for RESNET18 & CIFAR10"
   ]
  },
  {
   "cell_type": "code",
   "execution_count": 1,
   "metadata": {},
   "outputs": [],
   "source": [
    "import torch\n",
    "import torch.nn as nn\n",
    "import torch.optim as optim\n",
    "import torchvision.datasets as datasets\n",
    "import torchvision.transforms as transforms\n",
    "import matplotlib.pyplot as plt\n",
    "from torch.utils.data import DataLoader\n",
    "\n",
    "import numpy as np\n",
    "from tqdm import tqdm\n",
    "import seaborn as sns\n",
    "from fedlern.utils import *\n",
    "from fedlern.train_utils import *\n",
    "from fedlern.quant_utils import *\n",
    "from fedlern.models.resnet_v2 import ResNet18"
   ]
  },
  {
   "attachments": {},
   "cell_type": "markdown",
   "metadata": {},
   "source": [
    "## Relevant Parameters"
   ]
  },
  {
   "cell_type": "code",
   "execution_count": 2,
   "metadata": {},
   "outputs": [],
   "source": [
    "epoch = 10\n",
    "rounds = 25\n",
    "num_clients = 10\n",
    "learning_rate = 0.1\n",
    "momentum = 0.9\n",
    "weight_decay = 1e-5\n",
    "clients_sample_size = int(.3 * num_clients) # Use 30% of available clients\n",
    "num_workers = 8\n",
    "train_batch_size =128\n",
    "eval_batch_size=256\n",
    "quantize_bits = 3\n",
    "stats = (0.49139968, 0.48215841, 0.44653091), (0.24703223, 0.24348513, 0.26158784)"
   ]
  },
  {
   "attachments": {},
   "cell_type": "markdown",
   "metadata": {},
   "source": [
    "## Data Loaders\n",
    "- Divide the test & training data\n",
    "- Divide the training data among the clients"
   ]
  },
  {
   "cell_type": "code",
   "execution_count": 3,
   "metadata": {},
   "outputs": [
    {
     "name": "stdout",
     "output_type": "stream",
     "text": [
      "Files already downloaded and verified\n"
     ]
    }
   ],
   "source": [
    " # Data augmentation and normalization for training\n",
    "transform_train = transforms.Compose([\n",
    "    transforms.RandomCrop(32, padding=4),\n",
    "    transforms.RandomHorizontalFlip(),\n",
    "    transforms.ToTensor(),\n",
    "    transforms.Normalize(*stats)\n",
    "])\n",
    "\n",
    "# Normalization for testing\n",
    "transform_test = transforms.Compose([\n",
    "    transforms.ToTensor(),\n",
    "    transforms.Normalize(*stats)\n",
    "])\n",
    "\n",
    "# CIFAR-10 dataset\n",
    "train_dataset = datasets.CIFAR10(root='./data', train=True, transform=transform_train, download=True)\n",
    "test_dataset = datasets.CIFAR10(root='./data', train=False, transform=transform_test)\n",
    "\n",
    "# split the training data\n",
    "train_splits = torch.utils.data.random_split(train_dataset, [int(train_dataset.data.shape[0]/num_clients) for i in range(num_clients)])\n",
    "\n",
    "# Data loaders\n",
    "train_loaders = [DataLoader(dataset=split, batch_size=train_batch_size, shuffle=True, num_workers=num_workers) for split in train_splits]\n",
    "test_loader = DataLoader(dataset=test_dataset, batch_size=eval_batch_size, shuffle=False, num_workers=num_workers)\n",
    "\n",
    "device = torch.device('cuda' if torch.cuda.is_available() else 'cpu')\n"
   ]
  },
  {
   "attachments": {},
   "cell_type": "markdown",
   "metadata": {},
   "source": [
    "\n",
    "- `server_aggregate` function aggregates the model weights received from every client and updates the global model with the updated weights."
   ]
  },
  {
   "cell_type": "code",
   "execution_count": 4,
   "metadata": {},
   "outputs": [],
   "source": [
    "\n",
    "def server_aggregate(global_model : torch.nn.Module, client_models):\n",
    "    \"\"\"\n",
    "    The means of the weights of the client models are aggregated to the global model\n",
    "    \"\"\"\n",
    "    global_dict = global_model.state_dict() # Get a copy of the global model state_dict\n",
    "    for key in global_dict.keys():\n",
    "        global_dict[key] = torch.stack([client_models[i].state_dict()[key].float() for i in range(len(client_models))],0).mean(0)\n",
    "    global_model.load_state_dict(global_dict)\n",
    "    \n",
    "    # Update the client models using the global model\n",
    "    for model in client_models:\n",
    "        model.load_state_dict(global_model.state_dict())"
   ]
  },
  {
   "attachments": {},
   "cell_type": "markdown",
   "metadata": {},
   "source": [
    "## Global & Clients instatiation\n",
    "Implement the same elements as before, but:\n",
    "- We need more instances of the model\n",
    "- An optimizer for each model"
   ]
  },
  {
   "cell_type": "code",
   "execution_count": 5,
   "metadata": {},
   "outputs": [],
   "source": [
    "global_model = ResNet18().to(device)\n",
    "client_models = [ResNet18()\n",
    "                     .to(device)\n",
    "                     #.load_state_dict(global_model.state_dict())\n",
    "                  for _ in range(num_clients)]\n",
    "\n",
    "\n",
    "\n",
    "# criterion = nn.CrossEntropyLoss() # computes the cross-entropy loss between the predicted and true labels\n",
    "# optimizers =[optim.Adam(model.parameters(), lr=0.001) for model in client_models]\n"
   ]
  },
  {
   "cell_type": "code",
   "execution_count": 6,
   "metadata": {},
   "outputs": [],
   "source": [
    "# Optimizer & criterion based on gobal model\n",
    "#global_optimizer = get_model_optimizer(global_model,\n",
    "#                                       learning_rate=0.1,\n",
    "#                                       weight_decay=5e-4)\n",
    "global_optimizer = optim.SGD(global_model.parameters(), lr=learning_rate, momentum=momentum, weight_decay=weight_decay)\n",
    "#scheduler = optim.lr_scheduler.MultiStepLR(optimizer, milestones=[80,120,160], gamma=0.1)\n",
    "criterion = nn.CrossEntropyLoss().to(device) # computes the cross-entropy loss between the predicted and true labels\n",
    "\n",
    "#optimizers = [get_model_optimizer(model,learning_rate=0.1, weight_decay=5e-4) for model in client_models]\n",
    "optimizers = [optim.SGD(model.parameters(), lr=learning_rate, momentum=momentum, weight_decay=weight_decay) for model in client_models]"
   ]
  },
  {
   "cell_type": "code",
   "execution_count": 7,
   "metadata": {},
   "outputs": [
    {
     "name": "stderr",
     "output_type": "stream",
     "text": [
      "  0%|          | 0/25 [00:00<?, ?it/s]"
     ]
    },
    {
     "name": "stdout",
     "output_type": "stream",
     "text": [
      "Epoch: 0/10 Train Loss: 2.963 Train Acc: 0.160\n",
      "Epoch: 1/10 Train Loss: 2.045 Train Acc: 0.206\n",
      "Epoch: 2/10 Train Loss: 1.955 Train Acc: 0.244\n",
      "Epoch: 3/10 Train Loss: 1.973 Train Acc: 0.243\n",
      "Epoch: 4/10 Train Loss: 1.867 Train Acc: 0.283\n",
      "Epoch: 5/10 Train Loss: 1.849 Train Acc: 0.291\n",
      "Epoch: 6/10 Train Loss: 1.795 Train Acc: 0.322\n",
      "Epoch: 7/10 Train Loss: 1.705 Train Acc: 0.353\n",
      "Epoch: 8/10 Train Loss: 1.696 Train Acc: 0.346\n",
      "Epoch: 9/10 Train Loss: 1.621 Train Acc: 0.389\n",
      "Epoch: 0/10 Train Loss: 3.147 Train Acc: 0.146\n",
      "Epoch: 1/10 Train Loss: 2.153 Train Acc: 0.189\n",
      "Epoch: 2/10 Train Loss: 2.084 Train Acc: 0.216\n",
      "Epoch: 3/10 Train Loss: 1.955 Train Acc: 0.253\n",
      "Epoch: 4/10 Train Loss: 1.934 Train Acc: 0.264\n",
      "Epoch: 5/10 Train Loss: 1.919 Train Acc: 0.280\n",
      "Epoch: 6/10 Train Loss: 1.888 Train Acc: 0.292\n",
      "Epoch: 7/10 Train Loss: 1.807 Train Acc: 0.311\n",
      "Epoch: 8/10 Train Loss: 1.787 Train Acc: 0.313\n",
      "Epoch: 9/10 Train Loss: 1.766 Train Acc: 0.334\n",
      "Epoch: 0/10 Train Loss: 3.649 Train Acc: 0.112\n",
      "Epoch: 1/10 Train Loss: 2.244 Train Acc: 0.168\n",
      "Epoch: 2/10 Train Loss: 2.082 Train Acc: 0.199\n",
      "Epoch: 3/10 Train Loss: 1.998 Train Acc: 0.211\n",
      "Epoch: 4/10 Train Loss: 1.953 Train Acc: 0.227\n",
      "Epoch: 5/10 Train Loss: 1.962 Train Acc: 0.236\n",
      "Epoch: 6/10 Train Loss: 1.883 Train Acc: 0.256\n",
      "Epoch: 7/10 Train Loss: 1.854 Train Acc: 0.283\n",
      "Epoch: 8/10 Train Loss: 1.803 Train Acc: 0.291\n",
      "Epoch: 9/10 Train Loss: 1.789 Train Acc: 0.305\n"
     ]
    },
    {
     "name": "stderr",
     "output_type": "stream",
     "text": [
      "  4%|▍         | 1/25 [00:53<21:24, 53.52s/it]"
     ]
    },
    {
     "name": "stdout",
     "output_type": "stream",
     "text": [
      "0-th ROUND: average train loss 0.596 | test loss 2.31 | test acc: 0.100\n",
      "Epoch: 0/10 Train Loss: 2.085 Train Acc: 0.208\n",
      "Epoch: 1/10 Train Loss: 1.945 Train Acc: 0.251\n",
      "Epoch: 2/10 Train Loss: 1.938 Train Acc: 0.251\n",
      "Epoch: 3/10 Train Loss: 1.812 Train Acc: 0.291\n",
      "Epoch: 4/10 Train Loss: 1.828 Train Acc: 0.297\n",
      "Epoch: 5/10 Train Loss: 1.709 Train Acc: 0.341\n",
      "Epoch: 6/10 Train Loss: 1.764 Train Acc: 0.339\n",
      "Epoch: 7/10 Train Loss: 1.697 Train Acc: 0.356\n",
      "Epoch: 8/10 Train Loss: 1.607 Train Acc: 0.393\n",
      "Epoch: 9/10 Train Loss: 1.602 Train Acc: 0.392\n",
      "Epoch: 0/10 Train Loss: 2.105 Train Acc: 0.197\n",
      "Epoch: 1/10 Train Loss: 1.952 Train Acc: 0.264\n",
      "Epoch: 2/10 Train Loss: 1.940 Train Acc: 0.269\n",
      "Epoch: 3/10 Train Loss: 1.853 Train Acc: 0.287\n",
      "Epoch: 4/10 Train Loss: 1.826 Train Acc: 0.314\n",
      "Epoch: 5/10 Train Loss: 1.776 Train Acc: 0.330\n",
      "Epoch: 6/10 Train Loss: 1.697 Train Acc: 0.359\n",
      "Epoch: 7/10 Train Loss: 1.841 Train Acc: 0.318\n",
      "Epoch: 8/10 Train Loss: 1.735 Train Acc: 0.352\n",
      "Epoch: 9/10 Train Loss: 1.673 Train Acc: 0.370\n",
      "Epoch: 0/10 Train Loss: 2.057 Train Acc: 0.216\n",
      "Epoch: 1/10 Train Loss: 1.922 Train Acc: 0.267\n",
      "Epoch: 2/10 Train Loss: 1.972 Train Acc: 0.257\n",
      "Epoch: 3/10 Train Loss: 1.810 Train Acc: 0.312\n",
      "Epoch: 4/10 Train Loss: 1.708 Train Acc: 0.346\n",
      "Epoch: 5/10 Train Loss: 1.824 Train Acc: 0.312\n",
      "Epoch: 6/10 Train Loss: 1.735 Train Acc: 0.346\n",
      "Epoch: 7/10 Train Loss: 1.715 Train Acc: 0.347\n",
      "Epoch: 8/10 Train Loss: 1.800 Train Acc: 0.333\n",
      "Epoch: 9/10 Train Loss: 1.666 Train Acc: 0.387\n"
     ]
    },
    {
     "name": "stderr",
     "output_type": "stream",
     "text": [
      "  8%|▊         | 2/25 [01:54<22:15, 58.08s/it]"
     ]
    },
    {
     "name": "stdout",
     "output_type": "stream",
     "text": [
      "1-th ROUND: average train loss 0.555 | test loss 2.31 | test acc: 0.100\n",
      "Epoch: 0/10 Train Loss: 1.891 Train Acc: 0.290\n",
      "Epoch: 1/10 Train Loss: 1.893 Train Acc: 0.293\n",
      "Epoch: 2/10 Train Loss: 1.980 Train Acc: 0.264\n",
      "Epoch: 3/10 Train Loss: 1.888 Train Acc: 0.275\n",
      "Epoch: 4/10 Train Loss: 1.744 Train Acc: 0.325\n",
      "Epoch: 5/10 Train Loss: 1.679 Train Acc: 0.363\n",
      "Epoch: 6/10 Train Loss: 1.914 Train Acc: 0.273\n",
      "Epoch: 7/10 Train Loss: 1.722 Train Acc: 0.334\n",
      "Epoch: 8/10 Train Loss: 1.671 Train Acc: 0.375\n",
      "Epoch: 9/10 Train Loss: 1.620 Train Acc: 0.391\n",
      "Epoch: 0/10 Train Loss: 1.857 Train Acc: 0.305\n",
      "Epoch: 1/10 Train Loss: 1.937 Train Acc: 0.284\n",
      "Epoch: 2/10 Train Loss: 1.732 Train Acc: 0.346\n",
      "Epoch: 3/10 Train Loss: 1.715 Train Acc: 0.361\n",
      "Epoch: 4/10 Train Loss: 1.637 Train Acc: 0.391\n",
      "Epoch: 5/10 Train Loss: 1.630 Train Acc: 0.391\n",
      "Epoch: 6/10 Train Loss: 1.544 Train Acc: 0.424\n",
      "Epoch: 7/10 Train Loss: 1.523 Train Acc: 0.442\n",
      "Epoch: 8/10 Train Loss: 1.650 Train Acc: 0.386\n",
      "Epoch: 9/10 Train Loss: 1.477 Train Acc: 0.457\n",
      "Epoch: 0/10 Train Loss: 1.843 Train Acc: 0.299\n",
      "Epoch: 1/10 Train Loss: 1.826 Train Acc: 0.334\n",
      "Epoch: 2/10 Train Loss: 1.740 Train Acc: 0.344\n",
      "Epoch: 3/10 Train Loss: 1.915 Train Acc: 0.289\n",
      "Epoch: 4/10 Train Loss: 1.721 Train Acc: 0.354\n",
      "Epoch: 5/10 Train Loss: 1.733 Train Acc: 0.350\n",
      "Epoch: 6/10 Train Loss: 1.675 Train Acc: 0.365\n",
      "Epoch: 7/10 Train Loss: 1.622 Train Acc: 0.393\n",
      "Epoch: 8/10 Train Loss: 1.546 Train Acc: 0.420\n",
      "Epoch: 9/10 Train Loss: 1.502 Train Acc: 0.443\n"
     ]
    },
    {
     "name": "stderr",
     "output_type": "stream",
     "text": [
      " 12%|█▏        | 3/25 [02:50<20:56, 57.11s/it]"
     ]
    },
    {
     "name": "stdout",
     "output_type": "stream",
     "text": [
      "2-th ROUND: average train loss 0.501 | test loss 2.32 | test acc: 0.100\n",
      "Epoch: 0/10 Train Loss: 1.658 Train Acc: 0.373\n",
      "Epoch: 1/10 Train Loss: 1.716 Train Acc: 0.364\n",
      "Epoch: 2/10 Train Loss: 1.694 Train Acc: 0.365\n",
      "Epoch: 3/10 Train Loss: 1.567 Train Acc: 0.408\n",
      "Epoch: 4/10 Train Loss: 1.504 Train Acc: 0.440\n",
      "Epoch: 5/10 Train Loss: 1.433 Train Acc: 0.469\n",
      "Epoch: 6/10 Train Loss: 1.522 Train Acc: 0.435\n",
      "Epoch: 7/10 Train Loss: 1.433 Train Acc: 0.477\n",
      "Epoch: 8/10 Train Loss: 1.357 Train Acc: 0.499\n",
      "Epoch: 9/10 Train Loss: 1.418 Train Acc: 0.473\n",
      "Epoch: 0/10 Train Loss: 1.693 Train Acc: 0.372\n",
      "Epoch: 1/10 Train Loss: 1.720 Train Acc: 0.353\n",
      "Epoch: 2/10 Train Loss: 1.651 Train Acc: 0.384\n",
      "Epoch: 3/10 Train Loss: 1.673 Train Acc: 0.378\n",
      "Epoch: 4/10 Train Loss: 1.653 Train Acc: 0.402\n",
      "Epoch: 5/10 Train Loss: 1.530 Train Acc: 0.437\n",
      "Epoch: 6/10 Train Loss: 1.487 Train Acc: 0.441\n",
      "Epoch: 7/10 Train Loss: 1.427 Train Acc: 0.479\n",
      "Epoch: 8/10 Train Loss: 1.387 Train Acc: 0.489\n",
      "Epoch: 9/10 Train Loss: 1.366 Train Acc: 0.500\n",
      "Epoch: 0/10 Train Loss: 1.697 Train Acc: 0.370\n",
      "Epoch: 1/10 Train Loss: 1.844 Train Acc: 0.317\n",
      "Epoch: 2/10 Train Loss: 1.767 Train Acc: 0.339\n",
      "Epoch: 3/10 Train Loss: 1.717 Train Acc: 0.360\n",
      "Epoch: 4/10 Train Loss: 1.625 Train Acc: 0.397\n",
      "Epoch: 5/10 Train Loss: 1.578 Train Acc: 0.414\n",
      "Epoch: 6/10 Train Loss: 1.494 Train Acc: 0.446\n",
      "Epoch: 7/10 Train Loss: 1.462 Train Acc: 0.464\n",
      "Epoch: 8/10 Train Loss: 1.394 Train Acc: 0.490\n",
      "Epoch: 9/10 Train Loss: 1.456 Train Acc: 0.470\n"
     ]
    },
    {
     "name": "stderr",
     "output_type": "stream",
     "text": [
      " 16%|█▌        | 4/25 [03:50<20:18, 58.04s/it]"
     ]
    },
    {
     "name": "stdout",
     "output_type": "stream",
     "text": [
      "3-th ROUND: average train loss 0.485 | test loss 2.32 | test acc: 0.100\n",
      "Epoch: 0/10 Train Loss: 1.613 Train Acc: 0.401\n",
      "Epoch: 1/10 Train Loss: 1.610 Train Acc: 0.392\n",
      "Epoch: 2/10 Train Loss: 1.494 Train Acc: 0.440\n",
      "Epoch: 3/10 Train Loss: 1.517 Train Acc: 0.442\n",
      "Epoch: 4/10 Train Loss: 1.486 Train Acc: 0.446\n",
      "Epoch: 5/10 Train Loss: 1.351 Train Acc: 0.503\n",
      "Epoch: 6/10 Train Loss: 1.358 Train Acc: 0.506\n",
      "Epoch: 7/10 Train Loss: 1.292 Train Acc: 0.534\n",
      "Epoch: 8/10 Train Loss: 1.296 Train Acc: 0.539\n",
      "Epoch: 9/10 Train Loss: 1.289 Train Acc: 0.526\n",
      "Epoch: 0/10 Train Loss: 1.532 Train Acc: 0.429\n",
      "Epoch: 1/10 Train Loss: 1.517 Train Acc: 0.428\n",
      "Epoch: 2/10 Train Loss: 1.455 Train Acc: 0.449\n",
      "Epoch: 3/10 Train Loss: 1.452 Train Acc: 0.454\n",
      "Epoch: 4/10 Train Loss: 1.431 Train Acc: 0.468\n",
      "Epoch: 5/10 Train Loss: 1.444 Train Acc: 0.458\n",
      "Epoch: 6/10 Train Loss: 1.487 Train Acc: 0.453\n",
      "Epoch: 7/10 Train Loss: 1.328 Train Acc: 0.504\n",
      "Epoch: 8/10 Train Loss: 1.369 Train Acc: 0.490\n",
      "Epoch: 9/10 Train Loss: 1.295 Train Acc: 0.530\n",
      "Epoch: 0/10 Train Loss: 1.573 Train Acc: 0.415\n",
      "Epoch: 1/10 Train Loss: 1.517 Train Acc: 0.436\n",
      "Epoch: 2/10 Train Loss: 1.539 Train Acc: 0.431\n",
      "Epoch: 3/10 Train Loss: 1.491 Train Acc: 0.442\n",
      "Epoch: 4/10 Train Loss: 1.442 Train Acc: 0.464\n",
      "Epoch: 5/10 Train Loss: 1.437 Train Acc: 0.464\n",
      "Epoch: 6/10 Train Loss: 1.456 Train Acc: 0.462\n",
      "Epoch: 7/10 Train Loss: 1.451 Train Acc: 0.472\n",
      "Epoch: 8/10 Train Loss: 1.314 Train Acc: 0.517\n",
      "Epoch: 9/10 Train Loss: 1.364 Train Acc: 0.503\n"
     ]
    },
    {
     "name": "stderr",
     "output_type": "stream",
     "text": [
      " 20%|██        | 5/25 [04:49<19:29, 58.46s/it]"
     ]
    },
    {
     "name": "stdout",
     "output_type": "stream",
     "text": [
      "4-th ROUND: average train loss 0.455 | test loss 2.35 | test acc: 0.107\n",
      "Epoch: 0/10 Train Loss: 1.426 Train Acc: 0.481\n",
      "Epoch: 1/10 Train Loss: 1.490 Train Acc: 0.454\n",
      "Epoch: 2/10 Train Loss: 1.355 Train Acc: 0.507\n",
      "Epoch: 3/10 Train Loss: 1.385 Train Acc: 0.494\n",
      "Epoch: 4/10 Train Loss: 1.268 Train Acc: 0.539\n",
      "Epoch: 5/10 Train Loss: 1.304 Train Acc: 0.513\n",
      "Epoch: 6/10 Train Loss: 1.212 Train Acc: 0.556\n",
      "Epoch: 7/10 Train Loss: 1.284 Train Acc: 0.532\n",
      "Epoch: 8/10 Train Loss: 1.151 Train Acc: 0.586\n",
      "Epoch: 9/10 Train Loss: 1.131 Train Acc: 0.595\n",
      "Epoch: 0/10 Train Loss: 1.397 Train Acc: 0.485\n",
      "Epoch: 1/10 Train Loss: 1.480 Train Acc: 0.452\n",
      "Epoch: 2/10 Train Loss: 1.396 Train Acc: 0.495\n",
      "Epoch: 3/10 Train Loss: 1.415 Train Acc: 0.472\n",
      "Epoch: 4/10 Train Loss: 1.332 Train Acc: 0.513\n",
      "Epoch: 5/10 Train Loss: 1.326 Train Acc: 0.527\n",
      "Epoch: 6/10 Train Loss: 1.232 Train Acc: 0.553\n",
      "Epoch: 7/10 Train Loss: 1.252 Train Acc: 0.546\n",
      "Epoch: 8/10 Train Loss: 1.216 Train Acc: 0.563\n",
      "Epoch: 9/10 Train Loss: 1.156 Train Acc: 0.585\n",
      "Epoch: 0/10 Train Loss: 1.546 Train Acc: 0.432\n",
      "Epoch: 1/10 Train Loss: 1.496 Train Acc: 0.447\n",
      "Epoch: 2/10 Train Loss: 1.453 Train Acc: 0.466\n",
      "Epoch: 3/10 Train Loss: 1.334 Train Acc: 0.511\n",
      "Epoch: 4/10 Train Loss: 1.334 Train Acc: 0.514\n",
      "Epoch: 5/10 Train Loss: 1.315 Train Acc: 0.524\n",
      "Epoch: 6/10 Train Loss: 1.237 Train Acc: 0.557\n",
      "Epoch: 7/10 Train Loss: 1.166 Train Acc: 0.581\n",
      "Epoch: 8/10 Train Loss: 1.199 Train Acc: 0.566\n",
      "Epoch: 9/10 Train Loss: 1.147 Train Acc: 0.585\n"
     ]
    },
    {
     "name": "stderr",
     "output_type": "stream",
     "text": [
      " 24%|██▍       | 6/25 [05:46<18:23, 58.08s/it]"
     ]
    },
    {
     "name": "stdout",
     "output_type": "stream",
     "text": [
      "5-th ROUND: average train loss 0.382 | test loss 2.43 | test acc: 0.172\n",
      "Epoch: 0/10 Train Loss: 1.328 Train Acc: 0.517\n",
      "Epoch: 1/10 Train Loss: 1.343 Train Acc: 0.519\n",
      "Epoch: 2/10 Train Loss: 1.212 Train Acc: 0.562\n",
      "Epoch: 3/10 Train Loss: 1.156 Train Acc: 0.585\n",
      "Epoch: 4/10 Train Loss: 1.299 Train Acc: 0.535\n",
      "Epoch: 5/10 Train Loss: 1.244 Train Acc: 0.558\n",
      "Epoch: 6/10 Train Loss: 1.102 Train Acc: 0.611\n",
      "Epoch: 7/10 Train Loss: 1.086 Train Acc: 0.611\n",
      "Epoch: 8/10 Train Loss: 1.022 Train Acc: 0.635\n",
      "Epoch: 9/10 Train Loss: 1.034 Train Acc: 0.631\n",
      "Epoch: 0/10 Train Loss: 1.321 Train Acc: 0.523\n",
      "Epoch: 1/10 Train Loss: 1.366 Train Acc: 0.502\n",
      "Epoch: 2/10 Train Loss: 1.287 Train Acc: 0.534\n",
      "Epoch: 3/10 Train Loss: 1.216 Train Acc: 0.565\n",
      "Epoch: 4/10 Train Loss: 1.221 Train Acc: 0.565\n",
      "Epoch: 5/10 Train Loss: 1.213 Train Acc: 0.573\n",
      "Epoch: 6/10 Train Loss: 1.064 Train Acc: 0.617\n",
      "Epoch: 7/10 Train Loss: 1.075 Train Acc: 0.618\n",
      "Epoch: 8/10 Train Loss: 1.062 Train Acc: 0.628\n",
      "Epoch: 9/10 Train Loss: 1.013 Train Acc: 0.631\n",
      "Epoch: 0/10 Train Loss: 1.305 Train Acc: 0.529\n",
      "Epoch: 1/10 Train Loss: 1.400 Train Acc: 0.487\n",
      "Epoch: 2/10 Train Loss: 1.254 Train Acc: 0.546\n",
      "Epoch: 3/10 Train Loss: 1.386 Train Acc: 0.492\n",
      "Epoch: 4/10 Train Loss: 1.244 Train Acc: 0.550\n",
      "Epoch: 5/10 Train Loss: 1.163 Train Acc: 0.578\n",
      "Epoch: 6/10 Train Loss: 1.154 Train Acc: 0.582\n",
      "Epoch: 7/10 Train Loss: 1.213 Train Acc: 0.560\n",
      "Epoch: 8/10 Train Loss: 1.083 Train Acc: 0.610\n",
      "Epoch: 9/10 Train Loss: 1.060 Train Acc: 0.629\n"
     ]
    },
    {
     "name": "stderr",
     "output_type": "stream",
     "text": [
      " 28%|██▊       | 7/25 [06:49<17:51, 59.53s/it]"
     ]
    },
    {
     "name": "stdout",
     "output_type": "stream",
     "text": [
      "6-th ROUND: average train loss 0.353 | test loss 2.39 | test acc: 0.208\n",
      "Epoch: 0/10 Train Loss: 1.193 Train Acc: 0.572\n",
      "Epoch: 1/10 Train Loss: 1.212 Train Acc: 0.561\n",
      "Epoch: 2/10 Train Loss: 1.249 Train Acc: 0.549\n",
      "Epoch: 3/10 Train Loss: 1.136 Train Acc: 0.592\n",
      "Epoch: 4/10 Train Loss: 1.144 Train Acc: 0.594\n",
      "Epoch: 5/10 Train Loss: 1.025 Train Acc: 0.633\n",
      "Epoch: 6/10 Train Loss: 0.973 Train Acc: 0.651\n",
      "Epoch: 7/10 Train Loss: 0.937 Train Acc: 0.666\n",
      "Epoch: 8/10 Train Loss: 0.959 Train Acc: 0.657\n",
      "Epoch: 9/10 Train Loss: 0.886 Train Acc: 0.688\n",
      "Epoch: 0/10 Train Loss: 1.164 Train Acc: 0.584\n",
      "Epoch: 1/10 Train Loss: 1.218 Train Acc: 0.570\n",
      "Epoch: 2/10 Train Loss: 1.109 Train Acc: 0.603\n",
      "Epoch: 3/10 Train Loss: 1.391 Train Acc: 0.495\n",
      "Epoch: 4/10 Train Loss: 1.166 Train Acc: 0.576\n",
      "Epoch: 5/10 Train Loss: 1.105 Train Acc: 0.595\n",
      "Epoch: 6/10 Train Loss: 1.029 Train Acc: 0.633\n",
      "Epoch: 7/10 Train Loss: 1.017 Train Acc: 0.628\n",
      "Epoch: 8/10 Train Loss: 0.941 Train Acc: 0.654\n",
      "Epoch: 9/10 Train Loss: 1.205 Train Acc: 0.572\n",
      "Epoch: 0/10 Train Loss: 1.183 Train Acc: 0.581\n",
      "Epoch: 1/10 Train Loss: 1.219 Train Acc: 0.555\n",
      "Epoch: 2/10 Train Loss: 1.159 Train Acc: 0.588\n",
      "Epoch: 3/10 Train Loss: 1.193 Train Acc: 0.573\n",
      "Epoch: 4/10 Train Loss: 1.147 Train Acc: 0.591\n",
      "Epoch: 5/10 Train Loss: 1.022 Train Acc: 0.631\n",
      "Epoch: 6/10 Train Loss: 1.059 Train Acc: 0.619\n",
      "Epoch: 7/10 Train Loss: 0.952 Train Acc: 0.661\n",
      "Epoch: 8/10 Train Loss: 0.923 Train Acc: 0.674\n",
      "Epoch: 9/10 Train Loss: 0.963 Train Acc: 0.651\n"
     ]
    },
    {
     "name": "stderr",
     "output_type": "stream",
     "text": [
      " 32%|███▏      | 8/25 [07:49<16:55, 59.75s/it]"
     ]
    },
    {
     "name": "stdout",
     "output_type": "stream",
     "text": [
      "7-th ROUND: average train loss 0.321 | test loss 2.17 | test acc: 0.280\n",
      "Epoch: 0/10 Train Loss: 1.126 Train Acc: 0.597\n",
      "Epoch: 1/10 Train Loss: 1.170 Train Acc: 0.575\n",
      "Epoch: 2/10 Train Loss: 1.224 Train Acc: 0.561\n",
      "Epoch: 3/10 Train Loss: 1.062 Train Acc: 0.618\n",
      "Epoch: 4/10 Train Loss: 1.045 Train Acc: 0.626\n",
      "Epoch: 5/10 Train Loss: 0.981 Train Acc: 0.639\n",
      "Epoch: 6/10 Train Loss: 1.045 Train Acc: 0.630\n",
      "Epoch: 7/10 Train Loss: 1.033 Train Acc: 0.629\n",
      "Epoch: 8/10 Train Loss: 0.944 Train Acc: 0.666\n",
      "Epoch: 9/10 Train Loss: 0.919 Train Acc: 0.675\n",
      "Epoch: 0/10 Train Loss: 1.168 Train Acc: 0.576\n",
      "Epoch: 1/10 Train Loss: 1.162 Train Acc: 0.589\n",
      "Epoch: 2/10 Train Loss: 1.036 Train Acc: 0.628\n",
      "Epoch: 3/10 Train Loss: 1.103 Train Acc: 0.612\n",
      "Epoch: 4/10 Train Loss: 1.011 Train Acc: 0.633\n",
      "Epoch: 5/10 Train Loss: 0.973 Train Acc: 0.651\n",
      "Epoch: 6/10 Train Loss: 0.990 Train Acc: 0.651\n",
      "Epoch: 7/10 Train Loss: 0.894 Train Acc: 0.679\n",
      "Epoch: 8/10 Train Loss: 0.857 Train Acc: 0.691\n",
      "Epoch: 9/10 Train Loss: 0.871 Train Acc: 0.694\n",
      "Epoch: 0/10 Train Loss: 1.125 Train Acc: 0.596\n",
      "Epoch: 1/10 Train Loss: 1.146 Train Acc: 0.597\n",
      "Epoch: 2/10 Train Loss: 1.037 Train Acc: 0.632\n",
      "Epoch: 3/10 Train Loss: 1.002 Train Acc: 0.644\n",
      "Epoch: 4/10 Train Loss: 0.983 Train Acc: 0.649\n",
      "Epoch: 5/10 Train Loss: 0.939 Train Acc: 0.670\n",
      "Epoch: 6/10 Train Loss: 0.921 Train Acc: 0.667\n",
      "Epoch: 7/10 Train Loss: 0.976 Train Acc: 0.654\n",
      "Epoch: 8/10 Train Loss: 0.865 Train Acc: 0.694\n",
      "Epoch: 9/10 Train Loss: 0.905 Train Acc: 0.686\n"
     ]
    },
    {
     "name": "stderr",
     "output_type": "stream",
     "text": [
      " 36%|███▌      | 9/25 [08:52<16:10, 60.66s/it]"
     ]
    },
    {
     "name": "stdout",
     "output_type": "stream",
     "text": [
      "8-th ROUND: average train loss 0.302 | test loss 1.74 | test acc: 0.411\n",
      "Epoch: 0/10 Train Loss: 1.036 Train Acc: 0.631\n",
      "Epoch: 1/10 Train Loss: 1.086 Train Acc: 0.611\n",
      "Epoch: 2/10 Train Loss: 0.956 Train Acc: 0.661\n",
      "Epoch: 3/10 Train Loss: 1.180 Train Acc: 0.585\n",
      "Epoch: 4/10 Train Loss: 1.004 Train Acc: 0.639\n",
      "Epoch: 5/10 Train Loss: 0.972 Train Acc: 0.654\n",
      "Epoch: 6/10 Train Loss: 0.858 Train Acc: 0.688\n",
      "Epoch: 7/10 Train Loss: 0.806 Train Acc: 0.707\n",
      "Epoch: 8/10 Train Loss: 0.810 Train Acc: 0.712\n",
      "Epoch: 9/10 Train Loss: 0.814 Train Acc: 0.709\n",
      "Epoch: 0/10 Train Loss: 0.971 Train Acc: 0.661\n",
      "Epoch: 1/10 Train Loss: 0.952 Train Acc: 0.658\n",
      "Epoch: 2/10 Train Loss: 1.070 Train Acc: 0.618\n",
      "Epoch: 3/10 Train Loss: 0.926 Train Acc: 0.667\n",
      "Epoch: 4/10 Train Loss: 0.865 Train Acc: 0.695\n",
      "Epoch: 5/10 Train Loss: 0.867 Train Acc: 0.693\n",
      "Epoch: 6/10 Train Loss: 0.856 Train Acc: 0.691\n",
      "Epoch: 7/10 Train Loss: 0.804 Train Acc: 0.704\n",
      "Epoch: 8/10 Train Loss: 0.816 Train Acc: 0.707\n",
      "Epoch: 9/10 Train Loss: 0.759 Train Acc: 0.732\n",
      "Epoch: 0/10 Train Loss: 1.019 Train Acc: 0.643\n",
      "Epoch: 1/10 Train Loss: 1.038 Train Acc: 0.627\n",
      "Epoch: 2/10 Train Loss: 0.946 Train Acc: 0.659\n",
      "Epoch: 3/10 Train Loss: 1.124 Train Acc: 0.593\n",
      "Epoch: 4/10 Train Loss: 1.039 Train Acc: 0.631\n",
      "Epoch: 5/10 Train Loss: 0.922 Train Acc: 0.669\n",
      "Epoch: 6/10 Train Loss: 0.903 Train Acc: 0.674\n",
      "Epoch: 7/10 Train Loss: 0.949 Train Acc: 0.668\n",
      "Epoch: 8/10 Train Loss: 0.924 Train Acc: 0.675\n",
      "Epoch: 9/10 Train Loss: 0.978 Train Acc: 0.654\n"
     ]
    },
    {
     "name": "stderr",
     "output_type": "stream",
     "text": [
      " 40%|████      | 10/25 [09:55<15:20, 61.39s/it]"
     ]
    },
    {
     "name": "stdout",
     "output_type": "stream",
     "text": [
      "9-th ROUND: average train loss 0.326 | test loss 1.46 | test acc: 0.512\n",
      "Epoch: 0/10 Train Loss: 0.982 Train Acc: 0.647\n",
      "Epoch: 1/10 Train Loss: 0.964 Train Acc: 0.653\n",
      "Epoch: 2/10 Train Loss: 0.989 Train Acc: 0.642\n",
      "Epoch: 3/10 Train Loss: 0.909 Train Acc: 0.678\n",
      "Epoch: 4/10 Train Loss: 0.885 Train Acc: 0.679\n",
      "Epoch: 5/10 Train Loss: 0.919 Train Acc: 0.664\n",
      "Epoch: 6/10 Train Loss: 0.877 Train Acc: 0.685\n",
      "Epoch: 7/10 Train Loss: 0.798 Train Acc: 0.712\n",
      "Epoch: 8/10 Train Loss: 0.812 Train Acc: 0.704\n",
      "Epoch: 9/10 Train Loss: 0.779 Train Acc: 0.718\n",
      "Epoch: 0/10 Train Loss: 0.956 Train Acc: 0.657\n",
      "Epoch: 1/10 Train Loss: 0.930 Train Acc: 0.667\n",
      "Epoch: 2/10 Train Loss: 1.033 Train Acc: 0.636\n",
      "Epoch: 3/10 Train Loss: 1.013 Train Acc: 0.637\n",
      "Epoch: 4/10 Train Loss: 1.011 Train Acc: 0.644\n",
      "Epoch: 5/10 Train Loss: 0.968 Train Acc: 0.655\n",
      "Epoch: 6/10 Train Loss: 0.827 Train Acc: 0.703\n",
      "Epoch: 7/10 Train Loss: 0.820 Train Acc: 0.704\n",
      "Epoch: 8/10 Train Loss: 0.839 Train Acc: 0.702\n",
      "Epoch: 9/10 Train Loss: 0.753 Train Acc: 0.736\n",
      "Epoch: 0/10 Train Loss: 0.939 Train Acc: 0.672\n",
      "Epoch: 1/10 Train Loss: 1.001 Train Acc: 0.648\n",
      "Epoch: 2/10 Train Loss: 0.878 Train Acc: 0.686\n",
      "Epoch: 3/10 Train Loss: 0.821 Train Acc: 0.705\n",
      "Epoch: 4/10 Train Loss: 0.855 Train Acc: 0.701\n",
      "Epoch: 5/10 Train Loss: 0.819 Train Acc: 0.702\n",
      "Epoch: 6/10 Train Loss: 0.799 Train Acc: 0.711\n",
      "Epoch: 7/10 Train Loss: 0.879 Train Acc: 0.696\n",
      "Epoch: 8/10 Train Loss: 0.770 Train Acc: 0.737\n",
      "Epoch: 9/10 Train Loss: 0.766 Train Acc: 0.722\n"
     ]
    },
    {
     "name": "stderr",
     "output_type": "stream",
     "text": [
      " 44%|████▍     | 11/25 [10:56<14:20, 61.44s/it]"
     ]
    },
    {
     "name": "stdout",
     "output_type": "stream",
     "text": [
      "10-th ROUND: average train loss 0.255 | test loss 1.26 | test acc: 0.575\n",
      "Epoch: 0/10 Train Loss: 0.825 Train Acc: 0.707\n",
      "Epoch: 1/10 Train Loss: 0.829 Train Acc: 0.705\n",
      "Epoch: 2/10 Train Loss: 0.942 Train Acc: 0.672\n",
      "Epoch: 3/10 Train Loss: 0.780 Train Acc: 0.717\n",
      "Epoch: 4/10 Train Loss: 0.786 Train Acc: 0.721\n",
      "Epoch: 5/10 Train Loss: 0.740 Train Acc: 0.732\n",
      "Epoch: 6/10 Train Loss: 0.708 Train Acc: 0.748\n",
      "Epoch: 7/10 Train Loss: 0.742 Train Acc: 0.736\n",
      "Epoch: 8/10 Train Loss: 0.824 Train Acc: 0.701\n",
      "Epoch: 9/10 Train Loss: 0.821 Train Acc: 0.707\n",
      "Epoch: 0/10 Train Loss: 0.951 Train Acc: 0.664\n",
      "Epoch: 1/10 Train Loss: 1.007 Train Acc: 0.652\n",
      "Epoch: 2/10 Train Loss: 0.962 Train Acc: 0.659\n",
      "Epoch: 3/10 Train Loss: 0.831 Train Acc: 0.706\n",
      "Epoch: 4/10 Train Loss: 0.790 Train Acc: 0.720\n",
      "Epoch: 5/10 Train Loss: 0.760 Train Acc: 0.732\n",
      "Epoch: 6/10 Train Loss: 0.765 Train Acc: 0.737\n",
      "Epoch: 7/10 Train Loss: 0.702 Train Acc: 0.750\n",
      "Epoch: 8/10 Train Loss: 0.746 Train Acc: 0.731\n",
      "Epoch: 9/10 Train Loss: 0.764 Train Acc: 0.728\n",
      "Epoch: 0/10 Train Loss: 0.923 Train Acc: 0.667\n",
      "Epoch: 1/10 Train Loss: 0.941 Train Acc: 0.663\n",
      "Epoch: 2/10 Train Loss: 0.860 Train Acc: 0.693\n",
      "Epoch: 3/10 Train Loss: 0.796 Train Acc: 0.715\n",
      "Epoch: 4/10 Train Loss: 0.810 Train Acc: 0.710\n",
      "Epoch: 5/10 Train Loss: 0.930 Train Acc: 0.674\n",
      "Epoch: 6/10 Train Loss: 0.760 Train Acc: 0.728\n",
      "Epoch: 7/10 Train Loss: 0.802 Train Acc: 0.714\n",
      "Epoch: 8/10 Train Loss: 0.712 Train Acc: 0.742\n",
      "Epoch: 9/10 Train Loss: 0.651 Train Acc: 0.761\n"
     ]
    },
    {
     "name": "stderr",
     "output_type": "stream",
     "text": [
      " 48%|████▊     | 12/25 [11:59<13:25, 61.98s/it]"
     ]
    },
    {
     "name": "stdout",
     "output_type": "stream",
     "text": [
      "11-th ROUND: average train loss 0.217 | test loss 1.09 | test acc: 0.635\n",
      "Epoch: 0/10 Train Loss: 0.870 Train Acc: 0.697\n",
      "Epoch: 1/10 Train Loss: 0.899 Train Acc: 0.677\n",
      "Epoch: 2/10 Train Loss: 0.821 Train Acc: 0.716\n",
      "Epoch: 3/10 Train Loss: 0.810 Train Acc: 0.714\n",
      "Epoch: 4/10 Train Loss: 0.746 Train Acc: 0.734\n",
      "Epoch: 5/10 Train Loss: 0.713 Train Acc: 0.747\n",
      "Epoch: 6/10 Train Loss: 0.832 Train Acc: 0.705\n",
      "Epoch: 7/10 Train Loss: 0.743 Train Acc: 0.734\n",
      "Epoch: 8/10 Train Loss: 0.771 Train Acc: 0.727\n",
      "Epoch: 9/10 Train Loss: 0.774 Train Acc: 0.725\n",
      "Epoch: 0/10 Train Loss: 0.870 Train Acc: 0.689\n",
      "Epoch: 1/10 Train Loss: 0.866 Train Acc: 0.694\n",
      "Epoch: 2/10 Train Loss: 0.876 Train Acc: 0.693\n",
      "Epoch: 3/10 Train Loss: 0.816 Train Acc: 0.702\n",
      "Epoch: 4/10 Train Loss: 0.766 Train Acc: 0.723\n",
      "Epoch: 5/10 Train Loss: 0.833 Train Acc: 0.710\n",
      "Epoch: 6/10 Train Loss: 0.685 Train Acc: 0.758\n",
      "Epoch: 7/10 Train Loss: 0.731 Train Acc: 0.744\n",
      "Epoch: 8/10 Train Loss: 0.719 Train Acc: 0.751\n",
      "Epoch: 9/10 Train Loss: 0.627 Train Acc: 0.780\n",
      "Epoch: 0/10 Train Loss: 0.782 Train Acc: 0.717\n",
      "Epoch: 1/10 Train Loss: 0.763 Train Acc: 0.727\n",
      "Epoch: 2/10 Train Loss: 0.749 Train Acc: 0.730\n",
      "Epoch: 3/10 Train Loss: 0.771 Train Acc: 0.732\n",
      "Epoch: 4/10 Train Loss: 0.700 Train Acc: 0.752\n",
      "Epoch: 5/10 Train Loss: 0.784 Train Acc: 0.727\n",
      "Epoch: 6/10 Train Loss: 0.698 Train Acc: 0.752\n",
      "Epoch: 7/10 Train Loss: 0.674 Train Acc: 0.759\n",
      "Epoch: 8/10 Train Loss: 0.583 Train Acc: 0.797\n",
      "Epoch: 9/10 Train Loss: 0.628 Train Acc: 0.781\n"
     ]
    },
    {
     "name": "stderr",
     "output_type": "stream",
     "text": [
      " 52%|█████▏    | 13/25 [13:00<12:17, 61.48s/it]"
     ]
    },
    {
     "name": "stdout",
     "output_type": "stream",
     "text": [
      "12-th ROUND: average train loss 0.209 | test loss 0.937 | test acc: 0.681\n",
      "Epoch: 0/10 Train Loss: 0.822 Train Acc: 0.709\n",
      "Epoch: 1/10 Train Loss: 0.861 Train Acc: 0.702\n",
      "Epoch: 2/10 Train Loss: 0.832 Train Acc: 0.708\n",
      "Epoch: 3/10 Train Loss: 0.942 Train Acc: 0.671\n",
      "Epoch: 4/10 Train Loss: 0.755 Train Acc: 0.732\n",
      "Epoch: 5/10 Train Loss: 0.736 Train Acc: 0.741\n",
      "Epoch: 6/10 Train Loss: 0.685 Train Acc: 0.755\n",
      "Epoch: 7/10 Train Loss: 0.710 Train Acc: 0.748\n",
      "Epoch: 8/10 Train Loss: 0.617 Train Acc: 0.776\n",
      "Epoch: 9/10 Train Loss: 0.683 Train Acc: 0.756\n",
      "Epoch: 0/10 Train Loss: 0.806 Train Acc: 0.714\n",
      "Epoch: 1/10 Train Loss: 0.797 Train Acc: 0.721\n",
      "Epoch: 2/10 Train Loss: 0.857 Train Acc: 0.696\n",
      "Epoch: 3/10 Train Loss: 0.713 Train Acc: 0.744\n",
      "Epoch: 4/10 Train Loss: 0.698 Train Acc: 0.749\n",
      "Epoch: 5/10 Train Loss: 0.614 Train Acc: 0.785\n",
      "Epoch: 6/10 Train Loss: 0.652 Train Acc: 0.770\n",
      "Epoch: 7/10 Train Loss: 0.610 Train Acc: 0.785\n",
      "Epoch: 8/10 Train Loss: 0.590 Train Acc: 0.789\n",
      "Epoch: 9/10 Train Loss: 0.674 Train Acc: 0.761\n",
      "Epoch: 0/10 Train Loss: 0.796 Train Acc: 0.712\n",
      "Epoch: 1/10 Train Loss: 0.741 Train Acc: 0.742\n",
      "Epoch: 2/10 Train Loss: 0.823 Train Acc: 0.719\n",
      "Epoch: 3/10 Train Loss: 0.733 Train Acc: 0.743\n",
      "Epoch: 4/10 Train Loss: 0.702 Train Acc: 0.754\n",
      "Epoch: 5/10 Train Loss: 0.692 Train Acc: 0.756\n",
      "Epoch: 6/10 Train Loss: 0.615 Train Acc: 0.782\n",
      "Epoch: 7/10 Train Loss: 0.561 Train Acc: 0.801\n",
      "Epoch: 8/10 Train Loss: 0.574 Train Acc: 0.798\n",
      "Epoch: 9/10 Train Loss: 0.641 Train Acc: 0.779\n"
     ]
    },
    {
     "name": "stderr",
     "output_type": "stream",
     "text": [
      " 56%|█████▌    | 14/25 [14:00<11:12, 61.13s/it]"
     ]
    },
    {
     "name": "stdout",
     "output_type": "stream",
     "text": [
      "13-th ROUND: average train loss 0.214 | test loss 0.849 | test acc: 0.713\n",
      "Epoch: 0/10 Train Loss: 0.710 Train Acc: 0.754\n",
      "Epoch: 1/10 Train Loss: 0.770 Train Acc: 0.725\n",
      "Epoch: 2/10 Train Loss: 0.688 Train Acc: 0.763\n",
      "Epoch: 3/10 Train Loss: 0.692 Train Acc: 0.756\n",
      "Epoch: 4/10 Train Loss: 0.699 Train Acc: 0.751\n",
      "Epoch: 5/10 Train Loss: 0.633 Train Acc: 0.778\n",
      "Epoch: 6/10 Train Loss: 0.563 Train Acc: 0.801\n",
      "Epoch: 7/10 Train Loss: 0.682 Train Acc: 0.762\n",
      "Epoch: 8/10 Train Loss: 0.561 Train Acc: 0.808\n",
      "Epoch: 9/10 Train Loss: 0.599 Train Acc: 0.787\n",
      "Epoch: 0/10 Train Loss: 0.736 Train Acc: 0.740\n",
      "Epoch: 1/10 Train Loss: 0.706 Train Acc: 0.747\n",
      "Epoch: 2/10 Train Loss: 0.793 Train Acc: 0.725\n",
      "Epoch: 3/10 Train Loss: 0.660 Train Acc: 0.767\n",
      "Epoch: 4/10 Train Loss: 0.681 Train Acc: 0.761\n",
      "Epoch: 5/10 Train Loss: 0.627 Train Acc: 0.781\n",
      "Epoch: 6/10 Train Loss: 0.619 Train Acc: 0.778\n",
      "Epoch: 7/10 Train Loss: 0.658 Train Acc: 0.775\n",
      "Epoch: 8/10 Train Loss: 0.606 Train Acc: 0.791\n",
      "Epoch: 9/10 Train Loss: 0.511 Train Acc: 0.819\n",
      "Epoch: 0/10 Train Loss: 0.710 Train Acc: 0.746\n",
      "Epoch: 1/10 Train Loss: 0.691 Train Acc: 0.754\n",
      "Epoch: 2/10 Train Loss: 0.662 Train Acc: 0.769\n",
      "Epoch: 3/10 Train Loss: 0.645 Train Acc: 0.768\n",
      "Epoch: 4/10 Train Loss: 0.675 Train Acc: 0.762\n",
      "Epoch: 5/10 Train Loss: 0.667 Train Acc: 0.768\n",
      "Epoch: 6/10 Train Loss: 0.678 Train Acc: 0.759\n",
      "Epoch: 7/10 Train Loss: 0.680 Train Acc: 0.757\n",
      "Epoch: 8/10 Train Loss: 0.535 Train Acc: 0.811\n",
      "Epoch: 9/10 Train Loss: 0.523 Train Acc: 0.816\n"
     ]
    },
    {
     "name": "stderr",
     "output_type": "stream",
     "text": [
      " 60%|██████    | 15/25 [15:00<10:08, 60.83s/it]"
     ]
    },
    {
     "name": "stdout",
     "output_type": "stream",
     "text": [
      "14-th ROUND: average train loss 0.174 | test loss 0.776 | test acc: 0.736\n",
      "Epoch: 0/10 Train Loss: 0.701 Train Acc: 0.754\n",
      "Epoch: 1/10 Train Loss: 0.711 Train Acc: 0.752\n",
      "Epoch: 2/10 Train Loss: 0.672 Train Acc: 0.768\n",
      "Epoch: 3/10 Train Loss: 0.793 Train Acc: 0.724\n",
      "Epoch: 4/10 Train Loss: 0.675 Train Acc: 0.763\n",
      "Epoch: 5/10 Train Loss: 0.586 Train Acc: 0.799\n",
      "Epoch: 6/10 Train Loss: 0.542 Train Acc: 0.807\n",
      "Epoch: 7/10 Train Loss: 0.611 Train Acc: 0.786\n",
      "Epoch: 8/10 Train Loss: 0.557 Train Acc: 0.803\n",
      "Epoch: 9/10 Train Loss: 0.534 Train Acc: 0.810\n",
      "Epoch: 0/10 Train Loss: 0.717 Train Acc: 0.750\n",
      "Epoch: 1/10 Train Loss: 0.792 Train Acc: 0.717\n",
      "Epoch: 2/10 Train Loss: 0.648 Train Acc: 0.766\n",
      "Epoch: 3/10 Train Loss: 0.662 Train Acc: 0.768\n",
      "Epoch: 4/10 Train Loss: 0.587 Train Acc: 0.784\n",
      "Epoch: 5/10 Train Loss: 0.668 Train Acc: 0.766\n",
      "Epoch: 6/10 Train Loss: 0.600 Train Acc: 0.786\n",
      "Epoch: 7/10 Train Loss: 0.531 Train Acc: 0.813\n",
      "Epoch: 8/10 Train Loss: 0.546 Train Acc: 0.806\n",
      "Epoch: 9/10 Train Loss: 0.505 Train Acc: 0.822\n",
      "Epoch: 0/10 Train Loss: 0.695 Train Acc: 0.761\n",
      "Epoch: 1/10 Train Loss: 0.731 Train Acc: 0.738\n",
      "Epoch: 2/10 Train Loss: 0.719 Train Acc: 0.750\n",
      "Epoch: 3/10 Train Loss: 0.643 Train Acc: 0.770\n",
      "Epoch: 4/10 Train Loss: 0.636 Train Acc: 0.779\n",
      "Epoch: 5/10 Train Loss: 0.678 Train Acc: 0.761\n",
      "Epoch: 6/10 Train Loss: 0.684 Train Acc: 0.765\n",
      "Epoch: 7/10 Train Loss: 0.579 Train Acc: 0.797\n",
      "Epoch: 8/10 Train Loss: 0.506 Train Acc: 0.825\n",
      "Epoch: 9/10 Train Loss: 0.463 Train Acc: 0.839\n"
     ]
    },
    {
     "name": "stderr",
     "output_type": "stream",
     "text": [
      " 64%|██████▍   | 16/25 [16:01<09:06, 60.69s/it]"
     ]
    },
    {
     "name": "stdout",
     "output_type": "stream",
     "text": [
      "15-th ROUND: average train loss 0.154 | test loss 0.709 | test acc: 0.759\n",
      "Epoch: 0/10 Train Loss: 0.672 Train Acc: 0.766\n",
      "Epoch: 1/10 Train Loss: 0.625 Train Acc: 0.780\n",
      "Epoch: 2/10 Train Loss: 0.611 Train Acc: 0.784\n",
      "Epoch: 3/10 Train Loss: 0.662 Train Acc: 0.766\n",
      "Epoch: 4/10 Train Loss: 0.603 Train Acc: 0.783\n",
      "Epoch: 5/10 Train Loss: 0.565 Train Acc: 0.799\n",
      "Epoch: 6/10 Train Loss: 0.533 Train Acc: 0.812\n",
      "Epoch: 7/10 Train Loss: 0.544 Train Acc: 0.803\n",
      "Epoch: 8/10 Train Loss: 0.500 Train Acc: 0.824\n",
      "Epoch: 9/10 Train Loss: 0.483 Train Acc: 0.829\n",
      "Epoch: 0/10 Train Loss: 0.695 Train Acc: 0.764\n",
      "Epoch: 1/10 Train Loss: 0.671 Train Acc: 0.766\n",
      "Epoch: 2/10 Train Loss: 0.635 Train Acc: 0.781\n",
      "Epoch: 3/10 Train Loss: 0.591 Train Acc: 0.791\n",
      "Epoch: 4/10 Train Loss: 0.579 Train Acc: 0.796\n",
      "Epoch: 5/10 Train Loss: 0.500 Train Acc: 0.821\n",
      "Epoch: 6/10 Train Loss: 0.525 Train Acc: 0.813\n",
      "Epoch: 7/10 Train Loss: 0.537 Train Acc: 0.811\n",
      "Epoch: 8/10 Train Loss: 0.449 Train Acc: 0.843\n",
      "Epoch: 9/10 Train Loss: 0.426 Train Acc: 0.844\n",
      "Epoch: 0/10 Train Loss: 0.665 Train Acc: 0.764\n",
      "Epoch: 1/10 Train Loss: 0.638 Train Acc: 0.776\n",
      "Epoch: 2/10 Train Loss: 0.706 Train Acc: 0.755\n",
      "Epoch: 3/10 Train Loss: 0.672 Train Acc: 0.765\n",
      "Epoch: 4/10 Train Loss: 0.650 Train Acc: 0.771\n",
      "Epoch: 5/10 Train Loss: 0.553 Train Acc: 0.806\n",
      "Epoch: 6/10 Train Loss: 0.577 Train Acc: 0.796\n",
      "Epoch: 7/10 Train Loss: 0.617 Train Acc: 0.780\n",
      "Epoch: 8/10 Train Loss: 0.513 Train Acc: 0.822\n",
      "Epoch: 9/10 Train Loss: 0.543 Train Acc: 0.802\n"
     ]
    },
    {
     "name": "stderr",
     "output_type": "stream",
     "text": [
      " 68%|██████▊   | 17/25 [17:02<08:06, 60.82s/it]"
     ]
    },
    {
     "name": "stdout",
     "output_type": "stream",
     "text": [
      "16-th ROUND: average train loss 0.181 | test loss 0.66 | test acc: 0.776\n",
      "Epoch: 0/10 Train Loss: 0.587 Train Acc: 0.790\n",
      "Epoch: 1/10 Train Loss: 0.569 Train Acc: 0.802\n",
      "Epoch: 2/10 Train Loss: 0.540 Train Acc: 0.811\n",
      "Epoch: 3/10 Train Loss: 0.516 Train Acc: 0.816\n",
      "Epoch: 4/10 Train Loss: 0.465 Train Acc: 0.834\n",
      "Epoch: 5/10 Train Loss: 0.562 Train Acc: 0.804\n",
      "Epoch: 6/10 Train Loss: 0.454 Train Acc: 0.827\n",
      "Epoch: 7/10 Train Loss: 0.598 Train Acc: 0.790\n",
      "Epoch: 8/10 Train Loss: 0.463 Train Acc: 0.835\n",
      "Epoch: 9/10 Train Loss: 0.508 Train Acc: 0.819\n",
      "Epoch: 0/10 Train Loss: 0.678 Train Acc: 0.766\n",
      "Epoch: 1/10 Train Loss: 0.627 Train Acc: 0.775\n",
      "Epoch: 2/10 Train Loss: 0.701 Train Acc: 0.756\n",
      "Epoch: 3/10 Train Loss: 0.624 Train Acc: 0.783\n",
      "Epoch: 4/10 Train Loss: 0.575 Train Acc: 0.798\n",
      "Epoch: 5/10 Train Loss: 0.632 Train Acc: 0.782\n",
      "Epoch: 6/10 Train Loss: 0.527 Train Acc: 0.813\n",
      "Epoch: 7/10 Train Loss: 0.481 Train Acc: 0.827\n",
      "Epoch: 8/10 Train Loss: 0.553 Train Acc: 0.800\n",
      "Epoch: 9/10 Train Loss: 0.475 Train Acc: 0.834\n",
      "Epoch: 0/10 Train Loss: 0.671 Train Acc: 0.764\n",
      "Epoch: 1/10 Train Loss: 0.677 Train Acc: 0.771\n",
      "Epoch: 2/10 Train Loss: 0.555 Train Acc: 0.801\n",
      "Epoch: 3/10 Train Loss: 0.556 Train Acc: 0.809\n",
      "Epoch: 4/10 Train Loss: 0.575 Train Acc: 0.795\n",
      "Epoch: 5/10 Train Loss: 0.491 Train Acc: 0.826\n",
      "Epoch: 6/10 Train Loss: 0.472 Train Acc: 0.832\n",
      "Epoch: 7/10 Train Loss: 0.489 Train Acc: 0.829\n",
      "Epoch: 8/10 Train Loss: 0.529 Train Acc: 0.815\n",
      "Epoch: 9/10 Train Loss: 0.478 Train Acc: 0.835\n"
     ]
    },
    {
     "name": "stderr",
     "output_type": "stream",
     "text": [
      " 72%|███████▏  | 18/25 [18:04<07:09, 61.38s/it]"
     ]
    },
    {
     "name": "stdout",
     "output_type": "stream",
     "text": [
      "17-th ROUND: average train loss 0.159 | test loss 0.611 | test acc: 0.793\n",
      "Epoch: 0/10 Train Loss: 0.641 Train Acc: 0.775\n",
      "Epoch: 1/10 Train Loss: 0.600 Train Acc: 0.793\n",
      "Epoch: 2/10 Train Loss: 0.521 Train Acc: 0.811\n",
      "Epoch: 3/10 Train Loss: 0.523 Train Acc: 0.821\n",
      "Epoch: 4/10 Train Loss: 0.479 Train Acc: 0.824\n",
      "Epoch: 5/10 Train Loss: 0.443 Train Acc: 0.845\n",
      "Epoch: 6/10 Train Loss: 0.426 Train Acc: 0.852\n",
      "Epoch: 7/10 Train Loss: 0.710 Train Acc: 0.759\n",
      "Epoch: 8/10 Train Loss: 0.485 Train Acc: 0.830\n",
      "Epoch: 9/10 Train Loss: 0.443 Train Acc: 0.843\n",
      "Epoch: 0/10 Train Loss: 0.664 Train Acc: 0.770\n",
      "Epoch: 1/10 Train Loss: 0.707 Train Acc: 0.756\n",
      "Epoch: 2/10 Train Loss: 0.768 Train Acc: 0.730\n",
      "Epoch: 3/10 Train Loss: 0.606 Train Acc: 0.784\n",
      "Epoch: 4/10 Train Loss: 0.525 Train Acc: 0.817\n",
      "Epoch: 5/10 Train Loss: 0.512 Train Acc: 0.816\n",
      "Epoch: 6/10 Train Loss: 0.456 Train Acc: 0.838\n",
      "Epoch: 7/10 Train Loss: 0.491 Train Acc: 0.824\n",
      "Epoch: 8/10 Train Loss: 0.514 Train Acc: 0.817\n",
      "Epoch: 9/10 Train Loss: 0.475 Train Acc: 0.836\n",
      "Epoch: 0/10 Train Loss: 0.619 Train Acc: 0.782\n",
      "Epoch: 1/10 Train Loss: 0.562 Train Acc: 0.798\n",
      "Epoch: 2/10 Train Loss: 0.583 Train Acc: 0.798\n",
      "Epoch: 3/10 Train Loss: 0.556 Train Acc: 0.807\n",
      "Epoch: 4/10 Train Loss: 0.678 Train Acc: 0.764\n",
      "Epoch: 5/10 Train Loss: 0.506 Train Acc: 0.825\n",
      "Epoch: 6/10 Train Loss: 0.601 Train Acc: 0.784\n",
      "Epoch: 7/10 Train Loss: 0.484 Train Acc: 0.831\n",
      "Epoch: 8/10 Train Loss: 0.481 Train Acc: 0.834\n",
      "Epoch: 9/10 Train Loss: 0.414 Train Acc: 0.849\n"
     ]
    },
    {
     "name": "stderr",
     "output_type": "stream",
     "text": [
      " 76%|███████▌  | 19/25 [19:05<06:06, 61.09s/it]"
     ]
    },
    {
     "name": "stdout",
     "output_type": "stream",
     "text": [
      "18-th ROUND: average train loss 0.138 | test loss 0.611 | test acc: 0.797\n",
      "Epoch: 0/10 Train Loss: 0.624 Train Acc: 0.784\n",
      "Epoch: 1/10 Train Loss: 0.536 Train Acc: 0.811\n",
      "Epoch: 2/10 Train Loss: 0.504 Train Acc: 0.822\n",
      "Epoch: 3/10 Train Loss: 0.536 Train Acc: 0.816\n",
      "Epoch: 4/10 Train Loss: 0.535 Train Acc: 0.815\n",
      "Epoch: 5/10 Train Loss: 0.529 Train Acc: 0.815\n",
      "Epoch: 6/10 Train Loss: 0.506 Train Acc: 0.828\n",
      "Epoch: 7/10 Train Loss: 0.536 Train Acc: 0.819\n",
      "Epoch: 8/10 Train Loss: 0.452 Train Acc: 0.837\n",
      "Epoch: 9/10 Train Loss: 0.463 Train Acc: 0.839\n",
      "Epoch: 0/10 Train Loss: 0.504 Train Acc: 0.817\n",
      "Epoch: 1/10 Train Loss: 0.515 Train Acc: 0.818\n",
      "Epoch: 2/10 Train Loss: 0.431 Train Acc: 0.847\n",
      "Epoch: 3/10 Train Loss: 0.473 Train Acc: 0.830\n",
      "Epoch: 4/10 Train Loss: 0.505 Train Acc: 0.821\n",
      "Epoch: 5/10 Train Loss: 0.439 Train Acc: 0.845\n",
      "Epoch: 6/10 Train Loss: 0.400 Train Acc: 0.856\n",
      "Epoch: 7/10 Train Loss: 0.389 Train Acc: 0.861\n",
      "Epoch: 8/10 Train Loss: 0.333 Train Acc: 0.881\n",
      "Epoch: 9/10 Train Loss: 0.384 Train Acc: 0.861\n",
      "Epoch: 0/10 Train Loss: 0.601 Train Acc: 0.794\n",
      "Epoch: 1/10 Train Loss: 0.566 Train Acc: 0.804\n",
      "Epoch: 2/10 Train Loss: 0.539 Train Acc: 0.809\n",
      "Epoch: 3/10 Train Loss: 0.470 Train Acc: 0.835\n",
      "Epoch: 4/10 Train Loss: 0.432 Train Acc: 0.847\n",
      "Epoch: 5/10 Train Loss: 0.517 Train Acc: 0.812\n",
      "Epoch: 6/10 Train Loss: 0.448 Train Acc: 0.841\n",
      "Epoch: 7/10 Train Loss: 0.474 Train Acc: 0.831\n",
      "Epoch: 8/10 Train Loss: 0.412 Train Acc: 0.854\n",
      "Epoch: 9/10 Train Loss: 0.333 Train Acc: 0.879\n"
     ]
    },
    {
     "name": "stderr",
     "output_type": "stream",
     "text": [
      " 80%|████████  | 20/25 [20:04<05:02, 60.58s/it]"
     ]
    },
    {
     "name": "stdout",
     "output_type": "stream",
     "text": [
      "19-th ROUND: average train loss 0.111 | test loss 0.581 | test acc: 0.809\n",
      "Epoch: 0/10 Train Loss: 0.528 Train Acc: 0.824\n",
      "Epoch: 1/10 Train Loss: 0.561 Train Acc: 0.814\n",
      "Epoch: 2/10 Train Loss: 0.506 Train Acc: 0.824\n",
      "Epoch: 3/10 Train Loss: 0.528 Train Acc: 0.820\n",
      "Epoch: 4/10 Train Loss: 0.428 Train Acc: 0.852\n",
      "Epoch: 5/10 Train Loss: 0.396 Train Acc: 0.863\n",
      "Epoch: 6/10 Train Loss: 0.479 Train Acc: 0.833\n",
      "Epoch: 7/10 Train Loss: 0.432 Train Acc: 0.847\n",
      "Epoch: 8/10 Train Loss: 0.356 Train Acc: 0.877\n",
      "Epoch: 9/10 Train Loss: 0.342 Train Acc: 0.879\n",
      "Epoch: 0/10 Train Loss: 0.559 Train Acc: 0.806\n",
      "Epoch: 1/10 Train Loss: 0.585 Train Acc: 0.792\n",
      "Epoch: 2/10 Train Loss: 0.495 Train Acc: 0.829\n",
      "Epoch: 3/10 Train Loss: 0.505 Train Acc: 0.822\n",
      "Epoch: 4/10 Train Loss: 0.486 Train Acc: 0.825\n",
      "Epoch: 5/10 Train Loss: 0.458 Train Acc: 0.835\n",
      "Epoch: 6/10 Train Loss: 0.590 Train Acc: 0.800\n",
      "Epoch: 7/10 Train Loss: 0.453 Train Acc: 0.850\n",
      "Epoch: 8/10 Train Loss: 0.392 Train Acc: 0.863\n",
      "Epoch: 9/10 Train Loss: 0.406 Train Acc: 0.859\n",
      "Epoch: 0/10 Train Loss: 0.542 Train Acc: 0.815\n",
      "Epoch: 1/10 Train Loss: 0.520 Train Acc: 0.814\n",
      "Epoch: 2/10 Train Loss: 0.650 Train Acc: 0.774\n",
      "Epoch: 3/10 Train Loss: 0.506 Train Acc: 0.822\n",
      "Epoch: 4/10 Train Loss: 0.518 Train Acc: 0.821\n",
      "Epoch: 5/10 Train Loss: 0.487 Train Acc: 0.824\n",
      "Epoch: 6/10 Train Loss: 0.435 Train Acc: 0.845\n",
      "Epoch: 7/10 Train Loss: 0.458 Train Acc: 0.838\n",
      "Epoch: 8/10 Train Loss: 0.433 Train Acc: 0.844\n",
      "Epoch: 9/10 Train Loss: 0.357 Train Acc: 0.873\n"
     ]
    },
    {
     "name": "stderr",
     "output_type": "stream",
     "text": [
      " 84%|████████▍ | 21/25 [21:06<04:03, 60.97s/it]"
     ]
    },
    {
     "name": "stdout",
     "output_type": "stream",
     "text": [
      "20-th ROUND: average train loss 0.119 | test loss 0.543 | test acc: 0.823\n",
      "Epoch: 0/10 Train Loss: 0.536 Train Acc: 0.811\n",
      "Epoch: 1/10 Train Loss: 0.481 Train Acc: 0.831\n",
      "Epoch: 2/10 Train Loss: 0.445 Train Acc: 0.845\n",
      "Epoch: 3/10 Train Loss: 0.460 Train Acc: 0.840\n",
      "Epoch: 4/10 Train Loss: 0.397 Train Acc: 0.858\n",
      "Epoch: 5/10 Train Loss: 0.379 Train Acc: 0.870\n",
      "Epoch: 6/10 Train Loss: 0.507 Train Acc: 0.820\n",
      "Epoch: 7/10 Train Loss: 0.364 Train Acc: 0.876\n",
      "Epoch: 8/10 Train Loss: 0.344 Train Acc: 0.880\n",
      "Epoch: 9/10 Train Loss: 0.299 Train Acc: 0.895\n",
      "Epoch: 0/10 Train Loss: 0.693 Train Acc: 0.770\n",
      "Epoch: 1/10 Train Loss: 0.561 Train Acc: 0.806\n",
      "Epoch: 2/10 Train Loss: 0.554 Train Acc: 0.807\n",
      "Epoch: 3/10 Train Loss: 0.443 Train Acc: 0.839\n",
      "Epoch: 4/10 Train Loss: 0.509 Train Acc: 0.822\n",
      "Epoch: 5/10 Train Loss: 0.499 Train Acc: 0.823\n",
      "Epoch: 6/10 Train Loss: 0.463 Train Acc: 0.842\n",
      "Epoch: 7/10 Train Loss: 0.379 Train Acc: 0.863\n",
      "Epoch: 8/10 Train Loss: 0.435 Train Acc: 0.846\n",
      "Epoch: 9/10 Train Loss: 0.503 Train Acc: 0.824\n",
      "Epoch: 0/10 Train Loss: 0.484 Train Acc: 0.829\n",
      "Epoch: 1/10 Train Loss: 0.506 Train Acc: 0.825\n",
      "Epoch: 2/10 Train Loss: 0.450 Train Acc: 0.836\n",
      "Epoch: 3/10 Train Loss: 0.387 Train Acc: 0.861\n",
      "Epoch: 4/10 Train Loss: 0.359 Train Acc: 0.873\n",
      "Epoch: 5/10 Train Loss: 0.392 Train Acc: 0.857\n",
      "Epoch: 6/10 Train Loss: 0.365 Train Acc: 0.869\n",
      "Epoch: 7/10 Train Loss: 0.373 Train Acc: 0.869\n",
      "Epoch: 8/10 Train Loss: 0.395 Train Acc: 0.860\n",
      "Epoch: 9/10 Train Loss: 0.470 Train Acc: 0.836\n"
     ]
    },
    {
     "name": "stderr",
     "output_type": "stream",
     "text": [
      " 88%|████████▊ | 22/25 [22:08<03:03, 61.28s/it]"
     ]
    },
    {
     "name": "stdout",
     "output_type": "stream",
     "text": [
      "21-th ROUND: average train loss 0.157 | test loss 0.527 | test acc: 0.828\n",
      "Epoch: 0/10 Train Loss: 0.496 Train Acc: 0.825\n",
      "Epoch: 1/10 Train Loss: 0.472 Train Acc: 0.834\n",
      "Epoch: 2/10 Train Loss: 0.400 Train Acc: 0.856\n",
      "Epoch: 3/10 Train Loss: 0.482 Train Acc: 0.836\n",
      "Epoch: 4/10 Train Loss: 0.377 Train Acc: 0.866\n",
      "Epoch: 5/10 Train Loss: 0.512 Train Acc: 0.824\n",
      "Epoch: 6/10 Train Loss: 0.373 Train Acc: 0.871\n",
      "Epoch: 7/10 Train Loss: 0.414 Train Acc: 0.855\n",
      "Epoch: 8/10 Train Loss: 0.355 Train Acc: 0.872\n",
      "Epoch: 9/10 Train Loss: 0.285 Train Acc: 0.900\n",
      "Epoch: 0/10 Train Loss: 0.592 Train Acc: 0.802\n",
      "Epoch: 1/10 Train Loss: 0.607 Train Acc: 0.786\n",
      "Epoch: 2/10 Train Loss: 0.482 Train Acc: 0.831\n",
      "Epoch: 3/10 Train Loss: 0.530 Train Acc: 0.818\n",
      "Epoch: 4/10 Train Loss: 0.427 Train Acc: 0.850\n",
      "Epoch: 5/10 Train Loss: 0.406 Train Acc: 0.858\n",
      "Epoch: 6/10 Train Loss: 0.491 Train Acc: 0.829\n",
      "Epoch: 7/10 Train Loss: 0.377 Train Acc: 0.869\n",
      "Epoch: 8/10 Train Loss: 0.434 Train Acc: 0.849\n",
      "Epoch: 9/10 Train Loss: 0.332 Train Acc: 0.886\n",
      "Epoch: 0/10 Train Loss: 0.561 Train Acc: 0.805\n",
      "Epoch: 1/10 Train Loss: 0.484 Train Acc: 0.832\n",
      "Epoch: 2/10 Train Loss: 0.526 Train Acc: 0.820\n",
      "Epoch: 3/10 Train Loss: 0.598 Train Acc: 0.798\n",
      "Epoch: 4/10 Train Loss: 0.602 Train Acc: 0.797\n",
      "Epoch: 5/10 Train Loss: 0.572 Train Acc: 0.806\n",
      "Epoch: 6/10 Train Loss: 0.510 Train Acc: 0.827\n",
      "Epoch: 7/10 Train Loss: 0.411 Train Acc: 0.853\n",
      "Epoch: 8/10 Train Loss: 0.360 Train Acc: 0.877\n",
      "Epoch: 9/10 Train Loss: 0.342 Train Acc: 0.884\n"
     ]
    },
    {
     "name": "stderr",
     "output_type": "stream",
     "text": [
      " 92%|█████████▏| 23/25 [23:07<02:01, 60.59s/it]"
     ]
    },
    {
     "name": "stdout",
     "output_type": "stream",
     "text": [
      "22-th ROUND: average train loss 0.114 | test loss 0.511 | test acc: 0.837\n",
      "Epoch: 0/10 Train Loss: 0.435 Train Acc: 0.852\n",
      "Epoch: 1/10 Train Loss: 0.441 Train Acc: 0.856\n",
      "Epoch: 2/10 Train Loss: 0.368 Train Acc: 0.871\n",
      "Epoch: 3/10 Train Loss: 0.414 Train Acc: 0.850\n",
      "Epoch: 4/10 Train Loss: 0.366 Train Acc: 0.872\n",
      "Epoch: 5/10 Train Loss: 0.281 Train Acc: 0.903\n",
      "Epoch: 6/10 Train Loss: 0.509 Train Acc: 0.820\n",
      "Epoch: 7/10 Train Loss: 0.462 Train Acc: 0.838\n",
      "Epoch: 8/10 Train Loss: 0.358 Train Acc: 0.876\n",
      "Epoch: 9/10 Train Loss: 0.326 Train Acc: 0.884\n",
      "Epoch: 0/10 Train Loss: 0.516 Train Acc: 0.821\n",
      "Epoch: 1/10 Train Loss: 0.486 Train Acc: 0.830\n",
      "Epoch: 2/10 Train Loss: 0.432 Train Acc: 0.845\n",
      "Epoch: 3/10 Train Loss: 0.457 Train Acc: 0.837\n",
      "Epoch: 4/10 Train Loss: 0.443 Train Acc: 0.841\n",
      "Epoch: 5/10 Train Loss: 0.394 Train Acc: 0.859\n",
      "Epoch: 6/10 Train Loss: 0.471 Train Acc: 0.832\n",
      "Epoch: 7/10 Train Loss: 0.414 Train Acc: 0.847\n",
      "Epoch: 8/10 Train Loss: 0.426 Train Acc: 0.855\n",
      "Epoch: 9/10 Train Loss: 0.325 Train Acc: 0.886\n",
      "Epoch: 0/10 Train Loss: 0.513 Train Acc: 0.823\n",
      "Epoch: 1/10 Train Loss: 0.464 Train Acc: 0.838\n",
      "Epoch: 2/10 Train Loss: 0.415 Train Acc: 0.855\n",
      "Epoch: 3/10 Train Loss: 0.426 Train Acc: 0.854\n",
      "Epoch: 4/10 Train Loss: 0.435 Train Acc: 0.852\n",
      "Epoch: 5/10 Train Loss: 0.483 Train Acc: 0.833\n",
      "Epoch: 6/10 Train Loss: 0.330 Train Acc: 0.884\n",
      "Epoch: 7/10 Train Loss: 0.344 Train Acc: 0.879\n",
      "Epoch: 8/10 Train Loss: 0.296 Train Acc: 0.898\n",
      "Epoch: 9/10 Train Loss: 0.274 Train Acc: 0.903\n"
     ]
    },
    {
     "name": "stderr",
     "output_type": "stream",
     "text": [
      " 96%|█████████▌| 24/25 [24:10<01:01, 61.39s/it]"
     ]
    },
    {
     "name": "stdout",
     "output_type": "stream",
     "text": [
      "23-th ROUND: average train loss 0.0915 | test loss 0.502 | test acc: 0.842\n",
      "Epoch: 0/10 Train Loss: 0.504 Train Acc: 0.826\n",
      "Epoch: 1/10 Train Loss: 0.413 Train Acc: 0.853\n",
      "Epoch: 2/10 Train Loss: 0.460 Train Acc: 0.837\n",
      "Epoch: 3/10 Train Loss: 0.371 Train Acc: 0.868\n",
      "Epoch: 4/10 Train Loss: 0.391 Train Acc: 0.862\n",
      "Epoch: 5/10 Train Loss: 0.421 Train Acc: 0.851\n",
      "Epoch: 6/10 Train Loss: 0.528 Train Acc: 0.814\n",
      "Epoch: 7/10 Train Loss: 0.391 Train Acc: 0.860\n",
      "Epoch: 8/10 Train Loss: 0.364 Train Acc: 0.869\n",
      "Epoch: 9/10 Train Loss: 0.261 Train Acc: 0.908\n",
      "Epoch: 0/10 Train Loss: 0.479 Train Acc: 0.841\n",
      "Epoch: 1/10 Train Loss: 0.552 Train Acc: 0.812\n",
      "Epoch: 2/10 Train Loss: 0.377 Train Acc: 0.869\n",
      "Epoch: 3/10 Train Loss: 0.361 Train Acc: 0.877\n",
      "Epoch: 4/10 Train Loss: 0.631 Train Acc: 0.785\n",
      "Epoch: 5/10 Train Loss: 0.415 Train Acc: 0.860\n",
      "Epoch: 6/10 Train Loss: 0.337 Train Acc: 0.886\n",
      "Epoch: 7/10 Train Loss: 0.267 Train Acc: 0.907\n",
      "Epoch: 8/10 Train Loss: 0.311 Train Acc: 0.888\n",
      "Epoch: 9/10 Train Loss: 0.322 Train Acc: 0.887\n",
      "Epoch: 0/10 Train Loss: 0.572 Train Acc: 0.799\n",
      "Epoch: 1/10 Train Loss: 0.492 Train Acc: 0.826\n",
      "Epoch: 2/10 Train Loss: 0.389 Train Acc: 0.863\n",
      "Epoch: 3/10 Train Loss: 0.390 Train Acc: 0.864\n",
      "Epoch: 4/10 Train Loss: 0.360 Train Acc: 0.870\n",
      "Epoch: 5/10 Train Loss: 0.325 Train Acc: 0.889\n",
      "Epoch: 6/10 Train Loss: 0.473 Train Acc: 0.833\n",
      "Epoch: 7/10 Train Loss: 0.337 Train Acc: 0.886\n",
      "Epoch: 8/10 Train Loss: 0.263 Train Acc: 0.910\n",
      "Epoch: 9/10 Train Loss: 0.260 Train Acc: 0.909\n"
     ]
    },
    {
     "name": "stderr",
     "output_type": "stream",
     "text": [
      "100%|██████████| 25/25 [25:13<00:00, 60.56s/it]"
     ]
    },
    {
     "name": "stdout",
     "output_type": "stream",
     "text": [
      "24-th ROUND: average train loss 0.0865 | test loss 0.499 | test acc: 0.843\n"
     ]
    },
    {
     "name": "stderr",
     "output_type": "stream",
     "text": [
      "\n"
     ]
    }
   ],
   "source": [
    "# initialize lists to store the training and testing losses and accuracies\n",
    "train_losses = []\n",
    "test_losses = []\n",
    "train_accs = []\n",
    "test_accs = []\n",
    "\n",
    "for round in tqdm(range(rounds)):\n",
    "\n",
    "\n",
    "    # Select n random clients\n",
    "    selected_clients = np.random.permutation(num_clients)[:clients_sample_size]\n",
    "    # Train the selected clients\n",
    "    for client in selected_clients:\n",
    "        # Individual criterion and optimizer\n",
    "\n",
    "        train_loss, train_acc = train_model(model = client_models[client],\n",
    "                                             train_loader = train_loaders[client],\n",
    "                                             device = device,\n",
    "                                             criterion = criterion,\n",
    "                                             optimizer = optimizers[client],\n",
    "                                             num_epochs=epoch)\n",
    "    train_losses.append(train_loss)\n",
    "    train_accs.append(train_acc)\n",
    "\n",
    "    # Aggregate\n",
    "    server_aggregate(global_model, client_models)\n",
    "\n",
    "    # Test the global model\n",
    "    test_loss, test_acc = evaluate_model(model=global_model,\n",
    "                                         test_loader=test_loader,\n",
    "                                         device=device,\n",
    "                                         criterion=criterion)\n",
    "\n",
    "    test_losses.append(test_loss)\n",
    "    test_accs.append(test_acc)\n",
    "    \n",
    "    print(f\"{round}-th ROUND: average train loss {(train_loss / clients_sample_size):0.3g} | test loss {test_loss:0.3g} | test acc: {test_acc:0.3f}\")\n",
    "    \n",
    "    "
   ]
  },
  {
   "cell_type": "code",
   "execution_count": 8,
   "metadata": {},
   "outputs": [
    {
     "data": {
      "image/png": "[encoded data removed]",
      "text/plain": [
       "<Figure size 640x480 with 1 Axes>"
      ]
     },
     "metadata": {},
     "output_type": "display_data"
    }
   ],
   "source": [
    "# plot the training loss\n",
    "sns.set(style='darkgrid')\n",
    "plt.plot(train_losses)\n",
    "plt.title('Training Loss')\n",
    "plt.xlabel('Epoch')\n",
    "plt.ylabel('Loss')\n",
    "plt.show()"
   ]
  },
  {
   "cell_type": "code",
   "execution_count": 9,
   "metadata": {},
   "outputs": [],
   "source": [
    "train_accs = [d.item() for d in train_accs]\n",
    "test_accs = [d.item() for d in test_accs]"
   ]
  },
  {
   "cell_type": "code",
   "execution_count": 10,
   "metadata": {},
   "outputs": [
    {
     "data": {
      "image/png": "[encoded data removed]",
      "text/plain": [
       "<Figure size 640x480 with 1 Axes>"
      ]
     },
     "metadata": {},
     "output_type": "display_data"
    }
   ],
   "source": [
    "# plot the training and testing accuracies\n",
    "sns.set(style='darkgrid')\n",
    "plt.plot(train_accs, label='Train Acc')\n",
    "plt.plot(test_accs, label='Test Acc')\n",
    "plt.title('Training and Testing Accuracies')\n",
    "plt.xlabel('Epoch')\n",
    "plt.ylabel('Accuracy')\n",
    "plt.legend()\n",
    "plt.show()\n"
   ]
  },
  {
   "cell_type": "code",
   "execution_count": 11,
   "metadata": {},
   "outputs": [
    {
     "name": "stdout",
     "output_type": "stream",
     "text": [
      "Loss: 0.0, Accuracy: 84.3499984741211%\n",
      "44.77 MB\n",
      "CPU Inference Latency: 9.08 ms / sample\n",
      "CUDA Inference Latency: 1.60 ms / sample\n"
     ]
    }
   ],
   "source": [
    "cuda_device = torch.device(\"cuda:0\")\n",
    "cpu_device = torch.device(\"cpu:0\")\n",
    "# Test the model\n",
    "loss, acc = evaluate_model(global_model, test_loader, device,)\n",
    "print(f'Loss: {loss}, Accuracy: {acc*100}%')\n",
    "print_model_size(global_model)\n",
    "\n",
    "# Measure inference latency\n",
    "cpu_inference_latency = measure_inference_latency(model=global_model, device=cpu_device, input_size=(1,3,32,32), num_samples=100)\n",
    "gpu_inference_latency = measure_inference_latency(model=global_model, device=cuda_device, input_size=(1,3,32,32), num_samples=100)\n",
    "print(\"CPU Inference Latency: {:.2f} ms / sample\".format(cpu_inference_latency * 1000))\n",
    "print(\"CUDA Inference Latency: {:.2f} ms / sample\".format(gpu_inference_latency * 1000))"
   ]
  },
  {
   "cell_type": "code",
   "execution_count": 12,
   "metadata": {},
   "outputs": [],
   "source": [
    "save_model(global_model, \"saved_models\", f'resnet_fedlern_{time_stamp()}.pth')"
   ]
  }
 ],
 "metadata": {
  "kernelspec": {
   "display_name": "Python 3",
   "language": "python",
   "name": "python3"
  },
  "language_info": {
   "codemirror_mode": {
    "name": "ipython",
    "version": 3
   },
   "file_extension": ".py",
   "mimetype": "text/x-python",
   "name": "python",
   "nbconvert_exporter": "python",
   "pygments_lexer": "ipython3",
   "version": "3.8.0"
  },
  "orig_nbformat": 4
 },
 "nbformat": 4,
 "nbformat_minor": 2
}
