{
 "cells": [
  {
   "cell_type": "code",
   "execution_count": 1,
   "metadata": {},
   "outputs": [
    {
     "name": "stdout",
     "output_type": "stream",
     "text": [
      "Files already downloaded and verified\n",
      "CIFAR10\n",
      "(50000, 32, 32, 3)\n",
      "[0.49139968 0.48215841 0.44653091]\n",
      "[0.24703223 0.24348513 0.26158784]\n",
      "Files already downloaded and verified\n",
      "CIFAR100\n",
      "(50000, 32, 32, 3)\n",
      "[0.50707516 0.48654887 0.44091784]\n",
      "[0.26733429 0.25643846 0.27615047]\n",
      "MNIST\n",
      "[60000, 28, 28]\n",
      "tensor(0.1307)\n",
      "tensor(0.3081)\n"
     ]
    }
   ],
   "source": [
    "\"\"\"Calculate mean and std.\"\"\"\n",
    "\n",
    "\n",
    "\n",
    "import os\n",
    "import numpy as np\n",
    "\n",
    "from torchvision import datasets, transforms\n",
    "\n",
    "train_transform = transforms.Compose([transforms.ToTensor()])\n",
    "\n",
    "# cifar10\n",
    "train_set = datasets.CIFAR10(root='../data/', train=True, download=True, transform=train_transform)\n",
    "print(\"CIFAR10\")\n",
    "print(train_set.data.shape)\n",
    "print(train_set.data.mean(axis=(0,1,2))/255)\n",
    "print(train_set.data.std(axis=(0,1,2))/255)\n",
    "# (50000, 32, 32, 3)\n",
    "# [0.49139968  0.48215841  0.44653091]\n",
    "# [0.24703223  0.24348513  0.26158784]\n",
    "\n",
    "# cifar100\n",
    "train_set = datasets.CIFAR100(root='../data/', train=True, download=True, transform=train_transform)\n",
    "print(\"CIFAR100\")\n",
    "print(train_set.data.shape)\n",
    "print(train_set.data.mean(axis=(0,1,2))/255)\n",
    "print(train_set.data.std(axis=(0,1,2))/255)\n",
    "# (50000, 32, 32, 3)\n",
    "# [0.50707516  0.48654887  0.44091784]\n",
    "# [0.26733429  0.25643846  0.27615047]\n",
    "\n",
    "# mnist\n",
    "train_set = datasets.MNIST(root='../data/', train=True, download=True, transform=train_transform)\n",
    "print(\"MNIST\")\n",
    "print(list(train_set.data.size()))\n",
    "print(train_set.data.float().mean()/255)\n",
    "print(train_set.data.float().std()/255)\n",
    "# [60000, 28, 28]\n",
    "# 0.1306604762738429\n",
    "# 0.30810780717887876"
   ]
  }
 ],
 "metadata": {
  "kernelspec": {
   "display_name": "Python 3",
   "language": "python",
   "name": "python3"
  },
  "language_info": {
   "codemirror_mode": {
    "name": "ipython",
    "version": 3
   },
   "file_extension": ".py",
   "mimetype": "text/x-python",
   "name": "python",
   "nbconvert_exporter": "python",
   "pygments_lexer": "ipython3",
   "version": "3.8.0"
  },
  "orig_nbformat": 4
 },
 "nbformat": 4,
 "nbformat_minor": 2
}
