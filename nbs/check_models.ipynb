{
 "cells": [
  {
   "attachments": {},
   "cell_type": "markdown",
   "metadata": {},
   "source": []
  },
  {
   "cell_type": "code",
   "execution_count": 10,
   "metadata": {},
   "outputs": [],
   "source": [
    "import sys\n",
    "# setting path\n",
    "sys.path.append('../../FedLearning')\n",
    "import torch\n",
    "import torchvision.datasets as datasets\n",
    "import torchvision.transforms as transforms\n",
    "from torch.utils.data import DataLoader\n",
    "from fedlern.models.mlp import MLP\n",
    "from fedlern.models.resnet_v2 import ResNet18\n",
    "from fedlern.train_utils import *\n",
    "from fedlern.quant_utils import *\n",
    "import fedlern.utils as utils\n",
    "import torch.nn.functional as F"
   ]
  },
  {
   "cell_type": "code",
   "execution_count": 11,
   "metadata": {},
   "outputs": [],
   "source": [
    "# Device configuration\n",
    "device = torch.device('cuda' if torch.cuda.is_available() else 'cpu')\n",
    "cuda_device = torch.device(\"cuda:0\")\n",
    "cpu_device = torch.device(\"cpu:0\")\n",
    "\n",
    "#stats = ((0.4914, 0.4822, 0.4465), (0.2023, 0.1994, 0.2010))\n",
    "stats = (0.49139968, 0.48215841, 0.44653091), (0.24703223, 0.24348513, 0.26158784)\n",
    "batch_size = 1000"
   ]
  },
  {
   "cell_type": "code",
   "execution_count": 12,
   "metadata": {},
   "outputs": [
    {
     "name": "stdout",
     "output_type": "stream",
     "text": [
      "Downloading https://www.cs.toronto.edu/~kriz/cifar-10-python.tar.gz to ./data/cifar-10-python.tar.gz\n"
     ]
    },
    {
     "name": "stderr",
     "output_type": "stream",
     "text": [
      "100%|██████████| 170498071/170498071 [00:07<00:00, 23022738.35it/s]\n"
     ]
    },
    {
     "name": "stdout",
     "output_type": "stream",
     "text": [
      "Extracting ./data/cifar-10-python.tar.gz to ./data\n"
     ]
    }
   ],
   "source": [
    "train_loader, test_loader = prepare_dataloader_cifar(num_workers=8, train_batch_size=batch_size ,eval_batch_size=batch_size, stats=stats)\n"
   ]
  },
  {
   "attachments": {},
   "cell_type": "markdown",
   "metadata": {},
   "source": [
    "# RESNET no quantization"
   ]
  },
  {
   "cell_type": "code",
   "execution_count": 14,
   "metadata": {},
   "outputs": [
    {
     "ename": "FileNotFoundError",
     "evalue": "[Errno 2] No such file or directory: '../saved_models/resnet18_cifar10_92-5.pt'",
     "output_type": "error",
     "traceback": [
      "\u001b[0;31m---------------------------------------------------------------------------\u001b[0m",
      "\u001b[0;31mFileNotFoundError\u001b[0m                         Traceback (most recent call last)",
      "Cell \u001b[0;32mIn[14], line 4\u001b[0m\n\u001b[1;32m      1\u001b[0m \u001b[39m# Test the model\u001b[39;00m\n\u001b[1;32m      3\u001b[0m model \u001b[39m=\u001b[39m ResNet18()\n\u001b[0;32m----> 4\u001b[0m load_model(model, \u001b[39m'\u001b[39;49m\u001b[39m../saved_models/resnet18_cifar10_92-5.pt\u001b[39;49m\u001b[39m'\u001b[39;49m, device)\n\u001b[1;32m      6\u001b[0m loss, acc \u001b[39m=\u001b[39m evaluate_model(model, test_loader, device,)\n\u001b[1;32m      7\u001b[0m \u001b[39mprint\u001b[39m(\u001b[39mf\u001b[39m\u001b[39m'\u001b[39m\u001b[39mLoss: \u001b[39m\u001b[39m{\u001b[39;00mloss\u001b[39m}\u001b[39;00m\u001b[39m, Accuracy: \u001b[39m\u001b[39m{\u001b[39;00macc\u001b[39m*\u001b[39m\u001b[39m100\u001b[39m\u001b[39m}\u001b[39;00m\u001b[39m%\u001b[39m\u001b[39m'\u001b[39m)\n",
      "File \u001b[0;32m~/FedLearning/fedlern/train_utils.py:189\u001b[0m, in \u001b[0;36mload_model\u001b[0;34m(model, model_filepath, device)\u001b[0m\n\u001b[1;32m    187\u001b[0m \u001b[39mdef\u001b[39;00m \u001b[39mload_model\u001b[39m(model, model_filepath, device):\n\u001b[0;32m--> 189\u001b[0m     model\u001b[39m.\u001b[39mload_state_dict(torch\u001b[39m.\u001b[39;49mload(model_filepath, map_location\u001b[39m=\u001b[39;49mdevice))\n\u001b[1;32m    191\u001b[0m     \u001b[39mreturn\u001b[39;00m model\n",
      "File \u001b[0;32m~/.local/lib/python3.8/site-packages/torch/serialization.py:791\u001b[0m, in \u001b[0;36mload\u001b[0;34m(f, map_location, pickle_module, weights_only, **pickle_load_args)\u001b[0m\n\u001b[1;32m    788\u001b[0m \u001b[39mif\u001b[39;00m \u001b[39m'\u001b[39m\u001b[39mencoding\u001b[39m\u001b[39m'\u001b[39m \u001b[39mnot\u001b[39;00m \u001b[39min\u001b[39;00m pickle_load_args\u001b[39m.\u001b[39mkeys():\n\u001b[1;32m    789\u001b[0m     pickle_load_args[\u001b[39m'\u001b[39m\u001b[39mencoding\u001b[39m\u001b[39m'\u001b[39m] \u001b[39m=\u001b[39m \u001b[39m'\u001b[39m\u001b[39mutf-8\u001b[39m\u001b[39m'\u001b[39m\n\u001b[0;32m--> 791\u001b[0m \u001b[39mwith\u001b[39;00m _open_file_like(f, \u001b[39m'\u001b[39;49m\u001b[39mrb\u001b[39;49m\u001b[39m'\u001b[39;49m) \u001b[39mas\u001b[39;00m opened_file:\n\u001b[1;32m    792\u001b[0m     \u001b[39mif\u001b[39;00m _is_zipfile(opened_file):\n\u001b[1;32m    793\u001b[0m         \u001b[39m# The zipfile reader is going to advance the current file position.\u001b[39;00m\n\u001b[1;32m    794\u001b[0m         \u001b[39m# If we want to actually tail call to torch.jit.load, we need to\u001b[39;00m\n\u001b[1;32m    795\u001b[0m         \u001b[39m# reset back to the original position.\u001b[39;00m\n\u001b[1;32m    796\u001b[0m         orig_position \u001b[39m=\u001b[39m opened_file\u001b[39m.\u001b[39mtell()\n",
      "File \u001b[0;32m~/.local/lib/python3.8/site-packages/torch/serialization.py:271\u001b[0m, in \u001b[0;36m_open_file_like\u001b[0;34m(name_or_buffer, mode)\u001b[0m\n\u001b[1;32m    269\u001b[0m \u001b[39mdef\u001b[39;00m \u001b[39m_open_file_like\u001b[39m(name_or_buffer, mode):\n\u001b[1;32m    270\u001b[0m     \u001b[39mif\u001b[39;00m _is_path(name_or_buffer):\n\u001b[0;32m--> 271\u001b[0m         \u001b[39mreturn\u001b[39;00m _open_file(name_or_buffer, mode)\n\u001b[1;32m    272\u001b[0m     \u001b[39melse\u001b[39;00m:\n\u001b[1;32m    273\u001b[0m         \u001b[39mif\u001b[39;00m \u001b[39m'\u001b[39m\u001b[39mw\u001b[39m\u001b[39m'\u001b[39m \u001b[39min\u001b[39;00m mode:\n",
      "File \u001b[0;32m~/.local/lib/python3.8/site-packages/torch/serialization.py:252\u001b[0m, in \u001b[0;36m_open_file.__init__\u001b[0;34m(self, name, mode)\u001b[0m\n\u001b[1;32m    251\u001b[0m \u001b[39mdef\u001b[39;00m \u001b[39m__init__\u001b[39m(\u001b[39mself\u001b[39m, name, mode):\n\u001b[0;32m--> 252\u001b[0m     \u001b[39msuper\u001b[39m()\u001b[39m.\u001b[39m\u001b[39m__init__\u001b[39m(\u001b[39mopen\u001b[39;49m(name, mode))\n",
      "\u001b[0;31mFileNotFoundError\u001b[0m: [Errno 2] No such file or directory: '../saved_models/resnet18_cifar10_92-5.pt'"
     ]
    }
   ],
   "source": [
    "# Test the model\n",
    "\n",
    "model = ResNet18()\n",
    "load_model(model, '../saved_models/resnet18_cifar10_92-5.pt', device)\n",
    "\n",
    "loss, acc = evaluate_model(model, test_loader, device,)\n",
    "print(f'Loss: {loss}, Accuracy: {acc*100}%')\n",
    "print_model_size(model)\n",
    "\n",
    "\n",
    "fp32_cpu_inference_latency = measure_inference_latency(model=model, device=cpu_device, input_size=(1,3,32,32), num_samples=100)\n",
    "fp32_gpu_inference_latency = measure_inference_latency(model=model, device=cuda_device, input_size=(1,3,32,32), num_samples=100)\n",
    "print(\"FP32 CPU Inference Latency: {:.2f} ms / sample\".format(fp32_cpu_inference_latency * 1000))\n",
    "print(\"FP32 CUDA Inference Latency: {:.2f} ms / sample\".format(fp32_gpu_inference_latency * 1000))\n",
    "\n",
    "\n"
   ]
  },
  {
   "cell_type": "code",
   "execution_count": 27,
   "metadata": {},
   "outputs": [
    {
     "name": "stdout",
     "output_type": "stream",
     "text": [
      "Loss: 0.0, Accuracy: 92.24999237060547%\n",
      "44.77 MB\n",
      "FP32 CPU Inference Latency: 7.22 ms / sample\n",
      "FP32 CUDA Inference Latency: 5.40 ms / sample\n"
     ]
    }
   ],
   "source": [
    "# Load the model\n",
    "model = ResNet18()\n",
    "load_model(model, '../saved_models/resnet18_cifar10_92-2.pt', device)\n",
    "\n",
    "# Test the model\n",
    "loss, acc = evaluate_model(model, test_loader, device,)\n",
    "print(f'Loss: {loss}, Accuracy: {acc*100}%')\n",
    "print_model_size(model)\n",
    "\n",
    "# Measure inference latency\n",
    "fp32_cpu_inference_latency = measure_inference_latency(model=model, device=cpu_device, input_size=(1,3,32,32), num_samples=100)\n",
    "fp32_gpu_inference_latency = measure_inference_latency(model=model, device=cuda_device, input_size=(1,3,32,32), num_samples=100)\n",
    "print(\"FP32 CPU Inference Latency: {:.2f} ms / sample\".format(fp32_cpu_inference_latency * 1000))\n",
    "print(\"FP32 CUDA Inference Latency: {:.2f} ms / sample\".format(fp32_gpu_inference_latency * 1000))\n"
   ]
  },
  {
   "cell_type": "code",
   "execution_count": 8,
   "metadata": {},
   "outputs": [
    {
     "name": "stdout",
     "output_type": "stream",
     "text": [
      "Loss: 0.0, Accuracy: 81.02999877929688%\n",
      "44.77 MB\n",
      "CPU Inference Latency: 9.04 ms / sample\n",
      "CUDA Inference Latency: 2.93 ms / sample\n"
     ]
    }
   ],
   "source": [
    "# Load the model\n",
    "model = ResNet18()\n",
    "load_model(model, '../saved_models/resnet_fedlern_dyn851bits_2023-08-25_15-32.pth', device)\n",
    "\n",
    "# Test the model\n",
    "loss, acc = evaluate_model(model, test_loader, device,)\n",
    "print(f'Loss: {loss}, Accuracy: {acc*100}%')\n",
    "print_model_size(model)\n",
    "\n",
    "# Measure inference latency\n",
    "fp32_cpu_inference_latency = measure_inference_latency(model=model, device=cpu_device, input_size=(1,3,32,32), num_samples=100)\n",
    "fp32_gpu_inference_latency = measure_inference_latency(model=model, device=cuda_device, input_size=(1,3,32,32), num_samples=100)\n",
    "print(\"CPU Inference Latency: {:.2f} ms / sample\".format(fp32_cpu_inference_latency * 1000))\n",
    "print(\"CUDA Inference Latency: {:.2f} ms / sample\".format(fp32_gpu_inference_latency * 1000))\n"
   ]
  },
  {
   "attachments": {},
   "cell_type": "markdown",
   "metadata": {},
   "source": [
    "# RESNET Quantization 4 bits"
   ]
  },
  {
   "cell_type": "code",
   "execution_count": 29,
   "metadata": {},
   "outputs": [
    {
     "name": "stdout",
     "output_type": "stream",
     "text": [
      "Loss: 0.0, Accuracy: 83.5199966430664%\n",
      "44.77 MB\n",
      "CPU Inference Latency: 7.00 ms / sample\n",
      "CUDA Inference Latency: 5.32 ms / sample\n"
     ]
    }
   ],
   "source": [
    "# Load the model\n",
    "model = ResNet18()\n",
    "load_model(model, '../saved_models/resnet_4bits_2023-06-29_22-17.pth', device)\n",
    "\n",
    "# Test the model\n",
    "loss, acc = evaluate_model(model, test_loader, device,)\n",
    "print(f'Loss: {loss}, Accuracy: {acc*100}%')\n",
    "print_model_size(model)\n",
    "\n",
    "# Measure inference latency\n",
    "cpu_inference_latency = measure_inference_latency(model=model, device=cpu_device, input_size=(1,3,32,32), num_samples=100)\n",
    "gpu_inference_latency = measure_inference_latency(model=model, device=cuda_device, input_size=(1,3,32,32), num_samples=100)\n",
    "print(\"CPU Inference Latency: {:.2f} ms / sample\".format(cpu_inference_latency * 1000))\n",
    "print(\"CUDA Inference Latency: {:.2f} ms / sample\".format(gpu_inference_latency * 1000))"
   ]
  },
  {
   "attachments": {},
   "cell_type": "markdown",
   "metadata": {},
   "source": [
    "# Quantization 8 bits"
   ]
  },
  {
   "cell_type": "code",
   "execution_count": 30,
   "metadata": {},
   "outputs": [
    {
     "name": "stdout",
     "output_type": "stream",
     "text": [
      "Loss: 0.0, Accuracy: 81.16999816894531%\n",
      "44.77 MB\n",
      "CPU Inference Latency: 7.01 ms / sample\n",
      "CUDA Inference Latency: 4.90 ms / sample\n"
     ]
    }
   ],
   "source": [
    "# Load the model\n",
    "model = ResNet18()\n",
    "load_model(model, '../saved_models/resnet_8bits_2023-06-30_05-04.pth', device)\n",
    "\n",
    "# Test the model\n",
    "loss, acc = evaluate_model(model, test_loader, device,)\n",
    "print(f'Loss: {loss}, Accuracy: {acc*100}%')\n",
    "print_model_size(model)\n",
    "\n",
    "# Measure inference latency\n",
    "cpu_inference_latency = measure_inference_latency(model=model, device=cpu_device, input_size=(1,3,32,32), num_samples=100)\n",
    "gpu_inference_latency = measure_inference_latency(model=model, device=cuda_device, input_size=(1,3,32,32), num_samples=100)\n",
    "print(\"CPU Inference Latency: {:.2f} ms / sample\".format(cpu_inference_latency * 1000))\n",
    "print(\"CUDA Inference Latency: {:.2f} ms / sample\".format(gpu_inference_latency * 1000))"
   ]
  },
  {
   "cell_type": "code",
   "execution_count": 36,
   "metadata": {},
   "outputs": [
    {
     "name": "stdout",
     "output_type": "stream",
     "text": [
      "Loss: 0.0, Accuracy: 83.0199966430664%\n",
      "44.77 MB\n",
      "CPU Inference Latency: 6.21 ms / sample\n",
      "CUDA Inference Latency: 5.09 ms / sample\n"
     ]
    }
   ],
   "source": [
    "# Load the model\n",
    "model = ResNet18()\n",
    "load_model(model, '../saved_models/resnet_8bits_2023-06-30_00-45.pth', device)\n",
    "\n",
    "# Test the model\n",
    "loss, acc = evaluate_model(model, test_loader, device,)\n",
    "print(f'Loss: {loss}, Accuracy: {acc*100}%')\n",
    "print_model_size(model)\n",
    "\n",
    "# Measure inference latency\n",
    "cpu_inference_latency = measure_inference_latency(model=model, device=cpu_device, input_size=(1,3,32,32), num_samples=100)\n",
    "gpu_inference_latency = measure_inference_latency(model=model, device=cuda_device, input_size=(1,3,32,32), num_samples=100)\n",
    "print(\"CPU Inference Latency: {:.2f} ms / sample\".format(cpu_inference_latency * 1000))\n",
    "print(\"CUDA Inference Latency: {:.2f} ms / sample\".format(gpu_inference_latency * 1000))"
   ]
  },
  {
   "attachments": {},
   "cell_type": "markdown",
   "metadata": {},
   "source": [
    "# Quantization 16 bits"
   ]
  },
  {
   "cell_type": "code",
   "execution_count": 23,
   "metadata": {},
   "outputs": [
    {
     "name": "stdout",
     "output_type": "stream",
     "text": [
      "Loss: 0.0, Accuracy: 34.369998931884766%\n",
      "44.77 MB\n",
      "CPU Inference Latency: 7.55 ms / sample\n",
      "CUDA Inference Latency: 2.77 ms / sample\n"
     ]
    }
   ],
   "source": [
    "# Load the model\n",
    "model = ResNet18()\n",
    "load_model(model, '/home/isaac/FedLearning/saved_models/resnet_fedlern_3bits_2023-06-26_01-49.pth', device)\n",
    "\n",
    "# Test the model\n",
    "loss, acc = evaluate_model(model, test_loader, device,)\n",
    "print(f'Loss: {loss}, Accuracy: {acc*100}%')\n",
    "print_model_size(model)\n",
    "\n",
    "# Measure inference latency\n",
    "cpu_inference_latency = measure_inference_latency(model=model, device=cpu_device, input_size=(1,3,32,32), num_samples=100)\n",
    "gpu_inference_latency = measure_inference_latency(model=model, device=cuda_device, input_size=(1,3,32,32), num_samples=100)\n",
    "print(\"CPU Inference Latency: {:.2f} ms / sample\".format(cpu_inference_latency * 1000))\n",
    "print(\"CUDA Inference Latency: {:.2f} ms / sample\".format(gpu_inference_latency * 1000))"
   ]
  },
  {
   "cell_type": "code",
   "execution_count": 45,
   "metadata": {},
   "outputs": [
    {
     "name": "stdout",
     "output_type": "stream",
     "text": [
      "Conv2d 0: 1728\n",
      "Conv2d 1: 36864\n",
      "Conv2d 2: 36864\n",
      "Conv2d 3: 36864\n",
      "Conv2d 4: 36864\n",
      "Conv2d 5: 73728\n",
      "Conv2d 6: 147456\n",
      "Conv2d 7: 8192\n",
      "Conv2d 8: 147456\n",
      "Conv2d 9: 147456\n",
      "Conv2d 10: 294912\n",
      "Conv2d 11: 589824\n",
      "Conv2d 12: 32768\n",
      "Conv2d 13: 589824\n",
      "Conv2d 14: 589824\n",
      "Conv2d 15: 1179648\n",
      "Conv2d 16: 2359296\n",
      "Conv2d 17: 131072\n",
      "Conv2d 18: 2359296\n",
      "Conv2d 19: 2359296\n"
     ]
    }
   ],
   "source": [
    "i = 0\n",
    "for module in model.modules():\n",
    "    conv_parameters = 0\n",
    "    if isinstance(module, nn.Conv2d):\n",
    "    #3print(module._get_name())\n",
    "        conv_parameters += sum(p.numel() for p in module.parameters())\n",
    "        print(f'{module._get_name()} {i}: {conv_parameters} {module.pa}')\n",
    "        i += 1"
   ]
  },
  {
   "cell_type": "code",
   "execution_count": 36,
   "metadata": {},
   "outputs": [
    {
     "name": "stdout",
     "output_type": "stream",
     "text": [
      "17\n"
     ]
    }
   ],
   "source": [
    "def get_model_dict(model):\n",
    "    return model.state_dict().copy()\n",
    "dicta = get_model_dict(model)\n",
    "j = 0\n",
    "for key in dicta:\n",
    "    # if 'weight' in key:\n",
    "    #     print(key)\n",
    "        \n",
    "    if 'conv' in key:\n",
    "        j +=1\n",
    "\n",
    "print(j)"
   ]
  },
  {
   "cell_type": "code",
   "execution_count": 44,
   "metadata": {},
   "outputs": [
    {
     "name": "stdout",
     "output_type": "stream",
     "text": [
      "120\n"
     ]
    },
    {
     "data": {
      "text/plain": [
       "16"
      ]
     },
     "execution_count": 44,
     "metadata": {},
     "output_type": "execute_result"
    }
   ],
   "source": [
    "a = torch.randn(1, 2, 3, 4, 5)\n",
    "print(torch.numel(a))\n",
    "a = torch.zeros(4,4)\n",
    "torch.numel(a)"
   ]
  },
  {
   "cell_type": "code",
   "execution_count": 48,
   "metadata": {},
   "outputs": [
    {
     "name": "stdout",
     "output_type": "stream",
     "text": [
      "1728\n",
      "36864\n",
      "36864\n",
      "36864\n",
      "36864\n",
      "73728\n",
      "147456\n",
      "8192\n",
      "147456\n",
      "147456\n",
      "294912\n",
      "589824\n",
      "32768\n",
      "589824\n",
      "589824\n",
      "1179648\n",
      "2359296\n",
      "131072\n",
      "2359296\n",
      "2359296\n"
     ]
    }
   ],
   "source": [
    "i = 0\n",
    "for module in model.modules():\n",
    "    conv_parameters = 0\n",
    "    if isinstance(module, nn.Conv2d):\n",
    "    #3print(module._get_name())\n",
    "        for p in module.parameters():\n",
    "            print(p.numel())\n",
    "        \n",
    "        i += 1"
   ]
  },
  {
   "cell_type": "code",
   "execution_count": 37,
   "metadata": {},
   "outputs": [
    {
     "name": "stdout",
     "output_type": "stream",
     "text": [
      "conv1 True\n",
      "layer1.0.conv1 True\n",
      "layer1.0.conv2 True\n",
      "layer1.1.conv1 True\n",
      "layer1.1.conv2 True\n",
      "layer2.0.conv1 True\n",
      "layer2.0.conv2 True\n",
      "layer2.1.conv1 True\n",
      "layer2.1.conv2 True\n",
      "layer3.0.conv1 True\n",
      "layer3.0.conv2 True\n",
      "layer3.1.conv1 True\n",
      "layer3.1.conv2 True\n",
      "layer4.0.conv1 True\n",
      "layer4.0.conv2 True\n",
      "layer4.1.conv1 True\n",
      "layer4.1.conv2 True\n",
      "17\n"
     ]
    }
   ],
   "source": [
    "k =0\n",
    "for name, module in model.named_modules():\n",
    "    if 'conv' in name:\n",
    "        print(name, isinstance(module, nn.Conv2d))\n",
    "        k+=1\n",
    "print(k)"
   ]
  },
  {
   "cell_type": "code",
   "execution_count": 42,
   "metadata": {},
   "outputs": [
    {
     "name": "stdout",
     "output_type": "stream",
     "text": [
      "conv1\n",
      "<generator object Module.parameters at 0x7f9b1698e5f0>\n",
      "layer1.0.conv1\n",
      "<generator object Module.parameters at 0x7f9b0b1d4f90>\n",
      "layer1.0.conv2\n",
      "<generator object Module.parameters at 0x7f9b0b1d4cf0>\n",
      "layer1.1.conv1\n",
      "<generator object Module.parameters at 0x7f9b0b1d4c10>\n",
      "layer1.1.conv2\n",
      "<generator object Module.parameters at 0x7f9b0b1d4c10>\n",
      "layer2.0.conv1\n",
      "<generator object Module.parameters at 0x7f9b0b1d4b30>\n",
      "layer2.0.conv2\n",
      "<generator object Module.parameters at 0x7f9b0b1d4b30>\n",
      "layer2.0.shortcut.0\n",
      "<generator object Module.parameters at 0x7f9b0b1d46d0>\n",
      "layer2.1.conv1\n",
      "<generator object Module.parameters at 0x7f9b0b1d4b30>\n",
      "layer2.1.conv2\n",
      "<generator object Module.parameters at 0x7f9b0b1d4b30>\n",
      "layer3.0.conv1\n",
      "<generator object Module.parameters at 0x7f9b0b1d4b30>\n",
      "layer3.0.conv2\n",
      "<generator object Module.parameters at 0x7f9b0b1d4b30>\n",
      "layer3.0.shortcut.0\n",
      "<generator object Module.parameters at 0x7f9b0b1d4580>\n",
      "layer3.1.conv1\n",
      "<generator object Module.parameters at 0x7f9b0b1d4b30>\n",
      "layer3.1.conv2\n",
      "<generator object Module.parameters at 0x7f9b0b1d4b30>\n",
      "layer4.0.conv1\n",
      "<generator object Module.parameters at 0x7f9b0b1d4b30>\n",
      "layer4.0.conv2\n",
      "<generator object Module.parameters at 0x7f9b0b1d4b30>\n",
      "layer4.0.shortcut.0\n",
      "<generator object Module.parameters at 0x7f9b0cf9ddd0>\n",
      "layer4.1.conv1\n",
      "<generator object Module.parameters at 0x7f9b0b1d4b30>\n",
      "layer4.1.conv2\n",
      "<generator object Module.parameters at 0x7f9b0b1d4b30>\n",
      "20\n"
     ]
    }
   ],
   "source": [
    "k =0\n",
    "for name, module in model.named_modules():\n",
    "    if isinstance(module, nn.Conv2d):\n",
    "        print(name)\n",
    "        print(module.parameters())\n",
    "        k+=1\n",
    "print(k)"
   ]
  },
  {
   "cell_type": "code",
   "execution_count": 25,
   "metadata": {},
   "outputs": [
    {
     "name": "stdout",
     "output_type": "stream",
     "text": [
      "Files already downloaded and verified\n"
     ]
    },
    {
     "name": "stderr",
     "output_type": "stream",
     "text": [
      "Clipping input data to the valid range for imshow with RGB data ([0..1] for floats or [0..255] for integers).\n"
     ]
    },
    {
     "name": "stdout",
     "output_type": "stream",
     "text": [
      "Correct Label:  frog\n",
      "Predicted Label:  deer\n"
     ]
    },
    {
     "data": {
      "image/png": "[encoded data removed]",
      "text/plain": [
       "<Figure size 640x480 with 1 Axes>"
      ]
     },
     "metadata": {},
     "output_type": "display_data"
    }
   ],
   "source": [
    "import matplotlib.pyplot as plt\n",
    "\n",
    "# Step 1: Load CIFAR-10 dataset and extract an element\n",
    "transform = transforms.Compose([transforms.ToTensor(),\n",
    "                                transforms.Normalize(*stats)])\n",
    "testset = torchvision.datasets.CIFAR10(root='./data', train=False, download=True, transform=transform)\n",
    "testloader = torch.utils.data.DataLoader(testset, batch_size=1, shuffle=True)\n",
    "\n",
    "\n",
    "\n",
    "# Step 4: Pass the data through the model to get predictions\n",
    "with torch.no_grad():\n",
    "    for images, labels in testloader:\n",
    "        outputs = model(images.to(device))\n",
    "        s, predicted = torch.max(outputs, 1)\n",
    "        break  # Stop after processing one example\n",
    "\n",
    "# Step 5: Compare the correct label with the predicted label\n",
    "predicted_class = predicted.item()\n",
    "correct_class = labels.item()\n",
    "\n",
    "# Step 6: Print the results\n",
    "class_names = ['airplane', 'automobile', 'bird', 'cat', 'deer', 'dog', 'frog', 'horse', 'ship', 'truck']\n",
    "\n",
    "print(\"Correct Label: \", class_names[correct_class])\n",
    "print(\"Predicted Label: \", class_names[predicted_class])\n",
    "\n",
    "# Step 7: Plot the image\n",
    "def imshow(img):\n",
    "    img = img / 2 + 0.5  # Unnormalize the image\n",
    "    npimg = img.numpy()\n",
    "    plt.imshow(np.transpose(npimg, (1, 2, 0)))\n",
    "    plt.axis('off')\n",
    "    plt.show()\n",
    "\n",
    "# Plot the test image\n",
    "imshow(images[0])\n"
   ]
  }
 ],
 "metadata": {
  "kernelspec": {
   "display_name": "Python 3",
   "language": "python",
   "name": "python3"
  },
  "language_info": {
   "codemirror_mode": {
    "name": "ipython",
    "version": 3
   },
   "file_extension": ".py",
   "mimetype": "text/x-python",
   "name": "python",
   "nbconvert_exporter": "python",
   "pygments_lexer": "ipython3",
   "version": "3.8.0"
  },
  "orig_nbformat": 4
 },
 "nbformat": 4,
 "nbformat_minor": 2
}
