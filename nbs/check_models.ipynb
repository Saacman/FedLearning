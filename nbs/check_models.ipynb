{
 "cells": [
  {
   "attachments": {},
   "cell_type": "markdown",
   "metadata": {},
   "source": []
  },
  {
   "cell_type": "code",
   "execution_count": 2,
   "metadata": {},
   "outputs": [],
   "source": [
    "import torch\n",
    "import torchvision.datasets as datasets\n",
    "import torchvision.transforms as transforms\n",
    "from torch.utils.data import DataLoader\n",
    "from fedlern.models.mlp import MLP\n",
    "from fedlern.models.resnet_v2 import ResNet18\n",
    "from fedlern.train_utils import *\n",
    "from fedlern.quant_utils import *\n",
    "import fedlern.utils as utils\n",
    "import torch.nn.functional as F"
   ]
  },
  {
   "cell_type": "code",
   "execution_count": 3,
   "metadata": {},
   "outputs": [],
   "source": [
    "# Device configuration\n",
    "device = torch.device('cuda' if torch.cuda.is_available() else 'cpu')\n",
    "cuda_device = torch.device(\"cuda:0\")\n",
    "cpu_device = torch.device(\"cpu:0\")\n",
    "\n",
    "#stats = ((0.4914, 0.4822, 0.4465), (0.2023, 0.1994, 0.2010))\n",
    "stats = (0.49139968, 0.48215841, 0.44653091), (0.24703223, 0.24348513, 0.26158784)\n",
    "batch_size = 1000"
   ]
  },
  {
   "cell_type": "code",
   "execution_count": 4,
   "metadata": {},
   "outputs": [
    {
     "name": "stdout",
     "output_type": "stream",
     "text": [
      "Files already downloaded and verified\n"
     ]
    }
   ],
   "source": [
    "train_loader, test_loader = prepare_dataloader_cifar(num_workers=8, train_batch_size=batch_size ,eval_batch_size=batch_size, stats=stats)\n"
   ]
  },
  {
   "attachments": {},
   "cell_type": "markdown",
   "metadata": {},
   "source": [
    "# RESNET no quantization"
   ]
  },
  {
   "cell_type": "code",
   "execution_count": 26,
   "metadata": {},
   "outputs": [
    {
     "name": "stdout",
     "output_type": "stream",
     "text": [
      "Loss: 0.0, Accuracy: 92.49999237060547%\n",
      "44.77 MB\n",
      "FP32 CPU Inference Latency: 11.95 ms / sample\n",
      "FP32 CUDA Inference Latency: 5.32 ms / sample\n"
     ]
    }
   ],
   "source": [
    "# Test the model\n",
    "\n",
    "model = ResNet18()\n",
    "load_model(model, '../saved_models/resnet18_cifar10_92-5.pt', device)\n",
    "\n",
    "loss, acc = evaluate_model(model, test_loader, device,)\n",
    "print(f'Loss: {loss}, Accuracy: {acc*100}%')\n",
    "print_model_size(model)\n",
    "\n",
    "\n",
    "fp32_cpu_inference_latency = measure_inference_latency(model=model, device=cpu_device, input_size=(1,3,32,32), num_samples=100)\n",
    "fp32_gpu_inference_latency = measure_inference_latency(model=model, device=cuda_device, input_size=(1,3,32,32), num_samples=100)\n",
    "print(\"FP32 CPU Inference Latency: {:.2f} ms / sample\".format(fp32_cpu_inference_latency * 1000))\n",
    "print(\"FP32 CUDA Inference Latency: {:.2f} ms / sample\".format(fp32_gpu_inference_latency * 1000))\n",
    "\n",
    "\n"
   ]
  },
  {
   "cell_type": "code",
   "execution_count": 27,
   "metadata": {},
   "outputs": [
    {
     "name": "stdout",
     "output_type": "stream",
     "text": [
      "Loss: 0.0, Accuracy: 92.24999237060547%\n",
      "44.77 MB\n",
      "FP32 CPU Inference Latency: 7.22 ms / sample\n",
      "FP32 CUDA Inference Latency: 5.40 ms / sample\n"
     ]
    }
   ],
   "source": [
    "# Load the model\n",
    "model = ResNet18()\n",
    "load_model(model, '../saved_models/resnet18_cifar10_92-2.pt', device)\n",
    "\n",
    "# Test the model\n",
    "loss, acc = evaluate_model(model, test_loader, device,)\n",
    "print(f'Loss: {loss}, Accuracy: {acc*100}%')\n",
    "print_model_size(model)\n",
    "\n",
    "# Measure inference latency\n",
    "fp32_cpu_inference_latency = measure_inference_latency(model=model, device=cpu_device, input_size=(1,3,32,32), num_samples=100)\n",
    "fp32_gpu_inference_latency = measure_inference_latency(model=model, device=cuda_device, input_size=(1,3,32,32), num_samples=100)\n",
    "print(\"FP32 CPU Inference Latency: {:.2f} ms / sample\".format(fp32_cpu_inference_latency * 1000))\n",
    "print(\"FP32 CUDA Inference Latency: {:.2f} ms / sample\".format(fp32_gpu_inference_latency * 1000))\n"
   ]
  },
  {
   "cell_type": "code",
   "execution_count": 8,
   "metadata": {},
   "outputs": [
    {
     "name": "stdout",
     "output_type": "stream",
     "text": [
      "Loss: 0.0, Accuracy: 81.02999877929688%\n",
      "44.77 MB\n",
      "CPU Inference Latency: 9.04 ms / sample\n",
      "CUDA Inference Latency: 2.93 ms / sample\n"
     ]
    }
   ],
   "source": [
    "# Load the model\n",
    "model = ResNet18()\n",
    "load_model(model, '../saved_models/resnet_fedlern_dyn851bits_2023-08-25_15-32.pth', device)\n",
    "\n",
    "# Test the model\n",
    "loss, acc = evaluate_model(model, test_loader, device,)\n",
    "print(f'Loss: {loss}, Accuracy: {acc*100}%')\n",
    "print_model_size(model)\n",
    "\n",
    "# Measure inference latency\n",
    "fp32_cpu_inference_latency = measure_inference_latency(model=model, device=cpu_device, input_size=(1,3,32,32), num_samples=100)\n",
    "fp32_gpu_inference_latency = measure_inference_latency(model=model, device=cuda_device, input_size=(1,3,32,32), num_samples=100)\n",
    "print(\"CPU Inference Latency: {:.2f} ms / sample\".format(fp32_cpu_inference_latency * 1000))\n",
    "print(\"CUDA Inference Latency: {:.2f} ms / sample\".format(fp32_gpu_inference_latency * 1000))\n"
   ]
  },
  {
   "attachments": {},
   "cell_type": "markdown",
   "metadata": {},
   "source": [
    "# RESNET Quantization 4 bits"
   ]
  },
  {
   "cell_type": "code",
   "execution_count": 29,
   "metadata": {},
   "outputs": [
    {
     "name": "stdout",
     "output_type": "stream",
     "text": [
      "Loss: 0.0, Accuracy: 83.5199966430664%\n",
      "44.77 MB\n",
      "CPU Inference Latency: 7.00 ms / sample\n",
      "CUDA Inference Latency: 5.32 ms / sample\n"
     ]
    }
   ],
   "source": [
    "# Load the model\n",
    "model = ResNet18()\n",
    "load_model(model, '../saved_models/resnet_4bits_2023-06-29_22-17.pth', device)\n",
    "\n",
    "# Test the model\n",
    "loss, acc = evaluate_model(model, test_loader, device,)\n",
    "print(f'Loss: {loss}, Accuracy: {acc*100}%')\n",
    "print_model_size(model)\n",
    "\n",
    "# Measure inference latency\n",
    "cpu_inference_latency = measure_inference_latency(model=model, device=cpu_device, input_size=(1,3,32,32), num_samples=100)\n",
    "gpu_inference_latency = measure_inference_latency(model=model, device=cuda_device, input_size=(1,3,32,32), num_samples=100)\n",
    "print(\"CPU Inference Latency: {:.2f} ms / sample\".format(cpu_inference_latency * 1000))\n",
    "print(\"CUDA Inference Latency: {:.2f} ms / sample\".format(gpu_inference_latency * 1000))"
   ]
  },
  {
   "attachments": {},
   "cell_type": "markdown",
   "metadata": {},
   "source": [
    "# Quantization 8 bits"
   ]
  },
  {
   "cell_type": "code",
   "execution_count": 30,
   "metadata": {},
   "outputs": [
    {
     "name": "stdout",
     "output_type": "stream",
     "text": [
      "Loss: 0.0, Accuracy: 81.16999816894531%\n",
      "44.77 MB\n",
      "CPU Inference Latency: 7.01 ms / sample\n",
      "CUDA Inference Latency: 4.90 ms / sample\n"
     ]
    }
   ],
   "source": [
    "# Load the model\n",
    "model = ResNet18()\n",
    "load_model(model, '../saved_models/resnet_8bits_2023-06-30_05-04.pth', device)\n",
    "\n",
    "# Test the model\n",
    "loss, acc = evaluate_model(model, test_loader, device,)\n",
    "print(f'Loss: {loss}, Accuracy: {acc*100}%')\n",
    "print_model_size(model)\n",
    "\n",
    "# Measure inference latency\n",
    "cpu_inference_latency = measure_inference_latency(model=model, device=cpu_device, input_size=(1,3,32,32), num_samples=100)\n",
    "gpu_inference_latency = measure_inference_latency(model=model, device=cuda_device, input_size=(1,3,32,32), num_samples=100)\n",
    "print(\"CPU Inference Latency: {:.2f} ms / sample\".format(cpu_inference_latency * 1000))\n",
    "print(\"CUDA Inference Latency: {:.2f} ms / sample\".format(gpu_inference_latency * 1000))"
   ]
  },
  {
   "cell_type": "code",
   "execution_count": 36,
   "metadata": {},
   "outputs": [
    {
     "name": "stdout",
     "output_type": "stream",
     "text": [
      "Loss: 0.0, Accuracy: 83.0199966430664%\n",
      "44.77 MB\n",
      "CPU Inference Latency: 6.21 ms / sample\n",
      "CUDA Inference Latency: 5.09 ms / sample\n"
     ]
    }
   ],
   "source": [
    "# Load the model\n",
    "model = ResNet18()\n",
    "load_model(model, '../saved_models/resnet_8bits_2023-06-30_00-45.pth', device)\n",
    "\n",
    "# Test the model\n",
    "loss, acc = evaluate_model(model, test_loader, device,)\n",
    "print(f'Loss: {loss}, Accuracy: {acc*100}%')\n",
    "print_model_size(model)\n",
    "\n",
    "# Measure inference latency\n",
    "cpu_inference_latency = measure_inference_latency(model=model, device=cpu_device, input_size=(1,3,32,32), num_samples=100)\n",
    "gpu_inference_latency = measure_inference_latency(model=model, device=cuda_device, input_size=(1,3,32,32), num_samples=100)\n",
    "print(\"CPU Inference Latency: {:.2f} ms / sample\".format(cpu_inference_latency * 1000))\n",
    "print(\"CUDA Inference Latency: {:.2f} ms / sample\".format(gpu_inference_latency * 1000))"
   ]
  },
  {
   "attachments": {},
   "cell_type": "markdown",
   "metadata": {},
   "source": [
    "# Quantization 16 bits"
   ]
  },
  {
   "cell_type": "code",
   "execution_count": 10,
   "metadata": {},
   "outputs": [
    {
     "name": "stdout",
     "output_type": "stream",
     "text": [
      "Loss: 0.0, Accuracy: 84.44000244140625%\n",
      "44.77 MB\n",
      "CPU Inference Latency: 9.97 ms / sample\n",
      "CUDA Inference Latency: 2.93 ms / sample\n"
     ]
    }
   ],
   "source": [
    "# Load the model\n",
    "model = ResNet18()\n",
    "load_model(model, '../saved_models/resnet_fedlern_16bits_2023-07-26_21-20.pth', device)\n",
    "\n",
    "# Test the model\n",
    "loss, acc = evaluate_model(model, test_loader, device,)\n",
    "print(f'Loss: {loss}, Accuracy: {acc*100}%')\n",
    "print_model_size(model)\n",
    "\n",
    "# Measure inference latency\n",
    "cpu_inference_latency = measure_inference_latency(model=model, device=cpu_device, input_size=(1,3,32,32), num_samples=100)\n",
    "gpu_inference_latency = measure_inference_latency(model=model, device=cuda_device, input_size=(1,3,32,32), num_samples=100)\n",
    "print(\"CPU Inference Latency: {:.2f} ms / sample\".format(cpu_inference_latency * 1000))\n",
    "print(\"CUDA Inference Latency: {:.2f} ms / sample\".format(gpu_inference_latency * 1000))"
   ]
  },
  {
   "cell_type": "code",
   "execution_count": 50,
   "metadata": {},
   "outputs": [
    {
     "name": "stdout",
     "output_type": "stream",
     "text": [
      "Files already downloaded and verified\n"
     ]
    },
    {
     "name": "stderr",
     "output_type": "stream",
     "text": [
      "Clipping input data to the valid range for imshow with RGB data ([0..1] for floats or [0..255] for integers).\n"
     ]
    },
    {
     "name": "stdout",
     "output_type": "stream",
     "text": [
      "Correct Label:  cat\n",
      "Predicted Label:  cat\n"
     ]
    },
    {
     "data": {
      "image/png": "[encoded data removed]",
      "text/plain": [
       "<Figure size 640x480 with 1 Axes>"
      ]
     },
     "metadata": {},
     "output_type": "display_data"
    }
   ],
   "source": [
    "import matplotlib.pyplot as plt\n",
    "\n",
    "# Step 1: Load CIFAR-10 dataset and extract an element\n",
    "transform = transforms.Compose([transforms.ToTensor(),\n",
    "                                transforms.Normalize(*stats)])\n",
    "testset = torchvision.datasets.CIFAR10(root='./data', train=False, download=True, transform=transform)\n",
    "testloader = torch.utils.data.DataLoader(testset, batch_size=1, shuffle=True)\n",
    "\n",
    "\n",
    "\n",
    "# Step 4: Pass the data through the model to get predictions\n",
    "with torch.no_grad():\n",
    "    for images, labels in testloader:\n",
    "        outputs = model(images.to(device))\n",
    "        s, predicted = torch.max(outputs, 1)\n",
    "        break  # Stop after processing one example\n",
    "\n",
    "# Step 5: Compare the correct label with the predicted label\n",
    "predicted_class = predicted.item()\n",
    "correct_class = labels.item()\n",
    "\n",
    "# Step 6: Print the results\n",
    "class_names = ['airplane', 'automobile', 'bird', 'cat', 'deer', 'dog', 'frog', 'horse', 'ship', 'truck']\n",
    "\n",
    "print(\"Correct Label: \", class_names[correct_class])\n",
    "print(\"Predicted Label: \", class_names[predicted_class])\n",
    "\n",
    "# Step 7: Plot the image\n",
    "def imshow(img):\n",
    "    img = img / 2 + 0.5  # Unnormalize the image\n",
    "    npimg = img.numpy()\n",
    "    plt.imshow(np.transpose(npimg, (1, 2, 0)))\n",
    "    plt.axis('off')\n",
    "    plt.show()\n",
    "\n",
    "# Plot the test image\n",
    "imshow(images[0])\n"
   ]
  }
 ],
 "metadata": {
  "kernelspec": {
   "display_name": "Python 3",
   "language": "python",
   "name": "python3"
  },
  "language_info": {
   "codemirror_mode": {
    "name": "ipython",
    "version": 3
   },
   "file_extension": ".py",
   "mimetype": "text/x-python",
   "name": "python",
   "nbconvert_exporter": "python",
   "pygments_lexer": "ipython3",
   "version": "3.8.0"
  },
  "orig_nbformat": 4
 },
 "nbformat": 4,
 "nbformat_minor": 2
}
