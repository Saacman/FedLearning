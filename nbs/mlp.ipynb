{
 "cells": [
  {
   "attachments": {},
   "cell_type": "markdown",
   "metadata": {},
   "source": [
    "- `torch` is the main PyTorch library.\n",
    "- `torch.nn` contains the neural network building blocks, such as layers, activation functions, loss functions, etc.\n",
    "- `torch.optim` contains the optimization algorithms for training the model.\n",
    "- `torchvision.datasets` contains the pre-built datasets, such as MNIST.\n",
    "- `torchvision.transforms` contains the image transformations, such as normalization, resizing, etc.\n",
    "- `seaborn` & `matplotlib.pyplot` are used to plot the training loss and test accuracy"
   ]
  },
  {
   "cell_type": "code",
   "execution_count": 1,
   "metadata": {},
   "outputs": [],
   "source": [
    "import torch\n",
    "import torch.nn as nn\n",
    "import torch.optim as optim\n",
    "import torchvision.datasets as datasets\n",
    "import torchvision.transforms as transforms\n",
    "\n",
    "import seaborn as sns\n",
    "import matplotlib.pyplot as plt"
   ]
  },
  {
   "attachments": {},
   "cell_type": "markdown",
   "metadata": {},
   "source": [
    "- `transforms.Compose` creates a pipeline of transformations to apply to each image in the dataset.\n",
    "- `transforms.ToTensor()` converts the image to a PyTorch tensor, which is the format required by PyTorch models.\n",
    "- `transforms.Normalize` normalizes the image with mean=0.5 and std=0.5, which helps with the convergence of the model.\n",
    "- `datasets.MNIST` loads the MNIST dataset and applies the specified transformations to each image.\n",
    "- `torch.utils.data.DataLoader` creates a data loader object to load the dataset in batches during training and testing."
   ]
  },
  {
   "cell_type": "code",
   "execution_count": 2,
   "metadata": {},
   "outputs": [
    {
     "name": "stdout",
     "output_type": "stream",
     "text": [
      "Downloading http://yann.lecun.com/exdb/mnist/train-images-idx3-ubyte.gz\n",
      "Downloading http://yann.lecun.com/exdb/mnist/train-images-idx3-ubyte.gz to data/MNIST/raw/train-images-idx3-ubyte.gz\n"
     ]
    },
    {
     "name": "stderr",
     "output_type": "stream",
     "text": [
      "100%|██████████| 9912422/9912422 [00:00<00:00, 43764413.32it/s]\n"
     ]
    },
    {
     "name": "stdout",
     "output_type": "stream",
     "text": [
      "Extracting data/MNIST/raw/train-images-idx3-ubyte.gz to data/MNIST/raw\n",
      "\n",
      "Downloading http://yann.lecun.com/exdb/mnist/train-labels-idx1-ubyte.gz\n",
      "Downloading http://yann.lecun.com/exdb/mnist/train-labels-idx1-ubyte.gz to data/MNIST/raw/train-labels-idx1-ubyte.gz\n"
     ]
    },
    {
     "name": "stderr",
     "output_type": "stream",
     "text": [
      "100%|██████████| 28881/28881 [00:00<00:00, 48493071.99it/s]"
     ]
    },
    {
     "name": "stdout",
     "output_type": "stream",
     "text": [
      "Extracting data/MNIST/raw/train-labels-idx1-ubyte.gz to data/MNIST/raw\n",
      "\n",
      "Downloading http://yann.lecun.com/exdb/mnist/t10k-images-idx3-ubyte.gz\n"
     ]
    },
    {
     "name": "stderr",
     "output_type": "stream",
     "text": [
      "\n"
     ]
    },
    {
     "name": "stdout",
     "output_type": "stream",
     "text": [
      "Downloading http://yann.lecun.com/exdb/mnist/t10k-images-idx3-ubyte.gz to data/MNIST/raw/t10k-images-idx3-ubyte.gz\n"
     ]
    },
    {
     "name": "stderr",
     "output_type": "stream",
     "text": [
      "100%|██████████| 1648877/1648877 [00:00<00:00, 19680797.82it/s]"
     ]
    },
    {
     "name": "stdout",
     "output_type": "stream",
     "text": [
      "Extracting data/MNIST/raw/t10k-images-idx3-ubyte.gz to data/MNIST/raw\n",
      "\n",
      "Downloading http://yann.lecun.com/exdb/mnist/t10k-labels-idx1-ubyte.gz\n"
     ]
    },
    {
     "name": "stderr",
     "output_type": "stream",
     "text": [
      "\n"
     ]
    },
    {
     "name": "stdout",
     "output_type": "stream",
     "text": [
      "Downloading http://yann.lecun.com/exdb/mnist/t10k-labels-idx1-ubyte.gz to data/MNIST/raw/t10k-labels-idx1-ubyte.gz\n"
     ]
    },
    {
     "name": "stderr",
     "output_type": "stream",
     "text": [
      "100%|██████████| 4542/4542 [00:00<00:00, 9212054.53it/s]\n"
     ]
    },
    {
     "name": "stdout",
     "output_type": "stream",
     "text": [
      "Extracting data/MNIST/raw/t10k-labels-idx1-ubyte.gz to data/MNIST/raw\n",
      "\n"
     ]
    }
   ],
   "source": [
    "# define transformation to apply to each image in the dataset\n",
    "transform = transforms.Compose([\n",
    "    transforms.ToTensor(), # convert the image to a PyTorch tensor\n",
    "    transforms.Normalize((0.5,), (0.5,)) # normalize the image with mean=0.5 and std=0.5\n",
    "])\n",
    "\n",
    "# load the MNIST training and testing datasets\n",
    "train_dataset = datasets.MNIST(root='data/', train=True, transform=transform, download=True)\n",
    "test_dataset = datasets.MNIST(root='data/', train=False, transform=transform, download=True)\n",
    "\n",
    "# create data loaders to load the datasets in batches during training and testing\n",
    "train_loader = torch.utils.data.DataLoader(train_dataset, batch_size=64, shuffle=True)\n",
    "test_loader = torch.utils.data.DataLoader(test_dataset, batch_size=64, shuffle=False)\n"
   ]
  },
  {
   "attachments": {},
   "cell_type": "markdown",
   "metadata": {},
   "source": [
    "- `transforms.Compose` creates a pipeline of transformations to apply to each image in the dataset.\n",
    "- `transforms.ToTensor()` converts the image to a PyTorch tensor, which is the format required by PyTorch models.\n",
    "- `transforms.Normalize` normalizes the image with mean=0.5 and std=0.5, which helps with the convergence of the model.\n",
    "- `datasets.MNIST` loads the MNIST dataset and applies the specified transformations to each image.\n",
    "- `torch.utils.data.DataLoader` creates a data loader object to load the dataset in batches during training and testing."
   ]
  },
  {
   "cell_type": "code",
   "execution_count": 3,
   "metadata": {},
   "outputs": [],
   "source": [
    "class MLP(nn.Module):\n",
    "    def __init__(self, dim_in, dim_hid1, dim_hid2, dim_out):\n",
    "        super().__init__()\n",
    "        self.fc1 = nn.Linear(dim_in, dim_hid1) # input layer (784) -> hidden layer (128)\n",
    "        self.fc2 = nn.Linear(dim_hid1, dim_hid2) # hidden layer (128) -> hidden layer (64)\n",
    "        self.fc3 = nn.Linear(dim_hid2, dim_out) # hidden layer (64) -> output layer (10)\n",
    "        self.relu = nn.ReLU() # activation function\n",
    "\n",
    "    def forward(self, x):\n",
    "        x = x.view(x.size(0), -1) # flatten the input image\n",
    "        x = self.relu(self.fc1(x)) # apply the first hidden layer and activation function\n",
    "        x = self.relu(self.fc2(x)) # apply the second hidden layer and activation function\n",
    "        x = self.fc3(x) # apply the output layer\n",
    "        return x\n"
   ]
  },
  {
   "cell_type": "code",
   "execution_count": 4,
   "metadata": {},
   "outputs": [],
   "source": [
    "class MLP2(nn.Module):\n",
    "    def __init__(self, input_size, num_layers, layers_size, output_size):\n",
    "        super().__init__()\n",
    "        self.linears = nn.ModuleList([nn.Linear(input_size, layers_size)]) # input layer\n",
    "        self.linears.extend([nn.Linear(layers_size, layers_size) for i in range(1, num_layers-1)]) # Hidden Layers\n",
    "        self.linears.append(nn.Linear(layers_size, output_size))\n",
    "        self.relu = nn.ReLU() # activation function\n",
    "\n",
    "    def forward(self, x):\n",
    "        x = x.view(x.size(0), -1) # flatten the input image\n",
    "        for layer in self.linears:\n",
    "            x = self.relu(layer(x))\n",
    "        return x\n"
   ]
  },
  {
   "attachments": {},
   "cell_type": "markdown",
   "metadata": {},
   "source": [
    "## MLP for FL\n",
    "\n",
    "This model has a flexible number of layers\n"
   ]
  },
  {
   "cell_type": "code",
   "execution_count": 5,
   "metadata": {},
   "outputs": [],
   "source": [
    "class MLP3(nn.Module):\n",
    "    def __init__(self, layers_shape):\n",
    "        super().__init__()\n",
    "        self.linears = nn.ModuleList([nn.Linear(layers_shape[i], layers_shape[i+1]) for i in range(len(layers_shape) - 1)]) # Define layers list\n",
    "        self.relu = nn.ReLU() # activation function\n",
    "        self.soft = nn.Softmax() # output function\n",
    "\n",
    "    def forward(self, x):\n",
    "        x = x.view(x.size(0), -1) # flatten the input image\n",
    "        for layer in self.linears[:-1]:\n",
    "            x = self.relu(layer(x))\n",
    "        # x = self.soft(self.linears[-1](x))\n",
    "        x = self.linears[-1](x)\n",
    "        return x"
   ]
  },
  {
   "attachments": {},
   "cell_type": "markdown",
   "metadata": {},
   "source": [
    "- `nn.Module` is the base class for all neural network modules in PyTorch.\n",
    "- `super().__init__()` initializes the base class.\n",
    "- `nn.Linear` creates a linear layer with the specified input and output sizes.\n",
    "- `nn.ReLU` creates a rectified linear activation function.\n",
    "- `forward` defines the forward pass of the model, i.e., how the input is transformed into the output."
   ]
  },
  {
   "cell_type": "code",
   "execution_count": 6,
   "metadata": {},
   "outputs": [
    {
     "name": "stdout",
     "output_type": "stream",
     "text": [
      "[784, 512, 256, 128, 64, 10]\n"
     ]
    }
   ],
   "source": [
    "# Model parameters\n",
    "parameters = [ 28 * 28, # input\n",
    "                512, 256, 128, 64,\n",
    "                10 ] #output\n",
    "# instantiate the model\n",
    "# model = MLP(din, dhid1, dhid2, dout)\n",
    "# model = MLP2(din, 5, 100, 10)\n",
    "print(parameters)\n",
    "model = MLP3(parameters)\n",
    "# define the loss function and optimizer\n",
    "criterion = nn.CrossEntropyLoss() # computes the cross-entropy loss between the predicted and true labels\n",
    "#criterion = nn.MSELoss()\n",
    "optimizer = optim.Adam(model.parameters(), lr=0.001) # performs stochastic gradient descent with adaptive learning rate\n"
   ]
  },
  {
   "cell_type": "code",
   "execution_count": 7,
   "metadata": {},
   "outputs": [
    {
     "name": "stdout",
     "output_type": "stream",
     "text": [
      "Epoch 1/10, Train Loss: 0.3622, Test Loss: 0.1834, Train Acc: 0.8857, Test Acc: 0.9429\n",
      "Epoch 2/10, Train Loss: 0.1556, Test Loss: 0.1275, Train Acc: 0.9521, Test Acc: 0.9614\n",
      "Epoch 3/10, Train Loss: 0.1185, Test Loss: 0.1117, Train Acc: 0.9643, Test Acc: 0.9643\n",
      "Epoch 4/10, Train Loss: 0.0957, Test Loss: 0.1032, Train Acc: 0.9708, Test Acc: 0.9683\n",
      "Epoch 5/10, Train Loss: 0.0810, Test Loss: 0.1134, Train Acc: 0.9751, Test Acc: 0.9658\n",
      "Epoch 6/10, Train Loss: 0.0718, Test Loss: 0.0975, Train Acc: 0.9775, Test Acc: 0.9718\n",
      "Epoch 7/10, Train Loss: 0.0632, Test Loss: 0.0761, Train Acc: 0.9802, Test Acc: 0.9769\n",
      "Epoch 8/10, Train Loss: 0.0586, Test Loss: 0.0793, Train Acc: 0.9816, Test Acc: 0.9753\n",
      "Epoch 9/10, Train Loss: 0.0505, Test Loss: 0.0881, Train Acc: 0.9840, Test Acc: 0.9757\n",
      "Epoch 10/10, Train Loss: 0.0501, Test Loss: 0.0778, Train Acc: 0.9843, Test Acc: 0.9775\n"
     ]
    }
   ],
   "source": [
    "# set the device to run the model on\n",
    "device = torch.device('cuda' if torch.cuda.is_available() else 'cpu')\n",
    "model.to(device)\n",
    "\n",
    "# set the number of epochs to train the model\n",
    "n_epochs = 10\n",
    "\n",
    "# initialize lists to store the training and testing losses and accuracies\n",
    "train_losses = []\n",
    "test_losses = []\n",
    "train_accs = []\n",
    "test_accs = []\n",
    "\n",
    "for epoch in range(n_epochs):\n",
    "    train_loss = 0\n",
    "    train_acc = 0\n",
    "    test_loss = 0\n",
    "    test_acc = 0\n",
    "\n",
    "    # train the model\n",
    "    model.train()\n",
    "    for images, labels in train_loader:\n",
    "        images, labels = images.to(device), labels.to(device)\n",
    "        optimizer.zero_grad() # reset the gradients to zero\n",
    "        output = model(images) # forward pass\n",
    "        loss = criterion(output, labels) # compute the loss\n",
    "        loss.backward() # compute the gradients\n",
    "        optimizer.step() # update the parameters\n",
    "        train_loss += loss.item() * images.size(0) # accumulate the training loss\n",
    "        _, pred = torch.max(output, 1) # get the predicted labels\n",
    "        train_acc += (torch.sum(pred == labels.data)).item() # compute the training accuracy\n",
    "\n",
    "    # test the model\n",
    "    model.eval()\n",
    "    with torch.no_grad(): # disable gradient calculation\n",
    "        for images, labels in test_loader:\n",
    "            images, labels = images.to(device), labels.to(device)\n",
    "            output = model(images) # forward pass\n",
    "            loss = criterion(output, labels) # compute the loss\n",
    "            test_loss += loss.item() * images.size(0) # accumulate the testing loss\n",
    "            _, pred = torch.max(output, 1) # get the predicted labels\n",
    "            test_acc += torch.sum(pred == labels.data).item() # compute the testing accuracy\n",
    "\n",
    "    # compute the average losses and accuracies for the epoch\n",
    "    train_loss /= len(train_loader.dataset)\n",
    "    train_acc /= len(train_loader.dataset)\n",
    "    test_loss /= len(test_loader.dataset)\n",
    "    test_acc /= len(test_loader.dataset)\n",
    "\n",
    "    # append the losses and accuracies to the lists\n",
    "    train_losses.append(train_loss)\n",
    "    test_losses.append(test_loss)\n",
    "    train_accs.append(train_acc)\n",
    "    test_accs.append(test_acc)\n",
    "\n",
    "    # print the progress\n",
    "    print(f'Epoch {epoch+1}/{n_epochs}, Train Loss: {train_loss:.4f}, Test Loss: {test_loss:.4f}, Train Acc: {train_acc:.4f}, Test Acc: {test_acc:.4f}')\n"
   ]
  },
  {
   "cell_type": "code",
   "execution_count": 8,
   "metadata": {},
   "outputs": [
    {
     "data": {
      "image/png": "[encoded data removed]",
      "text/plain": [
       "<Figure size 640x480 with 1 Axes>"
      ]
     },
     "metadata": {},
     "output_type": "display_data"
    }
   ],
   "source": [
    "# plot the training loss\n",
    "sns.set(style='darkgrid')\n",
    "plt.plot(train_losses)\n",
    "plt.title('Training Loss')\n",
    "plt.xlabel('Epoch')\n",
    "plt.ylabel('Loss')\n",
    "plt.show()\n"
   ]
  },
  {
   "cell_type": "code",
   "execution_count": 9,
   "metadata": {},
   "outputs": [
    {
     "data": {
      "image/png": "[encoded data removed]",
      "text/plain": [
       "<Figure size 640x480 with 1 Axes>"
      ]
     },
     "metadata": {},
     "output_type": "display_data"
    }
   ],
   "source": [
    "# plot the training and testing accuracies\n",
    "sns.set(style='darkgrid')\n",
    "plt.plot(train_accs, label='Train Acc')\n",
    "plt.plot(test_accs, label='Test Acc')\n",
    "plt.title('Training and Testing Accuracies')\n",
    "plt.xlabel('Epoch')\n",
    "plt.ylabel('Accuracy')\n",
    "plt.legend()\n",
    "plt.show()\n"
   ]
  },
  {
   "cell_type": "code",
   "execution_count": 10,
   "metadata": {},
   "outputs": [],
   "source": [
    "torch.save(model.state_dict(), 'mlp.ckpt')"
   ]
  }
 ],
 "metadata": {
  "kernelspec": {
   "display_name": "Python 3",
   "language": "python",
   "name": "python3"
  },
  "language_info": {
   "codemirror_mode": {
    "name": "ipython",
    "version": 3
   },
   "file_extension": ".py",
   "mimetype": "text/x-python",
   "name": "python",
   "nbconvert_exporter": "python",
   "pygments_lexer": "ipython3",
   "version": "3.8.0"
  },
  "orig_nbformat": 4
 },
 "nbformat": 4,
 "nbformat_minor": 2
}
