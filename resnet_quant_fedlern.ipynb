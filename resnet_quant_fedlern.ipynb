{
 "cells": [
  {
   "attachments": {},
   "cell_type": "markdown",
   "metadata": {},
   "source": [
    "# Federated Learning Simple Implementation"
   ]
  },
  {
   "cell_type": "code",
   "execution_count": 1,
   "metadata": {},
   "outputs": [],
   "source": [
    "import torch\n",
    "import torch.nn as nn\n",
    "import torch.optim as optim\n",
    "import torchvision.datasets as datasets\n",
    "import torchvision.transforms as transforms\n",
    "import matplotlib.pyplot as plt\n",
    "from torch.utils.data import DataLoader\n",
    "\n",
    "import numpy as np\n",
    "from tqdm import tqdm\n",
    "import seaborn as sns\n",
    "from fedlern.utils import *\n",
    "from fedlern.train_utils import *\n",
    "from fedlern.quant_utils import *\n",
    "from fedlern.models.resnet_v2 import ResNet18"
   ]
  },
  {
   "attachments": {},
   "cell_type": "markdown",
   "metadata": {},
   "source": [
    "## Relevant Parameters"
   ]
  },
  {
   "cell_type": "code",
   "execution_count": 2,
   "metadata": {},
   "outputs": [],
   "source": [
    "epoch = 10\n",
    "rounds = 25\n",
    "num_clients = 10\n",
    "\n",
    "clients_sample_size = int(.3 * num_clients) # Use 30% of available clients\n",
    "num_workers = 8\n",
    "train_batch_size =128\n",
    "eval_batch_size=256\n",
    "quantize_bits = 3\n",
    "stats = (0.49139968, 0.48215841, 0.44653091), (0.24703223, 0.24348513, 0.26158784)"
   ]
  },
  {
   "attachments": {},
   "cell_type": "markdown",
   "metadata": {},
   "source": [
    "## Data Loaders\n",
    "- Divide the test & training data\n",
    "- Divide the training data among the clients"
   ]
  },
  {
   "cell_type": "code",
   "execution_count": 3,
   "metadata": {},
   "outputs": [
    {
     "name": "stdout",
     "output_type": "stream",
     "text": [
      "Files already downloaded and verified\n"
     ]
    }
   ],
   "source": [
    " # Data augmentation and normalization for training\n",
    "transform_train = transforms.Compose([\n",
    "    transforms.RandomCrop(32, padding=4),\n",
    "    transforms.RandomHorizontalFlip(),\n",
    "    transforms.ToTensor(),\n",
    "    transforms.Normalize(*stats)\n",
    "])\n",
    "\n",
    "# Normalization for testing\n",
    "transform_test = transforms.Compose([\n",
    "    transforms.ToTensor(),\n",
    "    transforms.Normalize(*stats)\n",
    "])\n",
    "\n",
    "# CIFAR-10 dataset\n",
    "train_dataset = datasets.CIFAR10(root='./data', train=True, transform=transform_train, download=True)\n",
    "test_dataset = datasets.CIFAR10(root='./data', train=False, transform=transform_test)\n",
    "\n",
    "# split the training data\n",
    "train_splits = torch.utils.data.random_split(train_dataset, [int(train_dataset.data.shape[0]/num_clients) for i in range(num_clients)])\n",
    "\n",
    "# Data loaders\n",
    "train_loaders = [DataLoader(dataset=split, batch_size=train_batch_size, shuffle=True, num_workers=num_workers) for split in train_splits]\n",
    "test_loader = DataLoader(dataset=test_dataset, batch_size=eval_batch_size, shuffle=False, num_workers=num_workers)\n",
    "\n",
    "device = torch.device('cuda' if torch.cuda.is_available() else 'cpu')\n"
   ]
  },
  {
   "attachments": {},
   "cell_type": "markdown",
   "metadata": {},
   "source": [
    "\n",
    "- `server_aggregate` function aggregates the model weights received from every client and updates the global model with the updated weights."
   ]
  },
  {
   "cell_type": "code",
   "execution_count": 4,
   "metadata": {},
   "outputs": [],
   "source": [
    "\n",
    "def server_aggregate(global_model : torch.nn.Module, client_models):\n",
    "    \"\"\"\n",
    "    The means of the weights of the client models are aggregated to the global model\n",
    "    \"\"\"\n",
    "    global_dict = global_model.state_dict() # Get a copy of the global model state_dict\n",
    "    for key in global_dict.keys():\n",
    "        global_dict[key] = torch.stack([client_models[i].state_dict()[key].float() for i in range(len(client_models))],0).mean(0)\n",
    "    global_model.load_state_dict(global_dict)\n",
    "    \n",
    "    # Update the client models using the global model\n",
    "    for model in client_models:\n",
    "        model.load_state_dict(global_model.state_dict())"
   ]
  },
  {
   "attachments": {},
   "cell_type": "markdown",
   "metadata": {},
   "source": [
    "## Global & Clients instatiation\n",
    "Implement the same elements as before, but:\n",
    "- We need more instances of the model\n",
    "- An optimizer for each model"
   ]
  },
  {
   "cell_type": "code",
   "execution_count": 5,
   "metadata": {},
   "outputs": [],
   "source": [
    "global_model = ResNet18().to(device)\n",
    "client_models = [ResNet18()\n",
    "                     .to(device)\n",
    "                     #.load_state_dict(global_model.state_dict())\n",
    "                  for _ in range(num_clients)]\n",
    "\n",
    "\n",
    "\n",
    "# criterion = nn.CrossEntropyLoss() # computes the cross-entropy loss between the predicted and true labels\n",
    "# optimizers =[optim.Adam(model.parameters(), lr=0.001) for model in client_models]\n"
   ]
  },
  {
   "cell_type": "code",
   "execution_count": 6,
   "metadata": {},
   "outputs": [],
   "source": [
    "# Optimizer & criterion based on gobal model\n",
    "global_optimizer = get_model_optimizer(global_model,\n",
    "                                       learning_rate=0.1,\n",
    "                                       weight_decay=5e-4)\n",
    "\n",
    "#scheduler = optim.lr_scheduler.MultiStepLR(optimizer, milestones=[80,120,160], gamma=0.1)\n",
    "criterion = nn.CrossEntropyLoss().to(device) # computes the cross-entropy loss between the predicted and true labels\n",
    "\n",
    "optimizers = [get_model_optimizer(model,learning_rate=0.1, weight_decay=5e-4) for model in client_models]"
   ]
  },
  {
   "cell_type": "code",
   "execution_count": 7,
   "metadata": {},
   "outputs": [
    {
     "name": "stderr",
     "output_type": "stream",
     "text": [
      "  0%|          | 0/25 [00:00<?, ?it/s]"
     ]
    },
    {
     "name": "stdout",
     "output_type": "stream",
     "text": [
      "Epoch: 0/10 Train Loss: 2.843 Train Acc: 0.163\n",
      "Epoch: 1/10 Train Loss: 2.157 Train Acc: 0.200\n",
      "Epoch: 2/10 Train Loss: 1.980 Train Acc: 0.252\n",
      "Epoch: 3/10 Train Loss: 1.919 Train Acc: 0.274\n",
      "Epoch: 4/10 Train Loss: 1.916 Train Acc: 0.276\n",
      "Epoch: 5/10 Train Loss: 1.916 Train Acc: 0.282\n",
      "Epoch: 6/10 Train Loss: 1.909 Train Acc: 0.287\n",
      "Epoch: 7/10 Train Loss: 1.916 Train Acc: 0.280\n",
      "Epoch: 8/10 Train Loss: 1.907 Train Acc: 0.274\n",
      "Epoch: 9/10 Train Loss: 1.907 Train Acc: 0.286\n",
      "Epoch: 0/10 Train Loss: 3.159 Train Acc: 0.147\n",
      "Epoch: 1/10 Train Loss: 2.323 Train Acc: 0.179\n",
      "Epoch: 2/10 Train Loss: 2.033 Train Acc: 0.230\n",
      "Epoch: 3/10 Train Loss: 1.998 Train Acc: 0.239\n",
      "Epoch: 4/10 Train Loss: 1.983 Train Acc: 0.256\n",
      "Epoch: 5/10 Train Loss: 1.984 Train Acc: 0.246\n",
      "Epoch: 6/10 Train Loss: 1.987 Train Acc: 0.252\n",
      "Epoch: 7/10 Train Loss: 1.985 Train Acc: 0.248\n",
      "Epoch: 8/10 Train Loss: 1.990 Train Acc: 0.252\n",
      "Epoch: 9/10 Train Loss: 1.989 Train Acc: 0.254\n",
      "Epoch: 0/10 Train Loss: 3.112 Train Acc: 0.123\n",
      "Epoch: 1/10 Train Loss: 2.219 Train Acc: 0.203\n",
      "Epoch: 2/10 Train Loss: 2.050 Train Acc: 0.237\n",
      "Epoch: 3/10 Train Loss: 2.000 Train Acc: 0.244\n",
      "Epoch: 4/10 Train Loss: 1.988 Train Acc: 0.252\n",
      "Epoch: 5/10 Train Loss: 1.997 Train Acc: 0.247\n",
      "Epoch: 6/10 Train Loss: 1.993 Train Acc: 0.252\n",
      "Epoch: 7/10 Train Loss: 1.994 Train Acc: 0.237\n",
      "Epoch: 8/10 Train Loss: 1.992 Train Acc: 0.254\n",
      "Epoch: 9/10 Train Loss: 1.993 Train Acc: 0.245\n"
     ]
    },
    {
     "name": "stderr",
     "output_type": "stream",
     "text": [
      "  4%|▍         | 1/25 [05:29<2:11:47, 329.49s/it]"
     ]
    },
    {
     "name": "stdout",
     "output_type": "stream",
     "text": [
      "0-th ROUND: average train loss 0.664 | test loss 2.3 | test acc: 0.100\n",
      "Epoch: 0/10 Train Loss: 2.164 Train Acc: 0.187\n",
      "Epoch: 1/10 Train Loss: 2.008 Train Acc: 0.241\n",
      "Epoch: 2/10 Train Loss: 1.892 Train Acc: 0.280\n",
      "Epoch: 3/10 Train Loss: 1.832 Train Acc: 0.312\n",
      "Epoch: 4/10 Train Loss: 1.825 Train Acc: 0.313\n",
      "Epoch: 5/10 Train Loss: 1.814 Train Acc: 0.324\n",
      "Epoch: 6/10 Train Loss: 1.822 Train Acc: 0.316\n",
      "Epoch: 7/10 Train Loss: 1.825 Train Acc: 0.321\n",
      "Epoch: 8/10 Train Loss: 1.823 Train Acc: 0.319\n",
      "Epoch: 9/10 Train Loss: 1.816 Train Acc: 0.317\n",
      "Epoch: 0/10 Train Loss: 2.336 Train Acc: 0.112\n",
      "Epoch: 1/10 Train Loss: 2.277 Train Acc: 0.125\n",
      "Epoch: 2/10 Train Loss: 2.241 Train Acc: 0.153\n",
      "Epoch: 3/10 Train Loss: 2.236 Train Acc: 0.163\n",
      "Epoch: 4/10 Train Loss: 2.235 Train Acc: 0.164\n",
      "Epoch: 5/10 Train Loss: 2.236 Train Acc: 0.168\n",
      "Epoch: 6/10 Train Loss: 2.236 Train Acc: 0.168\n",
      "Epoch: 7/10 Train Loss: 2.237 Train Acc: 0.159\n",
      "Epoch: 8/10 Train Loss: 2.235 Train Acc: 0.166\n",
      "Epoch: 9/10 Train Loss: 2.237 Train Acc: 0.167\n",
      "Epoch: 0/10 Train Loss: 2.136 Train Acc: 0.188\n",
      "Epoch: 1/10 Train Loss: 2.052 Train Acc: 0.220\n",
      "Epoch: 2/10 Train Loss: 1.888 Train Acc: 0.293\n",
      "Epoch: 3/10 Train Loss: 1.816 Train Acc: 0.314\n",
      "Epoch: 4/10 Train Loss: 1.804 Train Acc: 0.328\n",
      "Epoch: 5/10 Train Loss: 1.806 Train Acc: 0.316\n",
      "Epoch: 6/10 Train Loss: 1.803 Train Acc: 0.326\n",
      "Epoch: 7/10 Train Loss: 1.811 Train Acc: 0.315\n",
      "Epoch: 8/10 Train Loss: 1.802 Train Acc: 0.322\n",
      "Epoch: 9/10 Train Loss: 1.806 Train Acc: 0.322\n"
     ]
    },
    {
     "name": "stderr",
     "output_type": "stream",
     "text": [
      "  8%|▊         | 2/25 [10:44<2:03:07, 321.20s/it]"
     ]
    },
    {
     "name": "stdout",
     "output_type": "stream",
     "text": [
      "1-th ROUND: average train loss 0.602 | test loss 2.31 | test acc: 0.100\n",
      "Epoch: 0/10 Train Loss: 2.059 Train Acc: 0.215\n",
      "Epoch: 1/10 Train Loss: 2.016 Train Acc: 0.237\n",
      "Epoch: 2/10 Train Loss: 1.997 Train Acc: 0.246\n",
      "Epoch: 3/10 Train Loss: 2.000 Train Acc: 0.245\n",
      "Epoch: 4/10 Train Loss: 2.000 Train Acc: 0.239\n",
      "Epoch: 5/10 Train Loss: 2.000 Train Acc: 0.240\n",
      "Epoch: 6/10 Train Loss: 2.002 Train Acc: 0.240\n",
      "Epoch: 7/10 Train Loss: 1.996 Train Acc: 0.247\n",
      "Epoch: 8/10 Train Loss: 1.999 Train Acc: 0.243\n",
      "Epoch: 9/10 Train Loss: 2.000 Train Acc: 0.246\n",
      "Epoch: 0/10 Train Loss: 2.053 Train Acc: 0.218\n",
      "Epoch: 1/10 Train Loss: 2.015 Train Acc: 0.238\n",
      "Epoch: 2/10 Train Loss: 1.997 Train Acc: 0.247\n",
      "Epoch: 3/10 Train Loss: 1.998 Train Acc: 0.245\n",
      "Epoch: 4/10 Train Loss: 1.995 Train Acc: 0.250\n",
      "Epoch: 5/10 Train Loss: 1.998 Train Acc: 0.243\n",
      "Epoch: 6/10 Train Loss: 1.996 Train Acc: 0.248\n",
      "Epoch: 7/10 Train Loss: 1.998 Train Acc: 0.251\n",
      "Epoch: 8/10 Train Loss: 1.996 Train Acc: 0.244\n",
      "Epoch: 9/10 Train Loss: 1.998 Train Acc: 0.250\n",
      "Epoch: 0/10 Train Loss: 2.007 Train Acc: 0.247\n",
      "Epoch: 1/10 Train Loss: 1.944 Train Acc: 0.270\n",
      "Epoch: 2/10 Train Loss: 1.841 Train Acc: 0.305\n",
      "Epoch: 3/10 Train Loss: 1.750 Train Acc: 0.340\n",
      "Epoch: 4/10 Train Loss: 1.742 Train Acc: 0.349\n",
      "Epoch: 5/10 Train Loss: 1.743 Train Acc: 0.342\n",
      "Epoch: 6/10 Train Loss: 1.751 Train Acc: 0.341\n",
      "Epoch: 7/10 Train Loss: 1.736 Train Acc: 0.342\n",
      "Epoch: 8/10 Train Loss: 1.742 Train Acc: 0.350\n",
      "Epoch: 9/10 Train Loss: 1.734 Train Acc: 0.346\n"
     ]
    },
    {
     "name": "stderr",
     "output_type": "stream",
     "text": [
      " 12%|█▏        | 3/25 [15:59<1:56:42, 318.30s/it]"
     ]
    },
    {
     "name": "stdout",
     "output_type": "stream",
     "text": [
      "2-th ROUND: average train loss 0.578 | test loss 2.31 | test acc: 0.100\n",
      "Epoch: 0/10 Train Loss: 1.941 Train Acc: 0.268\n",
      "Epoch: 1/10 Train Loss: 1.919 Train Acc: 0.281\n",
      "Epoch: 2/10 Train Loss: 1.908 Train Acc: 0.282\n",
      "Epoch: 3/10 Train Loss: 1.909 Train Acc: 0.292\n",
      "Epoch: 4/10 Train Loss: 1.909 Train Acc: 0.287\n",
      "Epoch: 5/10 Train Loss: 1.910 Train Acc: 0.287\n",
      "Epoch: 6/10 Train Loss: 1.908 Train Acc: 0.290\n",
      "Epoch: 7/10 Train Loss: 1.908 Train Acc: 0.290\n",
      "Epoch: 8/10 Train Loss: 1.913 Train Acc: 0.290\n",
      "Epoch: 9/10 Train Loss: 1.912 Train Acc: 0.286\n",
      "Epoch: 0/10 Train Loss: 1.984 Train Acc: 0.246\n",
      "Epoch: 1/10 Train Loss: 1.977 Train Acc: 0.253\n",
      "Epoch: 2/10 Train Loss: 1.933 Train Acc: 0.273\n",
      "Epoch: 3/10 Train Loss: 1.798 Train Acc: 0.326\n",
      "Epoch: 4/10 Train Loss: 1.785 Train Acc: 0.331\n",
      "Epoch: 5/10 Train Loss: 1.782 Train Acc: 0.337\n",
      "Epoch: 6/10 Train Loss: 1.783 Train Acc: 0.339\n",
      "Epoch: 7/10 Train Loss: 1.789 Train Acc: 0.338\n",
      "Epoch: 8/10 Train Loss: 1.784 Train Acc: 0.336\n",
      "Epoch: 9/10 Train Loss: 1.780 Train Acc: 0.331\n",
      "Epoch: 0/10 Train Loss: 1.946 Train Acc: 0.274\n",
      "Epoch: 1/10 Train Loss: 1.924 Train Acc: 0.285\n",
      "Epoch: 2/10 Train Loss: 1.917 Train Acc: 0.292\n",
      "Epoch: 3/10 Train Loss: 1.914 Train Acc: 0.298\n",
      "Epoch: 4/10 Train Loss: 1.914 Train Acc: 0.287\n",
      "Epoch: 5/10 Train Loss: 1.911 Train Acc: 0.292\n",
      "Epoch: 6/10 Train Loss: 1.912 Train Acc: 0.288\n",
      "Epoch: 7/10 Train Loss: 1.911 Train Acc: 0.295\n",
      "Epoch: 8/10 Train Loss: 1.914 Train Acc: 0.290\n",
      "Epoch: 9/10 Train Loss: 1.912 Train Acc: 0.289\n"
     ]
    },
    {
     "name": "stderr",
     "output_type": "stream",
     "text": [
      " 16%|█▌        | 4/25 [21:14<1:50:53, 316.84s/it]"
     ]
    },
    {
     "name": "stdout",
     "output_type": "stream",
     "text": [
      "3-th ROUND: average train loss 0.637 | test loss 2.31 | test acc: 0.100\n",
      "Epoch: 0/10 Train Loss: 1.945 Train Acc: 0.252\n",
      "Epoch: 1/10 Train Loss: 2.062 Train Acc: 0.233\n",
      "Epoch: 2/10 Train Loss: 1.885 Train Acc: 0.298\n",
      "Epoch: 3/10 Train Loss: 1.798 Train Acc: 0.333\n",
      "Epoch: 4/10 Train Loss: 1.783 Train Acc: 0.346\n",
      "Epoch: 5/10 Train Loss: 1.773 Train Acc: 0.343\n",
      "Epoch: 6/10 Train Loss: 1.771 Train Acc: 0.347\n",
      "Epoch: 7/10 Train Loss: 1.773 Train Acc: 0.345\n",
      "Epoch: 8/10 Train Loss: 1.774 Train Acc: 0.345\n",
      "Epoch: 9/10 Train Loss: 1.777 Train Acc: 0.340\n",
      "Epoch: 0/10 Train Loss: 1.885 Train Acc: 0.290\n",
      "Epoch: 1/10 Train Loss: 1.874 Train Acc: 0.296\n",
      "Epoch: 2/10 Train Loss: 1.864 Train Acc: 0.308\n",
      "Epoch: 3/10 Train Loss: 1.874 Train Acc: 0.302\n",
      "Epoch: 4/10 Train Loss: 1.867 Train Acc: 0.293\n",
      "Epoch: 5/10 Train Loss: 1.873 Train Acc: 0.298\n",
      "Epoch: 6/10 Train Loss: 1.876 Train Acc: 0.296\n",
      "Epoch: 7/10 Train Loss: 1.867 Train Acc: 0.298\n",
      "Epoch: 8/10 Train Loss: 1.872 Train Acc: 0.305\n",
      "Epoch: 9/10 Train Loss: 1.871 Train Acc: 0.297\n",
      "Epoch: 0/10 Train Loss: 1.954 Train Acc: 0.263\n",
      "Epoch: 1/10 Train Loss: 1.949 Train Acc: 0.264\n",
      "Epoch: 2/10 Train Loss: 1.806 Train Acc: 0.318\n",
      "Epoch: 3/10 Train Loss: 1.719 Train Acc: 0.355\n",
      "Epoch: 4/10 Train Loss: 1.709 Train Acc: 0.356\n",
      "Epoch: 5/10 Train Loss: 1.700 Train Acc: 0.367\n",
      "Epoch: 6/10 Train Loss: 1.699 Train Acc: 0.373\n",
      "Epoch: 7/10 Train Loss: 1.708 Train Acc: 0.360\n",
      "Epoch: 8/10 Train Loss: 1.704 Train Acc: 0.363\n",
      "Epoch: 9/10 Train Loss: 1.702 Train Acc: 0.356\n"
     ]
    },
    {
     "name": "stderr",
     "output_type": "stream",
     "text": [
      " 20%|██        | 5/25 [26:29<1:45:24, 316.24s/it]"
     ]
    },
    {
     "name": "stdout",
     "output_type": "stream",
     "text": [
      "4-th ROUND: average train loss 0.567 | test loss 2.31 | test acc: 0.097\n",
      "Epoch: 0/10 Train Loss: 1.836 Train Acc: 0.317\n",
      "Epoch: 1/10 Train Loss: 1.833 Train Acc: 0.318\n",
      "Epoch: 2/10 Train Loss: 1.832 Train Acc: 0.315\n",
      "Epoch: 3/10 Train Loss: 1.838 Train Acc: 0.317\n",
      "Epoch: 4/10 Train Loss: 1.839 Train Acc: 0.315\n",
      "Epoch: 5/10 Train Loss: 1.838 Train Acc: 0.319\n",
      "Epoch: 6/10 Train Loss: 1.832 Train Acc: 0.317\n",
      "Epoch: 7/10 Train Loss: 1.839 Train Acc: 0.310\n",
      "Epoch: 8/10 Train Loss: 1.840 Train Acc: 0.315\n",
      "Epoch: 9/10 Train Loss: 1.839 Train Acc: 0.316\n",
      "Epoch: 0/10 Train Loss: 1.842 Train Acc: 0.316\n",
      "Epoch: 1/10 Train Loss: 1.834 Train Acc: 0.325\n",
      "Epoch: 2/10 Train Loss: 1.834 Train Acc: 0.324\n",
      "Epoch: 3/10 Train Loss: 1.832 Train Acc: 0.317\n",
      "Epoch: 4/10 Train Loss: 1.834 Train Acc: 0.315\n",
      "Epoch: 5/10 Train Loss: 1.833 Train Acc: 0.319\n",
      "Epoch: 6/10 Train Loss: 1.827 Train Acc: 0.326\n",
      "Epoch: 7/10 Train Loss: 1.825 Train Acc: 0.324\n",
      "Epoch: 8/10 Train Loss: 1.828 Train Acc: 0.329\n",
      "Epoch: 9/10 Train Loss: 1.831 Train Acc: 0.324\n",
      "Epoch: 0/10 Train Loss: 1.842 Train Acc: 0.320\n",
      "Epoch: 1/10 Train Loss: 1.844 Train Acc: 0.324\n",
      "Epoch: 2/10 Train Loss: 1.841 Train Acc: 0.323\n",
      "Epoch: 3/10 Train Loss: 1.840 Train Acc: 0.322\n",
      "Epoch: 4/10 Train Loss: 1.843 Train Acc: 0.326\n",
      "Epoch: 5/10 Train Loss: 1.847 Train Acc: 0.323\n",
      "Epoch: 6/10 Train Loss: 1.844 Train Acc: 0.322\n",
      "Epoch: 7/10 Train Loss: 1.844 Train Acc: 0.326\n",
      "Epoch: 8/10 Train Loss: 1.843 Train Acc: 0.327\n",
      "Epoch: 9/10 Train Loss: 1.844 Train Acc: 0.320\n"
     ]
    },
    {
     "name": "stderr",
     "output_type": "stream",
     "text": [
      " 24%|██▍       | 6/25 [31:45<1:40:04, 316.00s/it]"
     ]
    },
    {
     "name": "stdout",
     "output_type": "stream",
     "text": [
      "5-th ROUND: average train loss 0.615 | test loss 2.32 | test acc: 0.100\n",
      "Epoch: 0/10 Train Loss: 1.852 Train Acc: 0.317\n",
      "Epoch: 1/10 Train Loss: 1.849 Train Acc: 0.311\n",
      "Epoch: 2/10 Train Loss: 1.851 Train Acc: 0.318\n",
      "Epoch: 3/10 Train Loss: 1.849 Train Acc: 0.316\n",
      "Epoch: 4/10 Train Loss: 1.844 Train Acc: 0.317\n",
      "Epoch: 5/10 Train Loss: 1.848 Train Acc: 0.313\n",
      "Epoch: 6/10 Train Loss: 1.851 Train Acc: 0.314\n",
      "Epoch: 7/10 Train Loss: 1.851 Train Acc: 0.312\n",
      "Epoch: 8/10 Train Loss: 1.855 Train Acc: 0.316\n",
      "Epoch: 9/10 Train Loss: 1.851 Train Acc: 0.312\n",
      "Epoch: 0/10 Train Loss: 1.843 Train Acc: 0.311\n",
      "Epoch: 1/10 Train Loss: 1.832 Train Acc: 0.321\n",
      "Epoch: 2/10 Train Loss: 1.828 Train Acc: 0.318\n",
      "Epoch: 3/10 Train Loss: 1.828 Train Acc: 0.318\n",
      "Epoch: 4/10 Train Loss: 1.825 Train Acc: 0.315\n",
      "Epoch: 5/10 Train Loss: 1.826 Train Acc: 0.320\n",
      "Epoch: 6/10 Train Loss: 1.827 Train Acc: 0.322\n",
      "Epoch: 7/10 Train Loss: 1.828 Train Acc: 0.322\n",
      "Epoch: 8/10 Train Loss: 1.827 Train Acc: 0.315\n",
      "Epoch: 9/10 Train Loss: 1.819 Train Acc: 0.326\n",
      "Epoch: 0/10 Train Loss: 1.833 Train Acc: 0.318\n",
      "Epoch: 1/10 Train Loss: 1.830 Train Acc: 0.320\n",
      "Epoch: 2/10 Train Loss: 1.837 Train Acc: 0.320\n",
      "Epoch: 3/10 Train Loss: 1.836 Train Acc: 0.318\n",
      "Epoch: 4/10 Train Loss: 1.838 Train Acc: 0.315\n",
      "Epoch: 5/10 Train Loss: 1.835 Train Acc: 0.315\n",
      "Epoch: 6/10 Train Loss: 1.841 Train Acc: 0.316\n",
      "Epoch: 7/10 Train Loss: 1.833 Train Acc: 0.318\n",
      "Epoch: 8/10 Train Loss: 1.831 Train Acc: 0.323\n",
      "Epoch: 9/10 Train Loss: 1.839 Train Acc: 0.312\n"
     ]
    },
    {
     "name": "stderr",
     "output_type": "stream",
     "text": [
      " 28%|██▊       | 7/25 [36:59<1:34:41, 315.62s/it]"
     ]
    },
    {
     "name": "stdout",
     "output_type": "stream",
     "text": [
      "6-th ROUND: average train loss 0.613 | test loss 2.33 | test acc: 0.100\n",
      "Epoch: 0/10 Train Loss: 1.832 Train Acc: 0.314\n",
      "Epoch: 1/10 Train Loss: 1.828 Train Acc: 0.319\n",
      "Epoch: 2/10 Train Loss: 1.830 Train Acc: 0.319\n",
      "Epoch: 3/10 Train Loss: 1.838 Train Acc: 0.317\n",
      "Epoch: 4/10 Train Loss: 1.826 Train Acc: 0.325\n",
      "Epoch: 5/10 Train Loss: 1.835 Train Acc: 0.314\n",
      "Epoch: 6/10 Train Loss: 1.837 Train Acc: 0.312\n",
      "Epoch: 7/10 Train Loss: 1.825 Train Acc: 0.320\n",
      "Epoch: 8/10 Train Loss: 1.833 Train Acc: 0.317\n",
      "Epoch: 9/10 Train Loss: 1.830 Train Acc: 0.314\n",
      "Epoch: 0/10 Train Loss: 1.841 Train Acc: 0.320\n",
      "Epoch: 1/10 Train Loss: 1.846 Train Acc: 0.315\n",
      "Epoch: 2/10 Train Loss: 1.844 Train Acc: 0.312\n",
      "Epoch: 3/10 Train Loss: 1.839 Train Acc: 0.318\n",
      "Epoch: 4/10 Train Loss: 1.842 Train Acc: 0.313\n",
      "Epoch: 5/10 Train Loss: 1.842 Train Acc: 0.312\n",
      "Epoch: 6/10 Train Loss: 1.842 Train Acc: 0.315\n",
      "Epoch: 7/10 Train Loss: 1.843 Train Acc: 0.312\n",
      "Epoch: 8/10 Train Loss: 1.850 Train Acc: 0.313\n",
      "Epoch: 9/10 Train Loss: 1.846 Train Acc: 0.308\n",
      "Epoch: 0/10 Train Loss: 1.846 Train Acc: 0.319\n",
      "Epoch: 1/10 Train Loss: 1.843 Train Acc: 0.321\n",
      "Epoch: 2/10 Train Loss: 1.847 Train Acc: 0.314\n",
      "Epoch: 3/10 Train Loss: 1.846 Train Acc: 0.315\n",
      "Epoch: 4/10 Train Loss: 1.845 Train Acc: 0.320\n",
      "Epoch: 5/10 Train Loss: 1.846 Train Acc: 0.314\n",
      "Epoch: 6/10 Train Loss: 1.847 Train Acc: 0.323\n",
      "Epoch: 7/10 Train Loss: 1.843 Train Acc: 0.316\n",
      "Epoch: 8/10 Train Loss: 1.847 Train Acc: 0.315\n",
      "Epoch: 9/10 Train Loss: 1.840 Train Acc: 0.317\n"
     ]
    },
    {
     "name": "stderr",
     "output_type": "stream",
     "text": [
      " 32%|███▏      | 8/25 [42:15<1:29:23, 315.48s/it]"
     ]
    },
    {
     "name": "stdout",
     "output_type": "stream",
     "text": [
      "7-th ROUND: average train loss 0.613 | test loss 2.34 | test acc: 0.100\n",
      "Epoch: 0/10 Train Loss: 1.887 Train Acc: 0.290\n",
      "Epoch: 1/10 Train Loss: 1.861 Train Acc: 0.297\n",
      "Epoch: 2/10 Train Loss: 1.777 Train Acc: 0.320\n",
      "Epoch: 3/10 Train Loss: 1.671 Train Acc: 0.380\n",
      "Epoch: 4/10 Train Loss: 1.659 Train Acc: 0.381\n",
      "Epoch: 5/10 Train Loss: 1.655 Train Acc: 0.384\n",
      "Epoch: 6/10 Train Loss: 1.647 Train Acc: 0.392\n",
      "Epoch: 7/10 Train Loss: 1.664 Train Acc: 0.381\n",
      "Epoch: 8/10 Train Loss: 1.663 Train Acc: 0.377\n",
      "Epoch: 9/10 Train Loss: 1.649 Train Acc: 0.397\n",
      "Epoch: 0/10 Train Loss: 1.844 Train Acc: 0.311\n",
      "Epoch: 1/10 Train Loss: 1.846 Train Acc: 0.314\n",
      "Epoch: 2/10 Train Loss: 1.848 Train Acc: 0.317\n",
      "Epoch: 3/10 Train Loss: 1.845 Train Acc: 0.322\n",
      "Epoch: 4/10 Train Loss: 1.851 Train Acc: 0.307\n",
      "Epoch: 5/10 Train Loss: 1.855 Train Acc: 0.306\n",
      "Epoch: 6/10 Train Loss: 1.846 Train Acc: 0.314\n",
      "Epoch: 7/10 Train Loss: 1.845 Train Acc: 0.311\n",
      "Epoch: 8/10 Train Loss: 1.849 Train Acc: 0.313\n",
      "Epoch: 9/10 Train Loss: 1.848 Train Acc: 0.307\n",
      "Epoch: 0/10 Train Loss: 1.837 Train Acc: 0.315\n",
      "Epoch: 1/10 Train Loss: 1.844 Train Acc: 0.308\n",
      "Epoch: 2/10 Train Loss: 1.840 Train Acc: 0.313\n",
      "Epoch: 3/10 Train Loss: 1.843 Train Acc: 0.316\n",
      "Epoch: 4/10 Train Loss: 1.841 Train Acc: 0.308\n",
      "Epoch: 5/10 Train Loss: 1.842 Train Acc: 0.319\n",
      "Epoch: 6/10 Train Loss: 1.840 Train Acc: 0.308\n",
      "Epoch: 7/10 Train Loss: 1.841 Train Acc: 0.311\n",
      "Epoch: 8/10 Train Loss: 1.844 Train Acc: 0.310\n",
      "Epoch: 9/10 Train Loss: 1.845 Train Acc: 0.315\n"
     ]
    },
    {
     "name": "stderr",
     "output_type": "stream",
     "text": [
      " 36%|███▌      | 9/25 [47:29<1:24:04, 315.27s/it]"
     ]
    },
    {
     "name": "stdout",
     "output_type": "stream",
     "text": [
      "8-th ROUND: average train loss 0.615 | test loss 2.35 | test acc: 0.101\n",
      "Epoch: 0/10 Train Loss: 1.796 Train Acc: 0.335\n",
      "Epoch: 1/10 Train Loss: 1.798 Train Acc: 0.327\n",
      "Epoch: 2/10 Train Loss: 1.797 Train Acc: 0.329\n",
      "Epoch: 3/10 Train Loss: 1.795 Train Acc: 0.330\n",
      "Epoch: 4/10 Train Loss: 1.794 Train Acc: 0.328\n",
      "Epoch: 5/10 Train Loss: 1.794 Train Acc: 0.337\n",
      "Epoch: 6/10 Train Loss: 1.799 Train Acc: 0.331\n",
      "Epoch: 7/10 Train Loss: 1.796 Train Acc: 0.335\n",
      "Epoch: 8/10 Train Loss: 1.792 Train Acc: 0.335\n",
      "Epoch: 9/10 Train Loss: 1.797 Train Acc: 0.335\n",
      "Epoch: 0/10 Train Loss: 1.787 Train Acc: 0.334\n",
      "Epoch: 1/10 Train Loss: 1.773 Train Acc: 0.337\n",
      "Epoch: 2/10 Train Loss: 1.770 Train Acc: 0.333\n",
      "Epoch: 3/10 Train Loss: 1.766 Train Acc: 0.331\n",
      "Epoch: 4/10 Train Loss: 1.767 Train Acc: 0.339\n",
      "Epoch: 5/10 Train Loss: 1.770 Train Acc: 0.337\n",
      "Epoch: 6/10 Train Loss: 1.763 Train Acc: 0.340\n",
      "Epoch: 7/10 Train Loss: 1.766 Train Acc: 0.347\n",
      "Epoch: 8/10 Train Loss: 1.763 Train Acc: 0.341\n",
      "Epoch: 9/10 Train Loss: 1.775 Train Acc: 0.339\n",
      "Epoch: 0/10 Train Loss: 1.791 Train Acc: 0.334\n",
      "Epoch: 1/10 Train Loss: 1.794 Train Acc: 0.336\n",
      "Epoch: 2/10 Train Loss: 1.794 Train Acc: 0.333\n",
      "Epoch: 3/10 Train Loss: 1.800 Train Acc: 0.335\n",
      "Epoch: 4/10 Train Loss: 1.794 Train Acc: 0.332\n",
      "Epoch: 5/10 Train Loss: 1.793 Train Acc: 0.343\n",
      "Epoch: 6/10 Train Loss: 1.791 Train Acc: 0.333\n",
      "Epoch: 7/10 Train Loss: 1.792 Train Acc: 0.344\n",
      "Epoch: 8/10 Train Loss: 1.785 Train Acc: 0.341\n",
      "Epoch: 9/10 Train Loss: 1.798 Train Acc: 0.331\n"
     ]
    },
    {
     "name": "stderr",
     "output_type": "stream",
     "text": [
      " 40%|████      | 10/25 [52:44<1:18:48, 315.21s/it]"
     ]
    },
    {
     "name": "stdout",
     "output_type": "stream",
     "text": [
      "9-th ROUND: average train loss 0.599 | test loss 2.31 | test acc: 0.111\n",
      "Epoch: 0/10 Train Loss: 1.787 Train Acc: 0.332\n",
      "Epoch: 1/10 Train Loss: 1.788 Train Acc: 0.336\n",
      "Epoch: 2/10 Train Loss: 1.791 Train Acc: 0.337\n",
      "Epoch: 3/10 Train Loss: 1.799 Train Acc: 0.325\n",
      "Epoch: 4/10 Train Loss: 1.790 Train Acc: 0.334\n",
      "Epoch: 5/10 Train Loss: 1.790 Train Acc: 0.338\n",
      "Epoch: 6/10 Train Loss: 1.794 Train Acc: 0.332\n",
      "Epoch: 7/10 Train Loss: 1.785 Train Acc: 0.335\n",
      "Epoch: 8/10 Train Loss: 1.784 Train Acc: 0.334\n",
      "Epoch: 9/10 Train Loss: 1.793 Train Acc: 0.333\n",
      "Epoch: 0/10 Train Loss: 1.800 Train Acc: 0.333\n",
      "Epoch: 1/10 Train Loss: 1.806 Train Acc: 0.329\n",
      "Epoch: 2/10 Train Loss: 1.805 Train Acc: 0.335\n",
      "Epoch: 3/10 Train Loss: 1.805 Train Acc: 0.329\n",
      "Epoch: 4/10 Train Loss: 1.804 Train Acc: 0.331\n",
      "Epoch: 5/10 Train Loss: 1.804 Train Acc: 0.331\n",
      "Epoch: 6/10 Train Loss: 1.802 Train Acc: 0.333\n",
      "Epoch: 7/10 Train Loss: 1.803 Train Acc: 0.341\n",
      "Epoch: 8/10 Train Loss: 1.808 Train Acc: 0.328\n",
      "Epoch: 9/10 Train Loss: 1.802 Train Acc: 0.331\n",
      "Epoch: 0/10 Train Loss: 1.802 Train Acc: 0.323\n",
      "Epoch: 1/10 Train Loss: 1.801 Train Acc: 0.323\n",
      "Epoch: 2/10 Train Loss: 1.802 Train Acc: 0.325\n",
      "Epoch: 3/10 Train Loss: 1.798 Train Acc: 0.328\n",
      "Epoch: 4/10 Train Loss: 1.800 Train Acc: 0.331\n",
      "Epoch: 5/10 Train Loss: 1.799 Train Acc: 0.326\n",
      "Epoch: 6/10 Train Loss: 1.799 Train Acc: 0.331\n",
      "Epoch: 7/10 Train Loss: 1.797 Train Acc: 0.328\n",
      "Epoch: 8/10 Train Loss: 1.804 Train Acc: 0.322\n",
      "Epoch: 9/10 Train Loss: 1.800 Train Acc: 0.326\n"
     ]
    },
    {
     "name": "stderr",
     "output_type": "stream",
     "text": [
      " 44%|████▍     | 11/25 [57:59<1:13:30, 315.05s/it]"
     ]
    },
    {
     "name": "stdout",
     "output_type": "stream",
     "text": [
      "10-th ROUND: average train loss 0.6 | test loss 2.23 | test acc: 0.137\n",
      "Epoch: 0/10 Train Loss: 1.801 Train Acc: 0.328\n",
      "Epoch: 1/10 Train Loss: 1.793 Train Acc: 0.339\n",
      "Epoch: 2/10 Train Loss: 1.806 Train Acc: 0.326\n",
      "Epoch: 3/10 Train Loss: 1.798 Train Acc: 0.329\n",
      "Epoch: 4/10 Train Loss: 1.799 Train Acc: 0.331\n",
      "Epoch: 5/10 Train Loss: 1.804 Train Acc: 0.328\n",
      "Epoch: 6/10 Train Loss: 1.806 Train Acc: 0.325\n",
      "Epoch: 7/10 Train Loss: 1.797 Train Acc: 0.330\n",
      "Epoch: 8/10 Train Loss: 1.799 Train Acc: 0.321\n",
      "Epoch: 9/10 Train Loss: 1.790 Train Acc: 0.335\n",
      "Epoch: 0/10 Train Loss: 1.813 Train Acc: 0.322\n",
      "Epoch: 1/10 Train Loss: 1.805 Train Acc: 0.323\n",
      "Epoch: 2/10 Train Loss: 1.802 Train Acc: 0.327\n",
      "Epoch: 3/10 Train Loss: 1.806 Train Acc: 0.323\n",
      "Epoch: 4/10 Train Loss: 1.802 Train Acc: 0.331\n",
      "Epoch: 5/10 Train Loss: 1.811 Train Acc: 0.328\n",
      "Epoch: 6/10 Train Loss: 1.807 Train Acc: 0.325\n",
      "Epoch: 7/10 Train Loss: 1.805 Train Acc: 0.331\n",
      "Epoch: 8/10 Train Loss: 1.798 Train Acc: 0.331\n",
      "Epoch: 9/10 Train Loss: 1.809 Train Acc: 0.322\n",
      "Epoch: 0/10 Train Loss: 1.791 Train Acc: 0.329\n",
      "Epoch: 1/10 Train Loss: 1.791 Train Acc: 0.332\n",
      "Epoch: 2/10 Train Loss: 1.787 Train Acc: 0.330\n",
      "Epoch: 3/10 Train Loss: 1.787 Train Acc: 0.330\n",
      "Epoch: 4/10 Train Loss: 1.789 Train Acc: 0.328\n",
      "Epoch: 5/10 Train Loss: 1.788 Train Acc: 0.329\n",
      "Epoch: 6/10 Train Loss: 1.790 Train Acc: 0.332\n",
      "Epoch: 7/10 Train Loss: 1.793 Train Acc: 0.333\n",
      "Epoch: 8/10 Train Loss: 1.787 Train Acc: 0.332\n",
      "Epoch: 9/10 Train Loss: 1.786 Train Acc: 0.332\n"
     ]
    },
    {
     "name": "stderr",
     "output_type": "stream",
     "text": [
      " 48%|████▊     | 12/25 [1:03:14<1:08:16, 315.13s/it]"
     ]
    },
    {
     "name": "stdout",
     "output_type": "stream",
     "text": [
      "11-th ROUND: average train loss 0.595 | test loss 2.11 | test acc: 0.194\n",
      "Epoch: 0/10 Train Loss: 1.803 Train Acc: 0.326\n",
      "Epoch: 1/10 Train Loss: 1.798 Train Acc: 0.339\n",
      "Epoch: 2/10 Train Loss: 1.800 Train Acc: 0.331\n",
      "Epoch: 3/10 Train Loss: 1.804 Train Acc: 0.327\n",
      "Epoch: 4/10 Train Loss: 1.801 Train Acc: 0.330\n",
      "Epoch: 5/10 Train Loss: 1.804 Train Acc: 0.337\n",
      "Epoch: 6/10 Train Loss: 1.800 Train Acc: 0.338\n",
      "Epoch: 7/10 Train Loss: 1.807 Train Acc: 0.333\n",
      "Epoch: 8/10 Train Loss: 1.802 Train Acc: 0.335\n",
      "Epoch: 9/10 Train Loss: 1.806 Train Acc: 0.333\n",
      "Epoch: 0/10 Train Loss: 1.795 Train Acc: 0.335\n",
      "Epoch: 1/10 Train Loss: 1.792 Train Acc: 0.340\n",
      "Epoch: 2/10 Train Loss: 1.793 Train Acc: 0.328\n",
      "Epoch: 3/10 Train Loss: 1.792 Train Acc: 0.334\n",
      "Epoch: 4/10 Train Loss: 1.792 Train Acc: 0.336\n",
      "Epoch: 5/10 Train Loss: 1.795 Train Acc: 0.331\n",
      "Epoch: 6/10 Train Loss: 1.798 Train Acc: 0.328\n",
      "Epoch: 7/10 Train Loss: 1.797 Train Acc: 0.336\n",
      "Epoch: 8/10 Train Loss: 1.799 Train Acc: 0.330\n",
      "Epoch: 9/10 Train Loss: 1.796 Train Acc: 0.330\n",
      "Epoch: 0/10 Train Loss: 1.804 Train Acc: 0.326\n",
      "Epoch: 1/10 Train Loss: 1.805 Train Acc: 0.319\n",
      "Epoch: 2/10 Train Loss: 1.802 Train Acc: 0.327\n",
      "Epoch: 3/10 Train Loss: 1.801 Train Acc: 0.321\n",
      "Epoch: 4/10 Train Loss: 1.802 Train Acc: 0.320\n",
      "Epoch: 5/10 Train Loss: 1.801 Train Acc: 0.324\n",
      "Epoch: 6/10 Train Loss: 1.799 Train Acc: 0.327\n",
      "Epoch: 7/10 Train Loss: 1.797 Train Acc: 0.324\n",
      "Epoch: 8/10 Train Loss: 1.810 Train Acc: 0.318\n",
      "Epoch: 9/10 Train Loss: 1.795 Train Acc: 0.329\n"
     ]
    },
    {
     "name": "stderr",
     "output_type": "stream",
     "text": [
      " 52%|█████▏    | 13/25 [1:08:30<1:03:02, 315.20s/it]"
     ]
    },
    {
     "name": "stdout",
     "output_type": "stream",
     "text": [
      "12-th ROUND: average train loss 0.598 | test loss 2 | test acc: 0.262\n",
      "Epoch: 0/10 Train Loss: 1.786 Train Acc: 0.337\n",
      "Epoch: 1/10 Train Loss: 1.794 Train Acc: 0.328\n",
      "Epoch: 2/10 Train Loss: 1.793 Train Acc: 0.330\n",
      "Epoch: 3/10 Train Loss: 1.788 Train Acc: 0.332\n",
      "Epoch: 4/10 Train Loss: 1.789 Train Acc: 0.331\n",
      "Epoch: 5/10 Train Loss: 1.791 Train Acc: 0.332\n",
      "Epoch: 6/10 Train Loss: 1.788 Train Acc: 0.325\n",
      "Epoch: 7/10 Train Loss: 1.792 Train Acc: 0.334\n",
      "Epoch: 8/10 Train Loss: 1.782 Train Acc: 0.337\n",
      "Epoch: 9/10 Train Loss: 1.792 Train Acc: 0.333\n",
      "Epoch: 0/10 Train Loss: 1.800 Train Acc: 0.328\n",
      "Epoch: 1/10 Train Loss: 1.798 Train Acc: 0.329\n",
      "Epoch: 2/10 Train Loss: 1.797 Train Acc: 0.333\n",
      "Epoch: 3/10 Train Loss: 1.804 Train Acc: 0.329\n",
      "Epoch: 4/10 Train Loss: 1.812 Train Acc: 0.323\n",
      "Epoch: 5/10 Train Loss: 1.807 Train Acc: 0.329\n",
      "Epoch: 6/10 Train Loss: 1.800 Train Acc: 0.337\n",
      "Epoch: 7/10 Train Loss: 1.802 Train Acc: 0.338\n",
      "Epoch: 8/10 Train Loss: 1.800 Train Acc: 0.337\n",
      "Epoch: 9/10 Train Loss: 1.796 Train Acc: 0.335\n",
      "Epoch: 0/10 Train Loss: 1.807 Train Acc: 0.329\n",
      "Epoch: 1/10 Train Loss: 1.802 Train Acc: 0.330\n",
      "Epoch: 2/10 Train Loss: 1.797 Train Acc: 0.330\n",
      "Epoch: 3/10 Train Loss: 1.800 Train Acc: 0.328\n",
      "Epoch: 4/10 Train Loss: 1.803 Train Acc: 0.329\n",
      "Epoch: 5/10 Train Loss: 1.800 Train Acc: 0.323\n",
      "Epoch: 6/10 Train Loss: 1.806 Train Acc: 0.331\n",
      "Epoch: 7/10 Train Loss: 1.801 Train Acc: 0.325\n",
      "Epoch: 8/10 Train Loss: 1.802 Train Acc: 0.322\n",
      "Epoch: 9/10 Train Loss: 1.808 Train Acc: 0.323\n"
     ]
    },
    {
     "name": "stderr",
     "output_type": "stream",
     "text": [
      " 56%|█████▌    | 14/25 [1:13:45<57:45, 315.07s/it]  "
     ]
    },
    {
     "name": "stdout",
     "output_type": "stream",
     "text": [
      "13-th ROUND: average train loss 0.603 | test loss 1.9 | test acc: 0.309\n",
      "Epoch: 0/10 Train Loss: 1.799 Train Acc: 0.324\n",
      "Epoch: 1/10 Train Loss: 1.800 Train Acc: 0.327\n",
      "Epoch: 2/10 Train Loss: 1.801 Train Acc: 0.323\n",
      "Epoch: 3/10 Train Loss: 1.800 Train Acc: 0.326\n",
      "Epoch: 4/10 Train Loss: 1.801 Train Acc: 0.331\n",
      "Epoch: 5/10 Train Loss: 1.799 Train Acc: 0.320\n",
      "Epoch: 6/10 Train Loss: 1.798 Train Acc: 0.325\n",
      "Epoch: 7/10 Train Loss: 1.798 Train Acc: 0.330\n",
      "Epoch: 8/10 Train Loss: 1.806 Train Acc: 0.328\n",
      "Epoch: 9/10 Train Loss: 1.795 Train Acc: 0.329\n",
      "Epoch: 0/10 Train Loss: 1.775 Train Acc: 0.329\n",
      "Epoch: 1/10 Train Loss: 1.780 Train Acc: 0.328\n",
      "Epoch: 2/10 Train Loss: 1.786 Train Acc: 0.332\n",
      "Epoch: 3/10 Train Loss: 1.779 Train Acc: 0.333\n",
      "Epoch: 4/10 Train Loss: 1.785 Train Acc: 0.334\n",
      "Epoch: 5/10 Train Loss: 1.778 Train Acc: 0.337\n",
      "Epoch: 6/10 Train Loss: 1.782 Train Acc: 0.332\n",
      "Epoch: 7/10 Train Loss: 1.782 Train Acc: 0.335\n",
      "Epoch: 8/10 Train Loss: 1.784 Train Acc: 0.334\n",
      "Epoch: 9/10 Train Loss: 1.779 Train Acc: 0.330\n",
      "Epoch: 0/10 Train Loss: 1.795 Train Acc: 0.332\n",
      "Epoch: 1/10 Train Loss: 1.792 Train Acc: 0.333\n",
      "Epoch: 2/10 Train Loss: 1.799 Train Acc: 0.330\n",
      "Epoch: 3/10 Train Loss: 1.792 Train Acc: 0.328\n",
      "Epoch: 4/10 Train Loss: 1.799 Train Acc: 0.329\n",
      "Epoch: 5/10 Train Loss: 1.799 Train Acc: 0.332\n",
      "Epoch: 6/10 Train Loss: 1.790 Train Acc: 0.337\n",
      "Epoch: 7/10 Train Loss: 1.795 Train Acc: 0.333\n",
      "Epoch: 8/10 Train Loss: 1.800 Train Acc: 0.330\n",
      "Epoch: 9/10 Train Loss: 1.799 Train Acc: 0.334\n"
     ]
    },
    {
     "name": "stderr",
     "output_type": "stream",
     "text": [
      " 60%|██████    | 15/25 [1:19:00<52:31, 315.16s/it]"
     ]
    },
    {
     "name": "stdout",
     "output_type": "stream",
     "text": [
      "14-th ROUND: average train loss 0.6 | test loss 1.84 | test acc: 0.335\n",
      "Epoch: 0/10 Train Loss: 1.802 Train Acc: 0.328\n",
      "Epoch: 1/10 Train Loss: 1.804 Train Acc: 0.323\n",
      "Epoch: 2/10 Train Loss: 1.805 Train Acc: 0.323\n",
      "Epoch: 3/10 Train Loss: 1.803 Train Acc: 0.329\n",
      "Epoch: 4/10 Train Loss: 1.803 Train Acc: 0.334\n",
      "Epoch: 5/10 Train Loss: 1.807 Train Acc: 0.322\n",
      "Epoch: 6/10 Train Loss: 1.802 Train Acc: 0.329\n",
      "Epoch: 7/10 Train Loss: 1.803 Train Acc: 0.325\n",
      "Epoch: 8/10 Train Loss: 1.802 Train Acc: 0.325\n",
      "Epoch: 9/10 Train Loss: 1.802 Train Acc: 0.330\n",
      "Epoch: 0/10 Train Loss: 1.805 Train Acc: 0.330\n",
      "Epoch: 1/10 Train Loss: 1.799 Train Acc: 0.336\n",
      "Epoch: 2/10 Train Loss: 1.802 Train Acc: 0.331\n",
      "Epoch: 3/10 Train Loss: 1.799 Train Acc: 0.336\n",
      "Epoch: 4/10 Train Loss: 1.800 Train Acc: 0.338\n",
      "Epoch: 5/10 Train Loss: 1.801 Train Acc: 0.333\n",
      "Epoch: 6/10 Train Loss: 1.798 Train Acc: 0.334\n",
      "Epoch: 7/10 Train Loss: 1.805 Train Acc: 0.332\n",
      "Epoch: 8/10 Train Loss: 1.801 Train Acc: 0.336\n",
      "Epoch: 9/10 Train Loss: 1.798 Train Acc: 0.331\n",
      "Epoch: 0/10 Train Loss: 1.778 Train Acc: 0.337\n",
      "Epoch: 1/10 Train Loss: 1.776 Train Acc: 0.337\n",
      "Epoch: 2/10 Train Loss: 1.778 Train Acc: 0.334\n",
      "Epoch: 3/10 Train Loss: 1.785 Train Acc: 0.329\n",
      "Epoch: 4/10 Train Loss: 1.777 Train Acc: 0.336\n",
      "Epoch: 5/10 Train Loss: 1.780 Train Acc: 0.337\n",
      "Epoch: 6/10 Train Loss: 1.777 Train Acc: 0.336\n",
      "Epoch: 7/10 Train Loss: 1.780 Train Acc: 0.335\n",
      "Epoch: 8/10 Train Loss: 1.782 Train Acc: 0.334\n",
      "Epoch: 9/10 Train Loss: 1.782 Train Acc: 0.336\n"
     ]
    },
    {
     "name": "stderr",
     "output_type": "stream",
     "text": [
      " 64%|██████▍   | 16/25 [1:24:15<47:17, 315.24s/it]"
     ]
    },
    {
     "name": "stdout",
     "output_type": "stream",
     "text": [
      "15-th ROUND: average train loss 0.594 | test loss 1.8 | test acc: 0.347\n",
      "Epoch: 0/10 Train Loss: 1.800 Train Acc: 0.327\n",
      "Epoch: 1/10 Train Loss: 1.796 Train Acc: 0.335\n",
      "Epoch: 2/10 Train Loss: 1.796 Train Acc: 0.331\n",
      "Epoch: 3/10 Train Loss: 1.794 Train Acc: 0.332\n",
      "Epoch: 4/10 Train Loss: 1.791 Train Acc: 0.333\n",
      "Epoch: 5/10 Train Loss: 1.794 Train Acc: 0.336\n",
      "Epoch: 6/10 Train Loss: 1.801 Train Acc: 0.328\n",
      "Epoch: 7/10 Train Loss: 1.793 Train Acc: 0.338\n",
      "Epoch: 8/10 Train Loss: 1.795 Train Acc: 0.335\n",
      "Epoch: 9/10 Train Loss: 1.796 Train Acc: 0.332\n",
      "Epoch: 0/10 Train Loss: 1.791 Train Acc: 0.337\n",
      "Epoch: 1/10 Train Loss: 1.789 Train Acc: 0.341\n",
      "Epoch: 2/10 Train Loss: 1.791 Train Acc: 0.333\n",
      "Epoch: 3/10 Train Loss: 1.795 Train Acc: 0.337\n",
      "Epoch: 4/10 Train Loss: 1.789 Train Acc: 0.342\n",
      "Epoch: 5/10 Train Loss: 1.787 Train Acc: 0.339\n",
      "Epoch: 6/10 Train Loss: 1.790 Train Acc: 0.339\n",
      "Epoch: 7/10 Train Loss: 1.792 Train Acc: 0.332\n",
      "Epoch: 8/10 Train Loss: 1.794 Train Acc: 0.333\n",
      "Epoch: 9/10 Train Loss: 1.793 Train Acc: 0.335\n",
      "Epoch: 0/10 Train Loss: 1.792 Train Acc: 0.328\n",
      "Epoch: 1/10 Train Loss: 1.790 Train Acc: 0.337\n",
      "Epoch: 2/10 Train Loss: 1.786 Train Acc: 0.334\n",
      "Epoch: 3/10 Train Loss: 1.788 Train Acc: 0.337\n",
      "Epoch: 4/10 Train Loss: 1.793 Train Acc: 0.330\n",
      "Epoch: 5/10 Train Loss: 1.791 Train Acc: 0.332\n",
      "Epoch: 6/10 Train Loss: 1.792 Train Acc: 0.330\n",
      "Epoch: 7/10 Train Loss: 1.789 Train Acc: 0.323\n",
      "Epoch: 8/10 Train Loss: 1.788 Train Acc: 0.329\n",
      "Epoch: 9/10 Train Loss: 1.794 Train Acc: 0.330\n"
     ]
    },
    {
     "name": "stderr",
     "output_type": "stream",
     "text": [
      " 68%|██████▊   | 17/25 [1:29:30<42:00, 315.07s/it]"
     ]
    },
    {
     "name": "stdout",
     "output_type": "stream",
     "text": [
      "16-th ROUND: average train loss 0.598 | test loss 1.78 | test acc: 0.347\n",
      "Epoch: 0/10 Train Loss: 1.803 Train Acc: 0.322\n",
      "Epoch: 1/10 Train Loss: 1.796 Train Acc: 0.328\n",
      "Epoch: 2/10 Train Loss: 1.799 Train Acc: 0.321\n",
      "Epoch: 3/10 Train Loss: 1.805 Train Acc: 0.329\n",
      "Epoch: 4/10 Train Loss: 1.800 Train Acc: 0.328\n",
      "Epoch: 5/10 Train Loss: 1.798 Train Acc: 0.324\n",
      "Epoch: 6/10 Train Loss: 1.802 Train Acc: 0.321\n",
      "Epoch: 7/10 Train Loss: 1.798 Train Acc: 0.329\n",
      "Epoch: 8/10 Train Loss: 1.801 Train Acc: 0.327\n",
      "Epoch: 9/10 Train Loss: 1.798 Train Acc: 0.324\n",
      "Epoch: 0/10 Train Loss: 1.793 Train Acc: 0.332\n",
      "Epoch: 1/10 Train Loss: 1.795 Train Acc: 0.334\n",
      "Epoch: 2/10 Train Loss: 1.799 Train Acc: 0.331\n",
      "Epoch: 3/10 Train Loss: 1.797 Train Acc: 0.333\n",
      "Epoch: 4/10 Train Loss: 1.794 Train Acc: 0.330\n",
      "Epoch: 5/10 Train Loss: 1.796 Train Acc: 0.333\n",
      "Epoch: 6/10 Train Loss: 1.791 Train Acc: 0.335\n",
      "Epoch: 7/10 Train Loss: 1.795 Train Acc: 0.332\n",
      "Epoch: 8/10 Train Loss: 1.791 Train Acc: 0.337\n",
      "Epoch: 9/10 Train Loss: 1.790 Train Acc: 0.334\n",
      "Epoch: 0/10 Train Loss: 1.808 Train Acc: 0.326\n",
      "Epoch: 1/10 Train Loss: 1.800 Train Acc: 0.331\n",
      "Epoch: 2/10 Train Loss: 1.806 Train Acc: 0.324\n",
      "Epoch: 3/10 Train Loss: 1.803 Train Acc: 0.332\n",
      "Epoch: 4/10 Train Loss: 1.798 Train Acc: 0.331\n",
      "Epoch: 5/10 Train Loss: 1.802 Train Acc: 0.323\n",
      "Epoch: 6/10 Train Loss: 1.802 Train Acc: 0.336\n",
      "Epoch: 7/10 Train Loss: 1.808 Train Acc: 0.329\n",
      "Epoch: 8/10 Train Loss: 1.803 Train Acc: 0.322\n",
      "Epoch: 9/10 Train Loss: 1.806 Train Acc: 0.332\n"
     ]
    },
    {
     "name": "stderr",
     "output_type": "stream",
     "text": [
      " 72%|███████▏  | 18/25 [1:34:45<36:45, 315.00s/it]"
     ]
    },
    {
     "name": "stdout",
     "output_type": "stream",
     "text": [
      "17-th ROUND: average train loss 0.602 | test loss 1.77 | test acc: 0.346\n",
      "Epoch: 0/10 Train Loss: 1.807 Train Acc: 0.334\n",
      "Epoch: 1/10 Train Loss: 1.810 Train Acc: 0.327\n",
      "Epoch: 2/10 Train Loss: 1.805 Train Acc: 0.323\n",
      "Epoch: 3/10 Train Loss: 1.804 Train Acc: 0.330\n",
      "Epoch: 4/10 Train Loss: 1.799 Train Acc: 0.328\n",
      "Epoch: 5/10 Train Loss: 1.804 Train Acc: 0.324\n",
      "Epoch: 6/10 Train Loss: 1.809 Train Acc: 0.322\n",
      "Epoch: 7/10 Train Loss: 1.802 Train Acc: 0.331\n",
      "Epoch: 8/10 Train Loss: 1.808 Train Acc: 0.327\n",
      "Epoch: 9/10 Train Loss: 1.805 Train Acc: 0.329\n",
      "Epoch: 0/10 Train Loss: 1.790 Train Acc: 0.325\n",
      "Epoch: 1/10 Train Loss: 1.792 Train Acc: 0.331\n",
      "Epoch: 2/10 Train Loss: 1.788 Train Acc: 0.329\n",
      "Epoch: 3/10 Train Loss: 1.792 Train Acc: 0.330\n",
      "Epoch: 4/10 Train Loss: 1.791 Train Acc: 0.331\n",
      "Epoch: 5/10 Train Loss: 1.793 Train Acc: 0.323\n",
      "Epoch: 6/10 Train Loss: 1.798 Train Acc: 0.330\n",
      "Epoch: 7/10 Train Loss: 1.789 Train Acc: 0.336\n",
      "Epoch: 8/10 Train Loss: 1.788 Train Acc: 0.328\n",
      "Epoch: 9/10 Train Loss: 1.794 Train Acc: 0.326\n",
      "Epoch: 0/10 Train Loss: 1.799 Train Acc: 0.328\n",
      "Epoch: 1/10 Train Loss: 1.791 Train Acc: 0.336\n",
      "Epoch: 2/10 Train Loss: 1.784 Train Acc: 0.333\n",
      "Epoch: 3/10 Train Loss: 1.785 Train Acc: 0.331\n",
      "Epoch: 4/10 Train Loss: 1.790 Train Acc: 0.333\n",
      "Epoch: 5/10 Train Loss: 1.789 Train Acc: 0.336\n",
      "Epoch: 6/10 Train Loss: 1.785 Train Acc: 0.334\n",
      "Epoch: 7/10 Train Loss: 1.789 Train Acc: 0.327\n",
      "Epoch: 8/10 Train Loss: 1.787 Train Acc: 0.332\n",
      "Epoch: 9/10 Train Loss: 1.781 Train Acc: 0.331\n"
     ]
    },
    {
     "name": "stderr",
     "output_type": "stream",
     "text": [
      " 76%|███████▌  | 19/25 [1:39:59<31:29, 314.88s/it]"
     ]
    },
    {
     "name": "stdout",
     "output_type": "stream",
     "text": [
      "18-th ROUND: average train loss 0.594 | test loss 1.77 | test acc: 0.345\n",
      "Epoch: 0/10 Train Loss: 1.796 Train Acc: 0.329\n",
      "Epoch: 1/10 Train Loss: 1.795 Train Acc: 0.339\n",
      "Epoch: 2/10 Train Loss: 1.799 Train Acc: 0.321\n",
      "Epoch: 3/10 Train Loss: 1.796 Train Acc: 0.328\n",
      "Epoch: 4/10 Train Loss: 1.798 Train Acc: 0.333\n",
      "Epoch: 5/10 Train Loss: 1.802 Train Acc: 0.328\n",
      "Epoch: 6/10 Train Loss: 1.803 Train Acc: 0.317\n",
      "Epoch: 7/10 Train Loss: 1.802 Train Acc: 0.327\n",
      "Epoch: 8/10 Train Loss: 1.805 Train Acc: 0.326\n",
      "Epoch: 9/10 Train Loss: 1.798 Train Acc: 0.331\n",
      "Epoch: 0/10 Train Loss: 1.799 Train Acc: 0.319\n",
      "Epoch: 1/10 Train Loss: 1.796 Train Acc: 0.323\n",
      "Epoch: 2/10 Train Loss: 1.805 Train Acc: 0.322\n",
      "Epoch: 3/10 Train Loss: 1.799 Train Acc: 0.325\n",
      "Epoch: 4/10 Train Loss: 1.796 Train Acc: 0.333\n",
      "Epoch: 5/10 Train Loss: 1.798 Train Acc: 0.319\n",
      "Epoch: 6/10 Train Loss: 1.804 Train Acc: 0.324\n",
      "Epoch: 7/10 Train Loss: 1.798 Train Acc: 0.327\n",
      "Epoch: 8/10 Train Loss: 1.797 Train Acc: 0.328\n",
      "Epoch: 9/10 Train Loss: 1.804 Train Acc: 0.327\n",
      "Epoch: 0/10 Train Loss: 1.789 Train Acc: 0.337\n",
      "Epoch: 1/10 Train Loss: 1.793 Train Acc: 0.331\n",
      "Epoch: 2/10 Train Loss: 1.790 Train Acc: 0.340\n",
      "Epoch: 3/10 Train Loss: 1.795 Train Acc: 0.335\n",
      "Epoch: 4/10 Train Loss: 1.794 Train Acc: 0.332\n",
      "Epoch: 5/10 Train Loss: 1.792 Train Acc: 0.333\n",
      "Epoch: 6/10 Train Loss: 1.799 Train Acc: 0.337\n",
      "Epoch: 7/10 Train Loss: 1.792 Train Acc: 0.335\n",
      "Epoch: 8/10 Train Loss: 1.799 Train Acc: 0.330\n",
      "Epoch: 9/10 Train Loss: 1.793 Train Acc: 0.331\n"
     ]
    },
    {
     "name": "stderr",
     "output_type": "stream",
     "text": [
      " 80%|████████  | 20/25 [1:45:14<26:14, 314.91s/it]"
     ]
    },
    {
     "name": "stdout",
     "output_type": "stream",
     "text": [
      "19-th ROUND: average train loss 0.598 | test loss 1.77 | test acc: 0.343\n",
      "Epoch: 0/10 Train Loss: 1.793 Train Acc: 0.327\n",
      "Epoch: 1/10 Train Loss: 1.789 Train Acc: 0.331\n",
      "Epoch: 2/10 Train Loss: 1.783 Train Acc: 0.332\n",
      "Epoch: 3/10 Train Loss: 1.789 Train Acc: 0.338\n",
      "Epoch: 4/10 Train Loss: 1.789 Train Acc: 0.335\n",
      "Epoch: 5/10 Train Loss: 1.788 Train Acc: 0.331\n",
      "Epoch: 6/10 Train Loss: 1.784 Train Acc: 0.336\n",
      "Epoch: 7/10 Train Loss: 1.789 Train Acc: 0.333\n",
      "Epoch: 8/10 Train Loss: 1.782 Train Acc: 0.339\n",
      "Epoch: 9/10 Train Loss: 1.790 Train Acc: 0.329\n",
      "Epoch: 0/10 Train Loss: 1.781 Train Acc: 0.338\n",
      "Epoch: 1/10 Train Loss: 1.783 Train Acc: 0.329\n",
      "Epoch: 2/10 Train Loss: 1.782 Train Acc: 0.336\n",
      "Epoch: 3/10 Train Loss: 1.786 Train Acc: 0.331\n",
      "Epoch: 4/10 Train Loss: 1.773 Train Acc: 0.334\n",
      "Epoch: 5/10 Train Loss: 1.781 Train Acc: 0.336\n",
      "Epoch: 6/10 Train Loss: 1.784 Train Acc: 0.339\n",
      "Epoch: 7/10 Train Loss: 1.782 Train Acc: 0.330\n",
      "Epoch: 8/10 Train Loss: 1.783 Train Acc: 0.335\n",
      "Epoch: 9/10 Train Loss: 1.778 Train Acc: 0.337\n",
      "Epoch: 0/10 Train Loss: 1.796 Train Acc: 0.330\n",
      "Epoch: 1/10 Train Loss: 1.791 Train Acc: 0.334\n",
      "Epoch: 2/10 Train Loss: 1.792 Train Acc: 0.336\n",
      "Epoch: 3/10 Train Loss: 1.794 Train Acc: 0.333\n",
      "Epoch: 4/10 Train Loss: 1.796 Train Acc: 0.324\n",
      "Epoch: 5/10 Train Loss: 1.790 Train Acc: 0.336\n",
      "Epoch: 6/10 Train Loss: 1.791 Train Acc: 0.335\n",
      "Epoch: 7/10 Train Loss: 1.793 Train Acc: 0.338\n",
      "Epoch: 8/10 Train Loss: 1.792 Train Acc: 0.337\n",
      "Epoch: 9/10 Train Loss: 1.789 Train Acc: 0.337\n"
     ]
    },
    {
     "name": "stderr",
     "output_type": "stream",
     "text": [
      " 84%|████████▍ | 21/25 [1:50:29<20:58, 314.73s/it]"
     ]
    },
    {
     "name": "stdout",
     "output_type": "stream",
     "text": [
      "20-th ROUND: average train loss 0.596 | test loss 1.76 | test acc: 0.343\n",
      "Epoch: 0/10 Train Loss: 1.794 Train Acc: 0.342\n",
      "Epoch: 1/10 Train Loss: 1.791 Train Acc: 0.333\n",
      "Epoch: 2/10 Train Loss: 1.790 Train Acc: 0.342\n",
      "Epoch: 3/10 Train Loss: 1.796 Train Acc: 0.328\n",
      "Epoch: 4/10 Train Loss: 1.794 Train Acc: 0.330\n",
      "Epoch: 5/10 Train Loss: 1.789 Train Acc: 0.334\n",
      "Epoch: 6/10 Train Loss: 1.791 Train Acc: 0.335\n",
      "Epoch: 7/10 Train Loss: 1.789 Train Acc: 0.336\n",
      "Epoch: 8/10 Train Loss: 1.790 Train Acc: 0.340\n",
      "Epoch: 9/10 Train Loss: 1.784 Train Acc: 0.334\n",
      "Epoch: 0/10 Train Loss: 1.788 Train Acc: 0.334\n",
      "Epoch: 1/10 Train Loss: 1.792 Train Acc: 0.327\n",
      "Epoch: 2/10 Train Loss: 1.788 Train Acc: 0.331\n",
      "Epoch: 3/10 Train Loss: 1.793 Train Acc: 0.323\n",
      "Epoch: 4/10 Train Loss: 1.794 Train Acc: 0.329\n",
      "Epoch: 5/10 Train Loss: 1.790 Train Acc: 0.337\n",
      "Epoch: 6/10 Train Loss: 1.793 Train Acc: 0.334\n",
      "Epoch: 7/10 Train Loss: 1.788 Train Acc: 0.336\n",
      "Epoch: 8/10 Train Loss: 1.797 Train Acc: 0.328\n",
      "Epoch: 9/10 Train Loss: 1.784 Train Acc: 0.334\n",
      "Epoch: 0/10 Train Loss: 1.785 Train Acc: 0.338\n",
      "Epoch: 1/10 Train Loss: 1.780 Train Acc: 0.331\n",
      "Epoch: 2/10 Train Loss: 1.779 Train Acc: 0.334\n",
      "Epoch: 3/10 Train Loss: 1.782 Train Acc: 0.335\n",
      "Epoch: 4/10 Train Loss: 1.777 Train Acc: 0.331\n",
      "Epoch: 5/10 Train Loss: 1.779 Train Acc: 0.336\n",
      "Epoch: 6/10 Train Loss: 1.783 Train Acc: 0.334\n",
      "Epoch: 7/10 Train Loss: 1.784 Train Acc: 0.333\n",
      "Epoch: 8/10 Train Loss: 1.780 Train Acc: 0.339\n",
      "Epoch: 9/10 Train Loss: 1.778 Train Acc: 0.333\n"
     ]
    },
    {
     "name": "stderr",
     "output_type": "stream",
     "text": [
      " 88%|████████▊ | 22/25 [1:55:44<15:44, 314.92s/it]"
     ]
    },
    {
     "name": "stdout",
     "output_type": "stream",
     "text": [
      "21-th ROUND: average train loss 0.593 | test loss 1.76 | test acc: 0.342\n",
      "Epoch: 0/10 Train Loss: 1.807 Train Acc: 0.332\n",
      "Epoch: 1/10 Train Loss: 1.799 Train Acc: 0.336\n",
      "Epoch: 2/10 Train Loss: 1.797 Train Acc: 0.334\n",
      "Epoch: 3/10 Train Loss: 1.802 Train Acc: 0.332\n",
      "Epoch: 4/10 Train Loss: 1.800 Train Acc: 0.337\n",
      "Epoch: 5/10 Train Loss: 1.800 Train Acc: 0.337\n",
      "Epoch: 6/10 Train Loss: 1.803 Train Acc: 0.330\n",
      "Epoch: 7/10 Train Loss: 1.801 Train Acc: 0.335\n",
      "Epoch: 8/10 Train Loss: 1.799 Train Acc: 0.336\n",
      "Epoch: 9/10 Train Loss: 1.799 Train Acc: 0.332\n",
      "Epoch: 0/10 Train Loss: 1.799 Train Acc: 0.332\n",
      "Epoch: 1/10 Train Loss: 1.793 Train Acc: 0.325\n",
      "Epoch: 2/10 Train Loss: 1.796 Train Acc: 0.332\n",
      "Epoch: 3/10 Train Loss: 1.797 Train Acc: 0.333\n",
      "Epoch: 4/10 Train Loss: 1.801 Train Acc: 0.328\n",
      "Epoch: 5/10 Train Loss: 1.801 Train Acc: 0.323\n",
      "Epoch: 6/10 Train Loss: 1.805 Train Acc: 0.322\n",
      "Epoch: 7/10 Train Loss: 1.804 Train Acc: 0.327\n",
      "Epoch: 8/10 Train Loss: 1.803 Train Acc: 0.325\n",
      "Epoch: 9/10 Train Loss: 1.798 Train Acc: 0.331\n",
      "Epoch: 0/10 Train Loss: 1.799 Train Acc: 0.332\n",
      "Epoch: 1/10 Train Loss: 1.792 Train Acc: 0.331\n",
      "Epoch: 2/10 Train Loss: 1.799 Train Acc: 0.323\n",
      "Epoch: 3/10 Train Loss: 1.803 Train Acc: 0.326\n",
      "Epoch: 4/10 Train Loss: 1.798 Train Acc: 0.327\n",
      "Epoch: 5/10 Train Loss: 1.794 Train Acc: 0.332\n",
      "Epoch: 6/10 Train Loss: 1.797 Train Acc: 0.327\n",
      "Epoch: 7/10 Train Loss: 1.802 Train Acc: 0.327\n",
      "Epoch: 8/10 Train Loss: 1.799 Train Acc: 0.331\n",
      "Epoch: 9/10 Train Loss: 1.801 Train Acc: 0.327\n"
     ]
    },
    {
     "name": "stderr",
     "output_type": "stream",
     "text": [
      " 92%|█████████▏| 23/25 [2:00:59<10:29, 314.93s/it]"
     ]
    },
    {
     "name": "stdout",
     "output_type": "stream",
     "text": [
      "22-th ROUND: average train loss 0.6 | test loss 1.76 | test acc: 0.342\n",
      "Epoch: 0/10 Train Loss: 1.796 Train Acc: 0.332\n",
      "Epoch: 1/10 Train Loss: 1.797 Train Acc: 0.328\n",
      "Epoch: 2/10 Train Loss: 1.798 Train Acc: 0.330\n",
      "Epoch: 3/10 Train Loss: 1.800 Train Acc: 0.330\n",
      "Epoch: 4/10 Train Loss: 1.799 Train Acc: 0.334\n",
      "Epoch: 5/10 Train Loss: 1.797 Train Acc: 0.327\n",
      "Epoch: 6/10 Train Loss: 1.792 Train Acc: 0.337\n",
      "Epoch: 7/10 Train Loss: 1.791 Train Acc: 0.334\n",
      "Epoch: 8/10 Train Loss: 1.795 Train Acc: 0.330\n",
      "Epoch: 9/10 Train Loss: 1.802 Train Acc: 0.329\n",
      "Epoch: 0/10 Train Loss: 1.799 Train Acc: 0.328\n",
      "Epoch: 1/10 Train Loss: 1.800 Train Acc: 0.329\n",
      "Epoch: 2/10 Train Loss: 1.800 Train Acc: 0.330\n",
      "Epoch: 3/10 Train Loss: 1.805 Train Acc: 0.328\n",
      "Epoch: 4/10 Train Loss: 1.802 Train Acc: 0.328\n",
      "Epoch: 5/10 Train Loss: 1.798 Train Acc: 0.331\n",
      "Epoch: 6/10 Train Loss: 1.803 Train Acc: 0.334\n",
      "Epoch: 7/10 Train Loss: 1.801 Train Acc: 0.331\n",
      "Epoch: 8/10 Train Loss: 1.801 Train Acc: 0.330\n",
      "Epoch: 9/10 Train Loss: 1.805 Train Acc: 0.321\n",
      "Epoch: 0/10 Train Loss: 1.798 Train Acc: 0.332\n",
      "Epoch: 1/10 Train Loss: 1.799 Train Acc: 0.327\n",
      "Epoch: 2/10 Train Loss: 1.799 Train Acc: 0.326\n",
      "Epoch: 3/10 Train Loss: 1.807 Train Acc: 0.327\n",
      "Epoch: 4/10 Train Loss: 1.795 Train Acc: 0.330\n",
      "Epoch: 5/10 Train Loss: 1.799 Train Acc: 0.324\n",
      "Epoch: 6/10 Train Loss: 1.803 Train Acc: 0.326\n",
      "Epoch: 7/10 Train Loss: 1.802 Train Acc: 0.323\n",
      "Epoch: 8/10 Train Loss: 1.795 Train Acc: 0.329\n",
      "Epoch: 9/10 Train Loss: 1.801 Train Acc: 0.326\n"
     ]
    },
    {
     "name": "stderr",
     "output_type": "stream",
     "text": [
      " 96%|█████████▌| 24/25 [2:06:14<05:14, 314.99s/it]"
     ]
    },
    {
     "name": "stdout",
     "output_type": "stream",
     "text": [
      "23-th ROUND: average train loss 0.6 | test loss 1.76 | test acc: 0.343\n",
      "Epoch: 0/10 Train Loss: 1.789 Train Acc: 0.337\n",
      "Epoch: 1/10 Train Loss: 1.794 Train Acc: 0.331\n",
      "Epoch: 2/10 Train Loss: 1.793 Train Acc: 0.329\n",
      "Epoch: 3/10 Train Loss: 1.793 Train Acc: 0.334\n",
      "Epoch: 4/10 Train Loss: 1.787 Train Acc: 0.333\n",
      "Epoch: 5/10 Train Loss: 1.793 Train Acc: 0.337\n",
      "Epoch: 6/10 Train Loss: 1.797 Train Acc: 0.329\n",
      "Epoch: 7/10 Train Loss: 1.793 Train Acc: 0.340\n",
      "Epoch: 8/10 Train Loss: 1.791 Train Acc: 0.331\n",
      "Epoch: 9/10 Train Loss: 1.791 Train Acc: 0.329\n",
      "Epoch: 0/10 Train Loss: 1.779 Train Acc: 0.336\n",
      "Epoch: 1/10 Train Loss: 1.777 Train Acc: 0.334\n",
      "Epoch: 2/10 Train Loss: 1.776 Train Acc: 0.339\n",
      "Epoch: 3/10 Train Loss: 1.784 Train Acc: 0.335\n",
      "Epoch: 4/10 Train Loss: 1.783 Train Acc: 0.329\n",
      "Epoch: 5/10 Train Loss: 1.782 Train Acc: 0.343\n",
      "Epoch: 6/10 Train Loss: 1.780 Train Acc: 0.333\n",
      "Epoch: 7/10 Train Loss: 1.781 Train Acc: 0.331\n",
      "Epoch: 8/10 Train Loss: 1.784 Train Acc: 0.328\n",
      "Epoch: 9/10 Train Loss: 1.779 Train Acc: 0.336\n",
      "Epoch: 0/10 Train Loss: 1.802 Train Acc: 0.323\n",
      "Epoch: 1/10 Train Loss: 1.801 Train Acc: 0.327\n",
      "Epoch: 2/10 Train Loss: 1.795 Train Acc: 0.329\n",
      "Epoch: 3/10 Train Loss: 1.802 Train Acc: 0.331\n",
      "Epoch: 4/10 Train Loss: 1.799 Train Acc: 0.326\n",
      "Epoch: 5/10 Train Loss: 1.804 Train Acc: 0.323\n",
      "Epoch: 6/10 Train Loss: 1.802 Train Acc: 0.317\n",
      "Epoch: 7/10 Train Loss: 1.796 Train Acc: 0.332\n",
      "Epoch: 8/10 Train Loss: 1.802 Train Acc: 0.332\n",
      "Epoch: 9/10 Train Loss: 1.803 Train Acc: 0.321\n"
     ]
    },
    {
     "name": "stderr",
     "output_type": "stream",
     "text": [
      "100%|██████████| 25/25 [2:11:30<00:00, 315.61s/it]"
     ]
    },
    {
     "name": "stdout",
     "output_type": "stream",
     "text": [
      "24-th ROUND: average train loss 0.601 | test loss 1.76 | test acc: 0.344\n"
     ]
    },
    {
     "name": "stderr",
     "output_type": "stream",
     "text": [
      "\n"
     ]
    }
   ],
   "source": [
    "# initialize lists to store the training and testing losses and accuracies\n",
    "train_losses = []\n",
    "test_losses = []\n",
    "train_accs = []\n",
    "test_accs = []\n",
    "\n",
    "for round in tqdm(range(rounds)):\n",
    "\n",
    "\n",
    "    # Select n random clients\n",
    "    selected_clients = np.random.permutation(num_clients)[:clients_sample_size]\n",
    "    # Train the selected clients\n",
    "    for client in selected_clients:\n",
    "        # Individual criterion and optimizer\n",
    "\n",
    "        train_loss, train_acc = qtrain_model(model = client_models[client],\n",
    "                                             train_loader = train_loaders[client],\n",
    "                                             device = device,\n",
    "                                             criterion = criterion,\n",
    "                                             optimizer = optimizers[client],\n",
    "                                             num_epochs=epoch,\n",
    "                                             bits = quantize_bits)\n",
    "    train_losses.append(train_loss)\n",
    "    train_accs.append(train_acc)\n",
    "\n",
    "    # Aggregate\n",
    "    server_aggregate(global_model, client_models)\n",
    "\n",
    "    # Test the global model\n",
    "    test_loss, test_acc = evaluate_model(model=global_model,\n",
    "                                         test_loader=test_loader,\n",
    "                                         device=device,\n",
    "                                         criterion=criterion)\n",
    "\n",
    "    test_losses.append(test_loss)\n",
    "    test_accs.append(test_acc)\n",
    "    \n",
    "    print(f\"{round}-th ROUND: average train loss {(train_loss / clients_sample_size):0.3g} | test loss {test_loss:0.3g} | test acc: {test_acc:0.3f}\")\n",
    "    \n",
    "    "
   ]
  },
  {
   "cell_type": "code",
   "execution_count": 8,
   "metadata": {},
   "outputs": [
    {
     "data": {
      "image/png": "[encoded data removed]",
      "text/plain": [
       "<Figure size 640x480 with 1 Axes>"
      ]
     },
     "metadata": {},
     "output_type": "display_data"
    }
   ],
   "source": [
    "# plot the training loss\n",
    "sns.set(style='darkgrid')\n",
    "plt.plot(train_losses)\n",
    "plt.title('Training Loss')\n",
    "plt.xlabel('Epoch')\n",
    "plt.ylabel('Loss')\n",
    "plt.show()"
   ]
  },
  {
   "cell_type": "code",
   "execution_count": 9,
   "metadata": {},
   "outputs": [],
   "source": [
    "train_accs = [d.item() for d in train_accs]\n",
    "test_accs = [d.item() for d in test_accs]"
   ]
  },
  {
   "cell_type": "code",
   "execution_count": 10,
   "metadata": {},
   "outputs": [
    {
     "data": {
      "image/png": "[encoded data removed]",
      "text/plain": [
       "<Figure size 640x480 with 1 Axes>"
      ]
     },
     "metadata": {},
     "output_type": "display_data"
    }
   ],
   "source": [
    "# plot the training and testing accuracies\n",
    "sns.set(style='darkgrid')\n",
    "plt.plot(train_accs, label='Train Acc')\n",
    "plt.plot(test_accs, label='Test Acc')\n",
    "plt.title('Training and Testing Accuracies')\n",
    "plt.xlabel('Epoch')\n",
    "plt.ylabel('Accuracy')\n",
    "plt.legend()\n",
    "plt.show()\n"
   ]
  },
  {
   "cell_type": "code",
   "execution_count": 14,
   "metadata": {},
   "outputs": [
    {
     "name": "stdout",
     "output_type": "stream",
     "text": [
      "Loss: 0.0, Accuracy: 34.369998931884766%\n",
      "44.77 MB\n",
      "CPU Inference Latency: 7.22 ms / sample\n",
      "CUDA Inference Latency: 7.52 ms / sample\n"
     ]
    }
   ],
   "source": [
    "cuda_device = torch.device(\"cuda:0\")\n",
    "cpu_device = torch.device(\"cpu:0\")\n",
    "# Test the model\n",
    "loss, acc = evaluate_model(global_model, test_loader, device,)\n",
    "print(f'Loss: {loss}, Accuracy: {acc*100}%')\n",
    "print_model_size(global_model)\n",
    "\n",
    "# Measure inference latency\n",
    "cpu_inference_latency = measure_inference_latency(model=global_model, device=cpu_device, input_size=(1,3,32,32), num_samples=100)\n",
    "gpu_inference_latency = measure_inference_latency(model=global_model, device=cuda_device, input_size=(1,3,32,32), num_samples=100)\n",
    "print(\"CPU Inference Latency: {:.2f} ms / sample\".format(cpu_inference_latency * 1000))\n",
    "print(\"CUDA Inference Latency: {:.2f} ms / sample\".format(gpu_inference_latency * 1000))"
   ]
  },
  {
   "cell_type": "code",
   "execution_count": 12,
   "metadata": {},
   "outputs": [],
   "source": [
    "save_model(global_model, \"saved_models\", f'resnet_fedlern_{quantize_bits}bits_{time_stamp()}.pth')"
   ]
  },
  {
   "cell_type": "code",
   "execution_count": 13,
   "metadata": {},
   "outputs": [],
   "source": [
    "pass"
   ]
  }
 ],
 "metadata": {
  "kernelspec": {
   "display_name": "Python 3",
   "language": "python",
   "name": "python3"
  },
  "language_info": {
   "codemirror_mode": {
    "name": "ipython",
    "version": 3
   },
   "file_extension": ".py",
   "mimetype": "text/x-python",
   "name": "python",
   "nbconvert_exporter": "python",
   "pygments_lexer": "ipython3",
   "version": "3.8.0"
  },
  "orig_nbformat": 4
 },
 "nbformat": 4,
 "nbformat_minor": 2
}
