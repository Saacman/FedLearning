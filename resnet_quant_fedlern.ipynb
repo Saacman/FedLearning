{
 "cells": [
  {
   "attachments": {},
   "cell_type": "markdown",
   "metadata": {},
   "source": [
    "# Federated Learning + Linear Quantization for RESNET18 & CIFAR10"
   ]
  },
  {
   "cell_type": "code",
   "execution_count": 1,
   "metadata": {},
   "outputs": [],
   "source": [
    "import torch\n",
    "import torch.nn as nn\n",
    "import torch.optim as optim\n",
    "import torchvision.datasets as datasets\n",
    "import torchvision.transforms as transforms\n",
    "import matplotlib.pyplot as plt\n",
    "from torch.utils.data import DataLoader\n",
    "\n",
    "import numpy as np\n",
    "from tqdm import tqdm\n",
    "import seaborn as sns\n",
    "from fedlern.utils import *\n",
    "from fedlern.train_utils import *\n",
    "from fedlern.quant_utils import *\n",
    "from fedlern.models.resnet_v2 import ResNet18"
   ]
  },
  {
   "attachments": {},
   "cell_type": "markdown",
   "metadata": {},
   "source": [
    "## Relevant Parameters"
   ]
  },
  {
   "cell_type": "code",
   "execution_count": 2,
   "metadata": {},
   "outputs": [],
   "source": [
    "epoch = 6\n",
    "rounds = 40#25\n",
    "num_clients = 10\n",
    "\n",
    "clients_sample_size = int(.5 * num_clients) # Use 30% of available clients\n",
    "num_workers = 8\n",
    "train_batch_size = 32 #128\n",
    "eval_batch_size= 32 #256\n",
    "quantize_bits = 32\n",
    "stats = (0.49139968, 0.48215841, 0.44653091), (0.24703223, 0.24348513, 0.26158784)"
   ]
  },
  {
   "attachments": {},
   "cell_type": "markdown",
   "metadata": {},
   "source": [
    "## Data Loaders\n",
    "- Divide the test & training data\n",
    "- Divide the training data among the clients"
   ]
  },
  {
   "cell_type": "code",
   "execution_count": 3,
   "metadata": {},
   "outputs": [
    {
     "name": "stdout",
     "output_type": "stream",
     "text": [
      "Files already downloaded and verified\n"
     ]
    }
   ],
   "source": [
    " # Data augmentation and normalization for training\n",
    "transform_train = transforms.Compose([\n",
    "    transforms.RandomCrop(32, padding=4),\n",
    "    transforms.RandomHorizontalFlip(),\n",
    "    transforms.ToTensor(),\n",
    "    transforms.Normalize(*stats)\n",
    "])\n",
    "\n",
    "# Normalization for testing\n",
    "transform_test = transforms.Compose([\n",
    "    transforms.ToTensor(),\n",
    "    transforms.Normalize(*stats)\n",
    "])\n",
    "\n",
    "# CIFAR-10 dataset\n",
    "train_dataset = datasets.CIFAR10(root='./data', train=True, transform=transform_train, download=True)\n",
    "test_dataset = datasets.CIFAR10(root='./data', train=False, transform=transform_test)\n",
    "\n",
    "# split the training data\n",
    "train_splits = torch.utils.data.random_split(train_dataset, [int(train_dataset.data.shape[0]/num_clients) for i in range(num_clients)])\n",
    "\n",
    "# Data loaders\n",
    "train_loaders = [DataLoader(dataset=split, batch_size=train_batch_size, shuffle=True, num_workers=num_workers) for split in train_splits]\n",
    "test_loader = DataLoader(dataset=test_dataset, batch_size=eval_batch_size, shuffle=False, num_workers=num_workers)\n",
    "\n",
    "device = torch.device('cuda' if torch.cuda.is_available() else 'cpu')\n"
   ]
  },
  {
   "attachments": {},
   "cell_type": "markdown",
   "metadata": {},
   "source": [
    "\n",
    "- `server_aggregate` function aggregates the model weights received from every client and updates the global model with the updated weights."
   ]
  },
  {
   "cell_type": "code",
   "execution_count": 4,
   "metadata": {},
   "outputs": [],
   "source": [
    "\n",
    "def server_aggregate(global_model : torch.nn.Module, client_models):\n",
    "    \"\"\"\n",
    "    The means of the weights of the client models are aggregated to the global model\n",
    "    \"\"\"\n",
    "    global_dict = global_model.state_dict() # Get a copy of the global model state_dict\n",
    "    for key in global_dict.keys():\n",
    "        global_dict[key] = torch.stack([client_models[i].state_dict()[key].float() for i in range(len(client_models))],0).mean(0)\n",
    "    global_model.load_state_dict(global_dict)\n",
    "    \n",
    "    # Update the client models using the global model\n",
    "    for model in client_models:\n",
    "        model.load_state_dict(global_model.state_dict())"
   ]
  },
  {
   "attachments": {},
   "cell_type": "markdown",
   "metadata": {},
   "source": [
    "## Global & Clients instatiation\n",
    "Implement the same elements as before, but:\n",
    "- We need more instances of the model\n",
    "- An optimizer for each model"
   ]
  },
  {
   "cell_type": "code",
   "execution_count": 5,
   "metadata": {},
   "outputs": [],
   "source": [
    "global_model = ResNet18().to(device)\n",
    "client_models = [ResNet18()\n",
    "                     .to(device)\n",
    "                     #.load_state_dict(global_model.state_dict())\n",
    "                  for _ in range(num_clients)]\n"
   ]
  },
  {
   "cell_type": "code",
   "execution_count": 6,
   "metadata": {},
   "outputs": [],
   "source": [
    "# Optimizer & criterion based on gobal model\n",
    "global_optimizer = get_model_optimizer(global_model,\n",
    "                                       learning_rate=0.1,\n",
    "                                       weight_decay=5e-4)\n",
    "\n",
    "#scheduler = optim.lr_scheduler.MultiStepLR(optimizer, milestones=[80,120,160], gamma=0.1)\n",
    "criterion = nn.CrossEntropyLoss().to(device) # computes the cross-entropy loss between the predicted and true labels\n",
    "\n",
    "optimizers = [get_model_optimizer(model,learning_rate=0.1, weight_decay=5e-4) for model in client_models]\n",
    "\n",
    "optimizers_quant = [get_model_optimizer(model,learning_rate=0.1, weight_decay=5e-4) for model in client_models]\n"
   ]
  },
  {
   "cell_type": "code",
   "execution_count": 7,
   "metadata": {},
   "outputs": [
    {
     "name": "stderr",
     "output_type": "stream",
     "text": [
      "  0%|          | 0/40 [00:00<?, ?it/s]"
     ]
    },
    {
     "name": "stdout",
     "output_type": "stream",
     "text": [
      "Epoch: 0/6 Train Loss: 3.088 Train Acc: 0.161\n",
      "Epoch: 1/6 Train Loss: 2.139 Train Acc: 0.193\n",
      "Epoch: 2/6 Train Loss: 2.136 Train Acc: 0.196\n",
      "Epoch: 3/6 Train Loss: 2.135 Train Acc: 0.201\n",
      "Epoch: 4/6 Train Loss: 2.135 Train Acc: 0.194\n",
      "Epoch: 5/6 Train Loss: 2.126 Train Acc: 0.198\n",
      "Epoch: 0/6 Train Loss: 2.907 Train Acc: 0.136\n",
      "Epoch: 1/6 Train Loss: 2.232 Train Acc: 0.169\n",
      "Epoch: 2/6 Train Loss: 2.228 Train Acc: 0.162\n",
      "Epoch: 3/6 Train Loss: 2.230 Train Acc: 0.164\n",
      "Epoch: 4/6 Train Loss: 2.219 Train Acc: 0.170\n",
      "Epoch: 5/6 Train Loss: 2.226 Train Acc: 0.169\n",
      "Epoch: 0/6 Train Loss: 2.806 Train Acc: 0.137\n",
      "Epoch: 1/6 Train Loss: 2.191 Train Acc: 0.169\n",
      "Epoch: 2/6 Train Loss: 2.188 Train Acc: 0.165\n",
      "Epoch: 3/6 Train Loss: 2.188 Train Acc: 0.164\n",
      "Epoch: 4/6 Train Loss: 2.193 Train Acc: 0.169\n",
      "Epoch: 5/6 Train Loss: 2.187 Train Acc: 0.174\n",
      "Epoch: 0/6 Train Loss: 2.516 Train Acc: 0.175\n",
      "Epoch: 1/6 Train Loss: 2.052 Train Acc: 0.204\n",
      "Epoch: 2/6 Train Loss: 2.059 Train Acc: 0.202\n",
      "Epoch: 3/6 Train Loss: 2.046 Train Acc: 0.208\n",
      "Epoch: 4/6 Train Loss: 2.036 Train Acc: 0.209\n",
      "Epoch: 5/6 Train Loss: 2.035 Train Acc: 0.214\n",
      "Epoch: 0/6 Train Loss: 2.767 Train Acc: 0.140\n",
      "Epoch: 1/6 Train Loss: 2.181 Train Acc: 0.169\n",
      "Epoch: 2/6 Train Loss: 2.185 Train Acc: 0.173\n",
      "Epoch: 3/6 Train Loss: 2.180 Train Acc: 0.176\n",
      "Epoch: 4/6 Train Loss: 2.180 Train Acc: 0.179\n",
      "Epoch: 5/6 Train Loss: 2.176 Train Acc: 0.175\n"
     ]
    },
    {
     "name": "stderr",
     "output_type": "stream",
     "text": [
      "  2%|▎         | 1/40 [06:06<3:58:20, 366.68s/it]"
     ]
    },
    {
     "name": "stdout",
     "output_type": "stream",
     "text": [
      "0-th ROUND: average train loss 0.435 | test loss 2.3 | test acc: 0.100\n",
      "Epoch: 0/6 Train Loss: 2.126 Train Acc: 0.176\n",
      "Epoch: 1/6 Train Loss: 1.991 Train Acc: 0.215\n",
      "Epoch: 2/6 Train Loss: 1.982 Train Acc: 0.230\n",
      "Epoch: 3/6 Train Loss: 1.991 Train Acc: 0.227\n",
      "Epoch: 4/6 Train Loss: 1.986 Train Acc: 0.227\n",
      "Epoch: 5/6 Train Loss: 1.983 Train Acc: 0.228\n",
      "Epoch: 0/6 Train Loss: 2.450 Train Acc: 0.102\n",
      "Epoch: 1/6 Train Loss: 2.427 Train Acc: 0.108\n",
      "Epoch: 2/6 Train Loss: 2.421 Train Acc: 0.097\n",
      "Epoch: 3/6 Train Loss: 2.419 Train Acc: 0.101\n",
      "Epoch: 4/6 Train Loss: 2.421 Train Acc: 0.102\n",
      "Epoch: 5/6 Train Loss: 2.413 Train Acc: 0.107\n",
      "Epoch: 0/6 Train Loss: 2.464 Train Acc: 0.108\n",
      "Epoch: 1/6 Train Loss: 2.423 Train Acc: 0.109\n",
      "Epoch: 2/6 Train Loss: 2.420 Train Acc: 0.113\n",
      "Epoch: 3/6 Train Loss: 2.421 Train Acc: 0.111\n",
      "Epoch: 4/6 Train Loss: 2.418 Train Acc: 0.110\n",
      "Epoch: 5/6 Train Loss: 2.426 Train Acc: 0.109\n",
      "Epoch: 0/6 Train Loss: 2.148 Train Acc: 0.197\n",
      "Epoch: 1/6 Train Loss: 2.025 Train Acc: 0.226\n",
      "Epoch: 2/6 Train Loss: 2.020 Train Acc: 0.232\n",
      "Epoch: 3/6 Train Loss: 2.026 Train Acc: 0.231\n",
      "Epoch: 4/6 Train Loss: 2.023 Train Acc: 0.233\n",
      "Epoch: 5/6 Train Loss: 2.023 Train Acc: 0.232\n",
      "Epoch: 0/6 Train Loss: 2.166 Train Acc: 0.187\n",
      "Epoch: 1/6 Train Loss: 2.035 Train Acc: 0.215\n",
      "Epoch: 2/6 Train Loss: 2.035 Train Acc: 0.226\n",
      "Epoch: 3/6 Train Loss: 2.030 Train Acc: 0.222\n",
      "Epoch: 4/6 Train Loss: 2.036 Train Acc: 0.220\n",
      "Epoch: 5/6 Train Loss: 2.029 Train Acc: 0.220\n"
     ]
    },
    {
     "name": "stderr",
     "output_type": "stream",
     "text": [
      "  5%|▌         | 2/40 [12:32<3:59:31, 378.20s/it]"
     ]
    },
    {
     "name": "stdout",
     "output_type": "stream",
     "text": [
      "1-th ROUND: average train loss 0.406 | test loss 2.3 | test acc: 0.100\n",
      "Epoch: 0/6 Train Loss: 2.190 Train Acc: 0.166\n",
      "Epoch: 1/6 Train Loss: 2.189 Train Acc: 0.165\n",
      "Epoch: 2/6 Train Loss: 2.189 Train Acc: 0.164\n",
      "Epoch: 3/6 Train Loss: 2.189 Train Acc: 0.161\n",
      "Epoch: 4/6 Train Loss: 2.194 Train Acc: 0.167\n",
      "Epoch: 5/6 Train Loss: 2.190 Train Acc: 0.164\n",
      "Epoch: 0/6 Train Loss: 2.159 Train Acc: 0.172\n",
      "Epoch: 1/6 Train Loss: 2.148 Train Acc: 0.180\n",
      "Epoch: 2/6 Train Loss: 2.151 Train Acc: 0.177\n",
      "Epoch: 3/6 Train Loss: 2.149 Train Acc: 0.180\n",
      "Epoch: 4/6 Train Loss: 2.150 Train Acc: 0.176\n",
      "Epoch: 5/6 Train Loss: 2.153 Train Acc: 0.175\n",
      "Epoch: 0/6 Train Loss: 2.103 Train Acc: 0.204\n",
      "Epoch: 1/6 Train Loss: 2.009 Train Acc: 0.224\n",
      "Epoch: 2/6 Train Loss: 2.015 Train Acc: 0.232\n",
      "Epoch: 3/6 Train Loss: 2.009 Train Acc: 0.230\n",
      "Epoch: 4/6 Train Loss: 2.014 Train Acc: 0.225\n",
      "Epoch: 5/6 Train Loss: 2.006 Train Acc: 0.232\n",
      "Epoch: 0/6 Train Loss: 2.162 Train Acc: 0.171\n",
      "Epoch: 1/6 Train Loss: 2.150 Train Acc: 0.176\n",
      "Epoch: 2/6 Train Loss: 2.150 Train Acc: 0.177\n",
      "Epoch: 3/6 Train Loss: 2.148 Train Acc: 0.175\n",
      "Epoch: 4/6 Train Loss: 2.151 Train Acc: 0.174\n",
      "Epoch: 5/6 Train Loss: 2.151 Train Acc: 0.174\n",
      "Epoch: 0/6 Train Loss: 2.163 Train Acc: 0.163\n",
      "Epoch: 1/6 Train Loss: 2.153 Train Acc: 0.166\n",
      "Epoch: 2/6 Train Loss: 2.150 Train Acc: 0.167\n",
      "Epoch: 3/6 Train Loss: 2.152 Train Acc: 0.168\n",
      "Epoch: 4/6 Train Loss: 2.151 Train Acc: 0.165\n",
      "Epoch: 5/6 Train Loss: 2.150 Train Acc: 0.165\n"
     ]
    },
    {
     "name": "stderr",
     "output_type": "stream",
     "text": [
      "  8%|▊         | 3/40 [18:58<3:55:22, 381.69s/it]"
     ]
    },
    {
     "name": "stdout",
     "output_type": "stream",
     "text": [
      "2-th ROUND: average train loss 0.43 | test loss 2.31 | test acc: 0.100\n",
      "Epoch: 0/6 Train Loss: 2.088 Train Acc: 0.200\n",
      "Epoch: 1/6 Train Loss: 2.082 Train Acc: 0.203\n",
      "Epoch: 2/6 Train Loss: 2.084 Train Acc: 0.202\n",
      "Epoch: 3/6 Train Loss: 2.084 Train Acc: 0.204\n",
      "Epoch: 4/6 Train Loss: 2.087 Train Acc: 0.205\n",
      "Epoch: 5/6 Train Loss: 2.086 Train Acc: 0.206\n",
      "Epoch: 0/6 Train Loss: 2.086 Train Acc: 0.212\n",
      "Epoch: 1/6 Train Loss: 2.079 Train Acc: 0.211\n",
      "Epoch: 2/6 Train Loss: 2.081 Train Acc: 0.206\n",
      "Epoch: 3/6 Train Loss: 2.080 Train Acc: 0.212\n",
      "Epoch: 4/6 Train Loss: 2.081 Train Acc: 0.208\n",
      "Epoch: 5/6 Train Loss: 2.084 Train Acc: 0.213\n",
      "Epoch: 0/6 Train Loss: 2.109 Train Acc: 0.201\n",
      "Epoch: 1/6 Train Loss: 2.109 Train Acc: 0.214\n",
      "Epoch: 2/6 Train Loss: 2.110 Train Acc: 0.203\n",
      "Epoch: 3/6 Train Loss: 2.111 Train Acc: 0.200\n",
      "Epoch: 4/6 Train Loss: 2.109 Train Acc: 0.208\n",
      "Epoch: 5/6 Train Loss: 2.107 Train Acc: 0.213\n",
      "Epoch: 0/6 Train Loss: 2.088 Train Acc: 0.213\n",
      "Epoch: 1/6 Train Loss: 2.077 Train Acc: 0.213\n",
      "Epoch: 2/6 Train Loss: 2.083 Train Acc: 0.208\n",
      "Epoch: 3/6 Train Loss: 2.085 Train Acc: 0.211\n",
      "Epoch: 4/6 Train Loss: 2.083 Train Acc: 0.210\n",
      "Epoch: 5/6 Train Loss: 2.081 Train Acc: 0.211\n",
      "Epoch: 0/6 Train Loss: 2.099 Train Acc: 0.205\n",
      "Epoch: 1/6 Train Loss: 2.096 Train Acc: 0.204\n",
      "Epoch: 2/6 Train Loss: 2.094 Train Acc: 0.210\n",
      "Epoch: 3/6 Train Loss: 2.096 Train Acc: 0.198\n",
      "Epoch: 4/6 Train Loss: 2.098 Train Acc: 0.203\n",
      "Epoch: 5/6 Train Loss: 2.097 Train Acc: 0.202\n"
     ]
    },
    {
     "name": "stderr",
     "output_type": "stream",
     "text": [
      " 10%|█         | 4/40 [25:25<3:50:07, 383.53s/it]"
     ]
    },
    {
     "name": "stdout",
     "output_type": "stream",
     "text": [
      "3-th ROUND: average train loss 0.419 | test loss 2.31 | test acc: 0.117\n",
      "Epoch: 0/6 Train Loss: 2.097 Train Acc: 0.205\n",
      "Epoch: 1/6 Train Loss: 2.099 Train Acc: 0.206\n",
      "Epoch: 2/6 Train Loss: 2.097 Train Acc: 0.196\n",
      "Epoch: 3/6 Train Loss: 2.098 Train Acc: 0.205\n",
      "Epoch: 4/6 Train Loss: 2.099 Train Acc: 0.202\n",
      "Epoch: 5/6 Train Loss: 2.097 Train Acc: 0.200\n",
      "Epoch: 0/6 Train Loss: 2.110 Train Acc: 0.207\n",
      "Epoch: 1/6 Train Loss: 2.102 Train Acc: 0.207\n",
      "Epoch: 2/6 Train Loss: 2.101 Train Acc: 0.208\n",
      "Epoch: 3/6 Train Loss: 2.100 Train Acc: 0.209\n",
      "Epoch: 4/6 Train Loss: 2.105 Train Acc: 0.208\n",
      "Epoch: 5/6 Train Loss: 2.101 Train Acc: 0.208\n",
      "Epoch: 0/6 Train Loss: 2.097 Train Acc: 0.209\n",
      "Epoch: 1/6 Train Loss: 2.098 Train Acc: 0.207\n",
      "Epoch: 2/6 Train Loss: 2.101 Train Acc: 0.204\n",
      "Epoch: 3/6 Train Loss: 2.095 Train Acc: 0.209\n",
      "Epoch: 4/6 Train Loss: 2.096 Train Acc: 0.209\n",
      "Epoch: 5/6 Train Loss: 2.099 Train Acc: 0.197\n",
      "Epoch: 0/6 Train Loss: 2.092 Train Acc: 0.206\n",
      "Epoch: 1/6 Train Loss: 2.092 Train Acc: 0.210\n",
      "Epoch: 2/6 Train Loss: 2.093 Train Acc: 0.213\n",
      "Epoch: 3/6 Train Loss: 2.089 Train Acc: 0.212\n",
      "Epoch: 4/6 Train Loss: 2.088 Train Acc: 0.217\n",
      "Epoch: 5/6 Train Loss: 2.090 Train Acc: 0.213\n",
      "Epoch: 0/6 Train Loss: 2.107 Train Acc: 0.188\n",
      "Epoch: 1/6 Train Loss: 2.018 Train Acc: 0.225\n",
      "Epoch: 2/6 Train Loss: 2.019 Train Acc: 0.232\n",
      "Epoch: 3/6 Train Loss: 2.008 Train Acc: 0.229\n",
      "Epoch: 4/6 Train Loss: 2.015 Train Acc: 0.242\n",
      "Epoch: 5/6 Train Loss: 2.014 Train Acc: 0.227\n"
     ]
    },
    {
     "name": "stderr",
     "output_type": "stream",
     "text": [
      " 12%|█▎        | 5/40 [31:51<3:44:18, 384.52s/it]"
     ]
    },
    {
     "name": "stdout",
     "output_type": "stream",
     "text": [
      "4-th ROUND: average train loss 0.403 | test loss 2.31 | test acc: 0.100\n",
      "Epoch: 0/6 Train Loss: 2.076 Train Acc: 0.210\n",
      "Epoch: 1/6 Train Loss: 2.069 Train Acc: 0.206\n",
      "Epoch: 2/6 Train Loss: 2.078 Train Acc: 0.205\n",
      "Epoch: 3/6 Train Loss: 2.073 Train Acc: 0.204\n",
      "Epoch: 4/6 Train Loss: 2.076 Train Acc: 0.208\n",
      "Epoch: 5/6 Train Loss: 2.074 Train Acc: 0.211\n",
      "Epoch: 0/6 Train Loss: 2.076 Train Acc: 0.200\n",
      "Epoch: 1/6 Train Loss: 2.076 Train Acc: 0.194\n",
      "Epoch: 2/6 Train Loss: 2.076 Train Acc: 0.194\n",
      "Epoch: 3/6 Train Loss: 2.078 Train Acc: 0.199\n",
      "Epoch: 4/6 Train Loss: 2.074 Train Acc: 0.194\n",
      "Epoch: 5/6 Train Loss: 2.075 Train Acc: 0.201\n",
      "Epoch: 0/6 Train Loss: 2.086 Train Acc: 0.205\n",
      "Epoch: 1/6 Train Loss: 2.086 Train Acc: 0.201\n",
      "Epoch: 2/6 Train Loss: 2.085 Train Acc: 0.213\n",
      "Epoch: 3/6 Train Loss: 2.083 Train Acc: 0.205\n",
      "Epoch: 4/6 Train Loss: 2.086 Train Acc: 0.211\n",
      "Epoch: 5/6 Train Loss: 2.083 Train Acc: 0.208\n",
      "Epoch: 0/6 Train Loss: 2.060 Train Acc: 0.215\n",
      "Epoch: 1/6 Train Loss: 2.050 Train Acc: 0.215\n",
      "Epoch: 2/6 Train Loss: 2.054 Train Acc: 0.211\n",
      "Epoch: 3/6 Train Loss: 2.050 Train Acc: 0.216\n",
      "Epoch: 4/6 Train Loss: 2.051 Train Acc: 0.216\n",
      "Epoch: 5/6 Train Loss: 2.054 Train Acc: 0.213\n",
      "Epoch: 0/6 Train Loss: 2.077 Train Acc: 0.198\n",
      "Epoch: 1/6 Train Loss: 2.074 Train Acc: 0.203\n",
      "Epoch: 2/6 Train Loss: 2.073 Train Acc: 0.198\n",
      "Epoch: 3/6 Train Loss: 2.077 Train Acc: 0.196\n",
      "Epoch: 4/6 Train Loss: 2.072 Train Acc: 0.202\n",
      "Epoch: 5/6 Train Loss: 2.072 Train Acc: 0.203\n"
     ]
    },
    {
     "name": "stderr",
     "output_type": "stream",
     "text": [
      " 15%|█▌        | 6/40 [38:17<3:38:09, 384.99s/it]"
     ]
    },
    {
     "name": "stdout",
     "output_type": "stream",
     "text": [
      "5-th ROUND: average train loss 0.414 | test loss 2.3 | test acc: 0.104\n",
      "Epoch: 0/6 Train Loss: 2.076 Train Acc: 0.199\n",
      "Epoch: 1/6 Train Loss: 2.074 Train Acc: 0.202\n",
      "Epoch: 2/6 Train Loss: 2.073 Train Acc: 0.203\n",
      "Epoch: 3/6 Train Loss: 2.074 Train Acc: 0.208\n",
      "Epoch: 4/6 Train Loss: 2.076 Train Acc: 0.200\n",
      "Epoch: 5/6 Train Loss: 2.073 Train Acc: 0.203\n",
      "Epoch: 0/6 Train Loss: 2.072 Train Acc: 0.204\n",
      "Epoch: 1/6 Train Loss: 2.073 Train Acc: 0.195\n",
      "Epoch: 2/6 Train Loss: 2.071 Train Acc: 0.201\n",
      "Epoch: 3/6 Train Loss: 2.073 Train Acc: 0.200\n",
      "Epoch: 4/6 Train Loss: 2.075 Train Acc: 0.194\n",
      "Epoch: 5/6 Train Loss: 2.074 Train Acc: 0.201\n",
      "Epoch: 0/6 Train Loss: 2.074 Train Acc: 0.199\n",
      "Epoch: 1/6 Train Loss: 2.077 Train Acc: 0.201\n",
      "Epoch: 2/6 Train Loss: 2.075 Train Acc: 0.206\n",
      "Epoch: 3/6 Train Loss: 2.072 Train Acc: 0.208\n",
      "Epoch: 4/6 Train Loss: 2.075 Train Acc: 0.205\n",
      "Epoch: 5/6 Train Loss: 2.073 Train Acc: 0.202\n",
      "Epoch: 0/6 Train Loss: 2.074 Train Acc: 0.202\n",
      "Epoch: 1/6 Train Loss: 2.076 Train Acc: 0.205\n",
      "Epoch: 2/6 Train Loss: 2.072 Train Acc: 0.215\n",
      "Epoch: 3/6 Train Loss: 2.077 Train Acc: 0.205\n",
      "Epoch: 4/6 Train Loss: 2.074 Train Acc: 0.207\n",
      "Epoch: 5/6 Train Loss: 2.073 Train Acc: 0.208\n",
      "Epoch: 0/6 Train Loss: 2.078 Train Acc: 0.213\n",
      "Epoch: 1/6 Train Loss: 2.077 Train Acc: 0.200\n",
      "Epoch: 2/6 Train Loss: 2.073 Train Acc: 0.206\n",
      "Epoch: 3/6 Train Loss: 2.073 Train Acc: 0.205\n",
      "Epoch: 4/6 Train Loss: 2.073 Train Acc: 0.206\n",
      "Epoch: 5/6 Train Loss: 2.074 Train Acc: 0.208\n"
     ]
    },
    {
     "name": "stderr",
     "output_type": "stream",
     "text": [
      " 18%|█▊        | 7/40 [44:11<3:26:16, 375.04s/it]"
     ]
    },
    {
     "name": "stdout",
     "output_type": "stream",
     "text": [
      "6-th ROUND: average train loss 0.415 | test loss 2.25 | test acc: 0.134\n",
      "Epoch: 0/6 Train Loss: 2.071 Train Acc: 0.200\n",
      "Epoch: 1/6 Train Loss: 2.076 Train Acc: 0.195\n",
      "Epoch: 2/6 Train Loss: 2.070 Train Acc: 0.194\n",
      "Epoch: 3/6 Train Loss: 2.077 Train Acc: 0.194\n",
      "Epoch: 4/6 Train Loss: 2.072 Train Acc: 0.197\n",
      "Epoch: 5/6 Train Loss: 2.075 Train Acc: 0.198\n",
      "Epoch: 0/6 Train Loss: 2.071 Train Acc: 0.202\n",
      "Epoch: 1/6 Train Loss: 2.065 Train Acc: 0.207\n",
      "Epoch: 2/6 Train Loss: 2.071 Train Acc: 0.204\n",
      "Epoch: 3/6 Train Loss: 2.067 Train Acc: 0.207\n",
      "Epoch: 4/6 Train Loss: 2.070 Train Acc: 0.206\n",
      "Epoch: 5/6 Train Loss: 2.072 Train Acc: 0.207\n",
      "Epoch: 0/6 Train Loss: 2.081 Train Acc: 0.210\n",
      "Epoch: 1/6 Train Loss: 2.083 Train Acc: 0.209\n",
      "Epoch: 2/6 Train Loss: 2.080 Train Acc: 0.207\n",
      "Epoch: 3/6 Train Loss: 2.085 Train Acc: 0.207\n",
      "Epoch: 4/6 Train Loss: 2.083 Train Acc: 0.208\n",
      "Epoch: 5/6 Train Loss: 2.083 Train Acc: 0.209\n",
      "Epoch: 0/6 Train Loss: 2.079 Train Acc: 0.200\n",
      "Epoch: 1/6 Train Loss: 2.078 Train Acc: 0.200\n",
      "Epoch: 2/6 Train Loss: 2.081 Train Acc: 0.197\n",
      "Epoch: 3/6 Train Loss: 2.079 Train Acc: 0.204\n",
      "Epoch: 4/6 Train Loss: 2.082 Train Acc: 0.193\n",
      "Epoch: 5/6 Train Loss: 2.082 Train Acc: 0.204\n",
      "Epoch: 0/6 Train Loss: 2.074 Train Acc: 0.203\n",
      "Epoch: 1/6 Train Loss: 2.069 Train Acc: 0.207\n",
      "Epoch: 2/6 Train Loss: 2.072 Train Acc: 0.207\n",
      "Epoch: 3/6 Train Loss: 2.073 Train Acc: 0.208\n",
      "Epoch: 4/6 Train Loss: 2.070 Train Acc: 0.211\n",
      "Epoch: 5/6 Train Loss: 2.069 Train Acc: 0.208\n"
     ]
    },
    {
     "name": "stderr",
     "output_type": "stream",
     "text": [
      " 20%|██        | 8/40 [49:42<3:12:26, 360.84s/it]"
     ]
    },
    {
     "name": "stdout",
     "output_type": "stream",
     "text": [
      "7-th ROUND: average train loss 0.414 | test loss 2.16 | test acc: 0.187\n",
      "Epoch: 0/6 Train Loss: 2.074 Train Acc: 0.203\n",
      "Epoch: 1/6 Train Loss: 2.078 Train Acc: 0.197\n",
      "Epoch: 2/6 Train Loss: 2.079 Train Acc: 0.210\n",
      "Epoch: 3/6 Train Loss: 2.071 Train Acc: 0.201\n",
      "Epoch: 4/6 Train Loss: 2.078 Train Acc: 0.200\n",
      "Epoch: 5/6 Train Loss: 2.071 Train Acc: 0.208\n",
      "Epoch: 0/6 Train Loss: 2.087 Train Acc: 0.196\n",
      "Epoch: 1/6 Train Loss: 2.083 Train Acc: 0.202\n",
      "Epoch: 2/6 Train Loss: 2.082 Train Acc: 0.195\n",
      "Epoch: 3/6 Train Loss: 2.081 Train Acc: 0.199\n",
      "Epoch: 4/6 Train Loss: 2.080 Train Acc: 0.201\n",
      "Epoch: 5/6 Train Loss: 2.090 Train Acc: 0.192\n",
      "Epoch: 0/6 Train Loss: 2.073 Train Acc: 0.211\n",
      "Epoch: 1/6 Train Loss: 2.068 Train Acc: 0.211\n",
      "Epoch: 2/6 Train Loss: 2.065 Train Acc: 0.205\n",
      "Epoch: 3/6 Train Loss: 2.066 Train Acc: 0.210\n",
      "Epoch: 4/6 Train Loss: 2.075 Train Acc: 0.202\n",
      "Epoch: 5/6 Train Loss: 2.070 Train Acc: 0.207\n",
      "Epoch: 0/6 Train Loss: 2.078 Train Acc: 0.200\n",
      "Epoch: 1/6 Train Loss: 2.075 Train Acc: 0.188\n",
      "Epoch: 2/6 Train Loss: 2.070 Train Acc: 0.195\n",
      "Epoch: 3/6 Train Loss: 2.077 Train Acc: 0.207\n",
      "Epoch: 4/6 Train Loss: 2.075 Train Acc: 0.198\n",
      "Epoch: 5/6 Train Loss: 2.074 Train Acc: 0.200\n",
      "Epoch: 0/6 Train Loss: 2.073 Train Acc: 0.205\n",
      "Epoch: 1/6 Train Loss: 2.074 Train Acc: 0.205\n",
      "Epoch: 2/6 Train Loss: 2.073 Train Acc: 0.209\n",
      "Epoch: 3/6 Train Loss: 2.077 Train Acc: 0.207\n",
      "Epoch: 4/6 Train Loss: 2.068 Train Acc: 0.210\n",
      "Epoch: 5/6 Train Loss: 2.074 Train Acc: 0.203\n"
     ]
    },
    {
     "name": "stderr",
     "output_type": "stream",
     "text": [
      " 22%|██▎       | 9/40 [55:12<3:01:33, 351.39s/it]"
     ]
    },
    {
     "name": "stdout",
     "output_type": "stream",
     "text": [
      "8-th ROUND: average train loss 0.415 | test loss 2.1 | test acc: 0.209\n",
      "Epoch: 0/6 Train Loss: 2.071 Train Acc: 0.211\n",
      "Epoch: 1/6 Train Loss: 2.066 Train Acc: 0.214\n",
      "Epoch: 2/6 Train Loss: 2.069 Train Acc: 0.212\n",
      "Epoch: 3/6 Train Loss: 2.065 Train Acc: 0.214\n",
      "Epoch: 4/6 Train Loss: 2.071 Train Acc: 0.212\n",
      "Epoch: 5/6 Train Loss: 2.066 Train Acc: 0.212\n",
      "Epoch: 0/6 Train Loss: 2.073 Train Acc: 0.207\n",
      "Epoch: 1/6 Train Loss: 2.072 Train Acc: 0.208\n",
      "Epoch: 2/6 Train Loss: 2.069 Train Acc: 0.207\n",
      "Epoch: 3/6 Train Loss: 2.070 Train Acc: 0.205\n",
      "Epoch: 4/6 Train Loss: 2.067 Train Acc: 0.212\n",
      "Epoch: 5/6 Train Loss: 2.070 Train Acc: 0.205\n",
      "Epoch: 0/6 Train Loss: 2.088 Train Acc: 0.198\n",
      "Epoch: 1/6 Train Loss: 2.083 Train Acc: 0.193\n",
      "Epoch: 2/6 Train Loss: 2.082 Train Acc: 0.198\n",
      "Epoch: 3/6 Train Loss: 2.086 Train Acc: 0.203\n",
      "Epoch: 4/6 Train Loss: 2.083 Train Acc: 0.198\n",
      "Epoch: 5/6 Train Loss: 2.084 Train Acc: 0.194\n",
      "Epoch: 0/6 Train Loss: 2.072 Train Acc: 0.202\n",
      "Epoch: 1/6 Train Loss: 2.077 Train Acc: 0.207\n",
      "Epoch: 2/6 Train Loss: 2.071 Train Acc: 0.197\n",
      "Epoch: 3/6 Train Loss: 2.073 Train Acc: 0.200\n"
     ]
    }
   ],
   "source": [
    "# initialize lists to store the training and testing losses and accuracies\n",
    "train_losses = []\n",
    "test_losses = []\n",
    "train_accs = []\n",
    "test_accs = []\n",
    "\n",
    "for round in tqdm(range(rounds)):\n",
    "\n",
    "\n",
    "    # Select n random clients\n",
    "    selected_clients = np.random.permutation(num_clients)[:clients_sample_size]\n",
    "    # Train the selected clients\n",
    "    for client in selected_clients:\n",
    "        # Individual criterion and optimizer\n",
    "\n",
    "        train_loss, train_acc = qtrain_model(model = client_models[client],\n",
    "                                             train_loader = train_loaders[client],\n",
    "                                             device = device,\n",
    "                                             criterion = criterion,\n",
    "                                             optimizer = optimizers[client],\n",
    "                                             num_epochs=epoch,\n",
    "                                             bits = quantize_bits)\n",
    "    train_losses.append(train_loss)\n",
    "    train_accs.append(train_acc)\n",
    "\n",
    "    # Aggregate\n",
    "    server_aggregate(global_model, client_models)\n",
    "\n",
    "    # Test the global model\n",
    "    test_loss, test_acc = evaluate_model(model=global_model,\n",
    "                                         test_loader=test_loader,\n",
    "                                         device=device,\n",
    "                                         criterion=criterion)\n",
    "\n",
    "    test_losses.append(test_loss)\n",
    "    test_accs.append(test_acc)\n",
    "    \n",
    "    print(f\"{round}-th ROUND: average train loss {(train_loss / clients_sample_size):0.3g} | test loss {test_loss:0.3g} | test acc: {test_acc:0.3f}\")\n",
    "    \n",
    "    "
   ]
  },
  {
   "cell_type": "code",
   "execution_count": null,
   "metadata": {},
   "outputs": [
    {
     "data": {
      "image/png": "[encoded data removed]",
      "text/plain": [
       "<Figure size 640x480 with 1 Axes>"
      ]
     },
     "metadata": {},
     "output_type": "display_data"
    }
   ],
   "source": [
    "# plot the training loss\n",
    "sns.set(style='darkgrid')\n",
    "plt.plot(train_losses)\n",
    "plt.title('Training Loss')\n",
    "plt.xlabel('Epoch')\n",
    "plt.ylabel('Loss')\n",
    "plt.show()"
   ]
  },
  {
   "cell_type": "code",
   "execution_count": null,
   "metadata": {},
   "outputs": [],
   "source": [
    "train_accs = [d.item() for d in train_accs]\n",
    "test_accs = [d.item() for d in test_accs]"
   ]
  },
  {
   "cell_type": "code",
   "execution_count": null,
   "metadata": {},
   "outputs": [
    {
     "data": {
      "image/png": "[encoded data removed]",
      "text/plain": [
       "<Figure size 640x480 with 1 Axes>"
      ]
     },
     "metadata": {},
     "output_type": "display_data"
    }
   ],
   "source": [
    "# plot the training and testing accuracies\n",
    "sns.set(style='darkgrid')\n",
    "plt.plot(train_accs, label='Train Acc')\n",
    "plt.plot(test_accs, label='Test Acc')\n",
    "plt.title('Training and Testing Accuracies')\n",
    "plt.xlabel('Epoch')\n",
    "plt.ylabel('Accuracy')\n",
    "plt.legend()\n",
    "plt.show()\n"
   ]
  },
  {
   "cell_type": "code",
   "execution_count": null,
   "metadata": {},
   "outputs": [
    {
     "name": "stdout",
     "output_type": "stream",
     "text": [
      "Loss: 0.0, Accuracy: 22.549999237060547%\n",
      "44.77 MB\n",
      "CPU Inference Latency: 7.95 ms / sample\n",
      "CUDA Inference Latency: 2.94 ms / sample\n"
     ]
    }
   ],
   "source": [
    "cuda_device = torch.device(\"cuda:0\")\n",
    "cpu_device = torch.device(\"cpu:0\")\n",
    "# Test the model\n",
    "loss, acc = evaluate_model(global_model, test_loader, device,)\n",
    "print(f'Loss: {loss}, Accuracy: {acc*100}%')\n",
    "print_model_size(global_model)\n",
    "\n",
    "# Measure inference latency\n",
    "cpu_inference_latency = measure_inference_latency(model=global_model, device=cpu_device, input_size=(1,3,32,32), num_samples=100)\n",
    "gpu_inference_latency = measure_inference_latency(model=global_model, device=cuda_device, input_size=(1,3,32,32), num_samples=100)\n",
    "print(\"CPU Inference Latency: {:.2f} ms / sample\".format(cpu_inference_latency * 1000))\n",
    "print(\"CUDA Inference Latency: {:.2f} ms / sample\".format(gpu_inference_latency * 1000))"
   ]
  },
  {
   "cell_type": "code",
   "execution_count": null,
   "metadata": {},
   "outputs": [],
   "source": [
    "save_model(global_model, \"saved_models\", f'resnet_fedlern_{quantize_bits}bits_{time_stamp()}.pth')"
   ]
  },
  {
   "cell_type": "code",
   "execution_count": null,
   "metadata": {},
   "outputs": [],
   "source": [
    "pass"
   ]
  }
 ],
 "metadata": {
  "kernelspec": {
   "display_name": "Python 3",
   "language": "python",
   "name": "python3"
  },
  "language_info": {
   "codemirror_mode": {
    "name": "ipython",
    "version": 3
   },
   "file_extension": ".py",
   "mimetype": "text/x-python",
   "name": "python",
   "nbconvert_exporter": "python",
   "pygments_lexer": "ipython3",
   "version": "3.8.0"
  },
  "orig_nbformat": 4
 },
 "nbformat": 4,
 "nbformat_minor": 2
}
