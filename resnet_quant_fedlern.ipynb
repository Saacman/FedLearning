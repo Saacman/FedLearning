{
 "cells": [
  {
   "attachments": {},
   "cell_type": "markdown",
   "metadata": {},
   "source": [
    "# Federated Learning + Linear Quantization for RESNET18 & CIFAR10"
   ]
  },
  {
   "cell_type": "code",
   "execution_count": 4,
   "metadata": {},
   "outputs": [],
   "source": [
    "import torch\n",
    "import torch.nn as nn\n",
    "import torch.optim as optim\n",
    "import torchvision.datasets as datasets\n",
    "import torchvision.transforms as transforms\n",
    "import matplotlib.pyplot as plt\n",
    "from torch.utils.data import DataLoader\n",
    "\n",
    "import numpy as np\n",
    "from tqdm import tqdm\n",
    "import seaborn as sns\n",
    "from fedlern.utils import *\n",
    "from fedlern.train_utils import *\n",
    "from fedlern.quant_utils import *\n",
    "from fedlern.models.resnet_v2 import ResNet18"
   ]
  },
  {
   "attachments": {},
   "cell_type": "markdown",
   "metadata": {},
   "source": [
    "## Relevant Parameters"
   ]
  },
  {
   "cell_type": "code",
   "execution_count": 5,
   "metadata": {},
   "outputs": [],
   "source": [
    "epoch = 5\n",
    "rounds = 25\n",
    "num_clients = 10\n",
    "\n",
    "clients_sample_size = int(.3 * num_clients) # Use 30% of available clients\n",
    "num_workers = 8\n",
    "train_batch_size =128\n",
    "eval_batch_size=256\n",
    "quantize_bits = 16\n",
    "stats = (0.49139968, 0.48215841, 0.44653091), (0.24703223, 0.24348513, 0.26158784)"
   ]
  },
  {
   "attachments": {},
   "cell_type": "markdown",
   "metadata": {},
   "source": [
    "## Data Loaders\n",
    "- Divide the test & training data\n",
    "- Divide the training data among the clients"
   ]
  },
  {
   "cell_type": "code",
   "execution_count": 6,
   "metadata": {},
   "outputs": [
    {
     "name": "stdout",
     "output_type": "stream",
     "text": [
      "Files already downloaded and verified\n"
     ]
    }
   ],
   "source": [
    " # Data augmentation and normalization for training\n",
    "transform_train = transforms.Compose([\n",
    "    transforms.RandomCrop(32, padding=4),\n",
    "    transforms.RandomHorizontalFlip(),\n",
    "    transforms.ToTensor(),\n",
    "    transforms.Normalize(*stats)\n",
    "])\n",
    "\n",
    "# Normalization for testing\n",
    "transform_test = transforms.Compose([\n",
    "    transforms.ToTensor(),\n",
    "    transforms.Normalize(*stats)\n",
    "])\n",
    "\n",
    "# CIFAR-10 dataset\n",
    "train_dataset = datasets.CIFAR10(root='./data', train=True, transform=transform_train, download=True)\n",
    "test_dataset = datasets.CIFAR10(root='./data', train=False, transform=transform_test)\n",
    "\n",
    "# split the training data\n",
    "train_splits = torch.utils.data.random_split(train_dataset, [int(train_dataset.data.shape[0]/num_clients) for i in range(num_clients)])\n",
    "\n",
    "# Data loaders\n",
    "train_loaders = [DataLoader(dataset=split, batch_size=train_batch_size, shuffle=True, num_workers=num_workers) for split in train_splits]\n",
    "test_loader = DataLoader(dataset=test_dataset, batch_size=eval_batch_size, shuffle=False, num_workers=num_workers)\n",
    "\n",
    "device = torch.device('cuda' if torch.cuda.is_available() else 'cpu')\n"
   ]
  },
  {
   "attachments": {},
   "cell_type": "markdown",
   "metadata": {},
   "source": [
    "\n",
    "- `server_aggregate` function aggregates the model weights received from every client and updates the global model with the updated weights."
   ]
  },
  {
   "cell_type": "code",
   "execution_count": 7,
   "metadata": {},
   "outputs": [],
   "source": [
    "\n",
    "def server_aggregate(global_model : torch.nn.Module, client_models):\n",
    "    \"\"\"\n",
    "    The means of the weights of the client models are aggregated to the global model\n",
    "    \"\"\"\n",
    "    global_dict = global_model.state_dict() # Get a copy of the global model state_dict\n",
    "    for key in global_dict.keys():\n",
    "        global_dict[key] = torch.stack([client_models[i].state_dict()[key].float() for i in range(len(client_models))],0).mean(0)\n",
    "    global_model.load_state_dict(global_dict)\n",
    "    \n",
    "    # Update the client models using the global model\n",
    "    for model in client_models:\n",
    "        model.load_state_dict(global_model.state_dict())"
   ]
  },
  {
   "attachments": {},
   "cell_type": "markdown",
   "metadata": {},
   "source": [
    "## Global & Clients instatiation\n",
    "Implement the same elements as before, but:\n",
    "- We need more instances of the model\n",
    "- An optimizer for each model"
   ]
  },
  {
   "cell_type": "code",
   "execution_count": 8,
   "metadata": {},
   "outputs": [],
   "source": [
    "global_model = ResNet18().to(device)\n",
    "client_models = [ResNet18()\n",
    "                     .to(device)\n",
    "                     #.load_state_dict(global_model.state_dict())\n",
    "                  for _ in range(num_clients)]\n",
    "\n",
    "\n",
    "\n",
    "# criterion = nn.CrossEntropyLoss() # computes the cross-entropy loss between the predicted and true labels\n",
    "# optimizers =[optim.Adam(model.parameters(), lr=0.001) for model in client_models]\n"
   ]
  },
  {
   "cell_type": "code",
   "execution_count": 9,
   "metadata": {},
   "outputs": [],
   "source": [
    "# Optimizer & criterion based on gobal model\n",
    "global_optimizer = get_model_optimizer(global_model,\n",
    "                                       learning_rate=0.1,\n",
    "                                       weight_decay=5e-4)\n",
    "\n",
    "#scheduler = optim.lr_scheduler.MultiStepLR(optimizer, milestones=[80,120,160], gamma=0.1)\n",
    "criterion = nn.CrossEntropyLoss().to(device) # computes the cross-entropy loss between the predicted and true labels\n",
    "\n",
    "optimizers = [get_model_optimizer(model,learning_rate=0.1, weight_decay=5e-4) for model in client_models]"
   ]
  },
  {
   "cell_type": "code",
   "execution_count": 10,
   "metadata": {},
   "outputs": [
    {
     "name": "stderr",
     "output_type": "stream",
     "text": [
      "  0%|          | 0/25 [00:00<?, ?it/s]"
     ]
    },
    {
     "name": "stdout",
     "output_type": "stream",
     "text": [
      "Epoch: 0/5 Train Loss: 3.099 Train Acc: 0.143\n",
      "Epoch: 1/5 Train Loss: 2.188 Train Acc: 0.207\n",
      "Epoch: 2/5 Train Loss: 2.072 Train Acc: 0.225\n",
      "Epoch: 3/5 Train Loss: 2.021 Train Acc: 0.254\n",
      "Epoch: 4/5 Train Loss: 2.016 Train Acc: 0.264\n",
      "Epoch: 0/5 Train Loss: 3.268 Train Acc: 0.130\n",
      "Epoch: 1/5 Train Loss: 2.293 Train Acc: 0.188\n",
      "Epoch: 2/5 Train Loss: 2.032 Train Acc: 0.234\n",
      "Epoch: 3/5 Train Loss: 1.985 Train Acc: 0.238\n",
      "Epoch: 4/5 Train Loss: 1.988 Train Acc: 0.242\n",
      "Epoch: 0/5 Train Loss: 2.746 Train Acc: 0.185\n",
      "Epoch: 1/5 Train Loss: 2.101 Train Acc: 0.238\n",
      "Epoch: 2/5 Train Loss: 1.972 Train Acc: 0.251\n",
      "Epoch: 3/5 Train Loss: 1.828 Train Acc: 0.303\n",
      "Epoch: 4/5 Train Loss: 1.829 Train Acc: 0.305\n"
     ]
    },
    {
     "name": "stderr",
     "output_type": "stream",
     "text": [
      "  4%|▍         | 1/25 [01:17<30:58, 77.44s/it]"
     ]
    },
    {
     "name": "stdout",
     "output_type": "stream",
     "text": [
      "0-th ROUND: average train loss 0.61 | test loss 2.3 | test acc: 0.100\n",
      "Epoch: 0/5 Train Loss: 2.307 Train Acc: 0.130\n",
      "Epoch: 1/5 Train Loss: 2.220 Train Acc: 0.156\n",
      "Epoch: 2/5 Train Loss: 2.187 Train Acc: 0.171\n",
      "Epoch: 3/5 Train Loss: 2.183 Train Acc: 0.176\n",
      "Epoch: 4/5 Train Loss: 2.181 Train Acc: 0.174\n",
      "Epoch: 0/5 Train Loss: 2.128 Train Acc: 0.184\n",
      "Epoch: 1/5 Train Loss: 2.128 Train Acc: 0.211\n",
      "Epoch: 2/5 Train Loss: 1.939 Train Acc: 0.270\n",
      "Epoch: 3/5 Train Loss: 1.850 Train Acc: 0.309\n",
      "Epoch: 4/5 Train Loss: 1.830 Train Acc: 0.317\n",
      "Epoch: 0/5 Train Loss: 2.125 Train Acc: 0.203\n",
      "Epoch: 1/5 Train Loss: 2.036 Train Acc: 0.232\n",
      "Epoch: 2/5 Train Loss: 1.888 Train Acc: 0.286\n",
      "Epoch: 3/5 Train Loss: 1.800 Train Acc: 0.319\n",
      "Epoch: 4/5 Train Loss: 1.789 Train Acc: 0.326\n"
     ]
    },
    {
     "name": "stderr",
     "output_type": "stream",
     "text": [
      "  8%|▊         | 2/25 [02:29<28:26, 74.19s/it]"
     ]
    },
    {
     "name": "stdout",
     "output_type": "stream",
     "text": [
      "1-th ROUND: average train loss 0.596 | test loss 2.31 | test acc: 0.123\n",
      "Epoch: 0/5 Train Loss: 2.079 Train Acc: 0.209\n",
      "Epoch: 1/5 Train Loss: 2.038 Train Acc: 0.243\n",
      "Epoch: 2/5 Train Loss: 2.022 Train Acc: 0.258\n",
      "Epoch: 3/5 Train Loss: 2.017 Train Acc: 0.258\n",
      "Epoch: 4/5 Train Loss: 2.018 Train Acc: 0.255\n",
      "Epoch: 0/5 Train Loss: 2.033 Train Acc: 0.235\n",
      "Epoch: 1/5 Train Loss: 2.059 Train Acc: 0.213\n",
      "Epoch: 2/5 Train Loss: 1.890 Train Acc: 0.279\n",
      "Epoch: 3/5 Train Loss: 1.821 Train Acc: 0.318\n",
      "Epoch: 4/5 Train Loss: 1.808 Train Acc: 0.324\n",
      "Epoch: 0/5 Train Loss: 2.082 Train Acc: 0.224\n",
      "Epoch: 1/5 Train Loss: 2.039 Train Acc: 0.245\n",
      "Epoch: 2/5 Train Loss: 2.015 Train Acc: 0.264\n",
      "Epoch: 3/5 Train Loss: 2.014 Train Acc: 0.262\n",
      "Epoch: 4/5 Train Loss: 2.010 Train Acc: 0.270\n"
     ]
    },
    {
     "name": "stderr",
     "output_type": "stream",
     "text": [
      " 12%|█▏        | 3/25 [03:41<26:49, 73.14s/it]"
     ]
    },
    {
     "name": "stdout",
     "output_type": "stream",
     "text": [
      "2-th ROUND: average train loss 0.67 | test loss 2.31 | test acc: 0.100\n",
      "Epoch: 0/5 Train Loss: 1.976 Train Acc: 0.249\n",
      "Epoch: 1/5 Train Loss: 1.951 Train Acc: 0.259\n",
      "Epoch: 2/5 Train Loss: 1.826 Train Acc: 0.308\n",
      "Epoch: 3/5 Train Loss: 1.756 Train Acc: 0.330\n",
      "Epoch: 4/5 Train Loss: 1.757 Train Acc: 0.337\n",
      "Epoch: 0/5 Train Loss: 1.965 Train Acc: 0.267\n",
      "Epoch: 1/5 Train Loss: 1.938 Train Acc: 0.278\n",
      "Epoch: 2/5 Train Loss: 1.926 Train Acc: 0.295\n",
      "Epoch: 3/5 Train Loss: 1.919 Train Acc: 0.295\n",
      "Epoch: 4/5 Train Loss: 1.921 Train Acc: 0.294\n",
      "Epoch: 0/5 Train Loss: 1.982 Train Acc: 0.245\n",
      "Epoch: 1/5 Train Loss: 1.980 Train Acc: 0.253\n",
      "Epoch: 2/5 Train Loss: 1.982 Train Acc: 0.249\n",
      "Epoch: 3/5 Train Loss: 1.980 Train Acc: 0.251\n",
      "Epoch: 4/5 Train Loss: 1.978 Train Acc: 0.256\n"
     ]
    },
    {
     "name": "stderr",
     "output_type": "stream",
     "text": [
      " 16%|█▌        | 4/25 [04:53<25:25, 72.63s/it]"
     ]
    },
    {
     "name": "stdout",
     "output_type": "stream",
     "text": [
      "3-th ROUND: average train loss 0.659 | test loss 2.32 | test acc: 0.100\n",
      "Epoch: 0/5 Train Loss: 1.901 Train Acc: 0.306\n",
      "Epoch: 1/5 Train Loss: 1.877 Train Acc: 0.304\n",
      "Epoch: 2/5 Train Loss: 1.872 Train Acc: 0.311\n",
      "Epoch: 3/5 Train Loss: 1.874 Train Acc: 0.308\n",
      "Epoch: 4/5 Train Loss: 1.873 Train Acc: 0.315\n",
      "Epoch: 0/5 Train Loss: 1.905 Train Acc: 0.295\n",
      "Epoch: 1/5 Train Loss: 1.905 Train Acc: 0.292\n",
      "Epoch: 2/5 Train Loss: 1.909 Train Acc: 0.285\n",
      "Epoch: 3/5 Train Loss: 1.909 Train Acc: 0.287\n",
      "Epoch: 4/5 Train Loss: 1.905 Train Acc: 0.296\n",
      "Epoch: 0/5 Train Loss: 1.892 Train Acc: 0.301\n",
      "Epoch: 1/5 Train Loss: 1.876 Train Acc: 0.311\n",
      "Epoch: 2/5 Train Loss: 1.862 Train Acc: 0.313\n",
      "Epoch: 3/5 Train Loss: 1.864 Train Acc: 0.316\n",
      "Epoch: 4/5 Train Loss: 1.865 Train Acc: 0.308\n"
     ]
    },
    {
     "name": "stderr",
     "output_type": "stream",
     "text": [
      " 20%|██        | 5/25 [06:04<24:07, 72.35s/it]"
     ]
    },
    {
     "name": "stdout",
     "output_type": "stream",
     "text": [
      "4-th ROUND: average train loss 0.622 | test loss 2.33 | test acc: 0.100\n",
      "Epoch: 0/5 Train Loss: 1.899 Train Acc: 0.295\n",
      "Epoch: 1/5 Train Loss: 1.901 Train Acc: 0.295\n",
      "Epoch: 2/5 Train Loss: 1.898 Train Acc: 0.297\n",
      "Epoch: 3/5 Train Loss: 1.896 Train Acc: 0.293\n",
      "Epoch: 4/5 Train Loss: 1.905 Train Acc: 0.290\n",
      "Epoch: 0/5 Train Loss: 1.903 Train Acc: 0.297\n",
      "Epoch: 1/5 Train Loss: 1.884 Train Acc: 0.304\n",
      "Epoch: 2/5 Train Loss: 1.874 Train Acc: 0.307\n",
      "Epoch: 3/5 Train Loss: 1.881 Train Acc: 0.303\n",
      "Epoch: 4/5 Train Loss: 1.879 Train Acc: 0.304\n",
      "Epoch: 0/5 Train Loss: 1.906 Train Acc: 0.292\n",
      "Epoch: 1/5 Train Loss: 1.904 Train Acc: 0.294\n",
      "Epoch: 2/5 Train Loss: 1.906 Train Acc: 0.292\n",
      "Epoch: 3/5 Train Loss: 1.909 Train Acc: 0.287\n",
      "Epoch: 4/5 Train Loss: 1.907 Train Acc: 0.283\n"
     ]
    },
    {
     "name": "stderr",
     "output_type": "stream",
     "text": [
      " 24%|██▍       | 6/25 [07:16<22:52, 72.23s/it]"
     ]
    },
    {
     "name": "stdout",
     "output_type": "stream",
     "text": [
      "5-th ROUND: average train loss 0.636 | test loss 2.34 | test acc: 0.100\n",
      "Epoch: 0/5 Train Loss: 1.892 Train Acc: 0.309\n",
      "Epoch: 1/5 Train Loss: 1.895 Train Acc: 0.301\n",
      "Epoch: 2/5 Train Loss: 1.896 Train Acc: 0.301\n",
      "Epoch: 3/5 Train Loss: 1.897 Train Acc: 0.304\n",
      "Epoch: 4/5 Train Loss: 1.901 Train Acc: 0.297\n",
      "Epoch: 0/5 Train Loss: 1.944 Train Acc: 0.269\n",
      "Epoch: 1/5 Train Loss: 1.919 Train Acc: 0.270\n",
      "Epoch: 2/5 Train Loss: 1.834 Train Acc: 0.311\n",
      "Epoch: 3/5 Train Loss: 1.745 Train Acc: 0.349\n",
      "Epoch: 4/5 Train Loss: 1.738 Train Acc: 0.349\n",
      "Epoch: 0/5 Train Loss: 1.897 Train Acc: 0.296\n",
      "Epoch: 1/5 Train Loss: 1.894 Train Acc: 0.303\n",
      "Epoch: 2/5 Train Loss: 1.898 Train Acc: 0.296\n",
      "Epoch: 3/5 Train Loss: 1.898 Train Acc: 0.295\n",
      "Epoch: 4/5 Train Loss: 1.897 Train Acc: 0.293\n"
     ]
    },
    {
     "name": "stderr",
     "output_type": "stream",
     "text": [
      " 28%|██▊       | 7/25 [08:28<21:37, 72.10s/it]"
     ]
    },
    {
     "name": "stdout",
     "output_type": "stream",
     "text": [
      "6-th ROUND: average train loss 0.632 | test loss 2.37 | test acc: 0.100\n",
      "Epoch: 0/5 Train Loss: 1.867 Train Acc: 0.321\n",
      "Epoch: 1/5 Train Loss: 1.867 Train Acc: 0.315\n",
      "Epoch: 2/5 Train Loss: 1.866 Train Acc: 0.313\n",
      "Epoch: 3/5 Train Loss: 1.864 Train Acc: 0.315\n",
      "Epoch: 4/5 Train Loss: 1.866 Train Acc: 0.323\n",
      "Epoch: 0/5 Train Loss: 1.852 Train Acc: 0.314\n",
      "Epoch: 1/5 Train Loss: 1.847 Train Acc: 0.321\n",
      "Epoch: 2/5 Train Loss: 1.849 Train Acc: 0.319\n",
      "Epoch: 3/5 Train Loss: 1.855 Train Acc: 0.310\n",
      "Epoch: 4/5 Train Loss: 1.856 Train Acc: 0.319\n",
      "Epoch: 0/5 Train Loss: 1.855 Train Acc: 0.311\n",
      "Epoch: 1/5 Train Loss: 1.855 Train Acc: 0.307\n",
      "Epoch: 2/5 Train Loss: 1.859 Train Acc: 0.317\n",
      "Epoch: 3/5 Train Loss: 1.855 Train Acc: 0.307\n",
      "Epoch: 4/5 Train Loss: 1.854 Train Acc: 0.312\n"
     ]
    },
    {
     "name": "stderr",
     "output_type": "stream",
     "text": [
      " 32%|███▏      | 8/25 [09:40<20:25, 72.07s/it]"
     ]
    },
    {
     "name": "stdout",
     "output_type": "stream",
     "text": [
      "7-th ROUND: average train loss 0.618 | test loss 2.39 | test acc: 0.100\n",
      "Epoch: 0/5 Train Loss: 1.853 Train Acc: 0.315\n",
      "Epoch: 1/5 Train Loss: 1.848 Train Acc: 0.312\n",
      "Epoch: 2/5 Train Loss: 1.853 Train Acc: 0.318\n",
      "Epoch: 3/5 Train Loss: 1.852 Train Acc: 0.323\n",
      "Epoch: 4/5 Train Loss: 1.848 Train Acc: 0.315\n",
      "Epoch: 0/5 Train Loss: 1.864 Train Acc: 0.306\n",
      "Epoch: 1/5 Train Loss: 1.861 Train Acc: 0.306\n",
      "Epoch: 2/5 Train Loss: 1.861 Train Acc: 0.311\n",
      "Epoch: 3/5 Train Loss: 1.864 Train Acc: 0.309\n",
      "Epoch: 4/5 Train Loss: 1.861 Train Acc: 0.306\n",
      "Epoch: 0/5 Train Loss: 1.844 Train Acc: 0.319\n",
      "Epoch: 1/5 Train Loss: 1.845 Train Acc: 0.319\n",
      "Epoch: 2/5 Train Loss: 1.846 Train Acc: 0.317\n",
      "Epoch: 3/5 Train Loss: 1.852 Train Acc: 0.313\n",
      "Epoch: 4/5 Train Loss: 1.846 Train Acc: 0.317\n"
     ]
    },
    {
     "name": "stderr",
     "output_type": "stream",
     "text": [
      " 36%|███▌      | 9/25 [10:52<19:12, 72.03s/it]"
     ]
    },
    {
     "name": "stdout",
     "output_type": "stream",
     "text": [
      "8-th ROUND: average train loss 0.615 | test loss 2.38 | test acc: 0.124\n",
      "Epoch: 0/5 Train Loss: 1.862 Train Acc: 0.315\n",
      "Epoch: 1/5 Train Loss: 1.854 Train Acc: 0.311\n",
      "Epoch: 2/5 Train Loss: 1.857 Train Acc: 0.315\n",
      "Epoch: 3/5 Train Loss: 1.855 Train Acc: 0.311\n",
      "Epoch: 4/5 Train Loss: 1.857 Train Acc: 0.312\n",
      "Epoch: 0/5 Train Loss: 1.856 Train Acc: 0.320\n",
      "Epoch: 1/5 Train Loss: 1.846 Train Acc: 0.333\n",
      "Epoch: 2/5 Train Loss: 1.837 Train Acc: 0.325\n",
      "Epoch: 3/5 Train Loss: 1.836 Train Acc: 0.335\n",
      "Epoch: 4/5 Train Loss: 1.836 Train Acc: 0.324\n",
      "Epoch: 0/5 Train Loss: 1.851 Train Acc: 0.318\n",
      "Epoch: 1/5 Train Loss: 1.850 Train Acc: 0.315\n",
      "Epoch: 2/5 Train Loss: 1.851 Train Acc: 0.311\n",
      "Epoch: 3/5 Train Loss: 1.849 Train Acc: 0.314\n",
      "Epoch: 4/5 Train Loss: 1.849 Train Acc: 0.321\n"
     ]
    },
    {
     "name": "stderr",
     "output_type": "stream",
     "text": [
      " 40%|████      | 10/25 [12:04<18:00, 72.02s/it]"
     ]
    },
    {
     "name": "stdout",
     "output_type": "stream",
     "text": [
      "9-th ROUND: average train loss 0.616 | test loss 2.34 | test acc: 0.134\n",
      "Epoch: 0/5 Train Loss: 1.864 Train Acc: 0.317\n",
      "Epoch: 1/5 Train Loss: 1.868 Train Acc: 0.312\n",
      "Epoch: 2/5 Train Loss: 1.866 Train Acc: 0.316\n",
      "Epoch: 3/5 Train Loss: 1.870 Train Acc: 0.318\n",
      "Epoch: 4/5 Train Loss: 1.866 Train Acc: 0.312\n",
      "Epoch: 0/5 Train Loss: 1.848 Train Acc: 0.315\n",
      "Epoch: 1/5 Train Loss: 1.853 Train Acc: 0.311\n",
      "Epoch: 2/5 Train Loss: 1.855 Train Acc: 0.311\n",
      "Epoch: 3/5 Train Loss: 1.851 Train Acc: 0.313\n",
      "Epoch: 4/5 Train Loss: 1.852 Train Acc: 0.315\n",
      "Epoch: 0/5 Train Loss: 1.919 Train Acc: 0.277\n",
      "Epoch: 1/5 Train Loss: 2.008 Train Acc: 0.248\n",
      "Epoch: 2/5 Train Loss: 1.907 Train Acc: 0.278\n",
      "Epoch: 3/5 Train Loss: 1.782 Train Acc: 0.341\n",
      "Epoch: 4/5 Train Loss: 1.776 Train Acc: 0.334\n"
     ]
    },
    {
     "name": "stderr",
     "output_type": "stream",
     "text": [
      " 44%|████▍     | 11/25 [13:16<16:47, 72.00s/it]"
     ]
    },
    {
     "name": "stdout",
     "output_type": "stream",
     "text": [
      "10-th ROUND: average train loss 0.592 | test loss 2.29 | test acc: 0.127\n",
      "Epoch: 0/5 Train Loss: 1.836 Train Acc: 0.322\n",
      "Epoch: 1/5 Train Loss: 1.843 Train Acc: 0.319\n",
      "Epoch: 2/5 Train Loss: 1.842 Train Acc: 0.319\n",
      "Epoch: 3/5 Train Loss: 1.840 Train Acc: 0.320\n",
      "Epoch: 4/5 Train Loss: 1.841 Train Acc: 0.316\n",
      "Epoch: 0/5 Train Loss: 1.843 Train Acc: 0.310\n",
      "Epoch: 1/5 Train Loss: 1.846 Train Acc: 0.316\n",
      "Epoch: 2/5 Train Loss: 1.842 Train Acc: 0.309\n",
      "Epoch: 3/5 Train Loss: 1.843 Train Acc: 0.317\n",
      "Epoch: 4/5 Train Loss: 1.849 Train Acc: 0.308\n",
      "Epoch: 0/5 Train Loss: 1.859 Train Acc: 0.309\n",
      "Epoch: 1/5 Train Loss: 1.858 Train Acc: 0.303\n",
      "Epoch: 2/5 Train Loss: 1.864 Train Acc: 0.305\n",
      "Epoch: 3/5 Train Loss: 1.861 Train Acc: 0.307\n",
      "Epoch: 4/5 Train Loss: 1.863 Train Acc: 0.300\n"
     ]
    },
    {
     "name": "stderr",
     "output_type": "stream",
     "text": [
      " 48%|████▊     | 12/25 [14:28<15:35, 71.98s/it]"
     ]
    },
    {
     "name": "stdout",
     "output_type": "stream",
     "text": [
      "11-th ROUND: average train loss 0.621 | test loss 2.2 | test acc: 0.183\n",
      "Epoch: 0/5 Train Loss: 1.842 Train Acc: 0.317\n",
      "Epoch: 1/5 Train Loss: 1.835 Train Acc: 0.314\n",
      "Epoch: 2/5 Train Loss: 1.844 Train Acc: 0.314\n",
      "Epoch: 3/5 Train Loss: 1.846 Train Acc: 0.317\n",
      "Epoch: 4/5 Train Loss: 1.839 Train Acc: 0.319\n",
      "Epoch: 0/5 Train Loss: 1.851 Train Acc: 0.326\n",
      "Epoch: 1/5 Train Loss: 1.853 Train Acc: 0.317\n",
      "Epoch: 2/5 Train Loss: 1.853 Train Acc: 0.321\n",
      "Epoch: 3/5 Train Loss: 1.849 Train Acc: 0.317\n",
      "Epoch: 4/5 Train Loss: 1.845 Train Acc: 0.322\n",
      "Epoch: 0/5 Train Loss: 1.848 Train Acc: 0.306\n",
      "Epoch: 1/5 Train Loss: 1.852 Train Acc: 0.312\n",
      "Epoch: 2/5 Train Loss: 1.855 Train Acc: 0.313\n",
      "Epoch: 3/5 Train Loss: 1.856 Train Acc: 0.308\n",
      "Epoch: 4/5 Train Loss: 1.848 Train Acc: 0.313\n"
     ]
    },
    {
     "name": "stderr",
     "output_type": "stream",
     "text": [
      " 52%|█████▏    | 13/25 [15:40<14:23, 71.98s/it]"
     ]
    },
    {
     "name": "stdout",
     "output_type": "stream",
     "text": [
      "12-th ROUND: average train loss 0.616 | test loss 2.1 | test acc: 0.235\n",
      "Epoch: 0/5 Train Loss: 1.839 Train Acc: 0.315\n",
      "Epoch: 1/5 Train Loss: 1.843 Train Acc: 0.315\n",
      "Epoch: 2/5 Train Loss: 1.842 Train Acc: 0.307\n",
      "Epoch: 3/5 Train Loss: 1.847 Train Acc: 0.313\n",
      "Epoch: 4/5 Train Loss: 1.841 Train Acc: 0.318\n",
      "Epoch: 0/5 Train Loss: 1.852 Train Acc: 0.300\n",
      "Epoch: 1/5 Train Loss: 1.850 Train Acc: 0.310\n",
      "Epoch: 2/5 Train Loss: 1.853 Train Acc: 0.309\n",
      "Epoch: 3/5 Train Loss: 1.850 Train Acc: 0.311\n",
      "Epoch: 4/5 Train Loss: 1.854 Train Acc: 0.304\n",
      "Epoch: 0/5 Train Loss: 1.852 Train Acc: 0.318\n",
      "Epoch: 1/5 Train Loss: 1.847 Train Acc: 0.321\n",
      "Epoch: 2/5 Train Loss: 1.849 Train Acc: 0.319\n",
      "Epoch: 3/5 Train Loss: 1.848 Train Acc: 0.320\n",
      "Epoch: 4/5 Train Loss: 1.853 Train Acc: 0.318\n"
     ]
    },
    {
     "name": "stderr",
     "output_type": "stream",
     "text": [
      " 56%|█████▌    | 14/25 [16:52<13:12, 72.00s/it]"
     ]
    },
    {
     "name": "stdout",
     "output_type": "stream",
     "text": [
      "13-th ROUND: average train loss 0.618 | test loss 2.01 | test acc: 0.273\n",
      "Epoch: 0/5 Train Loss: 1.863 Train Acc: 0.310\n",
      "Epoch: 1/5 Train Loss: 1.861 Train Acc: 0.311\n",
      "Epoch: 2/5 Train Loss: 1.858 Train Acc: 0.311\n",
      "Epoch: 3/5 Train Loss: 1.860 Train Acc: 0.307\n",
      "Epoch: 4/5 Train Loss: 1.860 Train Acc: 0.302\n",
      "Epoch: 0/5 Train Loss: 1.847 Train Acc: 0.310\n",
      "Epoch: 1/5 Train Loss: 1.852 Train Acc: 0.304\n",
      "Epoch: 2/5 Train Loss: 1.851 Train Acc: 0.310\n",
      "Epoch: 3/5 Train Loss: 1.853 Train Acc: 0.311\n",
      "Epoch: 4/5 Train Loss: 1.850 Train Acc: 0.305\n",
      "Epoch: 0/5 Train Loss: 1.840 Train Acc: 0.319\n",
      "Epoch: 1/5 Train Loss: 1.838 Train Acc: 0.310\n",
      "Epoch: 2/5 Train Loss: 1.838 Train Acc: 0.321\n",
      "Epoch: 3/5 Train Loss: 1.839 Train Acc: 0.315\n",
      "Epoch: 4/5 Train Loss: 1.838 Train Acc: 0.314\n"
     ]
    },
    {
     "name": "stderr",
     "output_type": "stream",
     "text": [
      " 60%|██████    | 15/25 [18:04<12:00, 72.01s/it]"
     ]
    },
    {
     "name": "stdout",
     "output_type": "stream",
     "text": [
      "14-th ROUND: average train loss 0.613 | test loss 1.93 | test acc: 0.299\n",
      "Epoch: 0/5 Train Loss: 1.842 Train Acc: 0.314\n",
      "Epoch: 1/5 Train Loss: 1.840 Train Acc: 0.312\n",
      "Epoch: 2/5 Train Loss: 1.841 Train Acc: 0.315\n",
      "Epoch: 3/5 Train Loss: 1.841 Train Acc: 0.311\n",
      "Epoch: 4/5 Train Loss: 1.840 Train Acc: 0.317\n",
      "Epoch: 0/5 Train Loss: 1.916 Train Acc: 0.291\n",
      "Epoch: 1/5 Train Loss: 1.887 Train Acc: 0.291\n",
      "Epoch: 2/5 Train Loss: 1.784 Train Acc: 0.335\n",
      "Epoch: 3/5 Train Loss: 1.673 Train Acc: 0.381\n",
      "Epoch: 4/5 Train Loss: 1.656 Train Acc: 0.382\n",
      "Epoch: 0/5 Train Loss: 1.854 Train Acc: 0.308\n",
      "Epoch: 1/5 Train Loss: 1.848 Train Acc: 0.314\n",
      "Epoch: 2/5 Train Loss: 1.851 Train Acc: 0.319\n",
      "Epoch: 3/5 Train Loss: 1.853 Train Acc: 0.314\n",
      "Epoch: 4/5 Train Loss: 1.850 Train Acc: 0.313\n"
     ]
    },
    {
     "name": "stderr",
     "output_type": "stream",
     "text": [
      " 64%|██████▍   | 16/25 [19:16<10:47, 71.99s/it]"
     ]
    },
    {
     "name": "stdout",
     "output_type": "stream",
     "text": [
      "15-th ROUND: average train loss 0.617 | test loss 1.94 | test acc: 0.302\n",
      "Epoch: 0/5 Train Loss: 1.819 Train Acc: 0.334\n",
      "Epoch: 1/5 Train Loss: 1.823 Train Acc: 0.332\n",
      "Epoch: 2/5 Train Loss: 1.818 Train Acc: 0.332\n",
      "Epoch: 3/5 Train Loss: 1.818 Train Acc: 0.325\n",
      "Epoch: 4/5 Train Loss: 1.820 Train Acc: 0.328\n",
      "Epoch: 0/5 Train Loss: 1.821 Train Acc: 0.327\n",
      "Epoch: 1/5 Train Loss: 1.831 Train Acc: 0.332\n",
      "Epoch: 2/5 Train Loss: 1.825 Train Acc: 0.330\n",
      "Epoch: 3/5 Train Loss: 1.826 Train Acc: 0.328\n",
      "Epoch: 4/5 Train Loss: 1.824 Train Acc: 0.330\n",
      "Epoch: 0/5 Train Loss: 1.805 Train Acc: 0.331\n",
      "Epoch: 1/5 Train Loss: 1.810 Train Acc: 0.325\n",
      "Epoch: 2/5 Train Loss: 1.805 Train Acc: 0.327\n",
      "Epoch: 3/5 Train Loss: 1.813 Train Acc: 0.329\n",
      "Epoch: 4/5 Train Loss: 1.810 Train Acc: 0.331\n"
     ]
    },
    {
     "name": "stderr",
     "output_type": "stream",
     "text": [
      " 68%|██████▊   | 17/25 [20:28<09:35, 71.96s/it]"
     ]
    },
    {
     "name": "stdout",
     "output_type": "stream",
     "text": [
      "16-th ROUND: average train loss 0.603 | test loss 1.88 | test acc: 0.321\n",
      "Epoch: 0/5 Train Loss: 1.816 Train Acc: 0.315\n",
      "Epoch: 1/5 Train Loss: 1.814 Train Acc: 0.322\n",
      "Epoch: 2/5 Train Loss: 1.815 Train Acc: 0.323\n",
      "Epoch: 3/5 Train Loss: 1.813 Train Acc: 0.323\n",
      "Epoch: 4/5 Train Loss: 1.813 Train Acc: 0.323\n",
      "Epoch: 0/5 Train Loss: 1.818 Train Acc: 0.318\n",
      "Epoch: 1/5 Train Loss: 1.825 Train Acc: 0.315\n",
      "Epoch: 2/5 Train Loss: 1.817 Train Acc: 0.320\n",
      "Epoch: 3/5 Train Loss: 1.820 Train Acc: 0.329\n",
      "Epoch: 4/5 Train Loss: 1.819 Train Acc: 0.319\n",
      "Epoch: 0/5 Train Loss: 1.808 Train Acc: 0.323\n",
      "Epoch: 1/5 Train Loss: 1.811 Train Acc: 0.326\n",
      "Epoch: 2/5 Train Loss: 1.810 Train Acc: 0.330\n",
      "Epoch: 3/5 Train Loss: 1.808 Train Acc: 0.320\n",
      "Epoch: 4/5 Train Loss: 1.806 Train Acc: 0.330\n"
     ]
    },
    {
     "name": "stderr",
     "output_type": "stream",
     "text": [
      " 72%|███████▏  | 18/25 [21:40<08:23, 71.98s/it]"
     ]
    },
    {
     "name": "stdout",
     "output_type": "stream",
     "text": [
      "17-th ROUND: average train loss 0.602 | test loss 1.84 | test acc: 0.335\n",
      "Epoch: 0/5 Train Loss: 1.818 Train Acc: 0.322\n",
      "Epoch: 1/5 Train Loss: 1.817 Train Acc: 0.322\n",
      "Epoch: 2/5 Train Loss: 1.814 Train Acc: 0.325\n",
      "Epoch: 3/5 Train Loss: 1.816 Train Acc: 0.322\n",
      "Epoch: 4/5 Train Loss: 1.822 Train Acc: 0.326\n",
      "Epoch: 0/5 Train Loss: 1.818 Train Acc: 0.325\n",
      "Epoch: 1/5 Train Loss: 1.818 Train Acc: 0.330\n",
      "Epoch: 2/5 Train Loss: 1.811 Train Acc: 0.336\n",
      "Epoch: 3/5 Train Loss: 1.801 Train Acc: 0.338\n",
      "Epoch: 4/5 Train Loss: 1.804 Train Acc: 0.335\n",
      "Epoch: 0/5 Train Loss: 1.812 Train Acc: 0.321\n",
      "Epoch: 1/5 Train Loss: 1.816 Train Acc: 0.321\n",
      "Epoch: 2/5 Train Loss: 1.818 Train Acc: 0.321\n",
      "Epoch: 3/5 Train Loss: 1.809 Train Acc: 0.321\n",
      "Epoch: 4/5 Train Loss: 1.814 Train Acc: 0.322\n"
     ]
    },
    {
     "name": "stderr",
     "output_type": "stream",
     "text": [
      " 76%|███████▌  | 19/25 [22:52<07:11, 71.96s/it]"
     ]
    },
    {
     "name": "stdout",
     "output_type": "stream",
     "text": [
      "18-th ROUND: average train loss 0.605 | test loss 1.81 | test acc: 0.345\n",
      "Epoch: 0/5 Train Loss: 1.829 Train Acc: 0.323\n",
      "Epoch: 1/5 Train Loss: 1.819 Train Acc: 0.327\n",
      "Epoch: 2/5 Train Loss: 1.822 Train Acc: 0.331\n",
      "Epoch: 3/5 Train Loss: 1.823 Train Acc: 0.329\n",
      "Epoch: 4/5 Train Loss: 1.831 Train Acc: 0.326\n",
      "Epoch: 0/5 Train Loss: 1.813 Train Acc: 0.325\n",
      "Epoch: 1/5 Train Loss: 1.820 Train Acc: 0.321\n",
      "Epoch: 2/5 Train Loss: 1.818 Train Acc: 0.322\n",
      "Epoch: 3/5 Train Loss: 1.819 Train Acc: 0.328\n",
      "Epoch: 4/5 Train Loss: 1.811 Train Acc: 0.331\n",
      "Epoch: 0/5 Train Loss: 1.827 Train Acc: 0.321\n",
      "Epoch: 1/5 Train Loss: 1.831 Train Acc: 0.316\n",
      "Epoch: 2/5 Train Loss: 1.835 Train Acc: 0.315\n",
      "Epoch: 3/5 Train Loss: 1.833 Train Acc: 0.309\n",
      "Epoch: 4/5 Train Loss: 1.832 Train Acc: 0.314\n"
     ]
    },
    {
     "name": "stderr",
     "output_type": "stream",
     "text": [
      " 80%|████████  | 20/25 [24:04<05:59, 71.99s/it]"
     ]
    },
    {
     "name": "stdout",
     "output_type": "stream",
     "text": [
      "19-th ROUND: average train loss 0.611 | test loss 1.8 | test acc: 0.348\n",
      "Epoch: 0/5 Train Loss: 1.812 Train Acc: 0.325\n",
      "Epoch: 1/5 Train Loss: 1.811 Train Acc: 0.326\n",
      "Epoch: 2/5 Train Loss: 1.811 Train Acc: 0.328\n",
      "Epoch: 3/5 Train Loss: 1.805 Train Acc: 0.330\n",
      "Epoch: 4/5 Train Loss: 1.807 Train Acc: 0.335\n",
      "Epoch: 0/5 Train Loss: 1.819 Train Acc: 0.332\n",
      "Epoch: 1/5 Train Loss: 1.819 Train Acc: 0.322\n",
      "Epoch: 2/5 Train Loss: 1.817 Train Acc: 0.332\n",
      "Epoch: 3/5 Train Loss: 1.817 Train Acc: 0.322\n",
      "Epoch: 4/5 Train Loss: 1.820 Train Acc: 0.331\n",
      "Epoch: 0/5 Train Loss: 1.813 Train Acc: 0.337\n",
      "Epoch: 1/5 Train Loss: 1.804 Train Acc: 0.341\n",
      "Epoch: 2/5 Train Loss: 1.798 Train Acc: 0.340\n",
      "Epoch: 3/5 Train Loss: 1.804 Train Acc: 0.340\n",
      "Epoch: 4/5 Train Loss: 1.802 Train Acc: 0.340\n"
     ]
    },
    {
     "name": "stderr",
     "output_type": "stream",
     "text": [
      " 84%|████████▍ | 21/25 [25:16<04:47, 71.99s/it]"
     ]
    },
    {
     "name": "stdout",
     "output_type": "stream",
     "text": [
      "20-th ROUND: average train loss 0.601 | test loss 1.79 | test acc: 0.347\n",
      "Epoch: 0/5 Train Loss: 1.812 Train Acc: 0.327\n",
      "Epoch: 1/5 Train Loss: 1.808 Train Acc: 0.328\n",
      "Epoch: 2/5 Train Loss: 1.814 Train Acc: 0.324\n",
      "Epoch: 3/5 Train Loss: 1.814 Train Acc: 0.320\n",
      "Epoch: 4/5 Train Loss: 1.812 Train Acc: 0.325\n",
      "Epoch: 0/5 Train Loss: 1.805 Train Acc: 0.335\n",
      "Epoch: 1/5 Train Loss: 1.812 Train Acc: 0.322\n",
      "Epoch: 2/5 Train Loss: 1.803 Train Acc: 0.326\n",
      "Epoch: 3/5 Train Loss: 1.810 Train Acc: 0.333\n",
      "Epoch: 4/5 Train Loss: 1.806 Train Acc: 0.326\n",
      "Epoch: 0/5 Train Loss: 1.819 Train Acc: 0.328\n",
      "Epoch: 1/5 Train Loss: 1.819 Train Acc: 0.333\n",
      "Epoch: 2/5 Train Loss: 1.816 Train Acc: 0.343\n",
      "Epoch: 3/5 Train Loss: 1.818 Train Acc: 0.334\n",
      "Epoch: 4/5 Train Loss: 1.812 Train Acc: 0.330\n"
     ]
    },
    {
     "name": "stderr",
     "output_type": "stream",
     "text": [
      " 88%|████████▊ | 22/25 [26:28<03:35, 71.96s/it]"
     ]
    },
    {
     "name": "stdout",
     "output_type": "stream",
     "text": [
      "21-th ROUND: average train loss 0.604 | test loss 1.79 | test acc: 0.343\n",
      "Epoch: 0/5 Train Loss: 1.821 Train Acc: 0.326\n",
      "Epoch: 1/5 Train Loss: 1.827 Train Acc: 0.327\n",
      "Epoch: 2/5 Train Loss: 1.818 Train Acc: 0.334\n",
      "Epoch: 3/5 Train Loss: 1.824 Train Acc: 0.323\n",
      "Epoch: 4/5 Train Loss: 1.820 Train Acc: 0.330\n",
      "Epoch: 0/5 Train Loss: 1.807 Train Acc: 0.322\n",
      "Epoch: 1/5 Train Loss: 1.809 Train Acc: 0.325\n",
      "Epoch: 2/5 Train Loss: 1.807 Train Acc: 0.327\n",
      "Epoch: 3/5 Train Loss: 1.815 Train Acc: 0.322\n",
      "Epoch: 4/5 Train Loss: 1.801 Train Acc: 0.335\n",
      "Epoch: 0/5 Train Loss: 1.812 Train Acc: 0.327\n",
      "Epoch: 1/5 Train Loss: 1.814 Train Acc: 0.319\n",
      "Epoch: 2/5 Train Loss: 1.809 Train Acc: 0.324\n",
      "Epoch: 3/5 Train Loss: 1.814 Train Acc: 0.324\n",
      "Epoch: 4/5 Train Loss: 1.811 Train Acc: 0.323\n"
     ]
    },
    {
     "name": "stderr",
     "output_type": "stream",
     "text": [
      " 92%|█████████▏| 23/25 [27:40<02:23, 71.96s/it]"
     ]
    },
    {
     "name": "stdout",
     "output_type": "stream",
     "text": [
      "22-th ROUND: average train loss 0.604 | test loss 1.79 | test acc: 0.343\n",
      "Epoch: 0/5 Train Loss: 1.805 Train Acc: 0.327\n",
      "Epoch: 1/5 Train Loss: 1.801 Train Acc: 0.334\n",
      "Epoch: 2/5 Train Loss: 1.808 Train Acc: 0.327\n",
      "Epoch: 3/5 Train Loss: 1.803 Train Acc: 0.326\n",
      "Epoch: 4/5 Train Loss: 1.809 Train Acc: 0.337\n",
      "Epoch: 0/5 Train Loss: 1.827 Train Acc: 0.318\n",
      "Epoch: 1/5 Train Loss: 1.832 Train Acc: 0.314\n",
      "Epoch: 2/5 Train Loss: 1.826 Train Acc: 0.318\n",
      "Epoch: 3/5 Train Loss: 1.831 Train Acc: 0.322\n",
      "Epoch: 4/5 Train Loss: 1.827 Train Acc: 0.315\n",
      "Epoch: 0/5 Train Loss: 1.822 Train Acc: 0.326\n",
      "Epoch: 1/5 Train Loss: 1.818 Train Acc: 0.335\n",
      "Epoch: 2/5 Train Loss: 1.808 Train Acc: 0.346\n",
      "Epoch: 3/5 Train Loss: 1.817 Train Acc: 0.336\n",
      "Epoch: 4/5 Train Loss: 1.811 Train Acc: 0.331\n"
     ]
    },
    {
     "name": "stderr",
     "output_type": "stream",
     "text": [
      " 96%|█████████▌| 24/25 [28:52<01:11, 71.97s/it]"
     ]
    },
    {
     "name": "stdout",
     "output_type": "stream",
     "text": [
      "23-th ROUND: average train loss 0.604 | test loss 1.79 | test acc: 0.341\n",
      "Epoch: 0/5 Train Loss: 1.805 Train Acc: 0.327\n",
      "Epoch: 1/5 Train Loss: 1.804 Train Acc: 0.328\n",
      "Epoch: 2/5 Train Loss: 1.799 Train Acc: 0.329\n",
      "Epoch: 3/5 Train Loss: 1.808 Train Acc: 0.330\n",
      "Epoch: 4/5 Train Loss: 1.805 Train Acc: 0.330\n",
      "Epoch: 0/5 Train Loss: 1.819 Train Acc: 0.332\n",
      "Epoch: 1/5 Train Loss: 1.819 Train Acc: 0.339\n",
      "Epoch: 2/5 Train Loss: 1.818 Train Acc: 0.333\n",
      "Epoch: 3/5 Train Loss: 1.819 Train Acc: 0.331\n",
      "Epoch: 4/5 Train Loss: 1.819 Train Acc: 0.336\n",
      "Epoch: 0/5 Train Loss: 1.809 Train Acc: 0.324\n",
      "Epoch: 1/5 Train Loss: 1.817 Train Acc: 0.321\n",
      "Epoch: 2/5 Train Loss: 1.820 Train Acc: 0.323\n",
      "Epoch: 3/5 Train Loss: 1.806 Train Acc: 0.329\n",
      "Epoch: 4/5 Train Loss: 1.812 Train Acc: 0.328\n"
     ]
    },
    {
     "name": "stderr",
     "output_type": "stream",
     "text": [
      "100%|██████████| 25/25 [30:04<00:00, 72.17s/it]"
     ]
    },
    {
     "name": "stdout",
     "output_type": "stream",
     "text": [
      "24-th ROUND: average train loss 0.604 | test loss 1.79 | test acc: 0.340\n"
     ]
    },
    {
     "name": "stderr",
     "output_type": "stream",
     "text": [
      "\n"
     ]
    }
   ],
   "source": [
    "# initialize lists to store the training and testing losses and accuracies\n",
    "train_losses = []\n",
    "test_losses = []\n",
    "train_accs = []\n",
    "test_accs = []\n",
    "\n",
    "for round in tqdm(range(rounds)):\n",
    "\n",
    "\n",
    "    # Select n random clients\n",
    "    selected_clients = np.random.permutation(num_clients)[:clients_sample_size]\n",
    "    # Train the selected clients\n",
    "    for client in selected_clients:\n",
    "        # Individual criterion and optimizer\n",
    "\n",
    "        train_loss, train_acc = qtrain_model(model = client_models[client],\n",
    "                                             train_loader = train_loaders[client],\n",
    "                                             device = device,\n",
    "                                             criterion = criterion,\n",
    "                                             optimizer = optimizers[client],\n",
    "                                             num_epochs=epoch,\n",
    "                                             bits = quantize_bits)\n",
    "    train_losses.append(train_loss)\n",
    "    train_accs.append(train_acc)\n",
    "\n",
    "    # Aggregate\n",
    "    server_aggregate(global_model, client_models)\n",
    "\n",
    "    # Test the global model\n",
    "    test_loss, test_acc = evaluate_model(model=global_model,\n",
    "                                         test_loader=test_loader,\n",
    "                                         device=device,\n",
    "                                         criterion=criterion)\n",
    "\n",
    "    test_losses.append(test_loss)\n",
    "    test_accs.append(test_acc)\n",
    "    \n",
    "    print(f\"{round}-th ROUND: average train loss {(train_loss / clients_sample_size):0.3g} | test loss {test_loss:0.3g} | test acc: {test_acc:0.3f}\")\n",
    "    \n",
    "    "
   ]
  },
  {
   "cell_type": "code",
   "execution_count": 11,
   "metadata": {},
   "outputs": [
    {
     "data": {
      "image/png": "[encoded data removed]",
      "text/plain": [
       "<Figure size 640x480 with 1 Axes>"
      ]
     },
     "metadata": {},
     "output_type": "display_data"
    }
   ],
   "source": [
    "# plot the training loss\n",
    "sns.set(style='darkgrid')\n",
    "plt.plot(train_losses)\n",
    "plt.title('Training Loss')\n",
    "plt.xlabel('Epoch')\n",
    "plt.ylabel('Loss')\n",
    "plt.show()"
   ]
  },
  {
   "cell_type": "code",
   "execution_count": 12,
   "metadata": {},
   "outputs": [],
   "source": [
    "train_accs = [d.item() for d in train_accs]\n",
    "test_accs = [d.item() for d in test_accs]"
   ]
  },
  {
   "cell_type": "code",
   "execution_count": 13,
   "metadata": {},
   "outputs": [
    {
     "data": {
      "image/png": "[encoded data removed]",
      "text/plain": [
       "<Figure size 640x480 with 1 Axes>"
      ]
     },
     "metadata": {},
     "output_type": "display_data"
    }
   ],
   "source": [
    "# plot the training and testing accuracies\n",
    "sns.set(style='darkgrid')\n",
    "plt.plot(train_accs, label='Train Acc')\n",
    "plt.plot(test_accs, label='Test Acc')\n",
    "plt.title('Training and Testing Accuracies')\n",
    "plt.xlabel('Epoch')\n",
    "plt.ylabel('Accuracy')\n",
    "plt.legend()\n",
    "plt.show()\n"
   ]
  },
  {
   "cell_type": "code",
   "execution_count": 14,
   "metadata": {},
   "outputs": [
    {
     "name": "stdout",
     "output_type": "stream",
     "text": [
      "Loss: 0.0, Accuracy: 33.97999954223633%\n",
      "44.77 MB\n",
      "CPU Inference Latency: 7.75 ms / sample\n",
      "CUDA Inference Latency: 2.93 ms / sample\n"
     ]
    }
   ],
   "source": [
    "cuda_device = torch.device(\"cuda:0\")\n",
    "cpu_device = torch.device(\"cpu:0\")\n",
    "# Test the model\n",
    "loss, acc = evaluate_model(global_model, test_loader, device,)\n",
    "print(f'Loss: {loss}, Accuracy: {acc*100}%')\n",
    "print_model_size(global_model)\n",
    "\n",
    "# Measure inference latency\n",
    "cpu_inference_latency = measure_inference_latency(model=global_model, device=cpu_device, input_size=(1,3,32,32), num_samples=100)\n",
    "gpu_inference_latency = measure_inference_latency(model=global_model, device=cuda_device, input_size=(1,3,32,32), num_samples=100)\n",
    "print(\"CPU Inference Latency: {:.2f} ms / sample\".format(cpu_inference_latency * 1000))\n",
    "print(\"CUDA Inference Latency: {:.2f} ms / sample\".format(gpu_inference_latency * 1000))"
   ]
  },
  {
   "cell_type": "code",
   "execution_count": 15,
   "metadata": {},
   "outputs": [],
   "source": [
    "save_model(global_model, \"saved_models\", f'resnet_fedlern_{quantize_bits}bits_{time_stamp()}.pth')"
   ]
  },
  {
   "cell_type": "code",
   "execution_count": 16,
   "metadata": {},
   "outputs": [],
   "source": [
    "pass"
   ]
  }
 ],
 "metadata": {
  "kernelspec": {
   "display_name": "Python 3",
   "language": "python",
   "name": "python3"
  },
  "language_info": {
   "codemirror_mode": {
    "name": "ipython",
    "version": 3
   },
   "file_extension": ".py",
   "mimetype": "text/x-python",
   "name": "python",
   "nbconvert_exporter": "python",
   "pygments_lexer": "ipython3",
   "version": "3.8.0"
  },
  "orig_nbformat": 4
 },
 "nbformat": 4,
 "nbformat_minor": 2
}
