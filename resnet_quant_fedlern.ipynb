{
 "cells": [
  {
   "attachments": {},
   "cell_type": "markdown",
   "metadata": {},
   "source": [
    "# Federated Learning Simple Implementation"
   ]
  },
  {
   "cell_type": "code",
   "execution_count": 45,
   "metadata": {},
   "outputs": [],
   "source": [
    "import torch\n",
    "import torch.nn as nn\n",
    "import torch.optim as optim\n",
    "import torchvision.datasets as datasets\n",
    "import torchvision.transforms as transforms\n",
    "import matplotlib.pyplot as plt\n",
    "from torch.utils.data import DataLoader\n",
    "\n",
    "import numpy as np\n",
    "from tqdm import tqdm\n",
    "import seaborn as sns\n",
    "from fedlern.utils import *\n",
    "from fedlern.train_utils import *\n",
    "from fedlern.quant_utils import *\n",
    "from fedlern.models.resnet_v2 import ResNet18"
   ]
  },
  {
   "attachments": {},
   "cell_type": "markdown",
   "metadata": {},
   "source": [
    "## Relevant Parameters"
   ]
  },
  {
   "cell_type": "code",
   "execution_count": 46,
   "metadata": {},
   "outputs": [],
   "source": [
    "epoch = 10\n",
    "rounds = 25\n",
    "num_clients = 10\n",
    "\n",
    "clients_sample_size = int(.3 * num_clients) # Use 30% of available clients\n",
    "num_workers = 8\n",
    "train_batch_size =128\n",
    "eval_batch_size=256\n",
    "quantize_bits = 3\n",
    "stats = (0.49139968, 0.48215841, 0.44653091), (0.24703223, 0.24348513, 0.26158784)"
   ]
  },
  {
   "attachments": {},
   "cell_type": "markdown",
   "metadata": {},
   "source": [
    "## Data Loaders\n",
    "- Divide the test & training data\n",
    "- Divide the training data among the clients"
   ]
  },
  {
   "cell_type": "code",
   "execution_count": 47,
   "metadata": {},
   "outputs": [
    {
     "name": "stdout",
     "output_type": "stream",
     "text": [
      "Files already downloaded and verified\n"
     ]
    }
   ],
   "source": [
    " # Data augmentation and normalization for training\n",
    "transform_train = transforms.Compose([\n",
    "    transforms.RandomCrop(32, padding=4),\n",
    "    transforms.RandomHorizontalFlip(),\n",
    "    transforms.ToTensor(),\n",
    "    transforms.Normalize(*stats)\n",
    "])\n",
    "\n",
    "# Normalization for testing\n",
    "transform_test = transforms.Compose([\n",
    "    transforms.ToTensor(),\n",
    "    transforms.Normalize(*stats)\n",
    "])\n",
    "\n",
    "# CIFAR-10 dataset\n",
    "train_dataset = datasets.CIFAR10(root='./data', train=True, transform=transform_train, download=True)\n",
    "test_dataset = datasets.CIFAR10(root='./data', train=False, transform=transform_test)\n",
    "\n",
    "# split the training data\n",
    "train_splits = torch.utils.data.random_split(train_dataset, [int(train_dataset.data.shape[0]/num_clients) for i in range(num_clients)])\n",
    "\n",
    "# Data loaders\n",
    "train_loaders = [DataLoader(dataset=split, batch_size=train_batch_size, shuffle=True, num_workers=num_workers) for split in train_splits]\n",
    "test_loader = DataLoader(dataset=test_dataset, batch_size=eval_batch_size, shuffle=False, num_workers=num_workers)\n",
    "\n",
    "device = torch.device('cuda' if torch.cuda.is_available() else 'cpu')\n"
   ]
  },
  {
   "attachments": {},
   "cell_type": "markdown",
   "metadata": {},
   "source": [
    "## Helper Functions for Federated Training\n",
    "- `client_update` function train the client model on private client data. This is the local training round that takes place at num_selected clients.\n",
    "- `server_aggregate` function aggregates the model weights received from every client and updates the global model with the updated weights."
   ]
  },
  {
   "cell_type": "code",
   "execution_count": 48,
   "metadata": {},
   "outputs": [],
   "source": [
    "\n",
    "def server_aggregate(global_model : torch.nn.Module, client_models):\n",
    "    \"\"\"\n",
    "    The means of the weights of the client models are aggregated to the global model\n",
    "    \"\"\"\n",
    "    global_dict = global_model.state_dict() # Get a copy of the global model state_dict\n",
    "    for key in global_dict.keys():\n",
    "        global_dict[key] = torch.stack([client_models[i].state_dict()[key].float() for i in range(len(client_models))],0).mean(0)\n",
    "    global_model.load_state_dict(global_dict)\n",
    "    \n",
    "    # Update the client models using the global model\n",
    "    for model in client_models:\n",
    "        model.load_state_dict(global_model.state_dict())"
   ]
  },
  {
   "attachments": {},
   "cell_type": "markdown",
   "metadata": {},
   "source": [
    "## Global & Clients instatiation\n",
    "Implement the same elements as before, but:\n",
    "- We need more instances of the model\n",
    "- An optimizer for each model"
   ]
  },
  {
   "cell_type": "code",
   "execution_count": 49,
   "metadata": {},
   "outputs": [],
   "source": [
    "global_model = ResNet18().to(device)\n",
    "client_models = [ResNet18()\n",
    "                     .to(device)\n",
    "                     #.load_state_dict(global_model.state_dict())\n",
    "                  for _ in range(num_clients)]\n",
    "\n",
    "\n",
    "\n",
    "# criterion = nn.CrossEntropyLoss() # computes the cross-entropy loss between the predicted and true labels\n",
    "# optimizers =[optim.Adam(model.parameters(), lr=0.001) for model in client_models]\n"
   ]
  },
  {
   "cell_type": "code",
   "execution_count": 50,
   "metadata": {},
   "outputs": [],
   "source": [
    "# Optimizer & criterion based on gobal model\n",
    "global_optimizer = get_model_optimizer(global_model,\n",
    "                                       learning_rate=0.1,\n",
    "                                       weight_decay=5e-4)\n",
    "\n",
    "#scheduler = optim.lr_scheduler.MultiStepLR(optimizer, milestones=[80,120,160], gamma=0.1)\n",
    "criterion = nn.CrossEntropyLoss().to(device) # computes the cross-entropy loss between the predicted and true labels\n",
    "\n",
    "optimizers = [get_model_optimizer(model,learning_rate=0.1, weight_decay=5e-4) for model in client_models]"
   ]
  },
  {
   "cell_type": "code",
   "execution_count": 51,
   "metadata": {},
   "outputs": [
    {
     "name": "stderr",
     "output_type": "stream",
     "text": [
      "  0%|          | 0/30 [00:00<?, ?it/s]"
     ]
    },
    {
     "name": "stdout",
     "output_type": "stream",
     "text": [
      "Epoch: 0/10 Train Loss: 3.037 Train Acc: 0.171\n",
      "Epoch: 1/10 Train Loss: 2.373 Train Acc: 0.199\n",
      "Epoch: 2/10 Train Loss: 2.066 Train Acc: 0.214\n",
      "Epoch: 3/10 Train Loss: 2.019 Train Acc: 0.236\n",
      "Epoch: 4/10 Train Loss: 2.025 Train Acc: 0.238\n",
      "Epoch: 5/10 Train Loss: 2.015 Train Acc: 0.236\n",
      "Epoch: 6/10 Train Loss: 2.017 Train Acc: 0.243\n",
      "Epoch: 7/10 Train Loss: 2.020 Train Acc: 0.236\n",
      "Epoch: 8/10 Train Loss: 2.013 Train Acc: 0.236\n",
      "Epoch: 9/10 Train Loss: 2.014 Train Acc: 0.234\n",
      "Epoch: 0/10 Train Loss: 2.954 Train Acc: 0.162\n",
      "Epoch: 1/10 Train Loss: 2.282 Train Acc: 0.173\n",
      "Epoch: 2/10 Train Loss: 2.081 Train Acc: 0.223\n",
      "Epoch: 3/10 Train Loss: 2.033 Train Acc: 0.247\n",
      "Epoch: 4/10 Train Loss: 2.036 Train Acc: 0.248\n",
      "Epoch: 5/10 Train Loss: 2.032 Train Acc: 0.250\n",
      "Epoch: 6/10 Train Loss: 2.030 Train Acc: 0.252\n",
      "Epoch: 7/10 Train Loss: 2.031 Train Acc: 0.244\n",
      "Epoch: 8/10 Train Loss: 2.032 Train Acc: 0.245\n",
      "Epoch: 9/10 Train Loss: 2.030 Train Acc: 0.252\n",
      "Epoch: 0/10 Train Loss: 3.253 Train Acc: 0.151\n",
      "Epoch: 1/10 Train Loss: 2.227 Train Acc: 0.185\n",
      "Epoch: 2/10 Train Loss: 2.064 Train Acc: 0.212\n",
      "Epoch: 3/10 Train Loss: 2.028 Train Acc: 0.218\n",
      "Epoch: 4/10 Train Loss: 2.022 Train Acc: 0.229\n",
      "Epoch: 5/10 Train Loss: 2.027 Train Acc: 0.226\n",
      "Epoch: 6/10 Train Loss: 2.028 Train Acc: 0.224\n",
      "Epoch: 7/10 Train Loss: 2.030 Train Acc: 0.220\n",
      "Epoch: 8/10 Train Loss: 2.029 Train Acc: 0.226\n",
      "Epoch: 9/10 Train Loss: 2.025 Train Acc: 0.219\n"
     ]
    },
    {
     "name": "stderr",
     "output_type": "stream",
     "text": [
      "  3%|▎         | 1/30 [05:15<2:32:20, 315.20s/it]"
     ]
    },
    {
     "name": "stdout",
     "output_type": "stream",
     "text": [
      "0-th ROUND: average train loss 0.675 | test loss 2.3 | test acc: 0.100\n",
      "Epoch: 0/10 Train Loss: 2.137 Train Acc: 0.198\n",
      "Epoch: 1/10 Train Loss: 2.094 Train Acc: 0.212\n",
      "Epoch: 2/10 Train Loss: 1.979 Train Acc: 0.237\n",
      "Epoch: 3/10 Train Loss: 1.918 Train Acc: 0.268\n",
      "Epoch: 4/10 Train Loss: 1.908 Train Acc: 0.268\n",
      "Epoch: 5/10 Train Loss: 1.910 Train Acc: 0.269\n",
      "Epoch: 6/10 Train Loss: 1.900 Train Acc: 0.273\n",
      "Epoch: 7/10 Train Loss: 1.900 Train Acc: 0.272\n",
      "Epoch: 8/10 Train Loss: 1.902 Train Acc: 0.272\n",
      "Epoch: 9/10 Train Loss: 1.898 Train Acc: 0.280\n",
      "Epoch: 0/10 Train Loss: 2.343 Train Acc: 0.097\n",
      "Epoch: 1/10 Train Loss: 2.271 Train Acc: 0.125\n",
      "Epoch: 2/10 Train Loss: 2.231 Train Acc: 0.156\n",
      "Epoch: 3/10 Train Loss: 2.227 Train Acc: 0.160\n",
      "Epoch: 4/10 Train Loss: 2.226 Train Acc: 0.156\n",
      "Epoch: 5/10 Train Loss: 2.224 Train Acc: 0.158\n",
      "Epoch: 6/10 Train Loss: 2.228 Train Acc: 0.157\n",
      "Epoch: 7/10 Train Loss: 2.228 Train Acc: 0.159\n",
      "Epoch: 8/10 Train Loss: 2.226 Train Acc: 0.158\n",
      "Epoch: 9/10 Train Loss: 2.224 Train Acc: 0.161\n",
      "Epoch: 0/10 Train Loss: 2.348 Train Acc: 0.099\n",
      "Epoch: 1/10 Train Loss: 2.273 Train Acc: 0.128\n",
      "Epoch: 2/10 Train Loss: 2.239 Train Acc: 0.154\n",
      "Epoch: 3/10 Train Loss: 2.235 Train Acc: 0.158\n",
      "Epoch: 4/10 Train Loss: 2.234 Train Acc: 0.161\n",
      "Epoch: 5/10 Train Loss: 2.234 Train Acc: 0.158\n",
      "Epoch: 6/10 Train Loss: 2.234 Train Acc: 0.158\n",
      "Epoch: 7/10 Train Loss: 2.235 Train Acc: 0.158\n",
      "Epoch: 8/10 Train Loss: 2.234 Train Acc: 0.158\n",
      "Epoch: 9/10 Train Loss: 2.235 Train Acc: 0.156\n"
     ]
    },
    {
     "name": "stderr",
     "output_type": "stream",
     "text": [
      "  7%|▋         | 2/30 [10:30<2:27:04, 315.16s/it]"
     ]
    },
    {
     "name": "stdout",
     "output_type": "stream",
     "text": [
      "1-th ROUND: average train loss 0.745 | test loss 2.31 | test acc: 0.100\n",
      "Epoch: 0/10 Train Loss: 2.123 Train Acc: 0.212\n",
      "Epoch: 1/10 Train Loss: 2.069 Train Acc: 0.239\n",
      "Epoch: 2/10 Train Loss: 2.051 Train Acc: 0.233\n",
      "Epoch: 3/10 Train Loss: 2.045 Train Acc: 0.242\n",
      "Epoch: 4/10 Train Loss: 2.047 Train Acc: 0.239\n",
      "Epoch: 5/10 Train Loss: 2.047 Train Acc: 0.233\n",
      "Epoch: 6/10 Train Loss: 2.045 Train Acc: 0.236\n",
      "Epoch: 7/10 Train Loss: 2.046 Train Acc: 0.240\n",
      "Epoch: 8/10 Train Loss: 2.045 Train Acc: 0.238\n",
      "Epoch: 9/10 Train Loss: 2.046 Train Acc: 0.245\n",
      "Epoch: 0/10 Train Loss: 2.125 Train Acc: 0.198\n",
      "Epoch: 1/10 Train Loss: 2.074 Train Acc: 0.229\n",
      "Epoch: 2/10 Train Loss: 2.052 Train Acc: 0.239\n",
      "Epoch: 3/10 Train Loss: 2.051 Train Acc: 0.232\n",
      "Epoch: 4/10 Train Loss: 2.051 Train Acc: 0.238\n",
      "Epoch: 5/10 Train Loss: 2.053 Train Acc: 0.232\n",
      "Epoch: 6/10 Train Loss: 2.051 Train Acc: 0.231\n",
      "Epoch: 7/10 Train Loss: 2.054 Train Acc: 0.229\n",
      "Epoch: 8/10 Train Loss: 2.050 Train Acc: 0.233\n",
      "Epoch: 9/10 Train Loss: 2.049 Train Acc: 0.236\n",
      "Epoch: 0/10 Train Loss: 2.070 Train Acc: 0.214\n",
      "Epoch: 1/10 Train Loss: 2.137 Train Acc: 0.219\n",
      "Epoch: 2/10 Train Loss: 1.977 Train Acc: 0.258\n",
      "Epoch: 3/10 Train Loss: 1.873 Train Acc: 0.282\n",
      "Epoch: 4/10 Train Loss: 1.876 Train Acc: 0.284\n",
      "Epoch: 5/10 Train Loss: 1.863 Train Acc: 0.291\n",
      "Epoch: 6/10 Train Loss: 1.869 Train Acc: 0.294\n",
      "Epoch: 7/10 Train Loss: 1.865 Train Acc: 0.284\n",
      "Epoch: 8/10 Train Loss: 1.865 Train Acc: 0.292\n",
      "Epoch: 9/10 Train Loss: 1.865 Train Acc: 0.291\n"
     ]
    },
    {
     "name": "stderr",
     "output_type": "stream",
     "text": [
      " 10%|█         | 3/30 [15:45<2:21:48, 315.14s/it]"
     ]
    },
    {
     "name": "stdout",
     "output_type": "stream",
     "text": [
      "2-th ROUND: average train loss 0.622 | test loss 2.31 | test acc: 0.100\n",
      "Epoch: 0/10 Train Loss: 2.045 Train Acc: 0.224\n",
      "Epoch: 1/10 Train Loss: 2.120 Train Acc: 0.221\n",
      "Epoch: 2/10 Train Loss: 1.934 Train Acc: 0.260\n",
      "Epoch: 3/10 Train Loss: 1.884 Train Acc: 0.304\n",
      "Epoch: 4/10 Train Loss: 1.884 Train Acc: 0.293\n",
      "Epoch: 5/10 Train Loss: 1.878 Train Acc: 0.302\n",
      "Epoch: 6/10 Train Loss: 1.875 Train Acc: 0.300\n",
      "Epoch: 7/10 Train Loss: 1.870 Train Acc: 0.308\n",
      "Epoch: 8/10 Train Loss: 1.874 Train Acc: 0.305\n",
      "Epoch: 9/10 Train Loss: 1.878 Train Acc: 0.294\n",
      "Epoch: 0/10 Train Loss: 2.057 Train Acc: 0.232\n",
      "Epoch: 1/10 Train Loss: 2.059 Train Acc: 0.229\n",
      "Epoch: 2/10 Train Loss: 2.057 Train Acc: 0.232\n",
      "Epoch: 3/10 Train Loss: 2.055 Train Acc: 0.224\n",
      "Epoch: 4/10 Train Loss: 2.057 Train Acc: 0.230\n",
      "Epoch: 5/10 Train Loss: 2.056 Train Acc: 0.230\n",
      "Epoch: 6/10 Train Loss: 2.056 Train Acc: 0.230\n",
      "Epoch: 7/10 Train Loss: 2.058 Train Acc: 0.226\n",
      "Epoch: 8/10 Train Loss: 2.057 Train Acc: 0.229\n",
      "Epoch: 9/10 Train Loss: 2.057 Train Acc: 0.228\n",
      "Epoch: 0/10 Train Loss: 2.043 Train Acc: 0.230\n",
      "Epoch: 1/10 Train Loss: 1.925 Train Acc: 0.268\n",
      "Epoch: 2/10 Train Loss: 1.854 Train Acc: 0.290\n",
      "Epoch: 3/10 Train Loss: 1.753 Train Acc: 0.335\n",
      "Epoch: 4/10 Train Loss: 1.746 Train Acc: 0.341\n",
      "Epoch: 5/10 Train Loss: 1.741 Train Acc: 0.340\n",
      "Epoch: 6/10 Train Loss: 1.740 Train Acc: 0.338\n",
      "Epoch: 7/10 Train Loss: 1.730 Train Acc: 0.343\n",
      "Epoch: 8/10 Train Loss: 1.739 Train Acc: 0.350\n",
      "Epoch: 9/10 Train Loss: 1.738 Train Acc: 0.341\n"
     ]
    },
    {
     "name": "stderr",
     "output_type": "stream",
     "text": [
      " 13%|█▎        | 4/30 [21:00<2:16:31, 315.04s/it]"
     ]
    },
    {
     "name": "stdout",
     "output_type": "stream",
     "text": [
      "3-th ROUND: average train loss 0.579 | test loss 2.32 | test acc: 0.100\n",
      "Epoch: 0/10 Train Loss: 1.990 Train Acc: 0.240\n",
      "Epoch: 1/10 Train Loss: 1.990 Train Acc: 0.247\n",
      "Epoch: 2/10 Train Loss: 1.990 Train Acc: 0.242\n",
      "Epoch: 3/10 Train Loss: 1.990 Train Acc: 0.237\n",
      "Epoch: 4/10 Train Loss: 1.986 Train Acc: 0.239\n",
      "Epoch: 5/10 Train Loss: 1.993 Train Acc: 0.238\n",
      "Epoch: 6/10 Train Loss: 1.990 Train Acc: 0.239\n",
      "Epoch: 7/10 Train Loss: 1.989 Train Acc: 0.247\n",
      "Epoch: 8/10 Train Loss: 1.991 Train Acc: 0.235\n",
      "Epoch: 9/10 Train Loss: 1.988 Train Acc: 0.243\n",
      "Epoch: 0/10 Train Loss: 1.993 Train Acc: 0.239\n",
      "Epoch: 1/10 Train Loss: 1.989 Train Acc: 0.246\n",
      "Epoch: 2/10 Train Loss: 1.986 Train Acc: 0.245\n",
      "Epoch: 3/10 Train Loss: 1.990 Train Acc: 0.243\n",
      "Epoch: 4/10 Train Loss: 1.995 Train Acc: 0.242\n",
      "Epoch: 5/10 Train Loss: 1.992 Train Acc: 0.244\n",
      "Epoch: 6/10 Train Loss: 1.990 Train Acc: 0.246\n",
      "Epoch: 7/10 Train Loss: 1.992 Train Acc: 0.253\n",
      "Epoch: 8/10 Train Loss: 1.992 Train Acc: 0.244\n",
      "Epoch: 9/10 Train Loss: 1.994 Train Acc: 0.243\n",
      "Epoch: 0/10 Train Loss: 1.988 Train Acc: 0.255\n",
      "Epoch: 1/10 Train Loss: 1.968 Train Acc: 0.257\n",
      "Epoch: 2/10 Train Loss: 1.964 Train Acc: 0.267\n",
      "Epoch: 3/10 Train Loss: 1.962 Train Acc: 0.269\n",
      "Epoch: 4/10 Train Loss: 1.964 Train Acc: 0.263\n",
      "Epoch: 5/10 Train Loss: 1.964 Train Acc: 0.265\n",
      "Epoch: 6/10 Train Loss: 1.965 Train Acc: 0.263\n",
      "Epoch: 7/10 Train Loss: 1.965 Train Acc: 0.256\n",
      "Epoch: 8/10 Train Loss: 1.959 Train Acc: 0.268\n",
      "Epoch: 9/10 Train Loss: 1.961 Train Acc: 0.265\n"
     ]
    },
    {
     "name": "stderr",
     "output_type": "stream",
     "text": [
      " 17%|█▋        | 5/30 [26:15<2:11:17, 315.08s/it]"
     ]
    },
    {
     "name": "stdout",
     "output_type": "stream",
     "text": [
      "4-th ROUND: average train loss 0.654 | test loss 2.32 | test acc: 0.100\n",
      "Epoch: 0/10 Train Loss: 1.972 Train Acc: 0.259\n",
      "Epoch: 1/10 Train Loss: 1.960 Train Acc: 0.261\n",
      "Epoch: 2/10 Train Loss: 1.947 Train Acc: 0.269\n",
      "Epoch: 3/10 Train Loss: 1.947 Train Acc: 0.275\n",
      "Epoch: 4/10 Train Loss: 1.950 Train Acc: 0.267\n",
      "Epoch: 5/10 Train Loss: 1.952 Train Acc: 0.261\n",
      "Epoch: 6/10 Train Loss: 1.948 Train Acc: 0.264\n",
      "Epoch: 7/10 Train Loss: 1.947 Train Acc: 0.269\n",
      "Epoch: 8/10 Train Loss: 1.947 Train Acc: 0.270\n",
      "Epoch: 9/10 Train Loss: 1.951 Train Acc: 0.274\n",
      "Epoch: 0/10 Train Loss: 1.975 Train Acc: 0.252\n",
      "Epoch: 1/10 Train Loss: 1.971 Train Acc: 0.254\n",
      "Epoch: 2/10 Train Loss: 1.973 Train Acc: 0.255\n",
      "Epoch: 3/10 Train Loss: 1.975 Train Acc: 0.252\n",
      "Epoch: 4/10 Train Loss: 1.975 Train Acc: 0.255\n",
      "Epoch: 5/10 Train Loss: 1.974 Train Acc: 0.250\n",
      "Epoch: 6/10 Train Loss: 1.975 Train Acc: 0.266\n",
      "Epoch: 7/10 Train Loss: 1.975 Train Acc: 0.248\n",
      "Epoch: 8/10 Train Loss: 1.976 Train Acc: 0.256\n",
      "Epoch: 9/10 Train Loss: 1.973 Train Acc: 0.257\n",
      "Epoch: 0/10 Train Loss: 1.965 Train Acc: 0.255\n",
      "Epoch: 1/10 Train Loss: 1.951 Train Acc: 0.260\n",
      "Epoch: 2/10 Train Loss: 1.948 Train Acc: 0.261\n",
      "Epoch: 3/10 Train Loss: 1.948 Train Acc: 0.262\n",
      "Epoch: 4/10 Train Loss: 1.948 Train Acc: 0.270\n",
      "Epoch: 5/10 Train Loss: 1.955 Train Acc: 0.260\n",
      "Epoch: 6/10 Train Loss: 1.944 Train Acc: 0.267\n",
      "Epoch: 7/10 Train Loss: 1.947 Train Acc: 0.269\n",
      "Epoch: 8/10 Train Loss: 1.945 Train Acc: 0.264\n",
      "Epoch: 9/10 Train Loss: 1.950 Train Acc: 0.264\n"
     ]
    },
    {
     "name": "stderr",
     "output_type": "stream",
     "text": [
      " 20%|██        | 6/30 [31:30<2:06:04, 315.18s/it]"
     ]
    },
    {
     "name": "stdout",
     "output_type": "stream",
     "text": [
      "5-th ROUND: average train loss 0.65 | test loss 2.33 | test acc: 0.100\n",
      "Epoch: 0/10 Train Loss: 1.983 Train Acc: 0.247\n",
      "Epoch: 1/10 Train Loss: 1.984 Train Acc: 0.245\n",
      "Epoch: 2/10 Train Loss: 1.985 Train Acc: 0.246\n",
      "Epoch: 3/10 Train Loss: 1.981 Train Acc: 0.240\n",
      "Epoch: 4/10 Train Loss: 1.983 Train Acc: 0.252\n",
      "Epoch: 5/10 Train Loss: 1.983 Train Acc: 0.240\n",
      "Epoch: 6/10 Train Loss: 1.983 Train Acc: 0.245\n",
      "Epoch: 7/10 Train Loss: 1.984 Train Acc: 0.245\n",
      "Epoch: 8/10 Train Loss: 1.983 Train Acc: 0.250\n",
      "Epoch: 9/10 Train Loss: 1.982 Train Acc: 0.241\n",
      "Epoch: 0/10 Train Loss: 1.985 Train Acc: 0.246\n",
      "Epoch: 1/10 Train Loss: 1.987 Train Acc: 0.248\n",
      "Epoch: 2/10 Train Loss: 1.983 Train Acc: 0.251\n",
      "Epoch: 3/10 Train Loss: 1.985 Train Acc: 0.246\n",
      "Epoch: 4/10 Train Loss: 1.982 Train Acc: 0.246\n",
      "Epoch: 5/10 Train Loss: 1.985 Train Acc: 0.246\n",
      "Epoch: 6/10 Train Loss: 1.985 Train Acc: 0.251\n",
      "Epoch: 7/10 Train Loss: 1.986 Train Acc: 0.249\n",
      "Epoch: 8/10 Train Loss: 1.982 Train Acc: 0.251\n",
      "Epoch: 9/10 Train Loss: 1.985 Train Acc: 0.253\n",
      "Epoch: 0/10 Train Loss: 1.965 Train Acc: 0.245\n",
      "Epoch: 1/10 Train Loss: 2.076 Train Acc: 0.214\n",
      "Epoch: 2/10 Train Loss: 1.918 Train Acc: 0.279\n",
      "Epoch: 3/10 Train Loss: 1.839 Train Acc: 0.309\n",
      "Epoch: 4/10 Train Loss: 1.819 Train Acc: 0.313\n",
      "Epoch: 5/10 Train Loss: 1.823 Train Acc: 0.312\n",
      "Epoch: 6/10 Train Loss: 1.826 Train Acc: 0.308\n",
      "Epoch: 7/10 Train Loss: 1.813 Train Acc: 0.307\n",
      "Epoch: 8/10 Train Loss: 1.807 Train Acc: 0.319\n",
      "Epoch: 9/10 Train Loss: 1.815 Train Acc: 0.313\n"
     ]
    },
    {
     "name": "stderr",
     "output_type": "stream",
     "text": [
      " 23%|██▎       | 7/30 [36:45<2:00:43, 314.95s/it]"
     ]
    },
    {
     "name": "stdout",
     "output_type": "stream",
     "text": [
      "6-th ROUND: average train loss 0.605 | test loss 2.34 | test acc: 0.100\n",
      "Epoch: 0/10 Train Loss: 1.930 Train Acc: 0.276\n",
      "Epoch: 1/10 Train Loss: 1.926 Train Acc: 0.273\n",
      "Epoch: 2/10 Train Loss: 1.930 Train Acc: 0.265\n",
      "Epoch: 3/10 Train Loss: 1.928 Train Acc: 0.273\n",
      "Epoch: 4/10 Train Loss: 1.923 Train Acc: 0.273\n",
      "Epoch: 5/10 Train Loss: 1.929 Train Acc: 0.283\n",
      "Epoch: 6/10 Train Loss: 1.926 Train Acc: 0.267\n",
      "Epoch: 7/10 Train Loss: 1.922 Train Acc: 0.269\n",
      "Epoch: 8/10 Train Loss: 1.928 Train Acc: 0.268\n",
      "Epoch: 9/10 Train Loss: 1.924 Train Acc: 0.272\n",
      "Epoch: 0/10 Train Loss: 1.937 Train Acc: 0.261\n",
      "Epoch: 1/10 Train Loss: 1.939 Train Acc: 0.262\n",
      "Epoch: 2/10 Train Loss: 1.936 Train Acc: 0.259\n",
      "Epoch: 3/10 Train Loss: 1.938 Train Acc: 0.261\n",
      "Epoch: 4/10 Train Loss: 1.939 Train Acc: 0.255\n",
      "Epoch: 5/10 Train Loss: 1.938 Train Acc: 0.262\n",
      "Epoch: 6/10 Train Loss: 1.939 Train Acc: 0.257\n",
      "Epoch: 7/10 Train Loss: 1.937 Train Acc: 0.261\n",
      "Epoch: 8/10 Train Loss: 1.939 Train Acc: 0.263\n",
      "Epoch: 9/10 Train Loss: 1.940 Train Acc: 0.259\n",
      "Epoch: 0/10 Train Loss: 1.936 Train Acc: 0.266\n",
      "Epoch: 1/10 Train Loss: 1.993 Train Acc: 0.250\n",
      "Epoch: 2/10 Train Loss: 1.832 Train Acc: 0.299\n",
      "Epoch: 3/10 Train Loss: 1.745 Train Acc: 0.333\n",
      "Epoch: 4/10 Train Loss: 1.730 Train Acc: 0.345\n",
      "Epoch: 5/10 Train Loss: 1.728 Train Acc: 0.348\n",
      "Epoch: 6/10 Train Loss: 1.739 Train Acc: 0.341\n",
      "Epoch: 7/10 Train Loss: 1.730 Train Acc: 0.343\n",
      "Epoch: 8/10 Train Loss: 1.723 Train Acc: 0.342\n",
      "Epoch: 9/10 Train Loss: 1.730 Train Acc: 0.341\n"
     ]
    },
    {
     "name": "stderr",
     "output_type": "stream",
     "text": [
      " 27%|██▋       | 8/30 [42:00<1:55:30, 315.02s/it]"
     ]
    },
    {
     "name": "stdout",
     "output_type": "stream",
     "text": [
      "7-th ROUND: average train loss 0.577 | test loss 2.34 | test acc: 0.100\n",
      "Epoch: 0/10 Train Loss: 1.889 Train Acc: 0.287\n",
      "Epoch: 1/10 Train Loss: 1.890 Train Acc: 0.287\n",
      "Epoch: 2/10 Train Loss: 1.893 Train Acc: 0.283\n",
      "Epoch: 3/10 Train Loss: 1.892 Train Acc: 0.287\n",
      "Epoch: 4/10 Train Loss: 1.882 Train Acc: 0.286\n",
      "Epoch: 5/10 Train Loss: 1.887 Train Acc: 0.291\n",
      "Epoch: 6/10 Train Loss: 1.887 Train Acc: 0.288\n",
      "Epoch: 7/10 Train Loss: 1.886 Train Acc: 0.286\n",
      "Epoch: 8/10 Train Loss: 1.895 Train Acc: 0.282\n",
      "Epoch: 9/10 Train Loss: 1.888 Train Acc: 0.286\n",
      "Epoch: 0/10 Train Loss: 1.899 Train Acc: 0.278\n",
      "Epoch: 1/10 Train Loss: 1.901 Train Acc: 0.275\n",
      "Epoch: 2/10 Train Loss: 1.897 Train Acc: 0.278\n",
      "Epoch: 3/10 Train Loss: 1.903 Train Acc: 0.278\n",
      "Epoch: 4/10 Train Loss: 1.894 Train Acc: 0.279\n",
      "Epoch: 5/10 Train Loss: 1.905 Train Acc: 0.272\n",
      "Epoch: 6/10 Train Loss: 1.899 Train Acc: 0.277\n",
      "Epoch: 7/10 Train Loss: 1.901 Train Acc: 0.279\n",
      "Epoch: 8/10 Train Loss: 1.898 Train Acc: 0.283\n",
      "Epoch: 9/10 Train Loss: 1.902 Train Acc: 0.279\n",
      "Epoch: 0/10 Train Loss: 1.893 Train Acc: 0.266\n",
      "Epoch: 1/10 Train Loss: 2.051 Train Acc: 0.221\n",
      "Epoch: 2/10 Train Loss: 1.812 Train Acc: 0.298\n",
      "Epoch: 3/10 Train Loss: 1.741 Train Acc: 0.329\n",
      "Epoch: 4/10 Train Loss: 1.743 Train Acc: 0.331\n",
      "Epoch: 5/10 Train Loss: 1.738 Train Acc: 0.331\n",
      "Epoch: 6/10 Train Loss: 1.738 Train Acc: 0.335\n",
      "Epoch: 7/10 Train Loss: 1.739 Train Acc: 0.329\n",
      "Epoch: 8/10 Train Loss: 1.741 Train Acc: 0.330\n",
      "Epoch: 9/10 Train Loss: 1.732 Train Acc: 0.329\n"
     ]
    },
    {
     "name": "stderr",
     "output_type": "stream",
     "text": [
      " 30%|███       | 9/30 [47:15<1:50:16, 315.08s/it]"
     ]
    },
    {
     "name": "stdout",
     "output_type": "stream",
     "text": [
      "8-th ROUND: average train loss 0.577 | test loss 2.34 | test acc: 0.100\n",
      "Epoch: 0/10 Train Loss: 1.885 Train Acc: 0.295\n",
      "Epoch: 1/10 Train Loss: 1.882 Train Acc: 0.289\n",
      "Epoch: 2/10 Train Loss: 1.876 Train Acc: 0.286\n",
      "Epoch: 3/10 Train Loss: 1.883 Train Acc: 0.288\n",
      "Epoch: 4/10 Train Loss: 1.878 Train Acc: 0.287\n",
      "Epoch: 5/10 Train Loss: 1.876 Train Acc: 0.286\n",
      "Epoch: 6/10 Train Loss: 1.875 Train Acc: 0.290\n",
      "Epoch: 7/10 Train Loss: 1.885 Train Acc: 0.290\n",
      "Epoch: 8/10 Train Loss: 1.877 Train Acc: 0.291\n",
      "Epoch: 9/10 Train Loss: 1.884 Train Acc: 0.289\n",
      "Epoch: 0/10 Train Loss: 1.871 Train Acc: 0.287\n",
      "Epoch: 1/10 Train Loss: 1.852 Train Acc: 0.300\n",
      "Epoch: 2/10 Train Loss: 1.848 Train Acc: 0.300\n",
      "Epoch: 3/10 Train Loss: 1.846 Train Acc: 0.303\n",
      "Epoch: 4/10 Train Loss: 1.845 Train Acc: 0.313\n",
      "Epoch: 5/10 Train Loss: 1.848 Train Acc: 0.299\n",
      "Epoch: 6/10 Train Loss: 1.850 Train Acc: 0.302\n",
      "Epoch: 7/10 Train Loss: 1.843 Train Acc: 0.302\n",
      "Epoch: 8/10 Train Loss: 1.850 Train Acc: 0.301\n",
      "Epoch: 9/10 Train Loss: 1.841 Train Acc: 0.300\n",
      "Epoch: 0/10 Train Loss: 1.862 Train Acc: 0.305\n",
      "Epoch: 1/10 Train Loss: 1.857 Train Acc: 0.300\n",
      "Epoch: 2/10 Train Loss: 1.856 Train Acc: 0.303\n",
      "Epoch: 3/10 Train Loss: 1.861 Train Acc: 0.298\n",
      "Epoch: 4/10 Train Loss: 1.853 Train Acc: 0.299\n",
      "Epoch: 5/10 Train Loss: 1.853 Train Acc: 0.303\n",
      "Epoch: 6/10 Train Loss: 1.857 Train Acc: 0.297\n",
      "Epoch: 7/10 Train Loss: 1.863 Train Acc: 0.299\n",
      "Epoch: 8/10 Train Loss: 1.863 Train Acc: 0.296\n",
      "Epoch: 9/10 Train Loss: 1.856 Train Acc: 0.295\n"
     ]
    },
    {
     "name": "stderr",
     "output_type": "stream",
     "text": [
      " 33%|███▎      | 10/30 [52:31<1:45:04, 315.20s/it]"
     ]
    },
    {
     "name": "stdout",
     "output_type": "stream",
     "text": [
      "9-th ROUND: average train loss 0.619 | test loss 2.33 | test acc: 0.100\n",
      "Epoch: 0/10 Train Loss: 1.868 Train Acc: 0.291\n",
      "Epoch: 1/10 Train Loss: 1.874 Train Acc: 0.289\n",
      "Epoch: 2/10 Train Loss: 1.868 Train Acc: 0.297\n",
      "Epoch: 3/10 Train Loss: 1.874 Train Acc: 0.290\n",
      "Epoch: 4/10 Train Loss: 1.876 Train Acc: 0.292\n",
      "Epoch: 5/10 Train Loss: 1.878 Train Acc: 0.292\n",
      "Epoch: 6/10 Train Loss: 1.870 Train Acc: 0.296\n",
      "Epoch: 7/10 Train Loss: 1.872 Train Acc: 0.290\n",
      "Epoch: 8/10 Train Loss: 1.870 Train Acc: 0.298\n",
      "Epoch: 9/10 Train Loss: 1.874 Train Acc: 0.287\n",
      "Epoch: 0/10 Train Loss: 1.861 Train Acc: 0.291\n",
      "Epoch: 1/10 Train Loss: 1.845 Train Acc: 0.310\n",
      "Epoch: 2/10 Train Loss: 1.841 Train Acc: 0.312\n",
      "Epoch: 3/10 Train Loss: 1.837 Train Acc: 0.305\n",
      "Epoch: 4/10 Train Loss: 1.832 Train Acc: 0.312\n",
      "Epoch: 5/10 Train Loss: 1.831 Train Acc: 0.318\n",
      "Epoch: 6/10 Train Loss: 1.833 Train Acc: 0.314\n",
      "Epoch: 7/10 Train Loss: 1.831 Train Acc: 0.315\n",
      "Epoch: 8/10 Train Loss: 1.837 Train Acc: 0.314\n",
      "Epoch: 9/10 Train Loss: 1.837 Train Acc: 0.310\n",
      "Epoch: 0/10 Train Loss: 1.855 Train Acc: 0.300\n",
      "Epoch: 1/10 Train Loss: 1.858 Train Acc: 0.293\n",
      "Epoch: 2/10 Train Loss: 1.854 Train Acc: 0.303\n",
      "Epoch: 3/10 Train Loss: 1.857 Train Acc: 0.298\n",
      "Epoch: 4/10 Train Loss: 1.859 Train Acc: 0.298\n",
      "Epoch: 5/10 Train Loss: 1.851 Train Acc: 0.302\n",
      "Epoch: 6/10 Train Loss: 1.858 Train Acc: 0.307\n",
      "Epoch: 7/10 Train Loss: 1.861 Train Acc: 0.298\n",
      "Epoch: 8/10 Train Loss: 1.857 Train Acc: 0.298\n",
      "Epoch: 9/10 Train Loss: 1.859 Train Acc: 0.297\n"
     ]
    },
    {
     "name": "stderr",
     "output_type": "stream",
     "text": [
      " 37%|███▋      | 11/30 [57:46<1:39:50, 315.29s/it]"
     ]
    },
    {
     "name": "stdout",
     "output_type": "stream",
     "text": [
      "10-th ROUND: average train loss 0.62 | test loss 2.3 | test acc: 0.100\n",
      "Epoch: 0/10 Train Loss: 1.862 Train Acc: 0.297\n",
      "Epoch: 1/10 Train Loss: 1.862 Train Acc: 0.293\n",
      "Epoch: 2/10 Train Loss: 1.868 Train Acc: 0.285\n",
      "Epoch: 3/10 Train Loss: 1.865 Train Acc: 0.296\n",
      "Epoch: 4/10 Train Loss: 1.864 Train Acc: 0.291\n",
      "Epoch: 5/10 Train Loss: 1.865 Train Acc: 0.292\n",
      "Epoch: 6/10 Train Loss: 1.866 Train Acc: 0.294\n",
      "Epoch: 7/10 Train Loss: 1.857 Train Acc: 0.304\n",
      "Epoch: 8/10 Train Loss: 1.867 Train Acc: 0.293\n",
      "Epoch: 9/10 Train Loss: 1.864 Train Acc: 0.291\n",
      "Epoch: 0/10 Train Loss: 1.872 Train Acc: 0.295\n",
      "Epoch: 1/10 Train Loss: 1.879 Train Acc: 0.302\n",
      "Epoch: 2/10 Train Loss: 1.877 Train Acc: 0.294\n",
      "Epoch: 3/10 Train Loss: 1.882 Train Acc: 0.289\n",
      "Epoch: 4/10 Train Loss: 1.883 Train Acc: 0.294\n",
      "Epoch: 5/10 Train Loss: 1.877 Train Acc: 0.294\n",
      "Epoch: 6/10 Train Loss: 1.877 Train Acc: 0.293\n",
      "Epoch: 7/10 Train Loss: 1.875 Train Acc: 0.293\n",
      "Epoch: 8/10 Train Loss: 1.874 Train Acc: 0.290\n",
      "Epoch: 9/10 Train Loss: 1.872 Train Acc: 0.296\n",
      "Epoch: 0/10 Train Loss: 1.855 Train Acc: 0.297\n",
      "Epoch: 1/10 Train Loss: 1.863 Train Acc: 0.286\n",
      "Epoch: 2/10 Train Loss: 1.860 Train Acc: 0.292\n",
      "Epoch: 3/10 Train Loss: 1.859 Train Acc: 0.298\n",
      "Epoch: 4/10 Train Loss: 1.862 Train Acc: 0.290\n",
      "Epoch: 5/10 Train Loss: 1.857 Train Acc: 0.294\n",
      "Epoch: 6/10 Train Loss: 1.861 Train Acc: 0.290\n",
      "Epoch: 7/10 Train Loss: 1.858 Train Acc: 0.293\n",
      "Epoch: 8/10 Train Loss: 1.861 Train Acc: 0.294\n",
      "Epoch: 9/10 Train Loss: 1.858 Train Acc: 0.291\n"
     ]
    },
    {
     "name": "stderr",
     "output_type": "stream",
     "text": [
      " 40%|████      | 12/30 [1:03:02<1:34:36, 315.38s/it]"
     ]
    },
    {
     "name": "stdout",
     "output_type": "stream",
     "text": [
      "11-th ROUND: average train loss 0.619 | test loss 2.24 | test acc: 0.111\n",
      "Epoch: 0/10 Train Loss: 1.860 Train Acc: 0.292\n",
      "Epoch: 1/10 Train Loss: 1.860 Train Acc: 0.290\n",
      "Epoch: 2/10 Train Loss: 1.860 Train Acc: 0.292\n",
      "Epoch: 3/10 Train Loss: 1.859 Train Acc: 0.290\n",
      "Epoch: 4/10 Train Loss: 1.862 Train Acc: 0.292\n",
      "Epoch: 5/10 Train Loss: 1.861 Train Acc: 0.294\n",
      "Epoch: 6/10 Train Loss: 1.861 Train Acc: 0.294\n",
      "Epoch: 7/10 Train Loss: 1.861 Train Acc: 0.293\n",
      "Epoch: 8/10 Train Loss: 1.862 Train Acc: 0.289\n",
      "Epoch: 9/10 Train Loss: 1.864 Train Acc: 0.290\n",
      "Epoch: 0/10 Train Loss: 1.860 Train Acc: 0.302\n",
      "Epoch: 1/10 Train Loss: 1.859 Train Acc: 0.298\n",
      "Epoch: 2/10 Train Loss: 1.859 Train Acc: 0.305\n",
      "Epoch: 3/10 Train Loss: 1.857 Train Acc: 0.303\n",
      "Epoch: 4/10 Train Loss: 1.854 Train Acc: 0.309\n",
      "Epoch: 5/10 Train Loss: 1.858 Train Acc: 0.296\n",
      "Epoch: 6/10 Train Loss: 1.855 Train Acc: 0.299\n",
      "Epoch: 7/10 Train Loss: 1.861 Train Acc: 0.299\n",
      "Epoch: 8/10 Train Loss: 1.856 Train Acc: 0.308\n",
      "Epoch: 9/10 Train Loss: 1.851 Train Acc: 0.311\n",
      "Epoch: 0/10 Train Loss: 1.851 Train Acc: 0.299\n",
      "Epoch: 1/10 Train Loss: 1.858 Train Acc: 0.297\n",
      "Epoch: 2/10 Train Loss: 1.854 Train Acc: 0.299\n",
      "Epoch: 3/10 Train Loss: 1.854 Train Acc: 0.303\n",
      "Epoch: 4/10 Train Loss: 1.856 Train Acc: 0.307\n",
      "Epoch: 5/10 Train Loss: 1.857 Train Acc: 0.301\n",
      "Epoch: 6/10 Train Loss: 1.854 Train Acc: 0.299\n",
      "Epoch: 7/10 Train Loss: 1.851 Train Acc: 0.303\n",
      "Epoch: 8/10 Train Loss: 1.852 Train Acc: 0.300\n",
      "Epoch: 9/10 Train Loss: 1.857 Train Acc: 0.309\n"
     ]
    },
    {
     "name": "stderr",
     "output_type": "stream",
     "text": [
      " 43%|████▎     | 13/30 [1:08:17<1:29:18, 315.23s/it]"
     ]
    },
    {
     "name": "stdout",
     "output_type": "stream",
     "text": [
      "12-th ROUND: average train loss 0.619 | test loss 2.16 | test acc: 0.166\n",
      "Epoch: 0/10 Train Loss: 1.860 Train Acc: 0.289\n",
      "Epoch: 1/10 Train Loss: 1.861 Train Acc: 0.295\n",
      "Epoch: 2/10 Train Loss: 1.858 Train Acc: 0.296\n",
      "Epoch: 3/10 Train Loss: 1.859 Train Acc: 0.290\n",
      "Epoch: 4/10 Train Loss: 1.864 Train Acc: 0.294\n",
      "Epoch: 5/10 Train Loss: 1.858 Train Acc: 0.295\n",
      "Epoch: 6/10 Train Loss: 1.865 Train Acc: 0.289\n",
      "Epoch: 7/10 Train Loss: 1.860 Train Acc: 0.299\n",
      "Epoch: 8/10 Train Loss: 1.857 Train Acc: 0.298\n",
      "Epoch: 9/10 Train Loss: 1.863 Train Acc: 0.289\n",
      "Epoch: 0/10 Train Loss: 1.876 Train Acc: 0.293\n",
      "Epoch: 1/10 Train Loss: 1.869 Train Acc: 0.296\n",
      "Epoch: 2/10 Train Loss: 1.870 Train Acc: 0.297\n",
      "Epoch: 3/10 Train Loss: 1.865 Train Acc: 0.293\n",
      "Epoch: 4/10 Train Loss: 1.867 Train Acc: 0.297\n",
      "Epoch: 5/10 Train Loss: 1.874 Train Acc: 0.287\n",
      "Epoch: 6/10 Train Loss: 1.867 Train Acc: 0.298\n",
      "Epoch: 7/10 Train Loss: 1.877 Train Acc: 0.282\n",
      "Epoch: 8/10 Train Loss: 1.869 Train Acc: 0.297\n",
      "Epoch: 9/10 Train Loss: 1.874 Train Acc: 0.294\n",
      "Epoch: 0/10 Train Loss: 1.856 Train Acc: 0.293\n",
      "Epoch: 1/10 Train Loss: 1.861 Train Acc: 0.294\n",
      "Epoch: 2/10 Train Loss: 1.863 Train Acc: 0.296\n",
      "Epoch: 3/10 Train Loss: 1.855 Train Acc: 0.295\n",
      "Epoch: 4/10 Train Loss: 1.858 Train Acc: 0.298\n",
      "Epoch: 5/10 Train Loss: 1.861 Train Acc: 0.295\n",
      "Epoch: 6/10 Train Loss: 1.863 Train Acc: 0.297\n",
      "Epoch: 7/10 Train Loss: 1.859 Train Acc: 0.300\n",
      "Epoch: 8/10 Train Loss: 1.856 Train Acc: 0.301\n",
      "Epoch: 9/10 Train Loss: 1.861 Train Acc: 0.299\n"
     ]
    },
    {
     "name": "stderr",
     "output_type": "stream",
     "text": [
      " 47%|████▋     | 14/30 [1:13:32<1:24:04, 315.27s/it]"
     ]
    },
    {
     "name": "stdout",
     "output_type": "stream",
     "text": [
      "13-th ROUND: average train loss 0.62 | test loss 2.07 | test acc: 0.216\n",
      "Epoch: 0/10 Train Loss: 1.847 Train Acc: 0.301\n",
      "Epoch: 1/10 Train Loss: 1.837 Train Acc: 0.308\n",
      "Epoch: 2/10 Train Loss: 1.834 Train Acc: 0.306\n",
      "Epoch: 3/10 Train Loss: 1.831 Train Acc: 0.305\n",
      "Epoch: 4/10 Train Loss: 1.829 Train Acc: 0.314\n",
      "Epoch: 5/10 Train Loss: 1.829 Train Acc: 0.308\n",
      "Epoch: 6/10 Train Loss: 1.834 Train Acc: 0.305\n",
      "Epoch: 7/10 Train Loss: 1.831 Train Acc: 0.313\n",
      "Epoch: 8/10 Train Loss: 1.832 Train Acc: 0.308\n",
      "Epoch: 9/10 Train Loss: 1.829 Train Acc: 0.309\n",
      "Epoch: 0/10 Train Loss: 1.864 Train Acc: 0.298\n",
      "Epoch: 1/10 Train Loss: 1.873 Train Acc: 0.291\n",
      "Epoch: 2/10 Train Loss: 1.873 Train Acc: 0.290\n",
      "Epoch: 3/10 Train Loss: 1.865 Train Acc: 0.297\n",
      "Epoch: 4/10 Train Loss: 1.867 Train Acc: 0.297\n",
      "Epoch: 5/10 Train Loss: 1.865 Train Acc: 0.290\n",
      "Epoch: 6/10 Train Loss: 1.871 Train Acc: 0.302\n",
      "Epoch: 7/10 Train Loss: 1.867 Train Acc: 0.299\n",
      "Epoch: 8/10 Train Loss: 1.878 Train Acc: 0.293\n",
      "Epoch: 9/10 Train Loss: 1.869 Train Acc: 0.296\n",
      "Epoch: 0/10 Train Loss: 1.861 Train Acc: 0.298\n",
      "Epoch: 1/10 Train Loss: 1.863 Train Acc: 0.292\n",
      "Epoch: 2/10 Train Loss: 1.866 Train Acc: 0.291\n",
      "Epoch: 3/10 Train Loss: 1.853 Train Acc: 0.296\n",
      "Epoch: 4/10 Train Loss: 1.857 Train Acc: 0.297\n",
      "Epoch: 5/10 Train Loss: 1.856 Train Acc: 0.296\n",
      "Epoch: 6/10 Train Loss: 1.859 Train Acc: 0.297\n",
      "Epoch: 7/10 Train Loss: 1.859 Train Acc: 0.294\n",
      "Epoch: 8/10 Train Loss: 1.858 Train Acc: 0.301\n",
      "Epoch: 9/10 Train Loss: 1.860 Train Acc: 0.297\n"
     ]
    },
    {
     "name": "stderr",
     "output_type": "stream",
     "text": [
      " 50%|█████     | 15/30 [1:18:47<1:18:49, 315.29s/it]"
     ]
    },
    {
     "name": "stdout",
     "output_type": "stream",
     "text": [
      "14-th ROUND: average train loss 0.62 | test loss 1.99 | test acc: 0.261\n",
      "Epoch: 0/10 Train Loss: 1.859 Train Acc: 0.289\n",
      "Epoch: 1/10 Train Loss: 1.861 Train Acc: 0.290\n",
      "Epoch: 2/10 Train Loss: 1.860 Train Acc: 0.292\n",
      "Epoch: 3/10 Train Loss: 1.854 Train Acc: 0.296\n",
      "Epoch: 4/10 Train Loss: 1.863 Train Acc: 0.298\n",
      "Epoch: 5/10 Train Loss: 1.855 Train Acc: 0.290\n",
      "Epoch: 6/10 Train Loss: 1.856 Train Acc: 0.290\n",
      "Epoch: 7/10 Train Loss: 1.856 Train Acc: 0.295\n",
      "Epoch: 8/10 Train Loss: 1.859 Train Acc: 0.290\n",
      "Epoch: 9/10 Train Loss: 1.858 Train Acc: 0.291\n",
      "Epoch: 0/10 Train Loss: 1.852 Train Acc: 0.300\n",
      "Epoch: 1/10 Train Loss: 1.855 Train Acc: 0.301\n",
      "Epoch: 2/10 Train Loss: 1.853 Train Acc: 0.296\n",
      "Epoch: 3/10 Train Loss: 1.852 Train Acc: 0.298\n",
      "Epoch: 4/10 Train Loss: 1.849 Train Acc: 0.306\n",
      "Epoch: 5/10 Train Loss: 1.857 Train Acc: 0.304\n",
      "Epoch: 6/10 Train Loss: 1.855 Train Acc: 0.300\n",
      "Epoch: 7/10 Train Loss: 1.852 Train Acc: 0.301\n",
      "Epoch: 8/10 Train Loss: 1.847 Train Acc: 0.305\n",
      "Epoch: 9/10 Train Loss: 1.852 Train Acc: 0.301\n",
      "Epoch: 0/10 Train Loss: 1.879 Train Acc: 0.289\n",
      "Epoch: 1/10 Train Loss: 1.873 Train Acc: 0.295\n",
      "Epoch: 2/10 Train Loss: 1.874 Train Acc: 0.291\n",
      "Epoch: 3/10 Train Loss: 1.875 Train Acc: 0.295\n",
      "Epoch: 4/10 Train Loss: 1.877 Train Acc: 0.294\n",
      "Epoch: 5/10 Train Loss: 1.874 Train Acc: 0.297\n",
      "Epoch: 6/10 Train Loss: 1.869 Train Acc: 0.305\n",
      "Epoch: 7/10 Train Loss: 1.873 Train Acc: 0.297\n",
      "Epoch: 8/10 Train Loss: 1.873 Train Acc: 0.293\n",
      "Epoch: 9/10 Train Loss: 1.873 Train Acc: 0.298\n"
     ]
    },
    {
     "name": "stderr",
     "output_type": "stream",
     "text": [
      " 53%|█████▎    | 16/30 [1:24:02<1:13:33, 315.21s/it]"
     ]
    },
    {
     "name": "stdout",
     "output_type": "stream",
     "text": [
      "15-th ROUND: average train loss 0.624 | test loss 1.93 | test acc: 0.288\n",
      "Epoch: 0/10 Train Loss: 1.851 Train Acc: 0.302\n",
      "Epoch: 1/10 Train Loss: 1.861 Train Acc: 0.301\n",
      "Epoch: 2/10 Train Loss: 1.848 Train Acc: 0.305\n",
      "Epoch: 3/10 Train Loss: 1.845 Train Acc: 0.298\n",
      "Epoch: 4/10 Train Loss: 1.855 Train Acc: 0.302\n",
      "Epoch: 5/10 Train Loss: 1.853 Train Acc: 0.304\n",
      "Epoch: 6/10 Train Loss: 1.852 Train Acc: 0.304\n",
      "Epoch: 7/10 Train Loss: 1.848 Train Acc: 0.304\n",
      "Epoch: 8/10 Train Loss: 1.852 Train Acc: 0.306\n",
      "Epoch: 9/10 Train Loss: 1.853 Train Acc: 0.301\n",
      "Epoch: 0/10 Train Loss: 1.854 Train Acc: 0.301\n",
      "Epoch: 1/10 Train Loss: 1.853 Train Acc: 0.305\n",
      "Epoch: 2/10 Train Loss: 1.860 Train Acc: 0.296\n",
      "Epoch: 3/10 Train Loss: 1.859 Train Acc: 0.301\n",
      "Epoch: 4/10 Train Loss: 1.860 Train Acc: 0.291\n",
      "Epoch: 5/10 Train Loss: 1.853 Train Acc: 0.296\n",
      "Epoch: 6/10 Train Loss: 1.861 Train Acc: 0.297\n",
      "Epoch: 7/10 Train Loss: 1.855 Train Acc: 0.295\n",
      "Epoch: 8/10 Train Loss: 1.855 Train Acc: 0.303\n",
      "Epoch: 9/10 Train Loss: 1.855 Train Acc: 0.300\n",
      "Epoch: 0/10 Train Loss: 1.862 Train Acc: 0.291\n",
      "Epoch: 1/10 Train Loss: 1.857 Train Acc: 0.288\n",
      "Epoch: 2/10 Train Loss: 1.859 Train Acc: 0.293\n",
      "Epoch: 3/10 Train Loss: 1.864 Train Acc: 0.287\n",
      "Epoch: 4/10 Train Loss: 1.854 Train Acc: 0.291\n",
      "Epoch: 5/10 Train Loss: 1.859 Train Acc: 0.296\n",
      "Epoch: 6/10 Train Loss: 1.862 Train Acc: 0.295\n",
      "Epoch: 7/10 Train Loss: 1.865 Train Acc: 0.294\n",
      "Epoch: 8/10 Train Loss: 1.856 Train Acc: 0.293\n",
      "Epoch: 9/10 Train Loss: 1.860 Train Acc: 0.292\n"
     ]
    },
    {
     "name": "stderr",
     "output_type": "stream",
     "text": [
      " 57%|█████▋    | 17/30 [1:29:18<1:08:17, 315.20s/it]"
     ]
    },
    {
     "name": "stdout",
     "output_type": "stream",
     "text": [
      "16-th ROUND: average train loss 0.62 | test loss 1.89 | test acc: 0.306\n",
      "Epoch: 0/10 Train Loss: 1.864 Train Acc: 0.297\n",
      "Epoch: 1/10 Train Loss: 1.861 Train Acc: 0.289\n",
      "Epoch: 2/10 Train Loss: 1.861 Train Acc: 0.298\n",
      "Epoch: 3/10 Train Loss: 1.857 Train Acc: 0.299\n",
      "Epoch: 4/10 Train Loss: 1.858 Train Acc: 0.294\n",
      "Epoch: 5/10 Train Loss: 1.866 Train Acc: 0.296\n",
      "Epoch: 6/10 Train Loss: 1.857 Train Acc: 0.291\n",
      "Epoch: 7/10 Train Loss: 1.859 Train Acc: 0.298\n",
      "Epoch: 8/10 Train Loss: 1.861 Train Acc: 0.292\n",
      "Epoch: 9/10 Train Loss: 1.866 Train Acc: 0.292\n",
      "Epoch: 0/10 Train Loss: 1.858 Train Acc: 0.290\n",
      "Epoch: 1/10 Train Loss: 1.862 Train Acc: 0.292\n",
      "Epoch: 2/10 Train Loss: 1.858 Train Acc: 0.298\n",
      "Epoch: 3/10 Train Loss: 1.867 Train Acc: 0.289\n",
      "Epoch: 4/10 Train Loss: 1.859 Train Acc: 0.290\n",
      "Epoch: 5/10 Train Loss: 1.861 Train Acc: 0.291\n",
      "Epoch: 6/10 Train Loss: 1.856 Train Acc: 0.289\n",
      "Epoch: 7/10 Train Loss: 1.856 Train Acc: 0.298\n",
      "Epoch: 8/10 Train Loss: 1.858 Train Acc: 0.293\n",
      "Epoch: 9/10 Train Loss: 1.854 Train Acc: 0.296\n",
      "Epoch: 0/10 Train Loss: 1.863 Train Acc: 0.303\n",
      "Epoch: 1/10 Train Loss: 1.862 Train Acc: 0.295\n",
      "Epoch: 2/10 Train Loss: 1.865 Train Acc: 0.294\n",
      "Epoch: 3/10 Train Loss: 1.868 Train Acc: 0.300\n",
      "Epoch: 4/10 Train Loss: 1.867 Train Acc: 0.300\n",
      "Epoch: 5/10 Train Loss: 1.873 Train Acc: 0.297\n",
      "Epoch: 6/10 Train Loss: 1.866 Train Acc: 0.297\n",
      "Epoch: 7/10 Train Loss: 1.867 Train Acc: 0.304\n",
      "Epoch: 8/10 Train Loss: 1.864 Train Acc: 0.293\n",
      "Epoch: 9/10 Train Loss: 1.869 Train Acc: 0.295\n"
     ]
    },
    {
     "name": "stderr",
     "output_type": "stream",
     "text": [
      " 60%|██████    | 18/30 [1:34:33<1:03:03, 315.29s/it]"
     ]
    },
    {
     "name": "stdout",
     "output_type": "stream",
     "text": [
      "17-th ROUND: average train loss 0.623 | test loss 1.86 | test acc: 0.308\n",
      "Epoch: 0/10 Train Loss: 1.863 Train Acc: 0.296\n",
      "Epoch: 1/10 Train Loss: 1.863 Train Acc: 0.289\n",
      "Epoch: 2/10 Train Loss: 1.860 Train Acc: 0.295\n",
      "Epoch: 3/10 Train Loss: 1.863 Train Acc: 0.291\n",
      "Epoch: 4/10 Train Loss: 1.863 Train Acc: 0.302\n",
      "Epoch: 5/10 Train Loss: 1.862 Train Acc: 0.294\n",
      "Epoch: 6/10 Train Loss: 1.856 Train Acc: 0.300\n",
      "Epoch: 7/10 Train Loss: 1.860 Train Acc: 0.297\n",
      "Epoch: 8/10 Train Loss: 1.860 Train Acc: 0.295\n",
      "Epoch: 9/10 Train Loss: 1.862 Train Acc: 0.295\n",
      "Epoch: 0/10 Train Loss: 1.860 Train Acc: 0.301\n",
      "Epoch: 1/10 Train Loss: 1.854 Train Acc: 0.299\n",
      "Epoch: 2/10 Train Loss: 1.859 Train Acc: 0.296\n",
      "Epoch: 3/10 Train Loss: 1.859 Train Acc: 0.298\n",
      "Epoch: 4/10 Train Loss: 1.846 Train Acc: 0.309\n",
      "Epoch: 5/10 Train Loss: 1.854 Train Acc: 0.299\n",
      "Epoch: 6/10 Train Loss: 1.854 Train Acc: 0.302\n",
      "Epoch: 7/10 Train Loss: 1.855 Train Acc: 0.304\n",
      "Epoch: 8/10 Train Loss: 1.851 Train Acc: 0.298\n",
      "Epoch: 9/10 Train Loss: 1.855 Train Acc: 0.303\n",
      "Epoch: 0/10 Train Loss: 1.871 Train Acc: 0.290\n",
      "Epoch: 1/10 Train Loss: 1.877 Train Acc: 0.293\n",
      "Epoch: 2/10 Train Loss: 1.869 Train Acc: 0.297\n",
      "Epoch: 3/10 Train Loss: 1.881 Train Acc: 0.291\n",
      "Epoch: 4/10 Train Loss: 1.872 Train Acc: 0.294\n",
      "Epoch: 5/10 Train Loss: 1.878 Train Acc: 0.295\n",
      "Epoch: 6/10 Train Loss: 1.876 Train Acc: 0.294\n",
      "Epoch: 7/10 Train Loss: 1.873 Train Acc: 0.300\n",
      "Epoch: 8/10 Train Loss: 1.869 Train Acc: 0.299\n",
      "Epoch: 9/10 Train Loss: 1.874 Train Acc: 0.293\n"
     ]
    },
    {
     "name": "stderr",
     "output_type": "stream",
     "text": [
      " 63%|██████▎   | 19/30 [1:39:48<57:46, 315.11s/it]  "
     ]
    },
    {
     "name": "stdout",
     "output_type": "stream",
     "text": [
      "18-th ROUND: average train loss 0.625 | test loss 1.84 | test acc: 0.311\n",
      "Epoch: 0/10 Train Loss: 1.864 Train Acc: 0.292\n",
      "Epoch: 1/10 Train Loss: 1.862 Train Acc: 0.295\n",
      "Epoch: 2/10 Train Loss: 1.871 Train Acc: 0.298\n",
      "Epoch: 3/10 Train Loss: 1.871 Train Acc: 0.299\n",
      "Epoch: 4/10 Train Loss: 1.864 Train Acc: 0.302\n",
      "Epoch: 5/10 Train Loss: 1.871 Train Acc: 0.293\n",
      "Epoch: 6/10 Train Loss: 1.869 Train Acc: 0.298\n",
      "Epoch: 7/10 Train Loss: 1.867 Train Acc: 0.291\n",
      "Epoch: 8/10 Train Loss: 1.868 Train Acc: 0.298\n",
      "Epoch: 9/10 Train Loss: 1.873 Train Acc: 0.289\n",
      "Epoch: 0/10 Train Loss: 1.850 Train Acc: 0.302\n",
      "Epoch: 1/10 Train Loss: 1.853 Train Acc: 0.313\n",
      "Epoch: 2/10 Train Loss: 1.859 Train Acc: 0.307\n",
      "Epoch: 3/10 Train Loss: 1.850 Train Acc: 0.309\n",
      "Epoch: 4/10 Train Loss: 1.856 Train Acc: 0.306\n",
      "Epoch: 5/10 Train Loss: 1.852 Train Acc: 0.304\n",
      "Epoch: 6/10 Train Loss: 1.853 Train Acc: 0.301\n",
      "Epoch: 7/10 Train Loss: 1.856 Train Acc: 0.298\n",
      "Epoch: 8/10 Train Loss: 1.854 Train Acc: 0.305\n",
      "Epoch: 9/10 Train Loss: 1.855 Train Acc: 0.304\n",
      "Epoch: 0/10 Train Loss: 1.874 Train Acc: 0.290\n",
      "Epoch: 1/10 Train Loss: 1.875 Train Acc: 0.287\n",
      "Epoch: 2/10 Train Loss: 1.873 Train Acc: 0.292\n",
      "Epoch: 3/10 Train Loss: 1.875 Train Acc: 0.294\n",
      "Epoch: 4/10 Train Loss: 1.872 Train Acc: 0.294\n",
      "Epoch: 5/10 Train Loss: 1.875 Train Acc: 0.289\n",
      "Epoch: 6/10 Train Loss: 1.868 Train Acc: 0.291\n",
      "Epoch: 7/10 Train Loss: 1.877 Train Acc: 0.289\n",
      "Epoch: 8/10 Train Loss: 1.870 Train Acc: 0.302\n",
      "Epoch: 9/10 Train Loss: 1.875 Train Acc: 0.299\n"
     ]
    },
    {
     "name": "stderr",
     "output_type": "stream",
     "text": [
      " 67%|██████▋   | 20/30 [1:45:03<52:30, 315.06s/it]"
     ]
    },
    {
     "name": "stdout",
     "output_type": "stream",
     "text": [
      "19-th ROUND: average train loss 0.625 | test loss 1.84 | test acc: 0.313\n",
      "Epoch: 0/10 Train Loss: 1.848 Train Acc: 0.294\n",
      "Epoch: 1/10 Train Loss: 1.842 Train Acc: 0.301\n",
      "Epoch: 2/10 Train Loss: 1.846 Train Acc: 0.299\n",
      "Epoch: 3/10 Train Loss: 1.848 Train Acc: 0.302\n",
      "Epoch: 4/10 Train Loss: 1.848 Train Acc: 0.297\n",
      "Epoch: 5/10 Train Loss: 1.847 Train Acc: 0.294\n",
      "Epoch: 6/10 Train Loss: 1.849 Train Acc: 0.298\n",
      "Epoch: 7/10 Train Loss: 1.848 Train Acc: 0.299\n",
      "Epoch: 8/10 Train Loss: 1.852 Train Acc: 0.298\n",
      "Epoch: 9/10 Train Loss: 1.848 Train Acc: 0.299\n",
      "Epoch: 0/10 Train Loss: 1.876 Train Acc: 0.297\n",
      "Epoch: 1/10 Train Loss: 1.870 Train Acc: 0.300\n",
      "Epoch: 2/10 Train Loss: 1.875 Train Acc: 0.290\n",
      "Epoch: 3/10 Train Loss: 1.874 Train Acc: 0.296\n",
      "Epoch: 4/10 Train Loss: 1.871 Train Acc: 0.293\n",
      "Epoch: 5/10 Train Loss: 1.875 Train Acc: 0.294\n",
      "Epoch: 6/10 Train Loss: 1.876 Train Acc: 0.287\n",
      "Epoch: 7/10 Train Loss: 1.871 Train Acc: 0.299\n",
      "Epoch: 8/10 Train Loss: 1.877 Train Acc: 0.287\n",
      "Epoch: 9/10 Train Loss: 1.878 Train Acc: 0.289\n",
      "Epoch: 0/10 Train Loss: 1.851 Train Acc: 0.303\n",
      "Epoch: 1/10 Train Loss: 1.860 Train Acc: 0.292\n",
      "Epoch: 2/10 Train Loss: 1.855 Train Acc: 0.300\n",
      "Epoch: 3/10 Train Loss: 1.851 Train Acc: 0.299\n",
      "Epoch: 4/10 Train Loss: 1.854 Train Acc: 0.298\n",
      "Epoch: 5/10 Train Loss: 1.857 Train Acc: 0.300\n",
      "Epoch: 6/10 Train Loss: 1.850 Train Acc: 0.296\n",
      "Epoch: 7/10 Train Loss: 1.857 Train Acc: 0.299\n",
      "Epoch: 8/10 Train Loss: 1.856 Train Acc: 0.300\n",
      "Epoch: 9/10 Train Loss: 1.854 Train Acc: 0.293\n"
     ]
    },
    {
     "name": "stderr",
     "output_type": "stream",
     "text": [
      " 70%|███████   | 21/30 [1:50:18<47:16, 315.16s/it]"
     ]
    },
    {
     "name": "stdout",
     "output_type": "stream",
     "text": [
      "20-th ROUND: average train loss 0.618 | test loss 1.83 | test acc: 0.314\n",
      "Epoch: 0/10 Train Loss: 1.855 Train Acc: 0.302\n",
      "Epoch: 1/10 Train Loss: 1.855 Train Acc: 0.302\n",
      "Epoch: 2/10 Train Loss: 1.857 Train Acc: 0.305\n",
      "Epoch: 3/10 Train Loss: 1.855 Train Acc: 0.303\n",
      "Epoch: 4/10 Train Loss: 1.856 Train Acc: 0.295\n",
      "Epoch: 5/10 Train Loss: 1.852 Train Acc: 0.301\n",
      "Epoch: 6/10 Train Loss: 1.861 Train Acc: 0.292\n",
      "Epoch: 7/10 Train Loss: 1.855 Train Acc: 0.300\n",
      "Epoch: 8/10 Train Loss: 1.855 Train Acc: 0.308\n",
      "Epoch: 9/10 Train Loss: 1.854 Train Acc: 0.310\n",
      "Epoch: 0/10 Train Loss: 1.867 Train Acc: 0.296\n",
      "Epoch: 1/10 Train Loss: 1.867 Train Acc: 0.292\n",
      "Epoch: 2/10 Train Loss: 1.871 Train Acc: 0.291\n",
      "Epoch: 3/10 Train Loss: 1.866 Train Acc: 0.294\n",
      "Epoch: 4/10 Train Loss: 1.870 Train Acc: 0.291\n",
      "Epoch: 5/10 Train Loss: 1.865 Train Acc: 0.302\n",
      "Epoch: 6/10 Train Loss: 1.875 Train Acc: 0.292\n",
      "Epoch: 7/10 Train Loss: 1.870 Train Acc: 0.292\n",
      "Epoch: 8/10 Train Loss: 1.867 Train Acc: 0.292\n",
      "Epoch: 9/10 Train Loss: 1.870 Train Acc: 0.298\n",
      "Epoch: 0/10 Train Loss: 1.873 Train Acc: 0.291\n",
      "Epoch: 1/10 Train Loss: 1.872 Train Acc: 0.303\n",
      "Epoch: 2/10 Train Loss: 1.876 Train Acc: 0.296\n",
      "Epoch: 3/10 Train Loss: 1.881 Train Acc: 0.287\n",
      "Epoch: 4/10 Train Loss: 1.878 Train Acc: 0.287\n",
      "Epoch: 5/10 Train Loss: 1.875 Train Acc: 0.297\n",
      "Epoch: 6/10 Train Loss: 1.873 Train Acc: 0.298\n",
      "Epoch: 7/10 Train Loss: 1.874 Train Acc: 0.294\n",
      "Epoch: 8/10 Train Loss: 1.876 Train Acc: 0.296\n",
      "Epoch: 9/10 Train Loss: 1.871 Train Acc: 0.292\n"
     ]
    },
    {
     "name": "stderr",
     "output_type": "stream",
     "text": [
      " 73%|███████▎  | 22/30 [1:55:33<42:01, 315.23s/it]"
     ]
    },
    {
     "name": "stdout",
     "output_type": "stream",
     "text": [
      "21-th ROUND: average train loss 0.624 | test loss 1.83 | test acc: 0.313\n",
      "Epoch: 0/10 Train Loss: 1.854 Train Acc: 0.303\n",
      "Epoch: 1/10 Train Loss: 1.854 Train Acc: 0.308\n",
      "Epoch: 2/10 Train Loss: 1.851 Train Acc: 0.297\n",
      "Epoch: 3/10 Train Loss: 1.851 Train Acc: 0.303\n",
      "Epoch: 4/10 Train Loss: 1.850 Train Acc: 0.301\n",
      "Epoch: 5/10 Train Loss: 1.856 Train Acc: 0.303\n",
      "Epoch: 6/10 Train Loss: 1.852 Train Acc: 0.309\n",
      "Epoch: 7/10 Train Loss: 1.851 Train Acc: 0.306\n",
      "Epoch: 8/10 Train Loss: 1.850 Train Acc: 0.303\n",
      "Epoch: 9/10 Train Loss: 1.855 Train Acc: 0.303\n",
      "Epoch: 0/10 Train Loss: 1.856 Train Acc: 0.303\n",
      "Epoch: 1/10 Train Loss: 1.850 Train Acc: 0.303\n",
      "Epoch: 2/10 Train Loss: 1.864 Train Acc: 0.291\n",
      "Epoch: 3/10 Train Loss: 1.859 Train Acc: 0.295\n",
      "Epoch: 4/10 Train Loss: 1.858 Train Acc: 0.302\n",
      "Epoch: 5/10 Train Loss: 1.855 Train Acc: 0.302\n",
      "Epoch: 6/10 Train Loss: 1.859 Train Acc: 0.298\n",
      "Epoch: 7/10 Train Loss: 1.857 Train Acc: 0.292\n",
      "Epoch: 8/10 Train Loss: 1.859 Train Acc: 0.291\n",
      "Epoch: 9/10 Train Loss: 1.857 Train Acc: 0.301\n",
      "Epoch: 0/10 Train Loss: 1.861 Train Acc: 0.296\n",
      "Epoch: 1/10 Train Loss: 1.859 Train Acc: 0.298\n",
      "Epoch: 2/10 Train Loss: 1.855 Train Acc: 0.290\n",
      "Epoch: 3/10 Train Loss: 1.857 Train Acc: 0.296\n",
      "Epoch: 4/10 Train Loss: 1.860 Train Acc: 0.297\n",
      "Epoch: 5/10 Train Loss: 1.861 Train Acc: 0.291\n",
      "Epoch: 6/10 Train Loss: 1.857 Train Acc: 0.291\n",
      "Epoch: 7/10 Train Loss: 1.859 Train Acc: 0.287\n",
      "Epoch: 8/10 Train Loss: 1.858 Train Acc: 0.293\n",
      "Epoch: 9/10 Train Loss: 1.867 Train Acc: 0.294\n"
     ]
    },
    {
     "name": "stderr",
     "output_type": "stream",
     "text": [
      " 77%|███████▋  | 23/30 [2:00:48<36:45, 315.11s/it]"
     ]
    },
    {
     "name": "stdout",
     "output_type": "stream",
     "text": [
      "22-th ROUND: average train loss 0.622 | test loss 1.83 | test acc: 0.313\n",
      "Epoch: 0/10 Train Loss: 1.851 Train Acc: 0.303\n",
      "Epoch: 1/10 Train Loss: 1.855 Train Acc: 0.295\n",
      "Epoch: 2/10 Train Loss: 1.857 Train Acc: 0.302\n",
      "Epoch: 3/10 Train Loss: 1.855 Train Acc: 0.302\n",
      "Epoch: 4/10 Train Loss: 1.854 Train Acc: 0.311\n",
      "Epoch: 5/10 Train Loss: 1.851 Train Acc: 0.305\n",
      "Epoch: 6/10 Train Loss: 1.846 Train Acc: 0.303\n",
      "Epoch: 7/10 Train Loss: 1.849 Train Acc: 0.310\n",
      "Epoch: 8/10 Train Loss: 1.855 Train Acc: 0.298\n",
      "Epoch: 9/10 Train Loss: 1.856 Train Acc: 0.301\n",
      "Epoch: 0/10 Train Loss: 1.853 Train Acc: 0.307\n",
      "Epoch: 1/10 Train Loss: 1.859 Train Acc: 0.304\n",
      "Epoch: 2/10 Train Loss: 1.851 Train Acc: 0.307\n",
      "Epoch: 3/10 Train Loss: 1.850 Train Acc: 0.305\n",
      "Epoch: 4/10 Train Loss: 1.866 Train Acc: 0.289\n",
      "Epoch: 5/10 Train Loss: 1.856 Train Acc: 0.304\n",
      "Epoch: 6/10 Train Loss: 1.858 Train Acc: 0.305\n",
      "Epoch: 7/10 Train Loss: 1.856 Train Acc: 0.304\n",
      "Epoch: 8/10 Train Loss: 1.855 Train Acc: 0.308\n",
      "Epoch: 9/10 Train Loss: 1.857 Train Acc: 0.304\n",
      "Epoch: 0/10 Train Loss: 1.871 Train Acc: 0.299\n",
      "Epoch: 1/10 Train Loss: 1.866 Train Acc: 0.295\n",
      "Epoch: 2/10 Train Loss: 1.868 Train Acc: 0.294\n",
      "Epoch: 3/10 Train Loss: 1.864 Train Acc: 0.296\n",
      "Epoch: 4/10 Train Loss: 1.868 Train Acc: 0.287\n",
      "Epoch: 5/10 Train Loss: 1.865 Train Acc: 0.293\n",
      "Epoch: 6/10 Train Loss: 1.871 Train Acc: 0.293\n",
      "Epoch: 7/10 Train Loss: 1.867 Train Acc: 0.294\n",
      "Epoch: 8/10 Train Loss: 1.865 Train Acc: 0.291\n",
      "Epoch: 9/10 Train Loss: 1.872 Train Acc: 0.297\n"
     ]
    },
    {
     "name": "stderr",
     "output_type": "stream",
     "text": [
      " 80%|████████  | 24/30 [2:06:04<31:31, 315.19s/it]"
     ]
    },
    {
     "name": "stdout",
     "output_type": "stream",
     "text": [
      "23-th ROUND: average train loss 0.624 | test loss 1.83 | test acc: 0.313\n",
      "Epoch: 0/10 Train Loss: 1.854 Train Acc: 0.305\n",
      "Epoch: 1/10 Train Loss: 1.854 Train Acc: 0.306\n",
      "Epoch: 2/10 Train Loss: 1.854 Train Acc: 0.303\n",
      "Epoch: 3/10 Train Loss: 1.850 Train Acc: 0.303\n",
      "Epoch: 4/10 Train Loss: 1.851 Train Acc: 0.301\n",
      "Epoch: 5/10 Train Loss: 1.847 Train Acc: 0.304\n",
      "Epoch: 6/10 Train Loss: 1.855 Train Acc: 0.298\n",
      "Epoch: 7/10 Train Loss: 1.860 Train Acc: 0.296\n",
      "Epoch: 8/10 Train Loss: 1.853 Train Acc: 0.306\n",
      "Epoch: 9/10 Train Loss: 1.853 Train Acc: 0.300\n",
      "Epoch: 0/10 Train Loss: 1.851 Train Acc: 0.310\n",
      "Epoch: 1/10 Train Loss: 1.857 Train Acc: 0.305\n",
      "Epoch: 2/10 Train Loss: 1.853 Train Acc: 0.303\n",
      "Epoch: 3/10 Train Loss: 1.848 Train Acc: 0.304\n",
      "Epoch: 4/10 Train Loss: 1.853 Train Acc: 0.303\n",
      "Epoch: 5/10 Train Loss: 1.860 Train Acc: 0.298\n",
      "Epoch: 6/10 Train Loss: 1.852 Train Acc: 0.301\n",
      "Epoch: 7/10 Train Loss: 1.856 Train Acc: 0.301\n",
      "Epoch: 8/10 Train Loss: 1.847 Train Acc: 0.304\n",
      "Epoch: 9/10 Train Loss: 1.858 Train Acc: 0.304\n",
      "Epoch: 0/10 Train Loss: 1.862 Train Acc: 0.305\n",
      "Epoch: 1/10 Train Loss: 1.873 Train Acc: 0.293\n",
      "Epoch: 2/10 Train Loss: 1.872 Train Acc: 0.292\n",
      "Epoch: 3/10 Train Loss: 1.866 Train Acc: 0.300\n",
      "Epoch: 4/10 Train Loss: 1.867 Train Acc: 0.294\n",
      "Epoch: 5/10 Train Loss: 1.864 Train Acc: 0.299\n",
      "Epoch: 6/10 Train Loss: 1.866 Train Acc: 0.297\n",
      "Epoch: 7/10 Train Loss: 1.870 Train Acc: 0.295\n",
      "Epoch: 8/10 Train Loss: 1.874 Train Acc: 0.290\n",
      "Epoch: 9/10 Train Loss: 1.862 Train Acc: 0.294\n"
     ]
    },
    {
     "name": "stderr",
     "output_type": "stream",
     "text": [
      " 83%|████████▎ | 25/30 [2:11:19<26:15, 315.14s/it]"
     ]
    },
    {
     "name": "stdout",
     "output_type": "stream",
     "text": [
      "24-th ROUND: average train loss 0.621 | test loss 1.83 | test acc: 0.314\n",
      "Epoch: 0/10 Train Loss: 1.856 Train Acc: 0.302\n",
      "Epoch: 1/10 Train Loss: 1.858 Train Acc: 0.305\n",
      "Epoch: 2/10 Train Loss: 1.855 Train Acc: 0.296\n",
      "Epoch: 3/10 Train Loss: 1.862 Train Acc: 0.295\n",
      "Epoch: 4/10 Train Loss: 1.853 Train Acc: 0.297\n",
      "Epoch: 5/10 Train Loss: 1.854 Train Acc: 0.302\n",
      "Epoch: 6/10 Train Loss: 1.853 Train Acc: 0.298\n",
      "Epoch: 7/10 Train Loss: 1.854 Train Acc: 0.300\n",
      "Epoch: 8/10 Train Loss: 1.851 Train Acc: 0.298\n",
      "Epoch: 9/10 Train Loss: 1.856 Train Acc: 0.299\n",
      "Epoch: 0/10 Train Loss: 1.860 Train Acc: 0.295\n",
      "Epoch: 1/10 Train Loss: 1.856 Train Acc: 0.302\n",
      "Epoch: 2/10 Train Loss: 1.860 Train Acc: 0.292\n",
      "Epoch: 3/10 Train Loss: 1.858 Train Acc: 0.298\n",
      "Epoch: 4/10 Train Loss: 1.858 Train Acc: 0.300\n",
      "Epoch: 5/10 Train Loss: 1.859 Train Acc: 0.305\n",
      "Epoch: 6/10 Train Loss: 1.855 Train Acc: 0.307\n",
      "Epoch: 7/10 Train Loss: 1.856 Train Acc: 0.298\n",
      "Epoch: 8/10 Train Loss: 1.859 Train Acc: 0.293\n",
      "Epoch: 9/10 Train Loss: 1.860 Train Acc: 0.299\n",
      "Epoch: 0/10 Train Loss: 1.873 Train Acc: 0.295\n",
      "Epoch: 1/10 Train Loss: 1.871 Train Acc: 0.292\n",
      "Epoch: 2/10 Train Loss: 1.866 Train Acc: 0.298\n",
      "Epoch: 3/10 Train Loss: 1.869 Train Acc: 0.294\n",
      "Epoch: 4/10 Train Loss: 1.871 Train Acc: 0.297\n",
      "Epoch: 5/10 Train Loss: 1.868 Train Acc: 0.293\n",
      "Epoch: 6/10 Train Loss: 1.870 Train Acc: 0.296\n",
      "Epoch: 7/10 Train Loss: 1.867 Train Acc: 0.294\n",
      "Epoch: 8/10 Train Loss: 1.869 Train Acc: 0.293\n",
      "Epoch: 9/10 Train Loss: 1.872 Train Acc: 0.303\n"
     ]
    },
    {
     "name": "stderr",
     "output_type": "stream",
     "text": [
      " 87%|████████▋ | 26/30 [2:16:34<21:00, 315.16s/it]"
     ]
    },
    {
     "name": "stdout",
     "output_type": "stream",
     "text": [
      "25-th ROUND: average train loss 0.624 | test loss 1.84 | test acc: 0.314\n",
      "Epoch: 0/10 Train Loss: 1.850 Train Acc: 0.305\n",
      "Epoch: 1/10 Train Loss: 1.850 Train Acc: 0.298\n",
      "Epoch: 2/10 Train Loss: 1.857 Train Acc: 0.303\n",
      "Epoch: 3/10 Train Loss: 1.853 Train Acc: 0.302\n",
      "Epoch: 4/10 Train Loss: 1.846 Train Acc: 0.304\n",
      "Epoch: 5/10 Train Loss: 1.851 Train Acc: 0.298\n",
      "Epoch: 6/10 Train Loss: 1.856 Train Acc: 0.301\n",
      "Epoch: 7/10 Train Loss: 1.849 Train Acc: 0.307\n",
      "Epoch: 8/10 Train Loss: 1.853 Train Acc: 0.299\n",
      "Epoch: 9/10 Train Loss: 1.854 Train Acc: 0.299\n",
      "Epoch: 0/10 Train Loss: 1.846 Train Acc: 0.307\n",
      "Epoch: 1/10 Train Loss: 1.852 Train Acc: 0.304\n",
      "Epoch: 2/10 Train Loss: 1.854 Train Acc: 0.300\n",
      "Epoch: 3/10 Train Loss: 1.854 Train Acc: 0.298\n",
      "Epoch: 4/10 Train Loss: 1.859 Train Acc: 0.296\n",
      "Epoch: 5/10 Train Loss: 1.855 Train Acc: 0.304\n",
      "Epoch: 6/10 Train Loss: 1.851 Train Acc: 0.298\n",
      "Epoch: 7/10 Train Loss: 1.851 Train Acc: 0.307\n",
      "Epoch: 8/10 Train Loss: 1.851 Train Acc: 0.304\n",
      "Epoch: 9/10 Train Loss: 1.855 Train Acc: 0.303\n",
      "Epoch: 0/10 Train Loss: 1.869 Train Acc: 0.302\n",
      "Epoch: 1/10 Train Loss: 1.874 Train Acc: 0.296\n",
      "Epoch: 2/10 Train Loss: 1.875 Train Acc: 0.291\n",
      "Epoch: 3/10 Train Loss: 1.883 Train Acc: 0.294\n",
      "Epoch: 4/10 Train Loss: 1.871 Train Acc: 0.293\n",
      "Epoch: 5/10 Train Loss: 1.875 Train Acc: 0.294\n",
      "Epoch: 6/10 Train Loss: 1.876 Train Acc: 0.291\n",
      "Epoch: 7/10 Train Loss: 1.870 Train Acc: 0.295\n",
      "Epoch: 8/10 Train Loss: 1.872 Train Acc: 0.294\n",
      "Epoch: 9/10 Train Loss: 1.878 Train Acc: 0.297\n"
     ]
    },
    {
     "name": "stderr",
     "output_type": "stream",
     "text": [
      " 90%|█████████ | 27/30 [2:21:49<15:45, 315.17s/it]"
     ]
    },
    {
     "name": "stdout",
     "output_type": "stream",
     "text": [
      "26-th ROUND: average train loss 0.626 | test loss 1.83 | test acc: 0.314\n",
      "Epoch: 0/10 Train Loss: 1.852 Train Acc: 0.305\n",
      "Epoch: 1/10 Train Loss: 1.858 Train Acc: 0.300\n",
      "Epoch: 2/10 Train Loss: 1.858 Train Acc: 0.298\n",
      "Epoch: 3/10 Train Loss: 1.855 Train Acc: 0.298\n",
      "Epoch: 4/10 Train Loss: 1.855 Train Acc: 0.306\n",
      "Epoch: 5/10 Train Loss: 1.851 Train Acc: 0.306\n",
      "Epoch: 6/10 Train Loss: 1.847 Train Acc: 0.300\n",
      "Epoch: 7/10 Train Loss: 1.853 Train Acc: 0.297\n",
      "Epoch: 8/10 Train Loss: 1.852 Train Acc: 0.308\n",
      "Epoch: 9/10 Train Loss: 1.857 Train Acc: 0.297\n",
      "Epoch: 0/10 Train Loss: 1.866 Train Acc: 0.296\n",
      "Epoch: 1/10 Train Loss: 1.863 Train Acc: 0.293\n",
      "Epoch: 2/10 Train Loss: 1.861 Train Acc: 0.300\n",
      "Epoch: 3/10 Train Loss: 1.867 Train Acc: 0.301\n",
      "Epoch: 4/10 Train Loss: 1.864 Train Acc: 0.293\n",
      "Epoch: 5/10 Train Loss: 1.868 Train Acc: 0.294\n",
      "Epoch: 6/10 Train Loss: 1.869 Train Acc: 0.292\n",
      "Epoch: 7/10 Train Loss: 1.867 Train Acc: 0.302\n",
      "Epoch: 8/10 Train Loss: 1.868 Train Acc: 0.294\n",
      "Epoch: 9/10 Train Loss: 1.865 Train Acc: 0.290\n",
      "Epoch: 0/10 Train Loss: 1.861 Train Acc: 0.293\n",
      "Epoch: 1/10 Train Loss: 1.859 Train Acc: 0.300\n",
      "Epoch: 2/10 Train Loss: 1.863 Train Acc: 0.298\n",
      "Epoch: 3/10 Train Loss: 1.868 Train Acc: 0.290\n",
      "Epoch: 4/10 Train Loss: 1.865 Train Acc: 0.291\n",
      "Epoch: 5/10 Train Loss: 1.864 Train Acc: 0.294\n",
      "Epoch: 6/10 Train Loss: 1.865 Train Acc: 0.293\n",
      "Epoch: 7/10 Train Loss: 1.861 Train Acc: 0.293\n",
      "Epoch: 8/10 Train Loss: 1.863 Train Acc: 0.299\n",
      "Epoch: 9/10 Train Loss: 1.859 Train Acc: 0.302\n"
     ]
    },
    {
     "name": "stderr",
     "output_type": "stream",
     "text": [
      " 93%|█████████▎| 28/30 [2:27:04<10:30, 315.21s/it]"
     ]
    },
    {
     "name": "stdout",
     "output_type": "stream",
     "text": [
      "27-th ROUND: average train loss 0.62 | test loss 1.83 | test acc: 0.314\n",
      "Epoch: 0/10 Train Loss: 1.853 Train Acc: 0.294\n",
      "Epoch: 1/10 Train Loss: 1.850 Train Acc: 0.300\n",
      "Epoch: 2/10 Train Loss: 1.853 Train Acc: 0.295\n",
      "Epoch: 3/10 Train Loss: 1.851 Train Acc: 0.306\n",
      "Epoch: 4/10 Train Loss: 1.855 Train Acc: 0.302\n",
      "Epoch: 5/10 Train Loss: 1.855 Train Acc: 0.301\n",
      "Epoch: 6/10 Train Loss: 1.855 Train Acc: 0.298\n",
      "Epoch: 7/10 Train Loss: 1.849 Train Acc: 0.300\n",
      "Epoch: 8/10 Train Loss: 1.856 Train Acc: 0.303\n",
      "Epoch: 9/10 Train Loss: 1.855 Train Acc: 0.294\n",
      "Epoch: 0/10 Train Loss: 1.856 Train Acc: 0.299\n",
      "Epoch: 1/10 Train Loss: 1.850 Train Acc: 0.302\n",
      "Epoch: 2/10 Train Loss: 1.848 Train Acc: 0.304\n",
      "Epoch: 3/10 Train Loss: 1.853 Train Acc: 0.298\n",
      "Epoch: 4/10 Train Loss: 1.857 Train Acc: 0.302\n",
      "Epoch: 5/10 Train Loss: 1.847 Train Acc: 0.306\n",
      "Epoch: 6/10 Train Loss: 1.851 Train Acc: 0.304\n",
      "Epoch: 7/10 Train Loss: 1.861 Train Acc: 0.295\n",
      "Epoch: 8/10 Train Loss: 1.856 Train Acc: 0.297\n",
      "Epoch: 9/10 Train Loss: 1.853 Train Acc: 0.301\n",
      "Epoch: 0/10 Train Loss: 1.849 Train Acc: 0.307\n",
      "Epoch: 1/10 Train Loss: 1.853 Train Acc: 0.303\n",
      "Epoch: 2/10 Train Loss: 1.849 Train Acc: 0.305\n",
      "Epoch: 3/10 Train Loss: 1.856 Train Acc: 0.300\n",
      "Epoch: 4/10 Train Loss: 1.846 Train Acc: 0.303\n",
      "Epoch: 5/10 Train Loss: 1.853 Train Acc: 0.304\n",
      "Epoch: 6/10 Train Loss: 1.856 Train Acc: 0.303\n",
      "Epoch: 7/10 Train Loss: 1.852 Train Acc: 0.299\n",
      "Epoch: 8/10 Train Loss: 1.851 Train Acc: 0.302\n",
      "Epoch: 9/10 Train Loss: 1.849 Train Acc: 0.302\n"
     ]
    },
    {
     "name": "stderr",
     "output_type": "stream",
     "text": [
      " 97%|█████████▋| 29/30 [2:32:20<05:15, 315.20s/it]"
     ]
    },
    {
     "name": "stdout",
     "output_type": "stream",
     "text": [
      "28-th ROUND: average train loss 0.616 | test loss 1.83 | test acc: 0.315\n",
      "Epoch: 0/10 Train Loss: 1.862 Train Acc: 0.299\n",
      "Epoch: 1/10 Train Loss: 1.856 Train Acc: 0.293\n",
      "Epoch: 2/10 Train Loss: 1.856 Train Acc: 0.299\n",
      "Epoch: 3/10 Train Loss: 1.858 Train Acc: 0.292\n",
      "Epoch: 4/10 Train Loss: 1.856 Train Acc: 0.301\n",
      "Epoch: 5/10 Train Loss: 1.855 Train Acc: 0.302\n",
      "Epoch: 6/10 Train Loss: 1.859 Train Acc: 0.289\n",
      "Epoch: 7/10 Train Loss: 1.862 Train Acc: 0.298\n",
      "Epoch: 8/10 Train Loss: 1.852 Train Acc: 0.309\n",
      "Epoch: 9/10 Train Loss: 1.858 Train Acc: 0.304\n",
      "Epoch: 0/10 Train Loss: 1.851 Train Acc: 0.304\n",
      "Epoch: 1/10 Train Loss: 1.852 Train Acc: 0.298\n",
      "Epoch: 2/10 Train Loss: 1.846 Train Acc: 0.305\n",
      "Epoch: 3/10 Train Loss: 1.857 Train Acc: 0.297\n",
      "Epoch: 4/10 Train Loss: 1.851 Train Acc: 0.296\n",
      "Epoch: 5/10 Train Loss: 1.852 Train Acc: 0.296\n",
      "Epoch: 6/10 Train Loss: 1.850 Train Acc: 0.303\n",
      "Epoch: 7/10 Train Loss: 1.852 Train Acc: 0.302\n",
      "Epoch: 8/10 Train Loss: 1.849 Train Acc: 0.301\n",
      "Epoch: 9/10 Train Loss: 1.847 Train Acc: 0.298\n",
      "Epoch: 0/10 Train Loss: 1.873 Train Acc: 0.299\n",
      "Epoch: 1/10 Train Loss: 1.874 Train Acc: 0.294\n",
      "Epoch: 2/10 Train Loss: 1.876 Train Acc: 0.298\n",
      "Epoch: 3/10 Train Loss: 1.870 Train Acc: 0.298\n",
      "Epoch: 4/10 Train Loss: 1.869 Train Acc: 0.296\n",
      "Epoch: 5/10 Train Loss: 1.878 Train Acc: 0.293\n",
      "Epoch: 6/10 Train Loss: 1.874 Train Acc: 0.289\n",
      "Epoch: 7/10 Train Loss: 1.877 Train Acc: 0.300\n",
      "Epoch: 8/10 Train Loss: 1.876 Train Acc: 0.295\n",
      "Epoch: 9/10 Train Loss: 1.869 Train Acc: 0.299\n"
     ]
    },
    {
     "name": "stderr",
     "output_type": "stream",
     "text": [
      "100%|██████████| 30/30 [2:37:34<00:00, 315.15s/it]"
     ]
    },
    {
     "name": "stdout",
     "output_type": "stream",
     "text": [
      "29-th ROUND: average train loss 0.623 | test loss 1.83 | test acc: 0.316\n"
     ]
    },
    {
     "name": "stderr",
     "output_type": "stream",
     "text": [
      "\n"
     ]
    }
   ],
   "source": [
    "# initialize lists to store the training and testing losses and accuracies\n",
    "train_losses = []\n",
    "test_losses = []\n",
    "train_accs = []\n",
    "test_accs = []\n",
    "\n",
    "for round in tqdm(range(rounds)):\n",
    "\n",
    "\n",
    "    # Select n random clients\n",
    "    selected_clients = np.random.permutation(num_clients)[:clients_sample_size]\n",
    "    # Train the selected clients\n",
    "    for client in selected_clients:\n",
    "        # Individual criterion and optimizer\n",
    "\n",
    "        train_loss, train_acc = qtrain_model(model = client_models[client],\n",
    "                                             train_loader = train_loaders[client],\n",
    "                                             device = device,\n",
    "                                             criterion = criterion,\n",
    "                                             optimizer = optimizers[client],\n",
    "                                             num_epochs=epoch,\n",
    "                                             bits = quantize_bits)\n",
    "    train_losses.append(train_loss)\n",
    "    train_accs.append(train_acc)\n",
    "\n",
    "    # Aggregate\n",
    "    server_aggregate(global_model, client_models)\n",
    "\n",
    "    # Test the global model\n",
    "    test_loss, test_acc = evaluate_model(model=global_model,\n",
    "                                         test_loader=test_loader,\n",
    "                                         device=device,\n",
    "                                         criterion=criterion)\n",
    "\n",
    "    test_losses.append(test_loss)\n",
    "    test_accs.append(test_acc)\n",
    "    \n",
    "    print(f\"{round}-th ROUND: average train loss {(train_loss / clients_sample_size):0.3g} | test loss {test_loss:0.3g} | test acc: {test_acc:0.3f}\")\n",
    "    \n",
    "    "
   ]
  },
  {
   "cell_type": "code",
   "execution_count": 52,
   "metadata": {},
   "outputs": [
    {
     "data": {
      "image/png": "[encoded data removed]",
      "text/plain": [
       "<Figure size 640x480 with 1 Axes>"
      ]
     },
     "metadata": {},
     "output_type": "display_data"
    }
   ],
   "source": [
    "# plot the training loss\n",
    "sns.set(style='darkgrid')\n",
    "plt.plot(train_losses)\n",
    "plt.title('Training Loss')\n",
    "plt.xlabel('Epoch')\n",
    "plt.ylabel('Loss')\n",
    "plt.show()"
   ]
  },
  {
   "cell_type": "code",
   "execution_count": 53,
   "metadata": {},
   "outputs": [],
   "source": [
    "train_accs = [d.item() for d in train_accs]\n",
    "test_accs = [d.item() for d in test_accs]"
   ]
  },
  {
   "cell_type": "code",
   "execution_count": 54,
   "metadata": {},
   "outputs": [
    {
     "data": {
      "image/png": "[encoded data removed]",
      "text/plain": [
       "<Figure size 640x480 with 1 Axes>"
      ]
     },
     "metadata": {},
     "output_type": "display_data"
    }
   ],
   "source": [
    "# plot the training and testing accuracies\n",
    "sns.set(style='darkgrid')\n",
    "plt.plot(train_accs, label='Train Acc')\n",
    "plt.plot(test_accs, label='Test Acc')\n",
    "plt.title('Training and Testing Accuracies')\n",
    "plt.xlabel('Epoch')\n",
    "plt.ylabel('Accuracy')\n",
    "plt.legend()\n",
    "plt.show()\n"
   ]
  },
  {
   "cell_type": "code",
   "execution_count": 55,
   "metadata": {},
   "outputs": [
    {
     "name": "stdout",
     "output_type": "stream",
     "text": [
      "Loss: 0.0, Accuracy: 31.579998016357422%\n",
      "44.77 MB\n",
      "CPU Inference Latency: 7.49 ms / sample\n",
      "CUDA Inference Latency: 7.20 ms / sample\n"
     ]
    }
   ],
   "source": [
    "cuda_device = torch.device(\"cuda:0\")\n",
    "cpu_device = torch.device(\"cpu:0\")\n",
    "# Test the model\n",
    "loss, acc = evaluate_model(global_model, test_loader, device,)\n",
    "print(f'Loss: {loss}, Accuracy: {acc*100}%')\n",
    "print_model_size(global_model)\n",
    "\n",
    "# Measure inference latency\n",
    "cpu_inference_latency = measure_inference_latency(model=global_model, device=cpu_device, input_size=(1,3,32,32), num_samples=100)\n",
    "gpu_inference_latency = measure_inference_latency(model=global_model, device=cuda_device, input_size=(1,3,32,32), num_samples=100)\n",
    "print(\"CPU Inference Latency: {:.2f} ms / sample\".format(cpu_inference_latency * 1000))\n",
    "print(\"CUDA Inference Latency: {:.2f} ms / sample\".format(gpu_inference_latency * 1000))"
   ]
  },
  {
   "cell_type": "code",
   "execution_count": 56,
   "metadata": {},
   "outputs": [],
   "source": [
    "save_model(global_model, \"saved_models\", f'resnet_fedlern_{quantize_bits}bits_{time_stamp()}.pth')"
   ]
  }
 ],
 "metadata": {
  "kernelspec": {
   "display_name": "Python 3",
   "language": "python",
   "name": "python3"
  },
  "language_info": {
   "codemirror_mode": {
    "name": "ipython",
    "version": 3
   },
   "file_extension": ".py",
   "mimetype": "text/x-python",
   "name": "python",
   "nbconvert_exporter": "python",
   "pygments_lexer": "ipython3",
   "version": "3.8.0"
  },
  "orig_nbformat": 4
 },
 "nbformat": 4,
 "nbformat_minor": 2
}
