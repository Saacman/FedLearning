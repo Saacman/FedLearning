{
 "cells": [
  {
   "attachments": {},
   "cell_type": "markdown",
   "metadata": {},
   "source": [
    "# Federated Learning + Linear Quantization for RESNET18 & CIFAR10"
   ]
  },
  {
   "cell_type": "code",
   "execution_count": 76,
   "metadata": {},
   "outputs": [],
   "source": [
    "import torch\n",
    "import torch.nn as nn\n",
    "import torch.optim as optim\n",
    "import torchvision.datasets as datasets\n",
    "import torchvision.transforms as transforms\n",
    "import matplotlib.pyplot as plt\n",
    "from torch.utils.data import DataLoader\n",
    "\n",
    "import numpy as np\n",
    "from tqdm import tqdm\n",
    "import seaborn as sns\n",
    "from fedlern.utils import *\n",
    "from fedlern.train_utils import *\n",
    "from fedlern.quant_utils import *\n",
    "from fedlern.models.resnet_v2 import ResNet18"
   ]
  },
  {
   "attachments": {},
   "cell_type": "markdown",
   "metadata": {},
   "source": [
    "## Relevant Parameters"
   ]
  },
  {
   "cell_type": "code",
   "execution_count": 77,
   "metadata": {},
   "outputs": [],
   "source": [
    "epoch = 5\n",
    "rounds = 30#40#25\n",
    "num_clients = 10\n",
    "lrn_rate = 0.1\n",
    "clients_sample_size = int(.3 * num_clients) # Use 30% of available clients\n",
    "num_workers = 8\n",
    "train_batch_size = 32 #128\n",
    "eval_batch_size= 32 #256\n",
    "quantize_bits = 8\n",
    "stats = (0.49139968, 0.48215841, 0.44653091), (0.24703223, 0.24348513, 0.26158784)"
   ]
  },
  {
   "attachments": {},
   "cell_type": "markdown",
   "metadata": {},
   "source": [
    "## Data Loaders\n",
    "- Divide the test & training data\n",
    "- Divide the training data among the clients"
   ]
  },
  {
   "cell_type": "code",
   "execution_count": 78,
   "metadata": {},
   "outputs": [
    {
     "name": "stdout",
     "output_type": "stream",
     "text": [
      "Files already downloaded and verified\n"
     ]
    }
   ],
   "source": [
    " # Data augmentation and normalization for training\n",
    "transform_train = transforms.Compose([\n",
    "    transforms.RandomCrop(32, padding=4),\n",
    "    transforms.RandomHorizontalFlip(),\n",
    "    transforms.ToTensor(),\n",
    "    transforms.Normalize(*stats)\n",
    "])\n",
    "\n",
    "# Normalization for testing\n",
    "transform_test = transforms.Compose([\n",
    "    transforms.ToTensor(),\n",
    "    transforms.Normalize(*stats)\n",
    "])\n",
    "\n",
    "# CIFAR-10 dataset\n",
    "train_dataset = datasets.CIFAR10(root='./data', train=True, transform=transform_train, download=True)\n",
    "test_dataset = datasets.CIFAR10(root='./data', train=False, transform=transform_test)\n",
    "\n",
    "# split the training data\n",
    "train_splits = torch.utils.data.random_split(train_dataset, [int(train_dataset.data.shape[0]/num_clients) for i in range(num_clients)])\n",
    "\n",
    "# Data loaders\n",
    "train_loaders = [DataLoader(dataset=split, batch_size=train_batch_size, shuffle=True, num_workers=num_workers) for split in train_splits]\n",
    "test_loader = DataLoader(dataset=test_dataset, batch_size=eval_batch_size, shuffle=False, num_workers=num_workers)\n",
    "\n",
    "device = torch.device('cuda' if torch.cuda.is_available() else 'cpu')\n"
   ]
  },
  {
   "attachments": {},
   "cell_type": "markdown",
   "metadata": {},
   "source": [
    "\n",
    "- `server_aggregate` function aggregates the model weights received from every client and updates the global model with the updated weights."
   ]
  },
  {
   "attachments": {},
   "cell_type": "markdown",
   "metadata": {},
   "source": [
    "## Global & Clients instatiation\n",
    "Implement the same elements as before, but:\n",
    "- We need more instances of the model\n",
    "- An optimizer for each model"
   ]
  },
  {
   "cell_type": "code",
   "execution_count": 79,
   "metadata": {},
   "outputs": [],
   "source": [
    "global_model = ResNet18().to(device)\n",
    "client_models = [ResNet18()\n",
    "                     .to(device)\n",
    "                     #.load_state_dict(global_model.state_dict())\n",
    "                  for _ in range(num_clients)]\n"
   ]
  },
  {
   "cell_type": "markdown",
   "metadata": {},
   "source": [
    "# Define the criterion, and pair of optimizers for global model\n",
    "The first optimizer holds the regular weights, while the second one holds the quantized parameters, which are to be propagated to the clients."
   ]
  },
  {
   "cell_type": "code",
   "execution_count": 80,
   "metadata": {},
   "outputs": [],
   "source": [
    "# Optimizer & criterion based on gobal model\n",
    "global_optimizer = get_model_optimizer(global_model,\n",
    "                                       learning_rate=lrn_rate,\n",
    "                                       weight_decay=5e-4)\n",
    "criterion = nn.CrossEntropyLoss().to(device) # computes the cross-entropy loss between the predicted and true labels\n",
    "\n",
    "# ----Optimizer for quantized model on global model----\n",
    "# Copy the parameters\n",
    "all_G_kernels = [kernel.data.clone().requires_grad_(True)\n",
    "                for kernel in global_optimizer.param_groups[1]['params']]\n",
    "\n",
    "kernels = [{'params': all_G_kernels}]\n",
    "\n",
    "# New optimizer for the quantized weights\n",
    "goptimizer_quant = optim.SGD(kernels, lr=0)\n",
    "\n",
    "\n",
    "\n"
   ]
  },
  {
   "cell_type": "markdown",
   "metadata": {},
   "source": [
    "## Define optimizers for the clients.\n",
    "Each clients has a pair of optimizers"
   ]
  },
  {
   "cell_type": "code",
   "execution_count": 81,
   "metadata": {},
   "outputs": [],
   "source": [
    "\n",
    "optimizers = [get_model_optimizer(model,learning_rate=lrn_rate, weight_decay=5e-4) for model in client_models]\n",
    "\n",
    "\n",
    "optimizers_quant = []\n",
    "for optimizer in optimizers:\n",
    "    # Copy the parameters\n",
    "    all_G_kernels = [kernel.data.clone().requires_grad_(True)\n",
    "                    for kernel in optimizer.param_groups[1]['params']]\n",
    "\n",
    "    # Handle of the optimizer parameters\n",
    "    all_W_kernels = optimizer.param_groups[1]['params']\n",
    "    kernels = [{'params': all_G_kernels}]\n",
    "\n",
    "    # New optimizer for the quantized weights\n",
    "    optimizer_quant = optim.SGD(kernels, lr=0)\n",
    "    optimizers_quant.append(optimizer_quant)\n"
   ]
  },
  {
   "cell_type": "code",
   "execution_count": 82,
   "metadata": {},
   "outputs": [],
   "source": [
    "server_test = to_quantized_model_decorator(global_optimizer, goptimizer_quant)(evaluate_model)"
   ]
  },
  {
   "cell_type": "code",
   "execution_count": 83,
   "metadata": {},
   "outputs": [
    {
     "name": "stderr",
     "output_type": "stream",
     "text": [
      "  0%|          | 0/30 [00:00<?, ?it/s]"
     ]
    },
    {
     "name": "stdout",
     "output_type": "stream",
     "text": [
      "Client 5 training\n",
      "Epoch: 0/5 Train Loss: 2.829 Train Acc: 0.161\n",
      "Epoch: 1/5 Train Loss: 2.107 Train Acc: 0.186\n",
      "Epoch: 2/5 Train Loss: 2.018 Train Acc: 0.207\n",
      "Epoch: 3/5 Train Loss: 1.975 Train Acc: 0.226\n",
      "Epoch: 4/5 Train Loss: 1.912 Train Acc: 0.262\n",
      "Client 9 training\n",
      "Epoch: 0/5 Train Loss: 2.545 Train Acc: 0.165\n",
      "Epoch: 1/5 Train Loss: 2.084 Train Acc: 0.226\n",
      "Epoch: 2/5 Train Loss: 1.988 Train Acc: 0.254\n",
      "Epoch: 3/5 Train Loss: 1.911 Train Acc: 0.288\n",
      "Epoch: 4/5 Train Loss: 1.839 Train Acc: 0.310\n",
      "Client 2 training\n",
      "Epoch: 0/5 Train Loss: 2.794 Train Acc: 0.155\n",
      "Epoch: 1/5 Train Loss: 2.030 Train Acc: 0.226\n",
      "Epoch: 2/5 Train Loss: 1.903 Train Acc: 0.280\n",
      "Epoch: 3/5 Train Loss: 1.827 Train Acc: 0.306\n",
      "Epoch: 4/5 Train Loss: 1.744 Train Acc: 0.348\n"
     ]
    },
    {
     "name": "stderr",
     "output_type": "stream",
     "text": [
      "  3%|▎         | 1/30 [02:52<1:23:26, 172.63s/it]"
     ]
    },
    {
     "name": "stdout",
     "output_type": "stream",
     "text": [
      "0-th ROUND: average train loss 0.581 | test loss 2.33 | test acc: 0.100\n",
      "Client 8 training\n",
      "Epoch: 0/5 Train Loss: 2.174 Train Acc: 0.186\n",
      "Epoch: 1/5 Train Loss: 2.003 Train Acc: 0.242\n",
      "Epoch: 2/5 Train Loss: 1.931 Train Acc: 0.274\n",
      "Epoch: 3/5 Train Loss: 1.868 Train Acc: 0.296\n",
      "Epoch: 4/5 Train Loss: 1.810 Train Acc: 0.325\n",
      "Client 9 training\n",
      "Epoch: 0/5 Train Loss: 2.139 Train Acc: 0.188\n",
      "Epoch: 1/5 Train Loss: 1.971 Train Acc: 0.247\n",
      "Epoch: 2/5 Train Loss: 1.883 Train Acc: 0.287\n",
      "Epoch: 3/5 Train Loss: 1.836 Train Acc: 0.310\n",
      "Epoch: 4/5 Train Loss: 1.763 Train Acc: 0.336\n",
      "Client 1 training\n",
      "Epoch: 0/5 Train Loss: 2.143 Train Acc: 0.193\n",
      "Epoch: 1/5 Train Loss: 1.950 Train Acc: 0.264\n",
      "Epoch: 2/5 Train Loss: 1.877 Train Acc: 0.303\n",
      "Epoch: 3/5 Train Loss: 1.799 Train Acc: 0.326\n",
      "Epoch: 4/5 Train Loss: 1.761 Train Acc: 0.348\n"
     ]
    },
    {
     "name": "stderr",
     "output_type": "stream",
     "text": [
      "  7%|▋         | 2/30 [05:44<1:20:24, 172.31s/it]"
     ]
    },
    {
     "name": "stdout",
     "output_type": "stream",
     "text": [
      "1-th ROUND: average train loss 0.587 | test loss 2.34 | test acc: 0.100\n",
      "Client 2 training\n",
      "Epoch: 0/5 Train Loss: 2.024 Train Acc: 0.230\n",
      "Epoch: 1/5 Train Loss: 1.894 Train Acc: 0.279\n",
      "Epoch: 2/5 Train Loss: 1.817 Train Acc: 0.309\n",
      "Epoch: 3/5 Train Loss: 1.763 Train Acc: 0.346\n",
      "Epoch: 4/5 Train Loss: 1.746 Train Acc: 0.345\n",
      "Client 7 training\n",
      "Epoch: 0/5 Train Loss: 2.022 Train Acc: 0.216\n",
      "Epoch: 1/5 Train Loss: 1.878 Train Acc: 0.287\n",
      "Epoch: 2/5 Train Loss: 1.844 Train Acc: 0.293\n",
      "Epoch: 3/5 Train Loss: 1.747 Train Acc: 0.350\n",
      "Epoch: 4/5 Train Loss: 1.700 Train Acc: 0.353\n",
      "Client 3 training\n",
      "Epoch: 0/5 Train Loss: 2.012 Train Acc: 0.247\n",
      "Epoch: 1/5 Train Loss: 1.881 Train Acc: 0.293\n",
      "Epoch: 2/5 Train Loss: 1.830 Train Acc: 0.307\n",
      "Epoch: 3/5 Train Loss: 1.760 Train Acc: 0.335\n",
      "Epoch: 4/5 Train Loss: 1.721 Train Acc: 0.349\n"
     ]
    },
    {
     "name": "stderr",
     "output_type": "stream",
     "text": [
      " 10%|█         | 3/30 [08:36<1:17:26, 172.08s/it]"
     ]
    },
    {
     "name": "stdout",
     "output_type": "stream",
     "text": [
      "2-th ROUND: average train loss 0.574 | test loss 2.37 | test acc: 0.100\n",
      "Client 6 training\n",
      "Epoch: 0/5 Train Loss: 1.902 Train Acc: 0.279\n",
      "Epoch: 1/5 Train Loss: 1.785 Train Acc: 0.319\n",
      "Epoch: 2/5 Train Loss: 1.691 Train Acc: 0.364\n",
      "Epoch: 3/5 Train Loss: 1.633 Train Acc: 0.395\n",
      "Epoch: 4/5 Train Loss: 1.588 Train Acc: 0.416\n",
      "Client 4 training\n",
      "Epoch: 0/5 Train Loss: 1.941 Train Acc: 0.264\n",
      "Epoch: 1/5 Train Loss: 1.822 Train Acc: 0.313\n",
      "Epoch: 2/5 Train Loss: 1.748 Train Acc: 0.344\n",
      "Epoch: 3/5 Train Loss: 1.692 Train Acc: 0.372\n",
      "Epoch: 4/5 Train Loss: 1.636 Train Acc: 0.405\n",
      "Client 5 training\n",
      "Epoch: 0/5 Train Loss: 1.916 Train Acc: 0.281\n",
      "Epoch: 1/5 Train Loss: 1.779 Train Acc: 0.325\n",
      "Epoch: 2/5 Train Loss: 1.729 Train Acc: 0.357\n",
      "Epoch: 3/5 Train Loss: 1.698 Train Acc: 0.368\n",
      "Epoch: 4/5 Train Loss: 1.626 Train Acc: 0.397\n"
     ]
    },
    {
     "name": "stderr",
     "output_type": "stream",
     "text": [
      " 13%|█▎        | 4/30 [11:28<1:14:34, 172.11s/it]"
     ]
    },
    {
     "name": "stdout",
     "output_type": "stream",
     "text": [
      "3-th ROUND: average train loss 0.542 | test loss 2.36 | test acc: 0.100\n",
      "Client 1 training\n",
      "Epoch: 0/5 Train Loss: 1.827 Train Acc: 0.321\n",
      "Epoch: 1/5 Train Loss: 1.691 Train Acc: 0.380\n",
      "Epoch: 2/5 Train Loss: 1.618 Train Acc: 0.404\n",
      "Epoch: 3/5 Train Loss: 1.556 Train Acc: 0.427\n",
      "Epoch: 4/5 Train Loss: 1.499 Train Acc: 0.463\n",
      "Client 4 training\n",
      "Epoch: 0/5 Train Loss: 1.825 Train Acc: 0.314\n",
      "Epoch: 1/5 Train Loss: 1.693 Train Acc: 0.369\n",
      "Epoch: 2/5 Train Loss: 1.619 Train Acc: 0.402\n",
      "Epoch: 3/5 Train Loss: 1.567 Train Acc: 0.422\n",
      "Epoch: 4/5 Train Loss: 1.493 Train Acc: 0.453\n",
      "Client 2 training\n",
      "Epoch: 0/5 Train Loss: 1.791 Train Acc: 0.327\n",
      "Epoch: 1/5 Train Loss: 1.684 Train Acc: 0.366\n",
      "Epoch: 2/5 Train Loss: 1.603 Train Acc: 0.406\n",
      "Epoch: 3/5 Train Loss: 1.538 Train Acc: 0.437\n",
      "Epoch: 4/5 Train Loss: 1.468 Train Acc: 0.466\n"
     ]
    },
    {
     "name": "stderr",
     "output_type": "stream",
     "text": [
      " 17%|█▋        | 5/30 [14:21<1:11:46, 172.26s/it]"
     ]
    },
    {
     "name": "stdout",
     "output_type": "stream",
     "text": [
      "4-th ROUND: average train loss 0.489 | test loss 2.31 | test acc: 0.134\n",
      "Client 9 training\n",
      "Epoch: 0/5 Train Loss: 1.672 Train Acc: 0.382\n",
      "Epoch: 1/5 Train Loss: 1.564 Train Acc: 0.429\n",
      "Epoch: 2/5 Train Loss: 1.473 Train Acc: 0.457\n",
      "Epoch: 3/5 Train Loss: 1.420 Train Acc: 0.475\n",
      "Epoch: 4/5 Train Loss: 1.363 Train Acc: 0.502\n",
      "Client 4 training\n",
      "Epoch: 0/5 Train Loss: 1.701 Train Acc: 0.367\n",
      "Epoch: 1/5 Train Loss: 1.581 Train Acc: 0.425\n",
      "Epoch: 2/5 Train Loss: 1.487 Train Acc: 0.451\n",
      "Epoch: 3/5 Train Loss: 1.434 Train Acc: 0.476\n",
      "Epoch: 4/5 Train Loss: 1.360 Train Acc: 0.505\n",
      "Client 5 training\n",
      "Epoch: 0/5 Train Loss: 1.669 Train Acc: 0.394\n",
      "Epoch: 1/5 Train Loss: 1.594 Train Acc: 0.411\n",
      "Epoch: 2/5 Train Loss: 1.487 Train Acc: 0.457\n",
      "Epoch: 3/5 Train Loss: 1.431 Train Acc: 0.480\n",
      "Epoch: 4/5 Train Loss: 1.365 Train Acc: 0.500\n"
     ]
    },
    {
     "name": "stderr",
     "output_type": "stream",
     "text": [
      " 20%|██        | 6/30 [17:13<1:08:55, 172.31s/it]"
     ]
    },
    {
     "name": "stdout",
     "output_type": "stream",
     "text": [
      "5-th ROUND: average train loss 0.455 | test loss 2.2 | test acc: 0.158\n",
      "Client 3 training\n",
      "Epoch: 0/5 Train Loss: 1.526 Train Acc: 0.437\n",
      "Epoch: 1/5 Train Loss: 1.465 Train Acc: 0.469\n",
      "Epoch: 2/5 Train Loss: 1.361 Train Acc: 0.514\n",
      "Epoch: 3/5 Train Loss: 1.309 Train Acc: 0.529\n",
      "Epoch: 4/5 Train Loss: 1.230 Train Acc: 0.561\n",
      "Client 5 training\n",
      "Epoch: 0/5 Train Loss: 1.547 Train Acc: 0.438\n",
      "Epoch: 1/5 Train Loss: 1.442 Train Acc: 0.473\n",
      "Epoch: 2/5 Train Loss: 1.366 Train Acc: 0.507\n",
      "Epoch: 3/5 Train Loss: 1.291 Train Acc: 0.537\n",
      "Epoch: 4/5 Train Loss: 1.239 Train Acc: 0.558\n",
      "Client 4 training\n",
      "Epoch: 0/5 Train Loss: 1.580 Train Acc: 0.423\n",
      "Epoch: 1/5 Train Loss: 1.461 Train Acc: 0.477\n",
      "Epoch: 2/5 Train Loss: 1.373 Train Acc: 0.500\n",
      "Epoch: 3/5 Train Loss: 1.308 Train Acc: 0.536\n",
      "Epoch: 4/5 Train Loss: 1.252 Train Acc: 0.558\n"
     ]
    },
    {
     "name": "stderr",
     "output_type": "stream",
     "text": [
      " 23%|██▎       | 7/30 [20:05<1:06:01, 172.26s/it]"
     ]
    },
    {
     "name": "stdout",
     "output_type": "stream",
     "text": [
      "6-th ROUND: average train loss 0.417 | test loss 2.12 | test acc: 0.227\n",
      "Client 8 training\n",
      "Epoch: 0/5 Train Loss: 1.443 Train Acc: 0.480\n",
      "Epoch: 1/5 Train Loss: 1.352 Train Acc: 0.511\n",
      "Epoch: 2/5 Train Loss: 1.278 Train Acc: 0.543\n",
      "Epoch: 3/5 Train Loss: 1.220 Train Acc: 0.557\n",
      "Epoch: 4/5 Train Loss: 1.170 Train Acc: 0.586\n",
      "Client 3 training\n",
      "Epoch: 0/5 Train Loss: 1.435 Train Acc: 0.474\n",
      "Epoch: 1/5 Train Loss: 1.340 Train Acc: 0.524\n",
      "Epoch: 2/5 Train Loss: 1.273 Train Acc: 0.543\n",
      "Epoch: 3/5 Train Loss: 1.216 Train Acc: 0.562\n",
      "Epoch: 4/5 Train Loss: 1.158 Train Acc: 0.588\n",
      "Client 9 training\n",
      "Epoch: 0/5 Train Loss: 1.433 Train Acc: 0.490\n",
      "Epoch: 1/5 Train Loss: 1.345 Train Acc: 0.516\n",
      "Epoch: 2/5 Train Loss: 1.263 Train Acc: 0.552\n",
      "Epoch: 3/5 Train Loss: 1.206 Train Acc: 0.576\n",
      "Epoch: 4/5 Train Loss: 1.160 Train Acc: 0.589\n"
     ]
    },
    {
     "name": "stderr",
     "output_type": "stream",
     "text": [
      " 27%|██▋       | 8/30 [22:58<1:03:09, 172.26s/it]"
     ]
    },
    {
     "name": "stdout",
     "output_type": "stream",
     "text": [
      "7-th ROUND: average train loss 0.387 | test loss 2.09 | test acc: 0.271\n",
      "Client 5 training\n",
      "Epoch: 0/5 Train Loss: 1.334 Train Acc: 0.513\n",
      "Epoch: 1/5 Train Loss: 1.266 Train Acc: 0.552\n",
      "Epoch: 2/5 Train Loss: 1.200 Train Acc: 0.574\n",
      "Epoch: 3/5 Train Loss: 1.138 Train Acc: 0.589\n",
      "Epoch: 4/5 Train Loss: 1.096 Train Acc: 0.610\n",
      "Client 1 training\n",
      "Epoch: 0/5 Train Loss: 1.303 Train Acc: 0.531\n",
      "Epoch: 1/5 Train Loss: 1.243 Train Acc: 0.554\n",
      "Epoch: 2/5 Train Loss: 1.190 Train Acc: 0.572\n",
      "Epoch: 3/5 Train Loss: 1.143 Train Acc: 0.587\n",
      "Epoch: 4/5 Train Loss: 1.092 Train Acc: 0.611\n",
      "Client 7 training\n",
      "Epoch: 0/5 Train Loss: 1.318 Train Acc: 0.526\n",
      "Epoch: 1/5 Train Loss: 1.237 Train Acc: 0.560\n",
      "Epoch: 2/5 Train Loss: 1.180 Train Acc: 0.576\n",
      "Epoch: 3/5 Train Loss: 1.141 Train Acc: 0.587\n",
      "Epoch: 4/5 Train Loss: 1.096 Train Acc: 0.612\n"
     ]
    },
    {
     "name": "stderr",
     "output_type": "stream",
     "text": [
      " 30%|███       | 9/30 [25:50<1:00:17, 172.26s/it]"
     ]
    },
    {
     "name": "stdout",
     "output_type": "stream",
     "text": [
      "8-th ROUND: average train loss 0.365 | test loss 2 | test acc: 0.301\n",
      "Client 7 training\n",
      "Epoch: 0/5 Train Loss: 1.233 Train Acc: 0.556\n",
      "Epoch: 1/5 Train Loss: 1.173 Train Acc: 0.587\n",
      "Epoch: 2/5 Train Loss: 1.133 Train Acc: 0.590\n",
      "Epoch: 3/5 Train Loss: 1.089 Train Acc: 0.620\n",
      "Epoch: 4/5 Train Loss: 1.060 Train Acc: 0.625\n",
      "Client 1 training\n",
      "Epoch: 0/5 Train Loss: 1.238 Train Acc: 0.552\n",
      "Epoch: 1/5 Train Loss: 1.202 Train Acc: 0.568\n",
      "Epoch: 2/5 Train Loss: 1.121 Train Acc: 0.600\n",
      "Epoch: 3/5 Train Loss: 1.096 Train Acc: 0.612\n",
      "Epoch: 4/5 Train Loss: 1.061 Train Acc: 0.633\n",
      "Client 3 training\n",
      "Epoch: 0/5 Train Loss: 1.245 Train Acc: 0.552\n",
      "Epoch: 1/5 Train Loss: 1.197 Train Acc: 0.573\n",
      "Epoch: 2/5 Train Loss: 1.137 Train Acc: 0.599\n",
      "Epoch: 3/5 Train Loss: 1.081 Train Acc: 0.608\n",
      "Epoch: 4/5 Train Loss: 1.062 Train Acc: 0.625\n"
     ]
    },
    {
     "name": "stderr",
     "output_type": "stream",
     "text": [
      " 33%|███▎      | 10/30 [28:42<57:26, 172.34s/it] "
     ]
    },
    {
     "name": "stdout",
     "output_type": "stream",
     "text": [
      "9-th ROUND: average train loss 0.354 | test loss 1.92 | test acc: 0.347\n",
      "Client 2 training\n",
      "Epoch: 0/5 Train Loss: 1.164 Train Acc: 0.582\n",
      "Epoch: 1/5 Train Loss: 1.116 Train Acc: 0.599\n",
      "Epoch: 2/5 Train Loss: 1.069 Train Acc: 0.616\n",
      "Epoch: 3/5 Train Loss: 1.023 Train Acc: 0.640\n",
      "Epoch: 4/5 Train Loss: 0.981 Train Acc: 0.652\n",
      "Client 7 training\n",
      "Epoch: 0/5 Train Loss: 1.151 Train Acc: 0.594\n",
      "Epoch: 1/5 Train Loss: 1.112 Train Acc: 0.596\n",
      "Epoch: 2/5 Train Loss: 1.064 Train Acc: 0.629\n",
      "Epoch: 3/5 Train Loss: 1.030 Train Acc: 0.636\n",
      "Epoch: 4/5 Train Loss: 0.994 Train Acc: 0.648\n",
      "Client 4 training\n",
      "Epoch: 0/5 Train Loss: 1.186 Train Acc: 0.581\n",
      "Epoch: 1/5 Train Loss: 1.141 Train Acc: 0.601\n",
      "Epoch: 2/5 Train Loss: 1.096 Train Acc: 0.614\n",
      "Epoch: 3/5 Train Loss: 1.061 Train Acc: 0.635\n",
      "Epoch: 4/5 Train Loss: 0.993 Train Acc: 0.648\n"
     ]
    },
    {
     "name": "stderr",
     "output_type": "stream",
     "text": [
      " 37%|███▋      | 11/30 [31:35<54:36, 172.45s/it]"
     ]
    },
    {
     "name": "stdout",
     "output_type": "stream",
     "text": [
      "10-th ROUND: average train loss 0.331 | test loss 1.8 | test acc: 0.404\n",
      "Client 5 training\n",
      "Epoch: 0/5 Train Loss: 1.124 Train Acc: 0.596\n",
      "Epoch: 1/5 Train Loss: 1.075 Train Acc: 0.616\n",
      "Epoch: 2/5 Train Loss: 1.032 Train Acc: 0.632\n",
      "Epoch: 3/5 Train Loss: 0.988 Train Acc: 0.647\n",
      "Epoch: 4/5 Train Loss: 0.960 Train Acc: 0.662\n",
      "Client 6 training\n",
      "Epoch: 0/5 Train Loss: 1.062 Train Acc: 0.630\n",
      "Epoch: 1/5 Train Loss: 1.022 Train Acc: 0.640\n",
      "Epoch: 2/5 Train Loss: 0.986 Train Acc: 0.653\n",
      "Epoch: 3/5 Train Loss: 0.961 Train Acc: 0.662\n",
      "Epoch: 4/5 Train Loss: 0.934 Train Acc: 0.675\n",
      "Client 7 training\n",
      "Epoch: 0/5 Train Loss: 1.110 Train Acc: 0.613\n",
      "Epoch: 1/5 Train Loss: 1.072 Train Acc: 0.624\n",
      "Epoch: 2/5 Train Loss: 1.008 Train Acc: 0.648\n",
      "Epoch: 3/5 Train Loss: 0.974 Train Acc: 0.659\n",
      "Epoch: 4/5 Train Loss: 0.954 Train Acc: 0.666\n"
     ]
    },
    {
     "name": "stderr",
     "output_type": "stream",
     "text": [
      " 40%|████      | 12/30 [34:27<51:41, 172.31s/it]"
     ]
    },
    {
     "name": "stdout",
     "output_type": "stream",
     "text": [
      "11-th ROUND: average train loss 0.318 | test loss 1.59 | test acc: 0.480\n",
      "Client 1 training\n",
      "Epoch: 0/5 Train Loss: 1.024 Train Acc: 0.640\n",
      "Epoch: 1/5 Train Loss: 1.035 Train Acc: 0.636\n",
      "Epoch: 2/5 Train Loss: 1.008 Train Acc: 0.650\n",
      "Epoch: 3/5 Train Loss: 0.961 Train Acc: 0.665\n",
      "Epoch: 4/5 Train Loss: 0.919 Train Acc: 0.672\n",
      "Client 8 training\n",
      "Epoch: 0/5 Train Loss: 1.071 Train Acc: 0.621\n",
      "Epoch: 1/5 Train Loss: 1.051 Train Acc: 0.629\n",
      "Epoch: 2/5 Train Loss: 1.020 Train Acc: 0.650\n",
      "Epoch: 3/5 Train Loss: 0.970 Train Acc: 0.661\n",
      "Epoch: 4/5 Train Loss: 0.923 Train Acc: 0.676\n",
      "Client 0 training\n",
      "Epoch: 0/5 Train Loss: 1.051 Train Acc: 0.630\n",
      "Epoch: 1/5 Train Loss: 1.025 Train Acc: 0.631\n",
      "Epoch: 2/5 Train Loss: 0.982 Train Acc: 0.653\n",
      "Epoch: 3/5 Train Loss: 0.949 Train Acc: 0.671\n",
      "Epoch: 4/5 Train Loss: 0.926 Train Acc: 0.671\n"
     ]
    },
    {
     "name": "stderr",
     "output_type": "stream",
     "text": [
      " 43%|████▎     | 13/30 [37:19<48:48, 172.26s/it]"
     ]
    },
    {
     "name": "stdout",
     "output_type": "stream",
     "text": [
      "12-th ROUND: average train loss 0.309 | test loss 1.41 | test acc: 0.540\n",
      "Client 2 training\n",
      "Epoch: 0/5 Train Loss: 1.003 Train Acc: 0.648\n",
      "Epoch: 1/5 Train Loss: 0.979 Train Acc: 0.657\n",
      "Epoch: 2/5 Train Loss: 0.928 Train Acc: 0.673\n",
      "Epoch: 3/5 Train Loss: 0.883 Train Acc: 0.690\n",
      "Epoch: 4/5 Train Loss: 0.869 Train Acc: 0.694\n",
      "Client 4 training\n",
      "Epoch: 0/5 Train Loss: 0.994 Train Acc: 0.650\n",
      "Epoch: 1/5 Train Loss: 0.997 Train Acc: 0.648\n",
      "Epoch: 2/5 Train Loss: 0.916 Train Acc: 0.679\n",
      "Epoch: 3/5 Train Loss: 0.921 Train Acc: 0.679\n",
      "Epoch: 4/5 Train Loss: 0.871 Train Acc: 0.693\n",
      "Client 8 training\n",
      "Epoch: 0/5 Train Loss: 1.036 Train Acc: 0.630\n",
      "Epoch: 1/5 Train Loss: 1.030 Train Acc: 0.645\n",
      "Epoch: 2/5 Train Loss: 0.966 Train Acc: 0.665\n",
      "Epoch: 3/5 Train Loss: 0.935 Train Acc: 0.674\n",
      "Epoch: 4/5 Train Loss: 0.908 Train Acc: 0.683\n"
     ]
    },
    {
     "name": "stderr",
     "output_type": "stream",
     "text": [
      " 47%|████▋     | 14/30 [40:12<45:58, 172.39s/it]"
     ]
    },
    {
     "name": "stdout",
     "output_type": "stream",
     "text": [
      "13-th ROUND: average train loss 0.303 | test loss 1.27 | test acc: 0.582\n",
      "Client 0 training\n",
      "Epoch: 0/5 Train Loss: 0.974 Train Acc: 0.662\n",
      "Epoch: 1/5 Train Loss: 0.922 Train Acc: 0.680\n",
      "Epoch: 2/5 Train Loss: 0.928 Train Acc: 0.680\n",
      "Epoch: 3/5 Train Loss: 0.885 Train Acc: 0.695\n",
      "Epoch: 4/5 Train Loss: 0.855 Train Acc: 0.695\n",
      "Client 9 training\n",
      "Epoch: 0/5 Train Loss: 0.959 Train Acc: 0.661\n",
      "Epoch: 1/5 Train Loss: 0.943 Train Acc: 0.664\n",
      "Epoch: 2/5 Train Loss: 0.904 Train Acc: 0.680\n",
      "Epoch: 3/5 Train Loss: 0.876 Train Acc: 0.692\n",
      "Epoch: 4/5 Train Loss: 0.844 Train Acc: 0.703\n",
      "Client 6 training\n",
      "Epoch: 0/5 Train Loss: 0.929 Train Acc: 0.672\n",
      "Epoch: 1/5 Train Loss: 0.914 Train Acc: 0.683\n",
      "Epoch: 2/5 Train Loss: 0.892 Train Acc: 0.695\n",
      "Epoch: 3/5 Train Loss: 0.840 Train Acc: 0.704\n",
      "Epoch: 4/5 Train Loss: 0.823 Train Acc: 0.714\n"
     ]
    },
    {
     "name": "stderr",
     "output_type": "stream",
     "text": [
      " 50%|█████     | 15/30 [43:04<43:05, 172.34s/it]"
     ]
    },
    {
     "name": "stdout",
     "output_type": "stream",
     "text": [
      "14-th ROUND: average train loss 0.274 | test loss 1.1 | test acc: 0.636\n",
      "Client 2 training\n",
      "Epoch: 0/5 Train Loss: 0.914 Train Acc: 0.675\n",
      "Epoch: 1/5 Train Loss: 0.883 Train Acc: 0.687\n",
      "Epoch: 2/5 Train Loss: 0.872 Train Acc: 0.694\n",
      "Epoch: 3/5 Train Loss: 0.848 Train Acc: 0.703\n",
      "Epoch: 4/5 Train Loss: 0.834 Train Acc: 0.706\n",
      "Client 9 training\n",
      "Epoch: 0/5 Train Loss: 0.908 Train Acc: 0.690\n",
      "Epoch: 1/5 Train Loss: 0.891 Train Acc: 0.691\n",
      "Epoch: 2/5 Train Loss: 0.868 Train Acc: 0.696\n",
      "Epoch: 3/5 Train Loss: 0.846 Train Acc: 0.709\n",
      "Epoch: 4/5 Train Loss: 0.821 Train Acc: 0.718\n",
      "Client 8 training\n",
      "Epoch: 0/5 Train Loss: 0.947 Train Acc: 0.677\n",
      "Epoch: 1/5 Train Loss: 0.921 Train Acc: 0.677\n",
      "Epoch: 2/5 Train Loss: 0.903 Train Acc: 0.692\n",
      "Epoch: 3/5 Train Loss: 0.877 Train Acc: 0.690\n",
      "Epoch: 4/5 Train Loss: 0.856 Train Acc: 0.699\n"
     ]
    },
    {
     "name": "stderr",
     "output_type": "stream",
     "text": [
      " 53%|█████▎    | 16/30 [45:56<40:11, 172.28s/it]"
     ]
    },
    {
     "name": "stdout",
     "output_type": "stream",
     "text": [
      "15-th ROUND: average train loss 0.285 | test loss 1.01 | test acc: 0.656\n",
      "Client 0 training\n",
      "Epoch: 0/5 Train Loss: 0.867 Train Acc: 0.695\n",
      "Epoch: 1/5 Train Loss: 0.894 Train Acc: 0.687\n",
      "Epoch: 2/5 Train Loss: 0.881 Train Acc: 0.697\n",
      "Epoch: 3/5 Train Loss: 0.819 Train Acc: 0.720\n",
      "Epoch: 4/5 Train Loss: 0.801 Train Acc: 0.722\n",
      "Client 6 training\n",
      "Epoch: 0/5 Train Loss: 0.842 Train Acc: 0.709\n",
      "Epoch: 1/5 Train Loss: 0.863 Train Acc: 0.704\n",
      "Epoch: 2/5 Train Loss: 0.842 Train Acc: 0.710\n",
      "Epoch: 3/5 Train Loss: 0.802 Train Acc: 0.725\n",
      "Epoch: 4/5 Train Loss: 0.787 Train Acc: 0.723\n",
      "Client 3 training\n",
      "Epoch: 0/5 Train Loss: 0.919 Train Acc: 0.677\n",
      "Epoch: 1/5 Train Loss: 0.917 Train Acc: 0.677\n",
      "Epoch: 2/5 Train Loss: 0.870 Train Acc: 0.700\n",
      "Epoch: 3/5 Train Loss: 0.853 Train Acc: 0.707\n",
      "Epoch: 4/5 Train Loss: 0.825 Train Acc: 0.710\n"
     ]
    },
    {
     "name": "stderr",
     "output_type": "stream",
     "text": [
      " 57%|█████▋    | 17/30 [48:49<37:20, 172.34s/it]"
     ]
    },
    {
     "name": "stdout",
     "output_type": "stream",
     "text": [
      "16-th ROUND: average train loss 0.275 | test loss 0.872 | test acc: 0.703\n",
      "Client 1 training\n",
      "Epoch: 0/5 Train Loss: 0.885 Train Acc: 0.699\n",
      "Epoch: 1/5 Train Loss: 0.885 Train Acc: 0.694\n",
      "Epoch: 2/5 Train Loss: 0.829 Train Acc: 0.714\n",
      "Epoch: 3/5 Train Loss: 0.840 Train Acc: 0.708\n",
      "Epoch: 4/5 Train Loss: 0.781 Train Acc: 0.728\n",
      "Client 5 training\n",
      "Epoch: 0/5 Train Loss: 0.867 Train Acc: 0.697\n",
      "Epoch: 1/5 Train Loss: 0.873 Train Acc: 0.696\n",
      "Epoch: 2/5 Train Loss: 0.859 Train Acc: 0.703\n",
      "Epoch: 3/5 Train Loss: 0.805 Train Acc: 0.720\n",
      "Epoch: 4/5 Train Loss: 0.807 Train Acc: 0.724\n",
      "Client 4 training\n",
      "Epoch: 0/5 Train Loss: 0.866 Train Acc: 0.703\n",
      "Epoch: 1/5 Train Loss: 0.868 Train Acc: 0.698\n",
      "Epoch: 2/5 Train Loss: 0.832 Train Acc: 0.716\n",
      "Epoch: 3/5 Train Loss: 0.816 Train Acc: 0.718\n",
      "Epoch: 4/5 Train Loss: 0.813 Train Acc: 0.727\n"
     ]
    },
    {
     "name": "stderr",
     "output_type": "stream",
     "text": [
      " 60%|██████    | 18/30 [51:41<34:27, 172.27s/it]"
     ]
    },
    {
     "name": "stdout",
     "output_type": "stream",
     "text": [
      "17-th ROUND: average train loss 0.271 | test loss 0.787 | test acc: 0.734\n",
      "Client 0 training\n",
      "Epoch: 0/5 Train Loss: 0.846 Train Acc: 0.704\n",
      "Epoch: 1/5 Train Loss: 0.841 Train Acc: 0.706\n",
      "Epoch: 2/5 Train Loss: 0.803 Train Acc: 0.718\n",
      "Epoch: 3/5 Train Loss: 0.822 Train Acc: 0.716\n",
      "Epoch: 4/5 Train Loss: 0.785 Train Acc: 0.727\n",
      "Client 4 training\n",
      "Epoch: 0/5 Train Loss: 0.853 Train Acc: 0.703\n",
      "Epoch: 1/5 Train Loss: 0.872 Train Acc: 0.695\n",
      "Epoch: 2/5 Train Loss: 0.822 Train Acc: 0.713\n",
      "Epoch: 3/5 Train Loss: 0.806 Train Acc: 0.721\n",
      "Epoch: 4/5 Train Loss: 0.783 Train Acc: 0.728\n",
      "Client 9 training\n",
      "Epoch: 0/5 Train Loss: 0.847 Train Acc: 0.707\n",
      "Epoch: 1/5 Train Loss: 0.825 Train Acc: 0.715\n",
      "Epoch: 2/5 Train Loss: 0.804 Train Acc: 0.723\n",
      "Epoch: 3/5 Train Loss: 0.803 Train Acc: 0.719\n",
      "Epoch: 4/5 Train Loss: 0.769 Train Acc: 0.728\n"
     ]
    },
    {
     "name": "stderr",
     "output_type": "stream",
     "text": [
      " 63%|██████▎   | 19/30 [54:33<31:36, 172.38s/it]"
     ]
    },
    {
     "name": "stdout",
     "output_type": "stream",
     "text": [
      "18-th ROUND: average train loss 0.256 | test loss 0.742 | test acc: 0.742\n",
      "Client 2 training\n",
      "Epoch: 0/5 Train Loss: 0.794 Train Acc: 0.726\n",
      "Epoch: 1/5 Train Loss: 0.825 Train Acc: 0.715\n",
      "Epoch: 2/5 Train Loss: 0.795 Train Acc: 0.721\n",
      "Epoch: 3/5 Train Loss: 0.789 Train Acc: 0.726\n",
      "Epoch: 4/5 Train Loss: 0.739 Train Acc: 0.743\n",
      "Client 3 training\n",
      "Epoch: 0/5 Train Loss: 0.832 Train Acc: 0.705\n",
      "Epoch: 1/5 Train Loss: 0.845 Train Acc: 0.713\n",
      "Epoch: 2/5 Train Loss: 0.812 Train Acc: 0.711\n",
      "Epoch: 3/5 Train Loss: 0.794 Train Acc: 0.730\n",
      "Epoch: 4/5 Train Loss: 0.790 Train Acc: 0.721\n",
      "Client 6 training\n",
      "Epoch: 0/5 Train Loss: 0.800 Train Acc: 0.726\n",
      "Epoch: 1/5 Train Loss: 0.778 Train Acc: 0.732\n",
      "Epoch: 2/5 Train Loss: 0.758 Train Acc: 0.743\n",
      "Epoch: 3/5 Train Loss: 0.764 Train Acc: 0.732\n",
      "Epoch: 4/5 Train Loss: 0.742 Train Acc: 0.746\n"
     ]
    },
    {
     "name": "stderr",
     "output_type": "stream",
     "text": [
      " 67%|██████▋   | 20/30 [57:26<28:43, 172.36s/it]"
     ]
    },
    {
     "name": "stdout",
     "output_type": "stream",
     "text": [
      "19-th ROUND: average train loss 0.247 | test loss 0.714 | test acc: 0.750\n",
      "Client 1 training\n",
      "Epoch: 0/5 Train Loss: 0.846 Train Acc: 0.711\n",
      "Epoch: 1/5 Train Loss: 0.832 Train Acc: 0.719\n",
      "Epoch: 2/5 Train Loss: 0.797 Train Acc: 0.728\n",
      "Epoch: 3/5 Train Loss: 0.786 Train Acc: 0.729\n",
      "Epoch: 4/5 Train Loss: 0.776 Train Acc: 0.732\n",
      "Client 6 training\n",
      "Epoch: 0/5 Train Loss: 0.768 Train Acc: 0.735\n",
      "Epoch: 1/5 Train Loss: 0.779 Train Acc: 0.729\n",
      "Epoch: 2/5 Train Loss: 0.777 Train Acc: 0.731\n",
      "Epoch: 3/5 Train Loss: 0.734 Train Acc: 0.746\n",
      "Epoch: 4/5 Train Loss: 0.706 Train Acc: 0.764\n",
      "Client 5 training\n",
      "Epoch: 0/5 Train Loss: 0.816 Train Acc: 0.719\n",
      "Epoch: 1/5 Train Loss: 0.820 Train Acc: 0.709\n",
      "Epoch: 2/5 Train Loss: 0.794 Train Acc: 0.725\n",
      "Epoch: 3/5 Train Loss: 0.782 Train Acc: 0.727\n",
      "Epoch: 4/5 Train Loss: 0.736 Train Acc: 0.747\n"
     ]
    },
    {
     "name": "stderr",
     "output_type": "stream",
     "text": [
      " 70%|███████   | 21/30 [1:00:18<25:50, 172.32s/it]"
     ]
    },
    {
     "name": "stdout",
     "output_type": "stream",
     "text": [
      "20-th ROUND: average train loss 0.245 | test loss 0.673 | test acc: 0.768\n",
      "Client 9 training\n",
      "Epoch: 0/5 Train Loss: 0.804 Train Acc: 0.722\n",
      "Epoch: 1/5 Train Loss: 0.793 Train Acc: 0.724\n",
      "Epoch: 2/5 Train Loss: 0.768 Train Acc: 0.730\n",
      "Epoch: 3/5 Train Loss: 0.746 Train Acc: 0.738\n",
      "Epoch: 4/5 Train Loss: 0.728 Train Acc: 0.749\n",
      "Client 3 training\n",
      "Epoch: 0/5 Train Loss: 0.812 Train Acc: 0.723\n",
      "Epoch: 1/5 Train Loss: 0.816 Train Acc: 0.720\n",
      "Epoch: 2/5 Train Loss: 0.777 Train Acc: 0.734\n",
      "Epoch: 3/5 Train Loss: 0.794 Train Acc: 0.728\n",
      "Epoch: 4/5 Train Loss: 0.765 Train Acc: 0.732\n",
      "Client 6 training\n",
      "Epoch: 0/5 Train Loss: 0.745 Train Acc: 0.746\n",
      "Epoch: 1/5 Train Loss: 0.761 Train Acc: 0.735\n",
      "Epoch: 2/5 Train Loss: 0.738 Train Acc: 0.751\n",
      "Epoch: 3/5 Train Loss: 0.722 Train Acc: 0.751\n",
      "Epoch: 4/5 Train Loss: 0.706 Train Acc: 0.755\n"
     ]
    },
    {
     "name": "stderr",
     "output_type": "stream",
     "text": [
      " 73%|███████▎  | 22/30 [1:03:11<22:59, 172.40s/it]"
     ]
    },
    {
     "name": "stdout",
     "output_type": "stream",
     "text": [
      "21-th ROUND: average train loss 0.235 | test loss 0.65 | test acc: 0.774\n",
      "Client 7 training\n",
      "Epoch: 0/5 Train Loss: 0.817 Train Acc: 0.719\n",
      "Epoch: 1/5 Train Loss: 0.789 Train Acc: 0.722\n",
      "Epoch: 2/5 Train Loss: 0.777 Train Acc: 0.737\n",
      "Epoch: 3/5 Train Loss: 0.770 Train Acc: 0.739\n",
      "Epoch: 4/5 Train Loss: 0.738 Train Acc: 0.746\n",
      "Client 3 training\n",
      "Epoch: 0/5 Train Loss: 0.787 Train Acc: 0.729\n",
      "Epoch: 1/5 Train Loss: 0.791 Train Acc: 0.719\n",
      "Epoch: 2/5 Train Loss: 0.784 Train Acc: 0.730\n",
      "Epoch: 3/5 Train Loss: 0.754 Train Acc: 0.735\n",
      "Epoch: 4/5 Train Loss: 0.738 Train Acc: 0.744\n",
      "Client 1 training\n",
      "Epoch: 0/5 Train Loss: 0.781 Train Acc: 0.728\n",
      "Epoch: 1/5 Train Loss: 0.801 Train Acc: 0.724\n",
      "Epoch: 2/5 Train Loss: 0.774 Train Acc: 0.731\n",
      "Epoch: 3/5 Train Loss: 0.754 Train Acc: 0.742\n",
      "Epoch: 4/5 Train Loss: 0.736 Train Acc: 0.746\n"
     ]
    },
    {
     "name": "stderr",
     "output_type": "stream",
     "text": [
      " 77%|███████▋  | 23/30 [1:06:03<20:06, 172.39s/it]"
     ]
    },
    {
     "name": "stdout",
     "output_type": "stream",
     "text": [
      "22-th ROUND: average train loss 0.245 | test loss 0.618 | test acc: 0.786\n",
      "Client 7 training\n",
      "Epoch: 0/5 Train Loss: 0.764 Train Acc: 0.739\n",
      "Epoch: 1/5 Train Loss: 0.796 Train Acc: 0.722\n",
      "Epoch: 2/5 Train Loss: 0.765 Train Acc: 0.738\n",
      "Epoch: 3/5 Train Loss: 0.759 Train Acc: 0.739\n",
      "Epoch: 4/5 Train Loss: 0.741 Train Acc: 0.745\n",
      "Client 0 training\n",
      "Epoch: 0/5 Train Loss: 0.766 Train Acc: 0.735\n",
      "Epoch: 1/5 Train Loss: 0.767 Train Acc: 0.732\n",
      "Epoch: 2/5 Train Loss: 0.796 Train Acc: 0.722\n",
      "Epoch: 3/5 Train Loss: 0.761 Train Acc: 0.739\n",
      "Epoch: 4/5 Train Loss: 0.726 Train Acc: 0.745\n",
      "Client 5 training\n",
      "Epoch: 0/5 Train Loss: 0.778 Train Acc: 0.727\n",
      "Epoch: 1/5 Train Loss: 0.778 Train Acc: 0.731\n",
      "Epoch: 2/5 Train Loss: 0.765 Train Acc: 0.736\n",
      "Epoch: 3/5 Train Loss: 0.745 Train Acc: 0.748\n",
      "Epoch: 4/5 Train Loss: 0.702 Train Acc: 0.757\n"
     ]
    },
    {
     "name": "stderr",
     "output_type": "stream",
     "text": [
      " 80%|████████  | 24/30 [1:08:55<17:14, 172.40s/it]"
     ]
    },
    {
     "name": "stdout",
     "output_type": "stream",
     "text": [
      "23-th ROUND: average train loss 0.234 | test loss 0.597 | test acc: 0.791\n",
      "Client 4 training\n",
      "Epoch: 0/5 Train Loss: 0.776 Train Acc: 0.740\n",
      "Epoch: 1/5 Train Loss: 0.784 Train Acc: 0.726\n",
      "Epoch: 2/5 Train Loss: 0.774 Train Acc: 0.733\n",
      "Epoch: 3/5 Train Loss: 0.743 Train Acc: 0.740\n",
      "Epoch: 4/5 Train Loss: 0.728 Train Acc: 0.750\n",
      "Client 6 training\n",
      "Epoch: 0/5 Train Loss: 0.697 Train Acc: 0.759\n",
      "Epoch: 1/5 Train Loss: 0.726 Train Acc: 0.747\n",
      "Epoch: 2/5 Train Loss: 0.723 Train Acc: 0.750\n",
      "Epoch: 3/5 Train Loss: 0.702 Train Acc: 0.752\n",
      "Epoch: 4/5 Train Loss: 0.665 Train Acc: 0.767\n",
      "Client 3 training\n",
      "Epoch: 0/5 Train Loss: 0.742 Train Acc: 0.744\n",
      "Epoch: 1/5 Train Loss: 0.778 Train Acc: 0.730\n",
      "Epoch: 2/5 Train Loss: 0.769 Train Acc: 0.733\n",
      "Epoch: 3/5 Train Loss: 0.743 Train Acc: 0.747\n",
      "Epoch: 4/5 Train Loss: 0.712 Train Acc: 0.746\n"
     ]
    },
    {
     "name": "stderr",
     "output_type": "stream",
     "text": [
      " 83%|████████▎ | 25/30 [1:11:47<14:21, 172.32s/it]"
     ]
    },
    {
     "name": "stdout",
     "output_type": "stream",
     "text": [
      "24-th ROUND: average train loss 0.237 | test loss 0.573 | test acc: 0.801\n",
      "Client 5 training\n",
      "Epoch: 0/5 Train Loss: 0.754 Train Acc: 0.738\n",
      "Epoch: 1/5 Train Loss: 0.755 Train Acc: 0.736\n",
      "Epoch: 2/5 Train Loss: 0.748 Train Acc: 0.743\n",
      "Epoch: 3/5 Train Loss: 0.737 Train Acc: 0.750\n",
      "Epoch: 4/5 Train Loss: 0.716 Train Acc: 0.746\n",
      "Client 2 training\n",
      "Epoch: 0/5 Train Loss: 0.745 Train Acc: 0.746\n",
      "Epoch: 1/5 Train Loss: 0.742 Train Acc: 0.739\n",
      "Epoch: 2/5 Train Loss: 0.729 Train Acc: 0.751\n",
      "Epoch: 3/5 Train Loss: 0.705 Train Acc: 0.759\n",
      "Epoch: 4/5 Train Loss: 0.726 Train Acc: 0.750\n",
      "Client 6 training\n",
      "Epoch: 0/5 Train Loss: 0.690 Train Acc: 0.761\n",
      "Epoch: 1/5 Train Loss: 0.715 Train Acc: 0.751\n",
      "Epoch: 2/5 Train Loss: 0.706 Train Acc: 0.749\n",
      "Epoch: 3/5 Train Loss: 0.703 Train Acc: 0.762\n",
      "Epoch: 4/5 Train Loss: 0.668 Train Acc: 0.766\n"
     ]
    },
    {
     "name": "stderr",
     "output_type": "stream",
     "text": [
      " 87%|████████▋ | 26/30 [1:14:40<11:29, 172.29s/it]"
     ]
    },
    {
     "name": "stdout",
     "output_type": "stream",
     "text": [
      "25-th ROUND: average train loss 0.223 | test loss 0.562 | test acc: 0.805\n",
      "Client 4 training\n",
      "Epoch: 0/5 Train Loss: 0.754 Train Acc: 0.741\n",
      "Epoch: 1/5 Train Loss: 0.740 Train Acc: 0.741\n",
      "Epoch: 2/5 Train Loss: 0.744 Train Acc: 0.742\n",
      "Epoch: 3/5 Train Loss: 0.700 Train Acc: 0.766\n",
      "Epoch: 4/5 Train Loss: 0.735 Train Acc: 0.753\n",
      "Client 9 training\n",
      "Epoch: 0/5 Train Loss: 0.745 Train Acc: 0.742\n",
      "Epoch: 1/5 Train Loss: 0.750 Train Acc: 0.745\n",
      "Epoch: 2/5 Train Loss: 0.738 Train Acc: 0.740\n",
      "Epoch: 3/5 Train Loss: 0.723 Train Acc: 0.753\n",
      "Epoch: 4/5 Train Loss: 0.689 Train Acc: 0.762\n",
      "Client 0 training\n",
      "Epoch: 0/5 Train Loss: 0.733 Train Acc: 0.749\n",
      "Epoch: 1/5 Train Loss: 0.764 Train Acc: 0.740\n",
      "Epoch: 2/5 Train Loss: 0.743 Train Acc: 0.745\n",
      "Epoch: 3/5 Train Loss: 0.714 Train Acc: 0.752\n",
      "Epoch: 4/5 Train Loss: 0.734 Train Acc: 0.746\n"
     ]
    },
    {
     "name": "stderr",
     "output_type": "stream",
     "text": [
      " 90%|█████████ | 27/30 [1:17:32<08:36, 172.31s/it]"
     ]
    },
    {
     "name": "stdout",
     "output_type": "stream",
     "text": [
      "26-th ROUND: average train loss 0.245 | test loss 0.571 | test acc: 0.803\n",
      "Client 5 training\n",
      "Epoch: 0/5 Train Loss: 0.719 Train Acc: 0.748\n",
      "Epoch: 1/5 Train Loss: 0.755 Train Acc: 0.742\n",
      "Epoch: 2/5 Train Loss: 0.728 Train Acc: 0.750\n",
      "Epoch: 3/5 Train Loss: 0.716 Train Acc: 0.749\n",
      "Epoch: 4/5 Train Loss: 0.696 Train Acc: 0.758\n",
      "Client 8 training\n",
      "Epoch: 0/5 Train Loss: 0.773 Train Acc: 0.736\n",
      "Epoch: 1/5 Train Loss: 0.776 Train Acc: 0.737\n",
      "Epoch: 2/5 Train Loss: 0.761 Train Acc: 0.744\n",
      "Epoch: 3/5 Train Loss: 0.762 Train Acc: 0.736\n",
      "Epoch: 4/5 Train Loss: 0.741 Train Acc: 0.744\n",
      "Client 2 training\n",
      "Epoch: 0/5 Train Loss: 0.727 Train Acc: 0.752\n",
      "Epoch: 1/5 Train Loss: 0.735 Train Acc: 0.744\n",
      "Epoch: 2/5 Train Loss: 0.718 Train Acc: 0.748\n",
      "Epoch: 3/5 Train Loss: 0.703 Train Acc: 0.766\n",
      "Epoch: 4/5 Train Loss: 0.684 Train Acc: 0.764\n"
     ]
    },
    {
     "name": "stderr",
     "output_type": "stream",
     "text": [
      " 93%|█████████▎| 28/30 [1:20:24<05:44, 172.29s/it]"
     ]
    },
    {
     "name": "stdout",
     "output_type": "stream",
     "text": [
      "27-th ROUND: average train loss 0.228 | test loss 0.555 | test acc: 0.806\n",
      "Client 4 training\n",
      "Epoch: 0/5 Train Loss: 0.720 Train Acc: 0.757\n",
      "Epoch: 1/5 Train Loss: 0.724 Train Acc: 0.754\n",
      "Epoch: 2/5 Train Loss: 0.728 Train Acc: 0.753\n",
      "Epoch: 3/5 Train Loss: 0.736 Train Acc: 0.750\n",
      "Epoch: 4/5 Train Loss: 0.695 Train Acc: 0.767\n",
      "Client 0 training\n",
      "Epoch: 0/5 Train Loss: 0.713 Train Acc: 0.752\n",
      "Epoch: 1/5 Train Loss: 0.733 Train Acc: 0.749\n",
      "Epoch: 2/5 Train Loss: 0.740 Train Acc: 0.744\n",
      "Epoch: 3/5 Train Loss: 0.731 Train Acc: 0.751\n",
      "Epoch: 4/5 Train Loss: 0.686 Train Acc: 0.769\n",
      "Client 2 training\n",
      "Epoch: 0/5 Train Loss: 0.697 Train Acc: 0.758\n",
      "Epoch: 1/5 Train Loss: 0.730 Train Acc: 0.758\n",
      "Epoch: 2/5 Train Loss: 0.701 Train Acc: 0.755\n",
      "Epoch: 3/5 Train Loss: 0.694 Train Acc: 0.763\n",
      "Epoch: 4/5 Train Loss: 0.701 Train Acc: 0.755\n"
     ]
    },
    {
     "name": "stderr",
     "output_type": "stream",
     "text": [
      " 97%|█████████▋| 29/30 [1:23:17<02:52, 172.29s/it]"
     ]
    },
    {
     "name": "stdout",
     "output_type": "stream",
     "text": [
      "28-th ROUND: average train loss 0.234 | test loss 0.548 | test acc: 0.811\n",
      "Client 1 training\n",
      "Epoch: 0/5 Train Loss: 0.747 Train Acc: 0.748\n",
      "Epoch: 1/5 Train Loss: 0.748 Train Acc: 0.746\n",
      "Epoch: 2/5 Train Loss: 0.741 Train Acc: 0.744\n",
      "Epoch: 3/5 Train Loss: 0.741 Train Acc: 0.744\n",
      "Epoch: 4/5 Train Loss: 0.684 Train Acc: 0.767\n",
      "Client 2 training\n",
      "Epoch: 0/5 Train Loss: 0.698 Train Acc: 0.764\n",
      "Epoch: 1/5 Train Loss: 0.738 Train Acc: 0.745\n",
      "Epoch: 2/5 Train Loss: 0.697 Train Acc: 0.761\n",
      "Epoch: 3/5 Train Loss: 0.686 Train Acc: 0.763\n",
      "Epoch: 4/5 Train Loss: 0.663 Train Acc: 0.768\n",
      "Client 6 training\n",
      "Epoch: 0/5 Train Loss: 0.688 Train Acc: 0.760\n",
      "Epoch: 1/5 Train Loss: 0.698 Train Acc: 0.756\n",
      "Epoch: 2/5 Train Loss: 0.695 Train Acc: 0.762\n",
      "Epoch: 3/5 Train Loss: 0.679 Train Acc: 0.764\n",
      "Epoch: 4/5 Train Loss: 0.681 Train Acc: 0.767\n"
     ]
    },
    {
     "name": "stderr",
     "output_type": "stream",
     "text": [
      "100%|██████████| 30/30 [1:26:09<00:00, 172.31s/it]"
     ]
    },
    {
     "name": "stdout",
     "output_type": "stream",
     "text": [
      "29-th ROUND: average train loss 0.227 | test loss 0.535 | test acc: 0.814\n"
     ]
    },
    {
     "name": "stderr",
     "output_type": "stream",
     "text": [
      "\n"
     ]
    }
   ],
   "source": [
    "# initialize lists to store the training and testing losses and accuracies\n",
    "train_losses = []\n",
    "test_losses = []\n",
    "train_accs = []\n",
    "test_accs = []\n",
    "\n",
    "for round in tqdm(range(rounds)):\n",
    "\n",
    "\n",
    "    # Select n random clients\n",
    "    selected_clients = np.random.permutation(num_clients)[:clients_sample_size]\n",
    "    # Train the selected clients\n",
    "    for client in selected_clients:\n",
    "        # Individual criterion and optimizer\n",
    "        print(f\"Client {client} training\")\n",
    "        train_loss, train_acc = qtrain_model(model = client_models[client],\n",
    "                                             train_loader = train_loaders[client],\n",
    "                                             device = device,\n",
    "                                             criterion = criterion,\n",
    "                                             optimizer = optimizers[client],\n",
    "                                             optimizer_quant = optimizers_quant[client],\n",
    "                                             num_epochs=epoch,\n",
    "                                             bits = quantize_bits)\n",
    "\n",
    "    train_losses.append(train_loss)\n",
    "    train_accs.append(train_acc)\n",
    "\n",
    "    # Aggregate in 2 steps\n",
    "    server_aggregate(global_model, client_models)\n",
    "    server_quantize(global_optimizer, goptimizer_quant, quantize_bits)\n",
    "\n",
    "    # Test the global model\n",
    "    test_loss, test_acc = server_test(model=global_model,\n",
    "                                      test_loader=test_loader,\n",
    "                                      device=device,\n",
    "                                      criterion=criterion)\n",
    "\n",
    "    test_losses.append(test_loss)\n",
    "    test_accs.append(test_acc)\n",
    "    \n",
    "    print(f\"{round}-th ROUND: average train loss {(train_loss / clients_sample_size):0.3g} | test loss {test_loss:0.3g} | test acc: {test_acc:0.3f}\")\n",
    "    \n",
    "    "
   ]
  },
  {
   "cell_type": "code",
   "execution_count": 84,
   "metadata": {},
   "outputs": [
    {
     "data": {
      "image/png": "[encoded data removed]",
      "text/plain": [
       "<Figure size 640x480 with 1 Axes>"
      ]
     },
     "metadata": {},
     "output_type": "display_data"
    },
    {
     "data": {
      "image/png": "[encoded data removed]",
      "text/plain": [
       "<Figure size 640x480 with 1 Axes>"
      ]
     },
     "metadata": {},
     "output_type": "display_data"
    }
   ],
   "source": [
    "quantized_histogram = to_quantized_model_decorator(global_optimizer, goptimizer_quant)(histogram_conv1)\n",
    "\n",
    "# Evaluate the model's histogram\n",
    "before = histogram_conv1(global_model)\n",
    "plot_histogram(before[0], before[1],f\"CONV1 - fp32\")\n",
    "\n",
    "\n",
    "after = quantized_histogram(global_model)\n",
    "plot_histogram(after[0], after[1], f\"CONV1 - {quantize_bits} bits\")\n"
   ]
  },
  {
   "cell_type": "code",
   "execution_count": 85,
   "metadata": {},
   "outputs": [
    {
     "name": "stdout",
     "output_type": "stream",
     "text": [
      "torch.Size([101]) \n",
      " torch.Size([101])\n"
     ]
    }
   ],
   "source": [
    "print(before[1].shape, \"\\n\",after[1].shape)"
   ]
  },
  {
   "cell_type": "code",
   "execution_count": 86,
   "metadata": {},
   "outputs": [
    {
     "data": {
      "image/png": "[encoded data removed]",
      "text/plain": [
       "<Figure size 640x480 with 1 Axes>"
      ]
     },
     "metadata": {},
     "output_type": "display_data"
    }
   ],
   "source": [
    "# plot the training loss\n",
    "sns.set(style='darkgrid')\n",
    "plt.plot(train_losses)\n",
    "plt.title('Training Loss')\n",
    "plt.xlabel('Epoch')\n",
    "plt.ylabel('Loss')\n",
    "plt.show()"
   ]
  },
  {
   "cell_type": "code",
   "execution_count": 87,
   "metadata": {},
   "outputs": [],
   "source": [
    "train_accs = [d.item() for d in train_accs]\n",
    "test_accs = [d.item() for d in test_accs]"
   ]
  },
  {
   "cell_type": "code",
   "execution_count": 88,
   "metadata": {},
   "outputs": [
    {
     "data": {
      "image/png": "[encoded data removed]",
      "text/plain": [
       "<Figure size 640x480 with 1 Axes>"
      ]
     },
     "metadata": {},
     "output_type": "display_data"
    }
   ],
   "source": [
    "# plot the training and testing accuracies\n",
    "sns.set(style='darkgrid')\n",
    "plt.plot(train_accs, label='Train Acc')\n",
    "plt.plot(test_accs, label='Test Acc')\n",
    "plt.title('Training and Testing Accuracies')\n",
    "plt.xlabel('Epoch')\n",
    "plt.ylabel('Accuracy')\n",
    "plt.legend()\n",
    "plt.show()\n"
   ]
  },
  {
   "cell_type": "code",
   "execution_count": 89,
   "metadata": {},
   "outputs": [
    {
     "name": "stdout",
     "output_type": "stream",
     "text": [
      "Loss: 0.5348496609687805, Accuracy: 81.41999816894531%\n",
      "44.77 MB\n",
      "CPU Inference Latency: 11.49 ms / sample\n",
      "CUDA Inference Latency: 2.94 ms / sample\n"
     ]
    }
   ],
   "source": [
    "cuda_device = torch.device(\"cuda:0\")\n",
    "cpu_device = torch.device(\"cpu:0\")\n",
    "# Test the model\n",
    "loss, acc = server_test(global_model, test_loader, device,criterion=criterion)\n",
    "print(f'Loss: {loss}, Accuracy: {acc*100}%')\n",
    "print_model_size(global_model)\n",
    "\n",
    "# Measure inference latency\n",
    "cpu_inference_latency = measure_inference_latency(model=global_model, device=cpu_device, input_size=(1,3,32,32), num_samples=100)\n",
    "gpu_inference_latency = measure_inference_latency(model=global_model, device=cuda_device, input_size=(1,3,32,32), num_samples=100)\n",
    "print(\"CPU Inference Latency: {:.2f} ms / sample\".format(cpu_inference_latency * 1000))\n",
    "print(\"CUDA Inference Latency: {:.2f} ms / sample\".format(gpu_inference_latency * 1000))"
   ]
  },
  {
   "cell_type": "code",
   "execution_count": 90,
   "metadata": {},
   "outputs": [
    {
     "name": "stdout",
     "output_type": "stream",
     "text": [
      "Loss: 0.5350761115074157, Accuracy: 81.39999389648438%\n",
      "44.77 MB\n",
      "CPU Inference Latency: 6.55 ms / sample\n",
      "CUDA Inference Latency: 2.93 ms / sample\n"
     ]
    }
   ],
   "source": [
    "cuda_device = torch.device(\"cuda:0\")\n",
    "cpu_device = torch.device(\"cpu:0\")\n",
    "# Test the model\n",
    "loss, acc = evaluate_model(global_model, test_loader, device,criterion=criterion)\n",
    "print(f'Loss: {loss}, Accuracy: {acc*100}%')\n",
    "print_model_size(global_model)\n",
    "\n",
    "# Measure inference latency\n",
    "cpu_inference_latency = measure_inference_latency(model=global_model, device=cpu_device, input_size=(1,3,32,32), num_samples=100)\n",
    "gpu_inference_latency = measure_inference_latency(model=global_model, device=cuda_device, input_size=(1,3,32,32), num_samples=100)\n",
    "print(\"CPU Inference Latency: {:.2f} ms / sample\".format(cpu_inference_latency * 1000))\n",
    "print(\"CUDA Inference Latency: {:.2f} ms / sample\".format(gpu_inference_latency * 1000))"
   ]
  },
  {
   "cell_type": "code",
   "execution_count": 91,
   "metadata": {},
   "outputs": [],
   "source": [
    "save_model(global_model, \"saved_models\", f'resnet_fedlern_global_{time_stamp()}.pth')\n"
   ]
  },
  {
   "cell_type": "code",
   "execution_count": 92,
   "metadata": {},
   "outputs": [],
   "source": [
    "save_quantized_model = to_quantized_model_decorator(global_optimizer, goptimizer_quant)(save_model)\n",
    "save_quantized_model(global_model, \"saved_models\", f'resnet_fedlern_{quantize_bits}bits_{time_stamp()}.pth')"
   ]
  },
  {
   "cell_type": "code",
   "execution_count": 93,
   "metadata": {},
   "outputs": [],
   "source": [
    "def get_model_dict(model):\n",
    "    return model.state_dict().copy()\n",
    "\n",
    "dicta = get_model_dict(global_model)\n",
    "dictd = to_quantized_model_decorator(global_optimizer, goptimizer_quant)(get_model_dict)(global_model)"
   ]
  },
  {
   "cell_type": "code",
   "execution_count": 1,
   "metadata": {},
   "outputs": [
    {
     "ename": "NameError",
     "evalue": "name 'dicta' is not defined",
     "output_type": "error",
     "traceback": [
      "\u001b[0;31m---------------------------------------------------------------------------\u001b[0m",
      "\u001b[0;31mNameError\u001b[0m                                 Traceback (most recent call last)",
      "Cell \u001b[0;32mIn[1], line 1\u001b[0m\n\u001b[0;32m----> 1\u001b[0m \u001b[39mfor\u001b[39;00m key \u001b[39min\u001b[39;00m dicta:\n\u001b[1;32m      2\u001b[0m     \u001b[39mif\u001b[39;00m \u001b[39m'\u001b[39m\u001b[39mweight\u001b[39m\u001b[39m'\u001b[39m \u001b[39min\u001b[39;00m key \u001b[39mor\u001b[39;00m \u001b[39m'\u001b[39m\u001b[39mbias\u001b[39m\u001b[39m'\u001b[39m \u001b[39min\u001b[39;00m key:\n\u001b[1;32m      3\u001b[0m         \u001b[39mprint\u001b[39m(key)\n",
      "\u001b[0;31mNameError\u001b[0m: name 'dicta' is not defined"
     ]
    }
   ],
   "source": [
    "for key in dicta:\n",
    "    if 'weight' in key or 'bias' in key:\n",
    "        print(key)\n",
    "        hist = torch.histogram(dicta[key].to(torch.device('cpu')))\n",
    "        plot_histogram(hist[0], hist[1], title=key+'Non-quantized')\n",
    "        hist = torch.histogram(dictd[key].to(torch.device('cpu')))\n",
    "        plot_histogram(hist[0], hist[1], title=key+'Quantized')\n",
    "        if 'conv' in key:\n",
    "            print(hist[0].shape)\n",
    "            print(hist[1].shape)\n",
    "\n",
    " "
   ]
  }
 ],
 "metadata": {
  "kernelspec": {
   "display_name": "Python 3",
   "language": "python",
   "name": "python3"
  },
  "language_info": {
   "codemirror_mode": {
    "name": "ipython",
    "version": 3
   },
   "file_extension": ".py",
   "mimetype": "text/x-python",
   "name": "python",
   "nbconvert_exporter": "python",
   "pygments_lexer": "ipython3",
   "version": "3.8.0"
  },
  "orig_nbformat": 4
 },
 "nbformat": 4,
 "nbformat_minor": 2
}
