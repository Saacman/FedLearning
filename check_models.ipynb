{
 "cells": [
  {
   "cell_type": "code",
   "execution_count": 1,
   "metadata": {},
   "outputs": [
    {
     "data": {
      "application/vnd.jupyter.widget-view+json": {
       "model_id": "4c4137c14d3344cc9c422553f69b306f",
       "version_major": 2,
       "version_minor": 0
      },
      "text/plain": [
       "  0%|          | 0/10 [00:00<?, ?it/s]"
      ]
     },
     "metadata": {},
     "output_type": "display_data"
    },
    {
     "name": "stdout",
     "output_type": "stream",
     "text": [
      "i2=0\n",
      "i2=1\n",
      "i2=2\n",
      "i2=3\n",
      "i2=4\n",
      "i2=5\n",
      "i2=6\n",
      "i2=7\n",
      "i2=8\n",
      "i2=9\n"
     ]
    },
    {
     "data": {
      "application/vnd.jupyter.widget-view+json": {
       "model_id": "088fb8c1af72491e9a484fdc902566a7",
       "version_major": 2,
       "version_minor": 0
      },
      "text/plain": [
       "  0%|          | 0/10 [00:00<?, ?it/s]"
      ]
     },
     "metadata": {},
     "output_type": "display_data"
    },
    {
     "name": "stdout",
     "output_type": "stream",
     "text": [
      "i3=0\n",
      "i3=1\n",
      "i3=2\n"
     ]
    }
   ],
   "source": [
    "from tqdm.notebook import tqdm\n",
    "from IPython.display import clear_output\n",
    "# from tqdm.auto import tqdm  # notebook compatible\n",
    "import time\n",
    "bar = tqdm(range(5))\n",
    "bar.refresh()\n",
    "for i1 in bar:\n",
    "    \n",
    "    bar.set_description(f\"Training {i1}\",refresh=True)\n",
    "    for i2 in tqdm(range(10), leave=False):\n",
    "        # do something, e.g. sleep\n",
    "        bar.write(f\"i2={i2}\")\n",
    "        time.sleep(0.5)\n",
    "    bar.set_description(f\"Testing {i1}\",refresh=True)\n",
    "    for i3 in tqdm(range(10), leave=False):\n",
    "        # do something, e.g. sleep\n",
    "        bar.write(f\"i3={i3}\")\n",
    "        time.sleep(0.5)\n",
    "    clear_output(wait=True)"
   ]
  }
 ],
 "metadata": {
  "kernelspec": {
   "display_name": "Python 3",
   "language": "python",
   "name": "python3"
  },
  "language_info": {
   "codemirror_mode": {
    "name": "ipython",
    "version": 3
   },
   "file_extension": ".py",
   "mimetype": "text/x-python",
   "name": "python",
   "nbconvert_exporter": "python",
   "pygments_lexer": "ipython3",
   "version": "3.8.0"
  },
  "orig_nbformat": 4
 },
 "nbformat": 4,
 "nbformat_minor": 2
}
