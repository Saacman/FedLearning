{
 "cells": [
  {
   "attachments": {},
   "cell_type": "markdown",
   "metadata": {},
   "source": []
  },
  {
   "cell_type": "code",
   "execution_count": 20,
   "metadata": {},
   "outputs": [],
   "source": [
    "import torch\n",
    "import torchvision.datasets as datasets\n",
    "import torchvision.transforms as transforms\n",
    "from torch.utils.data import DataLoader\n",
    "from fedlern.models.mlp import MLP\n",
    "from fedlern.models.resnet import ResNet18\n",
    "from fedlern.train_utils import *\n",
    "import fedlern.utils as utils\n",
    "import torch.nn.functional as F"
   ]
  },
  {
   "cell_type": "code",
   "execution_count": 21,
   "metadata": {},
   "outputs": [],
   "source": [
    "# Device configuration\n",
    "device = torch.device('cuda' if torch.cuda.is_available() else 'cpu')\n",
    "#stats = ((0.4914, 0.4822, 0.4465), (0.2023, 0.1994, 0.2010))\n",
    "stats = (0.49139968, 0.48215841, 0.44653091), (0.24703223, 0.24348513, 0.26158784)\n",
    "batch_size = 100"
   ]
  },
  {
   "cell_type": "code",
   "execution_count": 22,
   "metadata": {},
   "outputs": [
    {
     "name": "stdout",
     "output_type": "stream",
     "text": [
      "Files already downloaded and verified\n"
     ]
    }
   ],
   "source": [
    "train_loader, test_loader = prepare_dataloader_cifar(num_workers=8, train_batch_size=batch_size, eval_batch_size=batch_size, stats=stats)\n"
   ]
  },
  {
   "attachments": {},
   "cell_type": "markdown",
   "metadata": {},
   "source": [
    "# RESNET no quantization"
   ]
  },
  {
   "cell_type": "code",
   "execution_count": 30,
   "metadata": {},
   "outputs": [
    {
     "name": "stdout",
     "output_type": "stream",
     "text": [
      "Loss: 0.0, Accuracy: 92.49999237060547%\n",
      "44.77 MB\n"
     ]
    }
   ],
   "source": [
    "# Test the model\n",
    "\n",
    "model = ResNet18()\n",
    "load_model(model, './saved_models/resnet18_cifar10_92-5.ckpt', device)\n",
    "\n",
    "loss, acc = utils.evaluate_model(model, test_loader, device,)\n",
    "print(f'Loss: {loss}, Accuracy: {acc*100}%')\n",
    "utils.print_model_size(model)\n"
   ]
  },
  {
   "cell_type": "code",
   "execution_count": 31,
   "metadata": {},
   "outputs": [
    {
     "name": "stdout",
     "output_type": "stream",
     "text": [
      "Loss: 0.0, Accuracy: 92.24999237060547%\n",
      "44.77 MB\n"
     ]
    }
   ],
   "source": [
    "# Load the model\n",
    "model = ResNet18()\n",
    "load_model(model, './saved_models/resnet18_cifar10_92-2.pt', device)\n",
    "\n",
    "# Test the model\n",
    "loss, acc = utils.evaluate_model(model, test_loader, device,)\n",
    "print(f'Loss: {loss}, Accuracy: {acc*100}%')\n",
    "utils.print_model_size(model)"
   ]
  },
  {
   "attachments": {},
   "cell_type": "markdown",
   "metadata": {},
   "source": [
    "# RESNET Quantization 4 bits"
   ]
  },
  {
   "cell_type": "code",
   "execution_count": 17,
   "metadata": {},
   "outputs": [
    {
     "name": "stdout",
     "output_type": "stream",
     "text": [
      "Loss: 0.0, Accuracy: 68.44999694824219%\n",
      "1.12 MB\n"
     ]
    }
   ],
   "source": [
    "# Test the model\n",
    "load_dict = torch.load('./saved_models/resnet_4bits.pth')\n",
    "#print(load_dict.keys())\n",
    "state_dict = load_dict['state']\n",
    "#print(state_dict.keys())\n",
    "model = resnet20()\n",
    "model.load_state_dict(state_dict)\n",
    "\n",
    "loss, acc = utils.evaluate_model(model, test_loader, device)\n",
    "print(f'Loss: {loss}, Accuracy: {acc*100}%')\n",
    "utils.print_model_size(model)"
   ]
  },
  {
   "attachments": {},
   "cell_type": "markdown",
   "metadata": {},
   "source": [
    "# Quantization 8 bits"
   ]
  },
  {
   "cell_type": "code",
   "execution_count": 18,
   "metadata": {},
   "outputs": [
    {
     "name": "stdout",
     "output_type": "stream",
     "text": [
      "Loss: 0.0, Accuracy: 53.21999740600586%\n",
      "1.12 MB\n"
     ]
    }
   ],
   "source": [
    "# Test the model\n",
    "load_dict = torch.load('./saved_models/resnet_2bits.pth')\n",
    "#print(load_dict.keys())\n",
    "state_dict = load_dict['state']\n",
    "#print(state_dict.keys())\n",
    "model = resnet20()\n",
    "model.load_state_dict(state_dict)\n",
    "\n",
    "loss, acc = utils.evaluate_model(model, test_loader, device)\n",
    "print(f'Loss: {loss}, Accuracy: {acc*100}%')\n",
    "utils.print_model_size(model)"
   ]
  },
  {
   "cell_type": "code",
   "execution_count": 19,
   "metadata": {},
   "outputs": [
    {
     "data": {
      "application/vnd.jupyter.widget-view+json": {
       "model_id": "9346ee45105f47588e8e1ae7f2b00ec5",
       "version_major": 2,
       "version_minor": 0
      },
      "text/plain": [
       "  0%|          | 0/10 [00:00<?, ?it/s]"
      ]
     },
     "metadata": {},
     "output_type": "display_data"
    },
    {
     "name": "stdout",
     "output_type": "stream",
     "text": [
      "i2=0\n",
      "i2=1\n",
      "i2=2\n",
      "i2=3\n",
      "i2=4\n",
      "i2=5\n",
      "i2=6\n",
      "i2=7\n",
      "i2=8\n",
      "i2=9\n"
     ]
    },
    {
     "data": {
      "application/vnd.jupyter.widget-view+json": {
       "model_id": "a5cb31a065dd49cb91d20fe4ccda6e7c",
       "version_major": 2,
       "version_minor": 0
      },
      "text/plain": [
       "  0%|          | 0/10 [00:00<?, ?it/s]"
      ]
     },
     "metadata": {},
     "output_type": "display_data"
    },
    {
     "name": "stdout",
     "output_type": "stream",
     "text": [
      "i3=0\n",
      "i3=1\n",
      "i3=2\n",
      "i3=3\n",
      "i3=4\n",
      "i3=5\n",
      "i3=6\n",
      "i3=7\n",
      "i3=8\n",
      "i3=9\n"
     ]
    }
   ],
   "source": [
    "from tqdm.notebook import tqdm\n",
    "from IPython.display import clear_output\n",
    "# from tqdm.auto import tqdm  # notebook compatible\n",
    "import time\n",
    "bar = tqdm(range(5))\n",
    "bar.refresh()\n",
    "for i1 in bar:\n",
    "    \n",
    "    bar.set_description(f\"Training {i1}\",refresh=True)\n",
    "    for i2 in tqdm(range(10), leave=False):\n",
    "        # do something, e.g. sleep\n",
    "        bar.write(f\"i2={i2}\")\n",
    "        time.sleep(0.5)\n",
    "    bar.set_description(f\"Testing {i1}\",refresh=True)\n",
    "    for i3 in tqdm(range(10), leave=False):\n",
    "        # do something, e.g. sleep\n",
    "        bar.write(f\"i3={i3}\")\n",
    "        time.sleep(0.5)\n",
    "    clear_output(wait=True)"
   ]
  },
  {
   "cell_type": "code",
   "execution_count": 20,
   "metadata": {},
   "outputs": [],
   "source": [
    "param = [ 28 * 28, # input\n",
    "                512, 256, 128, 64,\n",
    "                10 ] #output\n",
    "\n",
    "transform = transforms.Compose([\n",
    "    transforms.ToTensor(), # convert the image to a PyTorch tensor\n",
    "    transforms.Normalize((0.5,), (0.5,)) # normalize the image with mean=0.5 and std=0.5\n",
    "])\n",
    "device = torch.device('cuda' if torch.cuda.is_available() else 'cpu')\n",
    "test_dataset = datasets.MNIST(root='data/', train=False, transform=transform, download=True)\n",
    "test_loader = torch.utils.data.DataLoader(dataset=test_dataset, batch_size=100, shuffle=False)\n",
    "\n"
   ]
  },
  {
   "cell_type": "code",
   "execution_count": 21,
   "metadata": {},
   "outputs": [
    {
     "name": "stdout",
     "output_type": "stream",
     "text": [
      "odict_keys(['linears.0.scale', 'linears.0.zero_point', 'linears.0._packed_params.dtype', 'linears.0._packed_params._packed_params', 'linears.1.scale', 'linears.1.zero_point', 'linears.1._packed_params.dtype', 'linears.1._packed_params._packed_params', 'linears.2.scale', 'linears.2.zero_point', 'linears.2._packed_params.dtype', 'linears.2._packed_params._packed_params', 'linears.3.scale', 'linears.3.zero_point', 'linears.3._packed_params.dtype', 'linears.3._packed_params._packed_params', 'linears.4.scale', 'linears.4.zero_point', 'linears.4._packed_params.dtype', 'linears.4._packed_params._packed_params'])\n"
     ]
    },
    {
     "name": "stderr",
     "output_type": "stream",
     "text": [
      "/home/isaac/.local/lib/python3.8/site-packages/torch/_utils.py:314: UserWarning: TypedStorage is deprecated. It will be removed in the future and UntypedStorage will be the only storage class. This should only matter to you if you are using storages directly.  To access UntypedStorage directly, use tensor.untyped_storage() instead of tensor.storage()\n",
      "  device=storage.device,\n"
     ]
    },
    {
     "ename": "RuntimeError",
     "evalue": "Error(s) in loading state_dict for MLP:\n\tMissing key(s) in state_dict: \"linears.0.weight\", \"linears.0.bias\", \"linears.1.weight\", \"linears.1.bias\", \"linears.2.weight\", \"linears.2.bias\", \"linears.3.weight\", \"linears.3.bias\", \"linears.4.weight\", \"linears.4.bias\". \n\tUnexpected key(s) in state_dict: \"linears.0.scale\", \"linears.0.zero_point\", \"linears.0._packed_params.dtype\", \"linears.0._packed_params._packed_params\", \"linears.1.scale\", \"linears.1.zero_point\", \"linears.1._packed_params.dtype\", \"linears.1._packed_params._packed_params\", \"linears.2.scale\", \"linears.2.zero_point\", \"linears.2._packed_params.dtype\", \"linears.2._packed_params._packed_params\", \"linears.3.scale\", \"linears.3.zero_point\", \"linears.3._packed_params.dtype\", \"linears.3._packed_params._packed_params\", \"linears.4.scale\", \"linears.4.zero_point\", \"linears.4._packed_params.dtype\", \"linears.4._packed_params._packed_params\". ",
     "output_type": "error",
     "traceback": [
      "\u001b[0;31m---------------------------------------------------------------------------\u001b[0m",
      "\u001b[0;31mRuntimeError\u001b[0m                              Traceback (most recent call last)",
      "Cell \u001b[0;32mIn[21], line 9\u001b[0m\n\u001b[1;32m      7\u001b[0m \u001b[39mprint\u001b[39m(q_dict\u001b[39m.\u001b[39mkeys())\n\u001b[1;32m      8\u001b[0m model_qd \u001b[39m=\u001b[39m MLP(param)\n\u001b[0;32m----> 9\u001b[0m model_qd\u001b[39m.\u001b[39;49mload_state_dict(q_dict)\n\u001b[1;32m     11\u001b[0m loss, acc \u001b[39m=\u001b[39m utils\u001b[39m.\u001b[39mevaluate_model(model, test_loader, device)\n\u001b[1;32m     12\u001b[0m \u001b[39mprint\u001b[39m(\u001b[39mf\u001b[39m\u001b[39m'\u001b[39m\u001b[39mLoss: \u001b[39m\u001b[39m{\u001b[39;00mloss\u001b[39m}\u001b[39;00m\u001b[39m, Accuracy: \u001b[39m\u001b[39m{\u001b[39;00macc\u001b[39m*\u001b[39m\u001b[39m100\u001b[39m\u001b[39m}\u001b[39;00m\u001b[39m%\u001b[39m\u001b[39m'\u001b[39m)\n",
      "File \u001b[0;32m~/.local/lib/python3.8/site-packages/torch/nn/modules/module.py:2041\u001b[0m, in \u001b[0;36mModule.load_state_dict\u001b[0;34m(self, state_dict, strict)\u001b[0m\n\u001b[1;32m   2036\u001b[0m         error_msgs\u001b[39m.\u001b[39minsert(\n\u001b[1;32m   2037\u001b[0m             \u001b[39m0\u001b[39m, \u001b[39m'\u001b[39m\u001b[39mMissing key(s) in state_dict: \u001b[39m\u001b[39m{}\u001b[39;00m\u001b[39m. \u001b[39m\u001b[39m'\u001b[39m\u001b[39m.\u001b[39mformat(\n\u001b[1;32m   2038\u001b[0m                 \u001b[39m'\u001b[39m\u001b[39m, \u001b[39m\u001b[39m'\u001b[39m\u001b[39m.\u001b[39mjoin(\u001b[39m'\u001b[39m\u001b[39m\"\u001b[39m\u001b[39m{}\u001b[39;00m\u001b[39m\"\u001b[39m\u001b[39m'\u001b[39m\u001b[39m.\u001b[39mformat(k) \u001b[39mfor\u001b[39;00m k \u001b[39min\u001b[39;00m missing_keys)))\n\u001b[1;32m   2040\u001b[0m \u001b[39mif\u001b[39;00m \u001b[39mlen\u001b[39m(error_msgs) \u001b[39m>\u001b[39m \u001b[39m0\u001b[39m:\n\u001b[0;32m-> 2041\u001b[0m     \u001b[39mraise\u001b[39;00m \u001b[39mRuntimeError\u001b[39;00m(\u001b[39m'\u001b[39m\u001b[39mError(s) in loading state_dict for \u001b[39m\u001b[39m{}\u001b[39;00m\u001b[39m:\u001b[39m\u001b[39m\\n\u001b[39;00m\u001b[39m\\t\u001b[39;00m\u001b[39m{}\u001b[39;00m\u001b[39m'\u001b[39m\u001b[39m.\u001b[39mformat(\n\u001b[1;32m   2042\u001b[0m                        \u001b[39mself\u001b[39m\u001b[39m.\u001b[39m\u001b[39m__class__\u001b[39m\u001b[39m.\u001b[39m\u001b[39m__name__\u001b[39m, \u001b[39m\"\u001b[39m\u001b[39m\\n\u001b[39;00m\u001b[39m\\t\u001b[39;00m\u001b[39m\"\u001b[39m\u001b[39m.\u001b[39mjoin(error_msgs)))\n\u001b[1;32m   2043\u001b[0m \u001b[39mreturn\u001b[39;00m _IncompatibleKeys(missing_keys, unexpected_keys)\n",
      "\u001b[0;31mRuntimeError\u001b[0m: Error(s) in loading state_dict for MLP:\n\tMissing key(s) in state_dict: \"linears.0.weight\", \"linears.0.bias\", \"linears.1.weight\", \"linears.1.bias\", \"linears.2.weight\", \"linears.2.bias\", \"linears.3.weight\", \"linears.3.bias\", \"linears.4.weight\", \"linears.4.bias\". \n\tUnexpected key(s) in state_dict: \"linears.0.scale\", \"linears.0.zero_point\", \"linears.0._packed_params.dtype\", \"linears.0._packed_params._packed_params\", \"linears.1.scale\", \"linears.1.zero_point\", \"linears.1._packed_params.dtype\", \"linears.1._packed_params._packed_params\", \"linears.2.scale\", \"linears.2.zero_point\", \"linears.2._packed_params.dtype\", \"linears.2._packed_params._packed_params\", \"linears.3.scale\", \"linears.3.zero_point\", \"linears.3._packed_params.dtype\", \"linears.3._packed_params._packed_params\", \"linears.4.scale\", \"linears.4.zero_point\", \"linears.4._packed_params.dtype\", \"linears.4._packed_params._packed_params\". "
     ]
    }
   ],
   "source": [
    "# Loading pretrained model\n",
    "modeldict = torch.load('saved_models/mlp.ckpt')\n",
    "model = MLP(param)\n",
    "model.load_state_dict(modeldict)\n",
    "\n",
    "q_dict = torch.load('saved_models/mlp_dynamicq.ckpt')\n",
    "print(q_dict.keys())\n",
    "model_qd = MLP(param)\n",
    "model_qd.load_state_dict(q_dict)\n",
    "\n",
    "loss, acc = utils.evaluate_model(model, test_loader, device)\n",
    "print(f'Loss: {loss}, Accuracy: {acc*100}%')\n",
    "\n",
    "# model.to(device)\n",
    "# quantized_model.eval()\n",
    "# model.eval()\n",
    "# with torch.no_grad():\n",
    "#     correctq = 0\n",
    "#     totalq = 0\n",
    "#     total = 0\n",
    "#     correct = 0\n",
    "#     for images, labels in test_loader:\n",
    "#         images_cuda = images.to(device)\n",
    "#         labels_cuda = labels.to(device)\n",
    "\n",
    "#         outputsq = quantized_model(images)\n",
    "#         _, predictedq = torch.max(outputsq.data, 1)\n",
    "#         totalq += labels.size(0)\n",
    "#         correctq += (predictedq == labels).sum().item()\n",
    "        \n",
    "#         outputs = model(images_cuda)\n",
    "#         _, predicted = torch.max(outputs.data, 1)\n",
    "#         total += labels_cuda.size(0)\n",
    "#         correct += (predicted == labels_cuda).sum().item()\n",
    "        \n",
    "\n",
    "#     print('Accuracy of the quantized model on the test images: {} %'.format(100 * correctq / totalq))\n",
    "#     print('Accuracy of the model on the test images: {} %'.format(100 * correct / total))\n",
    "\n",
    "\n",
    "\n",
    "\n",
    "utils.print_model_size(model)\n",
    "utils.print_model_size(model_qd)"
   ]
  },
  {
   "cell_type": "code",
   "execution_count": 2,
   "metadata": {},
   "outputs": [
    {
     "name": "stdout",
     "output_type": "stream",
     "text": [
      "Current date and time : \n",
      "2023-06-16_18-50\n"
     ]
    }
   ],
   "source": [
    "import datetime\n",
    "\n",
    "now = datetime.datetime.now()\n",
    "now.strftime(\"%Y-%m-%d_%H-%M\")"
   ]
  }
 ],
 "metadata": {
  "kernelspec": {
   "display_name": "Python 3",
   "language": "python",
   "name": "python3"
  },
  "language_info": {
   "codemirror_mode": {
    "name": "ipython",
    "version": 3
   },
   "file_extension": ".py",
   "mimetype": "text/x-python",
   "name": "python",
   "nbconvert_exporter": "python",
   "pygments_lexer": "ipython3",
   "version": "3.8.0"
  },
  "orig_nbformat": 4
 },
 "nbformat": 4,
 "nbformat_minor": 2
}
